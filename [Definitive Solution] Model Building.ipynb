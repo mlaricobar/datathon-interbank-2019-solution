{
  "nbformat": 4,
  "nbformat_minor": 0,
  "metadata": {
    "colab": {
      "name": "Welcome To Colaboratory",
      "provenance": [],
      "collapsed_sections": [],
      "machine_shape": "hm",
      "include_colab_link": true
    },
    "kernelspec": {
      "name": "python3",
      "display_name": "Python 3"
    },
    "accelerator": "GPU"
  },
  "cells": [
    {
      "cell_type": "markdown",
      "metadata": {
        "id": "view-in-github",
        "colab_type": "text"
      },
      "source": [
        "<a href=\"https://colab.research.google.com/github/mlaricobar/datathon-interbank-2019-solution/blob/master/%5BDefinitive%20Solution%5D%20Model%20Building.ipynb\" target=\"_parent\"><img src=\"https://colab.research.google.com/assets/colab-badge.svg\" alt=\"Open In Colab\"/></a>"
      ]
    },
    {
      "cell_type": "markdown",
      "metadata": {
        "id": "3U9bjiZ7E-sO",
        "colab_type": "text"
      },
      "source": [
        "# ADD XGBOOST AND RANDOM FOREST"
      ]
    },
    {
      "cell_type": "markdown",
      "metadata": {
        "id": "mp7Q_IkFe9ck",
        "colab_type": "text"
      },
      "source": [
        "### Instalación de Librerías necesarias"
      ]
    },
    {
      "cell_type": "code",
      "metadata": {
        "id": "-8N0co0Me9Tp",
        "colab_type": "code",
        "outputId": "c7ede46c-1deb-4707-eaab-73b55644cc94",
        "colab": {
          "base_uri": "https://localhost:8080/",
          "height": 360
        }
      },
      "source": [
        "!pip install catboost==0.17.5"
      ],
      "execution_count": 1,
      "outputs": [
        {
          "output_type": "stream",
          "text": [
            "Collecting catboost==0.17.5\n",
            "\u001b[?25l  Downloading https://files.pythonhosted.org/packages/21/41/75b28629b9f2668548f431efe0236062aec12cd0a9a647313d7f2d1c9221/catboost-0.17.5-cp36-none-manylinux1_x86_64.whl (62.7MB)\n",
            "\u001b[K     |████████████████████████████████| 62.7MB 136kB/s \n",
            "\u001b[?25hRequirement already satisfied: graphviz in /usr/local/lib/python3.6/dist-packages (from catboost==0.17.5) (0.10.1)\n",
            "Requirement already satisfied: six in /usr/local/lib/python3.6/dist-packages (from catboost==0.17.5) (1.12.0)\n",
            "Requirement already satisfied: matplotlib in /usr/local/lib/python3.6/dist-packages (from catboost==0.17.5) (3.1.1)\n",
            "Requirement already satisfied: plotly in /usr/local/lib/python3.6/dist-packages (from catboost==0.17.5) (4.1.1)\n",
            "Requirement already satisfied: numpy>=1.16.0 in /usr/local/lib/python3.6/dist-packages (from catboost==0.17.5) (1.17.4)\n",
            "Requirement already satisfied: scipy in /usr/local/lib/python3.6/dist-packages (from catboost==0.17.5) (1.3.2)\n",
            "Requirement already satisfied: pandas>=0.24.0 in /usr/local/lib/python3.6/dist-packages (from catboost==0.17.5) (0.25.3)\n",
            "Requirement already satisfied: kiwisolver>=1.0.1 in /usr/local/lib/python3.6/dist-packages (from matplotlib->catboost==0.17.5) (1.1.0)\n",
            "Requirement already satisfied: python-dateutil>=2.1 in /usr/local/lib/python3.6/dist-packages (from matplotlib->catboost==0.17.5) (2.6.1)\n",
            "Requirement already satisfied: pyparsing!=2.0.4,!=2.1.2,!=2.1.6,>=2.0.1 in /usr/local/lib/python3.6/dist-packages (from matplotlib->catboost==0.17.5) (2.4.5)\n",
            "Requirement already satisfied: cycler>=0.10 in /usr/local/lib/python3.6/dist-packages (from matplotlib->catboost==0.17.5) (0.10.0)\n",
            "Requirement already satisfied: retrying>=1.3.3 in /usr/local/lib/python3.6/dist-packages (from plotly->catboost==0.17.5) (1.3.3)\n",
            "Requirement already satisfied: pytz>=2017.2 in /usr/local/lib/python3.6/dist-packages (from pandas>=0.24.0->catboost==0.17.5) (2018.9)\n",
            "Requirement already satisfied: setuptools in /usr/local/lib/python3.6/dist-packages (from kiwisolver>=1.0.1->matplotlib->catboost==0.17.5) (41.6.0)\n",
            "Installing collected packages: catboost\n",
            "Successfully installed catboost-0.17.5\n"
          ],
          "name": "stdout"
        }
      ]
    },
    {
      "cell_type": "markdown",
      "metadata": {
        "id": "zH1SruBSWqE8",
        "colab_type": "text"
      },
      "source": [
        "\n",
        "### Lectura de Datos"
      ]
    },
    {
      "cell_type": "code",
      "metadata": {
        "id": "RdVXuZBtWp3K",
        "colab_type": "code",
        "outputId": "e6b95064-c968-4ab8-9666-15072a383365",
        "colab": {
          "base_uri": "https://localhost:8080/",
          "height": 122
        }
      },
      "source": [
        "from google.colab import drive\n",
        "drive.mount('/gdrive')"
      ],
      "execution_count": 2,
      "outputs": [
        {
          "output_type": "stream",
          "text": [
            "Go to this URL in a browser: https://accounts.google.com/o/oauth2/auth?client_id=947318989803-6bn6qk8qdgf4n4g3pfee6491hc0brc4i.apps.googleusercontent.com&redirect_uri=urn%3aietf%3awg%3aoauth%3a2.0%3aoob&response_type=code&scope=email%20https%3a%2f%2fwww.googleapis.com%2fauth%2fdocs.test%20https%3a%2f%2fwww.googleapis.com%2fauth%2fdrive%20https%3a%2f%2fwww.googleapis.com%2fauth%2fdrive.photos.readonly%20https%3a%2f%2fwww.googleapis.com%2fauth%2fpeopleapi.readonly\n",
            "\n",
            "Enter your authorization code:\n",
            "··········\n",
            "Mounted at /gdrive\n"
          ],
          "name": "stdout"
        }
      ]
    },
    {
      "cell_type": "code",
      "metadata": {
        "id": "-r9rWK9bWp0F",
        "colab_type": "code",
        "outputId": "50a7cfc3-2f5a-437e-a95b-5677f122fe0e",
        "colab": {
          "base_uri": "https://localhost:8080/",
          "height": 34
        }
      },
      "source": [
        "%cd /gdrive/'My Drive'/Competiciones/'[03] Datathon Interbank'/"
      ],
      "execution_count": 3,
      "outputs": [
        {
          "output_type": "stream",
          "text": [
            "/gdrive/My Drive/Competiciones/[03] Datathon Interbank\n"
          ],
          "name": "stdout"
        }
      ]
    },
    {
      "cell_type": "code",
      "metadata": {
        "id": "9nczyjcUX0Qm",
        "colab_type": "code",
        "outputId": "5a2f3932-4db4-42d5-a69e-9679d9fa50c2",
        "colab": {
          "base_uri": "https://localhost:8080/",
          "height": 238
        }
      },
      "source": [
        "!ls -lh '[01] Intermediate'"
      ],
      "execution_count": 4,
      "outputs": [
        {
          "output_type": "stream",
          "text": [
            "total 2.5G\n",
            "-rw------- 1 root root  33M Nov 27 23:19 df_probs_test_renta_3.csv\n",
            "-rw------- 1 root root  32M Nov 27 23:18 df_probs_test_renta_4.csv\n",
            "-rw------- 1 root root  16M Nov 27 23:19 df_probs_train_renta_3.csv\n",
            "-rw------- 1 root root  14M Nov 27 23:18 df_probs_train_renta_4_final.csv\n",
            "-rw------- 1 root root  25M Nov 19 18:38 ds_base_all.csv\n",
            "-rw------- 1 root root 524M Nov 14 21:29 ds_campana_feat.csv\n",
            "-rw------- 1 root root  43M Nov 19 18:31 ds_digital.csv\n",
            "-rw------- 1 root root 410M Nov 14 21:28 ds_rcc_feat.csv\n",
            "-rw------- 1 root root 1.4G Nov 21 11:09 ds_rcc_feat_v2.csv\n",
            "-rw------- 1 root root 7.1M Nov 19 18:19 ds_reniec.csv\n",
            "-rw------- 1 root root 9.3M Nov 19 17:58 ds_sunat.csv\n",
            "-rw------- 1 root root  13M Nov 19 18:18 ds_vehicular.csv\n"
          ],
          "name": "stdout"
        }
      ]
    },
    {
      "cell_type": "code",
      "metadata": {
        "id": "0gcVy-yoX0OA",
        "colab_type": "code",
        "colab": {}
      },
      "source": [
        "import numpy as np\n",
        "import pandas as pd\n",
        "\n",
        "import matplotlib.pyplot as plt\n",
        "import seaborn as sns\n",
        "\n",
        "from scipy.stats import pearsonr\n",
        "\n",
        "from sklearn import preprocessing\n",
        "from sklearn.impute import SimpleImputer"
      ],
      "execution_count": 0,
      "outputs": []
    },
    {
      "cell_type": "code",
      "metadata": {
        "id": "QHLD4KMgYhaE",
        "colab_type": "code",
        "colab": {}
      },
      "source": [
        "def optimizar_df(df):\n",
        "  \n",
        "  for col_ in df.select_dtypes(include=[int]).columns:\n",
        "    df[col_] = pd.to_numeric(df[col_], downcast=\"unsigned\")\n",
        "\n",
        "  for col_ in df.select_dtypes(include=[float]).columns:\n",
        "    df[col_] = pd.to_numeric(df[col_], downcast=\"float\")\n",
        "  \n",
        "  return df"
      ],
      "execution_count": 0,
      "outputs": []
    },
    {
      "cell_type": "code",
      "metadata": {
        "id": "otdovnJRYhhH",
        "colab_type": "code",
        "colab": {}
      },
      "source": [
        "df_base_all = optimizar_df(pd.read_csv('[01] Intermediate/ds_base_all.csv'))\n",
        "df_vehicular_ds = optimizar_df(pd.read_csv('[01] Intermediate/ds_vehicular.csv'))\n",
        "df_reniec_ds = optimizar_df(pd.read_csv('[01] Intermediate/ds_reniec.csv'))\n",
        "df_sunat_ds = optimizar_df(pd.read_csv('[01] Intermediate/ds_sunat.csv'))\n",
        "df_digital_ds = optimizar_df(pd.read_csv('[01] Intermediate/ds_digital.csv'))\n",
        "df_campana_ds = optimizar_df(pd.read_csv(\"[01] Intermediate/ds_campana_feat.csv\"))\n",
        "df_rcc_ds = optimizar_df(pd.read_csv(\"[01] Intermediate/ds_rcc_feat_v2.csv\"))"
      ],
      "execution_count": 0,
      "outputs": []
    },
    {
      "cell_type": "code",
      "metadata": {
        "id": "eCxukaZ1w1op",
        "colab_type": "code",
        "colab": {}
      },
      "source": [
        "df_base_all[\"ratio_1\"] = df_base_all[\"linea_ofrecida\"] / df_base_all[\"ingreso_neto\"]\n",
        "df_base_all[\"ratio_2\"] = df_base_all[\"cem\"] / df_base_all[\"ingreso_neto\"]\n",
        "df_base_all[\"ratio_3\"] = df_base_all[\"cem\"] / df_base_all[\"linea_ofrecida\"]\n",
        "df_base_all[\"ratio_4\"] = df_base_all[\"ingreso_neto\"] / df_base_all[\"cem\"]\n",
        "df_base_all[\"ratio_5\"] = df_base_all[\"linea_ofrecida\"] / df_base_all[\"cem\"]"
      ],
      "execution_count": 0,
      "outputs": []
    },
    {
      "cell_type": "code",
      "metadata": {
        "id": "z-vWWknPYm_i",
        "colab_type": "code",
        "outputId": "75bb174e-532e-4371-922e-aa2f2d4dcce2",
        "colab": {
          "base_uri": "https://localhost:8080/",
          "height": 224
        }
      },
      "source": [
        "df_base_all.head()"
      ],
      "execution_count": 9,
      "outputs": [
        {
          "output_type": "execute_result",
          "data": {
            "text/html": [
              "<div>\n",
              "<style scoped>\n",
              "    .dataframe tbody tr th:only-of-type {\n",
              "        vertical-align: middle;\n",
              "    }\n",
              "\n",
              "    .dataframe tbody tr th {\n",
              "        vertical-align: top;\n",
              "    }\n",
              "\n",
              "    .dataframe thead th {\n",
              "        text-align: right;\n",
              "    }\n",
              "</style>\n",
              "<table border=\"1\" class=\"dataframe\">\n",
              "  <thead>\n",
              "    <tr style=\"text-align: right;\">\n",
              "      <th></th>\n",
              "      <th>prediction_id</th>\n",
              "      <th>id_persona</th>\n",
              "      <th>codmes</th>\n",
              "      <th>codtarget</th>\n",
              "      <th>new_target</th>\n",
              "      <th>margen</th>\n",
              "      <th>cem</th>\n",
              "      <th>ingreso_neto</th>\n",
              "      <th>linea_ofrecida</th>\n",
              "      <th>flg_exist_prev_month</th>\n",
              "      <th>flg_exist_hist</th>\n",
              "      <th>ratio_1</th>\n",
              "      <th>ratio_2</th>\n",
              "      <th>ratio_3</th>\n",
              "      <th>ratio_4</th>\n",
              "      <th>ratio_5</th>\n",
              "    </tr>\n",
              "  </thead>\n",
              "  <tbody>\n",
              "    <tr>\n",
              "      <th>0</th>\n",
              "      <td>165747_201901</td>\n",
              "      <td>165747</td>\n",
              "      <td>201901</td>\n",
              "      <td>0.0</td>\n",
              "      <td>0.0</td>\n",
              "      <td>-5.00000</td>\n",
              "      <td>1.0</td>\n",
              "      <td>1781.0</td>\n",
              "      <td>1700</td>\n",
              "      <td>0.0</td>\n",
              "      <td>0.0</td>\n",
              "      <td>0.954520</td>\n",
              "      <td>0.000561</td>\n",
              "      <td>0.000588</td>\n",
              "      <td>1781.000000</td>\n",
              "      <td>1700.000000</td>\n",
              "    </tr>\n",
              "    <tr>\n",
              "      <th>1</th>\n",
              "      <td>65751_201901</td>\n",
              "      <td>65751</td>\n",
              "      <td>201901</td>\n",
              "      <td>1.0</td>\n",
              "      <td>1.0</td>\n",
              "      <td>342.98999</td>\n",
              "      <td>687.0</td>\n",
              "      <td>3083.0</td>\n",
              "      <td>4600</td>\n",
              "      <td>0.0</td>\n",
              "      <td>0.0</td>\n",
              "      <td>1.492053</td>\n",
              "      <td>0.222835</td>\n",
              "      <td>0.149348</td>\n",
              "      <td>4.487628</td>\n",
              "      <td>6.695779</td>\n",
              "    </tr>\n",
              "    <tr>\n",
              "      <th>2</th>\n",
              "      <td>58047_201901</td>\n",
              "      <td>58047</td>\n",
              "      <td>201901</td>\n",
              "      <td>0.0</td>\n",
              "      <td>0.0</td>\n",
              "      <td>-5.00000</td>\n",
              "      <td>182.0</td>\n",
              "      <td>1814.0</td>\n",
              "      <td>3600</td>\n",
              "      <td>0.0</td>\n",
              "      <td>0.0</td>\n",
              "      <td>1.984564</td>\n",
              "      <td>0.100331</td>\n",
              "      <td>0.050556</td>\n",
              "      <td>9.967033</td>\n",
              "      <td>19.780220</td>\n",
              "    </tr>\n",
              "    <tr>\n",
              "      <th>3</th>\n",
              "      <td>113221_201901</td>\n",
              "      <td>113221</td>\n",
              "      <td>201901</td>\n",
              "      <td>0.0</td>\n",
              "      <td>0.0</td>\n",
              "      <td>-5.00000</td>\n",
              "      <td>582.0</td>\n",
              "      <td>2153.0</td>\n",
              "      <td>4300</td>\n",
              "      <td>0.0</td>\n",
              "      <td>0.0</td>\n",
              "      <td>1.997213</td>\n",
              "      <td>0.270320</td>\n",
              "      <td>0.135349</td>\n",
              "      <td>3.699313</td>\n",
              "      <td>7.388316</td>\n",
              "    </tr>\n",
              "    <tr>\n",
              "      <th>4</th>\n",
              "      <td>142634_201901</td>\n",
              "      <td>142634</td>\n",
              "      <td>201901</td>\n",
              "      <td>0.0</td>\n",
              "      <td>0.0</td>\n",
              "      <td>-5.00000</td>\n",
              "      <td>4058.0</td>\n",
              "      <td>7342.0</td>\n",
              "      <td>33000</td>\n",
              "      <td>0.0</td>\n",
              "      <td>0.0</td>\n",
              "      <td>4.494688</td>\n",
              "      <td>0.552710</td>\n",
              "      <td>0.122970</td>\n",
              "      <td>1.809266</td>\n",
              "      <td>8.132085</td>\n",
              "    </tr>\n",
              "  </tbody>\n",
              "</table>\n",
              "</div>"
            ],
            "text/plain": [
              "   prediction_id  id_persona  codmes  ...   ratio_3      ratio_4      ratio_5\n",
              "0  165747_201901      165747  201901  ...  0.000588  1781.000000  1700.000000\n",
              "1   65751_201901       65751  201901  ...  0.149348     4.487628     6.695779\n",
              "2   58047_201901       58047  201901  ...  0.050556     9.967033    19.780220\n",
              "3  113221_201901      113221  201901  ...  0.135349     3.699313     7.388316\n",
              "4  142634_201901      142634  201901  ...  0.122970     1.809266     8.132085\n",
              "\n",
              "[5 rows x 16 columns]"
            ]
          },
          "metadata": {
            "tags": []
          },
          "execution_count": 9
        }
      ]
    },
    {
      "cell_type": "code",
      "metadata": {
        "id": "vOrLTdCAmyim",
        "colab_type": "code",
        "colab": {}
      },
      "source": [
        "#predictores"
      ],
      "execution_count": 0,
      "outputs": []
    },
    {
      "cell_type": "markdown",
      "metadata": {
        "id": "Et6n4va0W0yF",
        "colab_type": "text"
      },
      "source": [
        "### Feature Engineering"
      ]
    },
    {
      "cell_type": "markdown",
      "metadata": {
        "id": "omaw3w1afaKP",
        "colab_type": "text"
      },
      "source": [
        "#### Consolidar Dataset"
      ]
    },
    {
      "cell_type": "code",
      "metadata": {
        "id": "TYcmqAuzZ0ah",
        "colab_type": "code",
        "colab": {}
      },
      "source": [
        "dataset = df_base_all\\\n",
        "                .merge(df_reniec_ds, how=\"left\", on=[\"id_persona\"])\\\n",
        "                .merge(df_sunat_ds, how=\"left\", on=[\"id_persona\"])\\\n",
        "                .merge(df_vehicular_ds, how=\"left\", on=[\"id_persona\"])\\\n",
        "                .merge(df_rcc_ds, how=\"left\", on=[\"id_persona\", \"codmes\"])\\\n",
        "                .merge(df_campana_ds, how=\"left\", on=[\"id_persona\", \"codmes\"])\\\n",
        "                .merge(df_digital_ds, how=\"left\", on=[\"id_persona\", \"codmes\"])\\\n",
        "                .reset_index(drop=True)"
      ],
      "execution_count": 0,
      "outputs": []
    },
    {
      "cell_type": "code",
      "metadata": {
        "id": "MR25k3t_aQ_e",
        "colab_type": "code",
        "outputId": "25a56eac-59bf-4133-c04f-03815f22fa98",
        "colab": {
          "base_uri": "https://localhost:8080/",
          "height": 253
        }
      },
      "source": [
        "dataset.head()"
      ],
      "execution_count": 11,
      "outputs": [
        {
          "output_type": "execute_result",
          "data": {
            "text/html": [
              "<div>\n",
              "<style scoped>\n",
              "    .dataframe tbody tr th:only-of-type {\n",
              "        vertical-align: middle;\n",
              "    }\n",
              "\n",
              "    .dataframe tbody tr th {\n",
              "        vertical-align: top;\n",
              "    }\n",
              "\n",
              "    .dataframe thead th {\n",
              "        text-align: right;\n",
              "    }\n",
              "</style>\n",
              "<table border=\"1\" class=\"dataframe\">\n",
              "  <thead>\n",
              "    <tr style=\"text-align: right;\">\n",
              "      <th></th>\n",
              "      <th>prediction_id</th>\n",
              "      <th>id_persona</th>\n",
              "      <th>codmes</th>\n",
              "      <th>codtarget</th>\n",
              "      <th>new_target</th>\n",
              "      <th>margen</th>\n",
              "      <th>cem</th>\n",
              "      <th>ingreso_neto</th>\n",
              "      <th>linea_ofrecida</th>\n",
              "      <th>flg_exist_prev_month</th>\n",
              "      <th>flg_exist_hist</th>\n",
              "      <th>ratio_1</th>\n",
              "      <th>ratio_2</th>\n",
              "      <th>ratio_3</th>\n",
              "      <th>ratio_4</th>\n",
              "      <th>ratio_5</th>\n",
              "      <th>soc_var1</th>\n",
              "      <th>soc_var2</th>\n",
              "      <th>soc_var3</th>\n",
              "      <th>soc_var4</th>\n",
              "      <th>soc_var5</th>\n",
              "      <th>soc_var6</th>\n",
              "      <th>activ_econo</th>\n",
              "      <th>meses_alta_sum</th>\n",
              "      <th>Grupo_01</th>\n",
              "      <th>Grupo_02</th>\n",
              "      <th>Grupo_03</th>\n",
              "      <th>Grupo_04</th>\n",
              "      <th>Grupo_05</th>\n",
              "      <th>Grupo_06</th>\n",
              "      <th>Grupo_07</th>\n",
              "      <th>Grupo_08</th>\n",
              "      <th>Grupo_09</th>\n",
              "      <th>Grupo_10</th>\n",
              "      <th>Grupo_11</th>\n",
              "      <th>Grupo_12</th>\n",
              "      <th>Grupo_13</th>\n",
              "      <th>Grupo_14</th>\n",
              "      <th>Grupo_15</th>\n",
              "      <th>Grupo_16</th>\n",
              "      <th>...</th>\n",
              "      <th>time_ctasimple_sum</th>\n",
              "      <th>time_ctasimple_mean</th>\n",
              "      <th>time_ctasimple_std</th>\n",
              "      <th>time_mllp_sum</th>\n",
              "      <th>time_mllp_mean</th>\n",
              "      <th>time_mllp_std</th>\n",
              "      <th>time_mllst_sum</th>\n",
              "      <th>time_mllst_mean</th>\n",
              "      <th>time_mllst_std</th>\n",
              "      <th>time_ctasld_sum</th>\n",
              "      <th>time_ctasld_mean</th>\n",
              "      <th>time_ctasld_std</th>\n",
              "      <th>time_tc_sum</th>\n",
              "      <th>time_tc_mean</th>\n",
              "      <th>time_tc_std</th>\n",
              "      <th>time_total_sum</th>\n",
              "      <th>time_total_mean</th>\n",
              "      <th>time_total_std</th>\n",
              "      <th>busqtc_sum</th>\n",
              "      <th>busqtc_mean</th>\n",
              "      <th>busqvisa_sum</th>\n",
              "      <th>busqvisa_mean</th>\n",
              "      <th>busqamex_sum</th>\n",
              "      <th>busqamex_mean</th>\n",
              "      <th>busqmc_sum</th>\n",
              "      <th>busqmc_mean</th>\n",
              "      <th>busqcsimp_sum</th>\n",
              "      <th>busqcsimp_mean</th>\n",
              "      <th>busqmill_sum</th>\n",
              "      <th>busqmill_mean</th>\n",
              "      <th>busqcsld_sum</th>\n",
              "      <th>busqcsld_mean</th>\n",
              "      <th>num_busq_sum</th>\n",
              "      <th>num_busq_mean</th>\n",
              "      <th>num_busq_std</th>\n",
              "      <th>busq_sum</th>\n",
              "      <th>busq_mean</th>\n",
              "      <th>n_pag_sum</th>\n",
              "      <th>n_pag_mean</th>\n",
              "      <th>n_pag_std</th>\n",
              "    </tr>\n",
              "  </thead>\n",
              "  <tbody>\n",
              "    <tr>\n",
              "      <th>0</th>\n",
              "      <td>165747_201901</td>\n",
              "      <td>165747</td>\n",
              "      <td>201901</td>\n",
              "      <td>0.0</td>\n",
              "      <td>0.0</td>\n",
              "      <td>-5.00000</td>\n",
              "      <td>1.0</td>\n",
              "      <td>1781.0</td>\n",
              "      <td>1700</td>\n",
              "      <td>0.0</td>\n",
              "      <td>0.0</td>\n",
              "      <td>0.954520</td>\n",
              "      <td>0.000561</td>\n",
              "      <td>0.000588</td>\n",
              "      <td>1781.000000</td>\n",
              "      <td>1700.000000</td>\n",
              "      <td>0.773585</td>\n",
              "      <td>4.0</td>\n",
              "      <td>1.0</td>\n",
              "      <td>6.0</td>\n",
              "      <td>5.0</td>\n",
              "      <td>5.0</td>\n",
              "      <td>1.0</td>\n",
              "      <td>119.0</td>\n",
              "      <td>0.0</td>\n",
              "      <td>0.0</td>\n",
              "      <td>0.0</td>\n",
              "      <td>0.0</td>\n",
              "      <td>0.0</td>\n",
              "      <td>0.0</td>\n",
              "      <td>0.0</td>\n",
              "      <td>0.0</td>\n",
              "      <td>0.0</td>\n",
              "      <td>0.0</td>\n",
              "      <td>0.0</td>\n",
              "      <td>0.0</td>\n",
              "      <td>0.0</td>\n",
              "      <td>0.0</td>\n",
              "      <td>119.0</td>\n",
              "      <td>0.0</td>\n",
              "      <td>...</td>\n",
              "      <td>NaN</td>\n",
              "      <td>NaN</td>\n",
              "      <td>NaN</td>\n",
              "      <td>NaN</td>\n",
              "      <td>NaN</td>\n",
              "      <td>NaN</td>\n",
              "      <td>NaN</td>\n",
              "      <td>NaN</td>\n",
              "      <td>NaN</td>\n",
              "      <td>NaN</td>\n",
              "      <td>NaN</td>\n",
              "      <td>NaN</td>\n",
              "      <td>NaN</td>\n",
              "      <td>NaN</td>\n",
              "      <td>NaN</td>\n",
              "      <td>NaN</td>\n",
              "      <td>NaN</td>\n",
              "      <td>NaN</td>\n",
              "      <td>NaN</td>\n",
              "      <td>NaN</td>\n",
              "      <td>NaN</td>\n",
              "      <td>NaN</td>\n",
              "      <td>NaN</td>\n",
              "      <td>NaN</td>\n",
              "      <td>NaN</td>\n",
              "      <td>NaN</td>\n",
              "      <td>NaN</td>\n",
              "      <td>NaN</td>\n",
              "      <td>NaN</td>\n",
              "      <td>NaN</td>\n",
              "      <td>NaN</td>\n",
              "      <td>NaN</td>\n",
              "      <td>NaN</td>\n",
              "      <td>NaN</td>\n",
              "      <td>NaN</td>\n",
              "      <td>NaN</td>\n",
              "      <td>NaN</td>\n",
              "      <td>NaN</td>\n",
              "      <td>NaN</td>\n",
              "      <td>NaN</td>\n",
              "    </tr>\n",
              "    <tr>\n",
              "      <th>1</th>\n",
              "      <td>65751_201901</td>\n",
              "      <td>65751</td>\n",
              "      <td>201901</td>\n",
              "      <td>1.0</td>\n",
              "      <td>1.0</td>\n",
              "      <td>342.98999</td>\n",
              "      <td>687.0</td>\n",
              "      <td>3083.0</td>\n",
              "      <td>4600</td>\n",
              "      <td>0.0</td>\n",
              "      <td>0.0</td>\n",
              "      <td>1.492053</td>\n",
              "      <td>0.222835</td>\n",
              "      <td>0.149348</td>\n",
              "      <td>4.487628</td>\n",
              "      <td>6.695779</td>\n",
              "      <td>0.566038</td>\n",
              "      <td>4.0</td>\n",
              "      <td>2.0</td>\n",
              "      <td>6.0</td>\n",
              "      <td>5.0</td>\n",
              "      <td>8.0</td>\n",
              "      <td>2.0</td>\n",
              "      <td>44.0</td>\n",
              "      <td>0.0</td>\n",
              "      <td>0.0</td>\n",
              "      <td>0.0</td>\n",
              "      <td>0.0</td>\n",
              "      <td>0.0</td>\n",
              "      <td>0.0</td>\n",
              "      <td>0.0</td>\n",
              "      <td>0.0</td>\n",
              "      <td>0.0</td>\n",
              "      <td>0.0</td>\n",
              "      <td>44.0</td>\n",
              "      <td>0.0</td>\n",
              "      <td>0.0</td>\n",
              "      <td>0.0</td>\n",
              "      <td>0.0</td>\n",
              "      <td>0.0</td>\n",
              "      <td>...</td>\n",
              "      <td>NaN</td>\n",
              "      <td>NaN</td>\n",
              "      <td>NaN</td>\n",
              "      <td>NaN</td>\n",
              "      <td>NaN</td>\n",
              "      <td>NaN</td>\n",
              "      <td>NaN</td>\n",
              "      <td>NaN</td>\n",
              "      <td>NaN</td>\n",
              "      <td>NaN</td>\n",
              "      <td>NaN</td>\n",
              "      <td>NaN</td>\n",
              "      <td>NaN</td>\n",
              "      <td>NaN</td>\n",
              "      <td>NaN</td>\n",
              "      <td>NaN</td>\n",
              "      <td>NaN</td>\n",
              "      <td>NaN</td>\n",
              "      <td>NaN</td>\n",
              "      <td>NaN</td>\n",
              "      <td>NaN</td>\n",
              "      <td>NaN</td>\n",
              "      <td>NaN</td>\n",
              "      <td>NaN</td>\n",
              "      <td>NaN</td>\n",
              "      <td>NaN</td>\n",
              "      <td>NaN</td>\n",
              "      <td>NaN</td>\n",
              "      <td>NaN</td>\n",
              "      <td>NaN</td>\n",
              "      <td>NaN</td>\n",
              "      <td>NaN</td>\n",
              "      <td>NaN</td>\n",
              "      <td>NaN</td>\n",
              "      <td>NaN</td>\n",
              "      <td>NaN</td>\n",
              "      <td>NaN</td>\n",
              "      <td>NaN</td>\n",
              "      <td>NaN</td>\n",
              "      <td>NaN</td>\n",
              "    </tr>\n",
              "    <tr>\n",
              "      <th>2</th>\n",
              "      <td>58047_201901</td>\n",
              "      <td>58047</td>\n",
              "      <td>201901</td>\n",
              "      <td>0.0</td>\n",
              "      <td>0.0</td>\n",
              "      <td>-5.00000</td>\n",
              "      <td>182.0</td>\n",
              "      <td>1814.0</td>\n",
              "      <td>3600</td>\n",
              "      <td>0.0</td>\n",
              "      <td>0.0</td>\n",
              "      <td>1.984564</td>\n",
              "      <td>0.100331</td>\n",
              "      <td>0.050556</td>\n",
              "      <td>9.967033</td>\n",
              "      <td>19.780220</td>\n",
              "      <td>0.603774</td>\n",
              "      <td>4.0</td>\n",
              "      <td>1.0</td>\n",
              "      <td>6.0</td>\n",
              "      <td>5.0</td>\n",
              "      <td>9.0</td>\n",
              "      <td>9.0</td>\n",
              "      <td>221.0</td>\n",
              "      <td>0.0</td>\n",
              "      <td>0.0</td>\n",
              "      <td>0.0</td>\n",
              "      <td>0.0</td>\n",
              "      <td>0.0</td>\n",
              "      <td>0.0</td>\n",
              "      <td>0.0</td>\n",
              "      <td>0.0</td>\n",
              "      <td>0.0</td>\n",
              "      <td>0.0</td>\n",
              "      <td>0.0</td>\n",
              "      <td>221.0</td>\n",
              "      <td>0.0</td>\n",
              "      <td>0.0</td>\n",
              "      <td>0.0</td>\n",
              "      <td>0.0</td>\n",
              "      <td>...</td>\n",
              "      <td>NaN</td>\n",
              "      <td>NaN</td>\n",
              "      <td>NaN</td>\n",
              "      <td>NaN</td>\n",
              "      <td>NaN</td>\n",
              "      <td>NaN</td>\n",
              "      <td>NaN</td>\n",
              "      <td>NaN</td>\n",
              "      <td>NaN</td>\n",
              "      <td>NaN</td>\n",
              "      <td>NaN</td>\n",
              "      <td>NaN</td>\n",
              "      <td>NaN</td>\n",
              "      <td>NaN</td>\n",
              "      <td>NaN</td>\n",
              "      <td>NaN</td>\n",
              "      <td>NaN</td>\n",
              "      <td>NaN</td>\n",
              "      <td>NaN</td>\n",
              "      <td>NaN</td>\n",
              "      <td>NaN</td>\n",
              "      <td>NaN</td>\n",
              "      <td>NaN</td>\n",
              "      <td>NaN</td>\n",
              "      <td>NaN</td>\n",
              "      <td>NaN</td>\n",
              "      <td>NaN</td>\n",
              "      <td>NaN</td>\n",
              "      <td>NaN</td>\n",
              "      <td>NaN</td>\n",
              "      <td>NaN</td>\n",
              "      <td>NaN</td>\n",
              "      <td>NaN</td>\n",
              "      <td>NaN</td>\n",
              "      <td>NaN</td>\n",
              "      <td>NaN</td>\n",
              "      <td>NaN</td>\n",
              "      <td>NaN</td>\n",
              "      <td>NaN</td>\n",
              "      <td>NaN</td>\n",
              "    </tr>\n",
              "    <tr>\n",
              "      <th>3</th>\n",
              "      <td>113221_201901</td>\n",
              "      <td>113221</td>\n",
              "      <td>201901</td>\n",
              "      <td>0.0</td>\n",
              "      <td>0.0</td>\n",
              "      <td>-5.00000</td>\n",
              "      <td>582.0</td>\n",
              "      <td>2153.0</td>\n",
              "      <td>4300</td>\n",
              "      <td>0.0</td>\n",
              "      <td>0.0</td>\n",
              "      <td>1.997213</td>\n",
              "      <td>0.270320</td>\n",
              "      <td>0.135349</td>\n",
              "      <td>3.699313</td>\n",
              "      <td>7.388316</td>\n",
              "      <td>0.660377</td>\n",
              "      <td>3.0</td>\n",
              "      <td>2.0</td>\n",
              "      <td>6.0</td>\n",
              "      <td>5.0</td>\n",
              "      <td>2.0</td>\n",
              "      <td>3.0</td>\n",
              "      <td>189.0</td>\n",
              "      <td>0.0</td>\n",
              "      <td>0.0</td>\n",
              "      <td>0.0</td>\n",
              "      <td>0.0</td>\n",
              "      <td>0.0</td>\n",
              "      <td>0.0</td>\n",
              "      <td>189.0</td>\n",
              "      <td>0.0</td>\n",
              "      <td>0.0</td>\n",
              "      <td>0.0</td>\n",
              "      <td>0.0</td>\n",
              "      <td>0.0</td>\n",
              "      <td>0.0</td>\n",
              "      <td>0.0</td>\n",
              "      <td>0.0</td>\n",
              "      <td>0.0</td>\n",
              "      <td>...</td>\n",
              "      <td>0.0</td>\n",
              "      <td>0.0</td>\n",
              "      <td>0.0</td>\n",
              "      <td>0.0</td>\n",
              "      <td>0.0</td>\n",
              "      <td>0.0</td>\n",
              "      <td>0.0</td>\n",
              "      <td>0.0</td>\n",
              "      <td>0.0</td>\n",
              "      <td>0.0</td>\n",
              "      <td>0.0</td>\n",
              "      <td>0.0</td>\n",
              "      <td>0.0</td>\n",
              "      <td>0.0</td>\n",
              "      <td>0.0</td>\n",
              "      <td>0.0</td>\n",
              "      <td>0.0</td>\n",
              "      <td>0.0</td>\n",
              "      <td>0.0</td>\n",
              "      <td>0.0</td>\n",
              "      <td>0.0</td>\n",
              "      <td>0.0</td>\n",
              "      <td>0.0</td>\n",
              "      <td>0.0</td>\n",
              "      <td>0.0</td>\n",
              "      <td>0.0</td>\n",
              "      <td>0.0</td>\n",
              "      <td>0.0</td>\n",
              "      <td>0.0</td>\n",
              "      <td>0.0</td>\n",
              "      <td>0.0</td>\n",
              "      <td>0.0</td>\n",
              "      <td>0.0</td>\n",
              "      <td>0.0</td>\n",
              "      <td>0.0</td>\n",
              "      <td>0.0</td>\n",
              "      <td>0.0</td>\n",
              "      <td>12.0</td>\n",
              "      <td>3.0</td>\n",
              "      <td>1.154701</td>\n",
              "    </tr>\n",
              "    <tr>\n",
              "      <th>4</th>\n",
              "      <td>142634_201901</td>\n",
              "      <td>142634</td>\n",
              "      <td>201901</td>\n",
              "      <td>0.0</td>\n",
              "      <td>0.0</td>\n",
              "      <td>-5.00000</td>\n",
              "      <td>4058.0</td>\n",
              "      <td>7342.0</td>\n",
              "      <td>33000</td>\n",
              "      <td>0.0</td>\n",
              "      <td>0.0</td>\n",
              "      <td>4.494688</td>\n",
              "      <td>0.552710</td>\n",
              "      <td>0.122970</td>\n",
              "      <td>1.809266</td>\n",
              "      <td>8.132085</td>\n",
              "      <td>0.735849</td>\n",
              "      <td>4.0</td>\n",
              "      <td>2.0</td>\n",
              "      <td>6.0</td>\n",
              "      <td>5.0</td>\n",
              "      <td>1.0</td>\n",
              "      <td>1.0</td>\n",
              "      <td>161.0</td>\n",
              "      <td>0.0</td>\n",
              "      <td>0.0</td>\n",
              "      <td>0.0</td>\n",
              "      <td>0.0</td>\n",
              "      <td>0.0</td>\n",
              "      <td>0.0</td>\n",
              "      <td>0.0</td>\n",
              "      <td>0.0</td>\n",
              "      <td>0.0</td>\n",
              "      <td>0.0</td>\n",
              "      <td>0.0</td>\n",
              "      <td>0.0</td>\n",
              "      <td>0.0</td>\n",
              "      <td>0.0</td>\n",
              "      <td>161.0</td>\n",
              "      <td>0.0</td>\n",
              "      <td>...</td>\n",
              "      <td>NaN</td>\n",
              "      <td>NaN</td>\n",
              "      <td>NaN</td>\n",
              "      <td>NaN</td>\n",
              "      <td>NaN</td>\n",
              "      <td>NaN</td>\n",
              "      <td>NaN</td>\n",
              "      <td>NaN</td>\n",
              "      <td>NaN</td>\n",
              "      <td>NaN</td>\n",
              "      <td>NaN</td>\n",
              "      <td>NaN</td>\n",
              "      <td>NaN</td>\n",
              "      <td>NaN</td>\n",
              "      <td>NaN</td>\n",
              "      <td>NaN</td>\n",
              "      <td>NaN</td>\n",
              "      <td>NaN</td>\n",
              "      <td>NaN</td>\n",
              "      <td>NaN</td>\n",
              "      <td>NaN</td>\n",
              "      <td>NaN</td>\n",
              "      <td>NaN</td>\n",
              "      <td>NaN</td>\n",
              "      <td>NaN</td>\n",
              "      <td>NaN</td>\n",
              "      <td>NaN</td>\n",
              "      <td>NaN</td>\n",
              "      <td>NaN</td>\n",
              "      <td>NaN</td>\n",
              "      <td>NaN</td>\n",
              "      <td>NaN</td>\n",
              "      <td>NaN</td>\n",
              "      <td>NaN</td>\n",
              "      <td>NaN</td>\n",
              "      <td>NaN</td>\n",
              "      <td>NaN</td>\n",
              "      <td>NaN</td>\n",
              "      <td>NaN</td>\n",
              "      <td>NaN</td>\n",
              "    </tr>\n",
              "  </tbody>\n",
              "</table>\n",
              "<p>5 rows × 1246 columns</p>\n",
              "</div>"
            ],
            "text/plain": [
              "   prediction_id  id_persona  codmes  ...  n_pag_sum  n_pag_mean  n_pag_std\n",
              "0  165747_201901      165747  201901  ...        NaN         NaN        NaN\n",
              "1   65751_201901       65751  201901  ...        NaN         NaN        NaN\n",
              "2   58047_201901       58047  201901  ...        NaN         NaN        NaN\n",
              "3  113221_201901      113221  201901  ...       12.0         3.0   1.154701\n",
              "4  142634_201901      142634  201901  ...        NaN         NaN        NaN\n",
              "\n",
              "[5 rows x 1246 columns]"
            ]
          },
          "metadata": {
            "tags": []
          },
          "execution_count": 11
        }
      ]
    },
    {
      "cell_type": "code",
      "metadata": {
        "id": "tu3hCej1xWtD",
        "colab_type": "code",
        "colab": {}
      },
      "source": [
        "dataset[\"ratio_6\"] = dataset[\"linea_ofrecida\"] / dataset[\"U10M_mto_saldo_mean\"]\n",
        "dataset[\"ratio_7\"] = dataset[\"ingreso_neto\"] / dataset[\"U10M_mto_saldo_mean\"]\n",
        "dataset[\"ratio_8\"] = dataset[\"cem\"] / dataset[\"U10M_mto_saldo_mean\"]"
      ],
      "execution_count": 0,
      "outputs": []
    },
    {
      "cell_type": "code",
      "metadata": {
        "id": "ySHV3F2ZVC11",
        "colab_type": "code",
        "outputId": "71c4778b-3411-408c-c40a-ae8e547e7c3b",
        "colab": {
          "base_uri": "https://localhost:8080/",
          "height": 51
        }
      },
      "source": [
        "for col_ in dataset.columns:\n",
        "  if dataset.loc[dataset[col_] == np.inf, :].shape[0] > 0:\n",
        "    print(col_)\n",
        "    dataset.loc[dataset[col_] == np.inf, col_] = np.nan"
      ],
      "execution_count": 13,
      "outputs": [
        {
          "output_type": "stream",
          "text": [
            "ratio_4\n",
            "ratio_5\n"
          ],
          "name": "stdout"
        }
      ]
    },
    {
      "cell_type": "code",
      "metadata": {
        "id": "_4UwxPkbYypP",
        "colab_type": "code",
        "colab": {}
      },
      "source": [
        "target_adqui = \"codtarget\"\n",
        "target_class = \"new_target\"\n",
        "target_regre = \"margen\"\n",
        "avoid_columns = [c for c in dataset.columns if \"codmes_rcc_first\" in c or \"codmes_rcc_last\" in c or \"codmes_campana_first\" in c or \"codmes_campana_last\" in c]\n",
        "main_columns = [\"prediction_id\", \"id_persona\", \"codmes\", target_adqui, target_class, target_regre]\n",
        "predictores = [c for c in dataset.columns if c not in (main_columns + avoid_columns)]"
      ],
      "execution_count": 0,
      "outputs": []
    },
    {
      "cell_type": "code",
      "metadata": {
        "id": "crGZKL-L8TkD",
        "colab_type": "code",
        "colab": {}
      },
      "source": [
        "month_list = list(sorted(dataset[\"codmes\"].unique()))"
      ],
      "execution_count": 0,
      "outputs": []
    },
    {
      "cell_type": "markdown",
      "metadata": {
        "id": "rqbKOsCzWvQ0",
        "colab_type": "text"
      },
      "source": [
        "### Preparar Marco de Evaluación"
      ]
    },
    {
      "cell_type": "code",
      "metadata": {
        "id": "Xjno4bchZyPE",
        "colab_type": "code",
        "outputId": "7db28845-54fe-4082-8aa4-d9d9ef36e25d",
        "colab": {
          "base_uri": "https://localhost:8080/",
          "height": 224
        }
      },
      "source": [
        "df_base_all.head()"
      ],
      "execution_count": 16,
      "outputs": [
        {
          "output_type": "execute_result",
          "data": {
            "text/html": [
              "<div>\n",
              "<style scoped>\n",
              "    .dataframe tbody tr th:only-of-type {\n",
              "        vertical-align: middle;\n",
              "    }\n",
              "\n",
              "    .dataframe tbody tr th {\n",
              "        vertical-align: top;\n",
              "    }\n",
              "\n",
              "    .dataframe thead th {\n",
              "        text-align: right;\n",
              "    }\n",
              "</style>\n",
              "<table border=\"1\" class=\"dataframe\">\n",
              "  <thead>\n",
              "    <tr style=\"text-align: right;\">\n",
              "      <th></th>\n",
              "      <th>prediction_id</th>\n",
              "      <th>id_persona</th>\n",
              "      <th>codmes</th>\n",
              "      <th>codtarget</th>\n",
              "      <th>new_target</th>\n",
              "      <th>margen</th>\n",
              "      <th>cem</th>\n",
              "      <th>ingreso_neto</th>\n",
              "      <th>linea_ofrecida</th>\n",
              "      <th>flg_exist_prev_month</th>\n",
              "      <th>flg_exist_hist</th>\n",
              "      <th>ratio_1</th>\n",
              "      <th>ratio_2</th>\n",
              "      <th>ratio_3</th>\n",
              "      <th>ratio_4</th>\n",
              "      <th>ratio_5</th>\n",
              "    </tr>\n",
              "  </thead>\n",
              "  <tbody>\n",
              "    <tr>\n",
              "      <th>0</th>\n",
              "      <td>165747_201901</td>\n",
              "      <td>165747</td>\n",
              "      <td>201901</td>\n",
              "      <td>0.0</td>\n",
              "      <td>0.0</td>\n",
              "      <td>-5.00000</td>\n",
              "      <td>1.0</td>\n",
              "      <td>1781.0</td>\n",
              "      <td>1700</td>\n",
              "      <td>0.0</td>\n",
              "      <td>0.0</td>\n",
              "      <td>0.954520</td>\n",
              "      <td>0.000561</td>\n",
              "      <td>0.000588</td>\n",
              "      <td>1781.000000</td>\n",
              "      <td>1700.000000</td>\n",
              "    </tr>\n",
              "    <tr>\n",
              "      <th>1</th>\n",
              "      <td>65751_201901</td>\n",
              "      <td>65751</td>\n",
              "      <td>201901</td>\n",
              "      <td>1.0</td>\n",
              "      <td>1.0</td>\n",
              "      <td>342.98999</td>\n",
              "      <td>687.0</td>\n",
              "      <td>3083.0</td>\n",
              "      <td>4600</td>\n",
              "      <td>0.0</td>\n",
              "      <td>0.0</td>\n",
              "      <td>1.492053</td>\n",
              "      <td>0.222835</td>\n",
              "      <td>0.149348</td>\n",
              "      <td>4.487628</td>\n",
              "      <td>6.695779</td>\n",
              "    </tr>\n",
              "    <tr>\n",
              "      <th>2</th>\n",
              "      <td>58047_201901</td>\n",
              "      <td>58047</td>\n",
              "      <td>201901</td>\n",
              "      <td>0.0</td>\n",
              "      <td>0.0</td>\n",
              "      <td>-5.00000</td>\n",
              "      <td>182.0</td>\n",
              "      <td>1814.0</td>\n",
              "      <td>3600</td>\n",
              "      <td>0.0</td>\n",
              "      <td>0.0</td>\n",
              "      <td>1.984564</td>\n",
              "      <td>0.100331</td>\n",
              "      <td>0.050556</td>\n",
              "      <td>9.967033</td>\n",
              "      <td>19.780220</td>\n",
              "    </tr>\n",
              "    <tr>\n",
              "      <th>3</th>\n",
              "      <td>113221_201901</td>\n",
              "      <td>113221</td>\n",
              "      <td>201901</td>\n",
              "      <td>0.0</td>\n",
              "      <td>0.0</td>\n",
              "      <td>-5.00000</td>\n",
              "      <td>582.0</td>\n",
              "      <td>2153.0</td>\n",
              "      <td>4300</td>\n",
              "      <td>0.0</td>\n",
              "      <td>0.0</td>\n",
              "      <td>1.997213</td>\n",
              "      <td>0.270320</td>\n",
              "      <td>0.135349</td>\n",
              "      <td>3.699313</td>\n",
              "      <td>7.388316</td>\n",
              "    </tr>\n",
              "    <tr>\n",
              "      <th>4</th>\n",
              "      <td>142634_201901</td>\n",
              "      <td>142634</td>\n",
              "      <td>201901</td>\n",
              "      <td>0.0</td>\n",
              "      <td>0.0</td>\n",
              "      <td>-5.00000</td>\n",
              "      <td>4058.0</td>\n",
              "      <td>7342.0</td>\n",
              "      <td>33000</td>\n",
              "      <td>0.0</td>\n",
              "      <td>0.0</td>\n",
              "      <td>4.494688</td>\n",
              "      <td>0.552710</td>\n",
              "      <td>0.122970</td>\n",
              "      <td>1.809266</td>\n",
              "      <td>8.132085</td>\n",
              "    </tr>\n",
              "  </tbody>\n",
              "</table>\n",
              "</div>"
            ],
            "text/plain": [
              "   prediction_id  id_persona  codmes  ...   ratio_3      ratio_4      ratio_5\n",
              "0  165747_201901      165747  201901  ...  0.000588  1781.000000  1700.000000\n",
              "1   65751_201901       65751  201901  ...  0.149348     4.487628     6.695779\n",
              "2   58047_201901       58047  201901  ...  0.050556     9.967033    19.780220\n",
              "3  113221_201901      113221  201901  ...  0.135349     3.699313     7.388316\n",
              "4  142634_201901      142634  201901  ...  0.122970     1.809266     8.132085\n",
              "\n",
              "[5 rows x 16 columns]"
            ]
          },
          "metadata": {
            "tags": []
          },
          "execution_count": 16
        }
      ]
    },
    {
      "cell_type": "markdown",
      "metadata": {
        "id": "_EiCHXLdQnVU",
        "colab_type": "text"
      },
      "source": [
        "### Siendo sincero :( \n",
        "Se encontró un Leakage en el dataset"
      ]
    },
    {
      "cell_type": "code",
      "metadata": {
        "id": "XHWmXboyRJxX",
        "colab_type": "code",
        "outputId": "03c211e6-349a-4a8b-c276-654ecdc738e4",
        "colab": {
          "base_uri": "https://localhost:8080/",
          "height": 85
        }
      },
      "source": [
        "# Hay una hipótesis sobre aquellos clientes que son gestionados nuevamente\n",
        "for month_to_analyze in [201901, 201902, 201903, 201904]:\n",
        "  months_after_list = [c for c in month_list if c > month_to_analyze]\n",
        "  target_list_ = df_base_all.loc[(df_base_all[\"codmes\"] == month_to_analyze) & (df_base_all[\"id_persona\"].isin(df_base_all.loc[df_base_all[\"codmes\"].isin(months_after_list), \"id_persona\"])), \"new_target\"]\n",
        "  print(\"MEAN TARGET: {0} IN MONTH {1} AND {2:,} CUSTOMERS\".format(round(target_list_.mean(), 2), month_to_analyze, len(target_list_)))"
      ],
      "execution_count": 17,
      "outputs": [
        {
          "output_type": "stream",
          "text": [
            "MEAN TARGET: 0.0 IN MONTH 201901 AND 27,074 CUSTOMERS\n",
            "MEAN TARGET: 0.0 IN MONTH 201902 AND 19,462 CUSTOMERS\n",
            "MEAN TARGET: 0.0 IN MONTH 201903 AND 26,099 CUSTOMERS\n",
            "MEAN TARGET: 0.0 IN MONTH 201904 AND 26,271 CUSTOMERS\n"
          ],
          "name": "stdout"
        }
      ]
    },
    {
      "cell_type": "code",
      "metadata": {
        "id": "8R0vxzLOMlS5",
        "colab_type": "code",
        "colab": {}
      },
      "source": [
        "month_to_analyze = 201907"
      ],
      "execution_count": 0,
      "outputs": []
    },
    {
      "cell_type": "code",
      "metadata": {
        "id": "7ijwjOAcLpbW",
        "colab_type": "code",
        "colab": {}
      },
      "source": [
        "df_base_tmp_ = df_base_all.loc[(df_base_all[\"codmes\"] == month_to_analyze), [\"prediction_id\", \"id_persona\", \"codmes\", \"new_target\"]]"
      ],
      "execution_count": 0,
      "outputs": []
    },
    {
      "cell_type": "code",
      "metadata": {
        "id": "cpsPkG5GMiYE",
        "colab_type": "code",
        "colab": {}
      },
      "source": [
        "df_base_hist_ = df_base_all.loc[(df_base_all[\"codmes\"] < month_to_analyze) & (df_base_all[\"id_persona\"].isin(df_base_tmp_[\"id_persona\"].unique())), :].groupby(\"id_persona\", as_index=False).agg({\"prediction_id\":\"count\"}).sort_values(by=\"prediction_id\", ascending=False)"
      ],
      "execution_count": 0,
      "outputs": []
    },
    {
      "cell_type": "code",
      "metadata": {
        "id": "72p4XW8_NRTe",
        "colab_type": "code",
        "colab": {
          "base_uri": "https://localhost:8080/",
          "height": 68
        },
        "outputId": "9ce61c6d-b128-432d-c9c2-15f85d868717"
      },
      "source": [
        "df_base_tmp_.loc[df_base_tmp_[\"id_persona\"].isin(df_base_hist_.loc[df_base_hist_[\"prediction_id\"] == 3, \"id_persona\"].tolist()), \"new_target\"].value_counts()"
      ],
      "execution_count": 42,
      "outputs": [
        {
          "output_type": "execute_result",
          "data": {
            "text/plain": [
              "0.0    962\n",
              "1.0     34\n",
              "Name: new_target, dtype: int64"
            ]
          },
          "metadata": {
            "tags": []
          },
          "execution_count": 42
        }
      ]
    },
    {
      "cell_type": "code",
      "metadata": {
        "id": "btlheonzNRQ4",
        "colab_type": "code",
        "colab": {}
      },
      "source": [
        ""
      ],
      "execution_count": 0,
      "outputs": []
    },
    {
      "cell_type": "code",
      "metadata": {
        "id": "HyolAQFYL3Fj",
        "colab_type": "code",
        "colab": {
          "base_uri": "https://localhost:8080/",
          "height": 204
        },
        "outputId": "d2cd8c8b-1883-40c2-bf96-1177f0333800"
      },
      "source": [
        "df_base_tmp_.head()"
      ],
      "execution_count": 27,
      "outputs": [
        {
          "output_type": "execute_result",
          "data": {
            "text/html": [
              "<div>\n",
              "<style scoped>\n",
              "    .dataframe tbody tr th:only-of-type {\n",
              "        vertical-align: middle;\n",
              "    }\n",
              "\n",
              "    .dataframe tbody tr th {\n",
              "        vertical-align: top;\n",
              "    }\n",
              "\n",
              "    .dataframe thead th {\n",
              "        text-align: right;\n",
              "    }\n",
              "</style>\n",
              "<table border=\"1\" class=\"dataframe\">\n",
              "  <thead>\n",
              "    <tr style=\"text-align: right;\">\n",
              "      <th></th>\n",
              "      <th>prediction_id</th>\n",
              "    </tr>\n",
              "  </thead>\n",
              "  <tbody>\n",
              "    <tr>\n",
              "      <th>329630</th>\n",
              "      <td>123381_201907</td>\n",
              "    </tr>\n",
              "    <tr>\n",
              "      <th>329631</th>\n",
              "      <td>131234_201907</td>\n",
              "    </tr>\n",
              "    <tr>\n",
              "      <th>329632</th>\n",
              "      <td>17651_201907</td>\n",
              "    </tr>\n",
              "    <tr>\n",
              "      <th>329633</th>\n",
              "      <td>224194_201907</td>\n",
              "    </tr>\n",
              "    <tr>\n",
              "      <th>329634</th>\n",
              "      <td>11651_201907</td>\n",
              "    </tr>\n",
              "  </tbody>\n",
              "</table>\n",
              "</div>"
            ],
            "text/plain": [
              "        prediction_id\n",
              "329630  123381_201907\n",
              "329631  131234_201907\n",
              "329632   17651_201907\n",
              "329633  224194_201907\n",
              "329634   11651_201907"
            ]
          },
          "metadata": {
            "tags": []
          },
          "execution_count": 27
        }
      ]
    },
    {
      "cell_type": "code",
      "metadata": {
        "id": "7Iok6IB-0jMU",
        "colab_type": "code",
        "colab": {}
      },
      "source": [
        ""
      ],
      "execution_count": 0,
      "outputs": []
    },
    {
      "cell_type": "code",
      "metadata": {
        "id": "pA6QALPu0iyM",
        "colab_type": "code",
        "colab": {}
      },
      "source": [
        ""
      ],
      "execution_count": 0,
      "outputs": []
    },
    {
      "cell_type": "markdown",
      "metadata": {
        "id": "Kuxh2oaUTGNd",
        "colab_type": "text"
      },
      "source": [
        "Viendo que todos los clientes que fueron gestionados en un mes determinado y luego son gestionados en el mes siguiente tienen un promedio de target igual a 0, tendrán el valor de 0 en el codtarget y asumiremos que tendrán una rentabilidad de -5.00000.\n",
        "\n",
        "Para aprovechar el leakage haremos el recorrido sobre los meses de la base de test para identificar esos clientes y por ende etiquetarlos con codtarget = 0, new_target = 0 y margen = -5.000 que serán enviadas en el archivo de submission y también serán utilizados como base de entrenamiento para tener mas registros que permitan discriminar los rentables de esos que no lo son porque no han adquirido el producto ofrecido."
      ]
    },
    {
      "cell_type": "code",
      "metadata": {
        "id": "884t9NjLziqn",
        "colab_type": "code",
        "colab": {
          "base_uri": "https://localhost:8080/",
          "height": 224
        },
        "outputId": "755bcf08-941a-4934-e2bb-e250df0af7e7"
      },
      "source": [
        "df_base_all.head()"
      ],
      "execution_count": 25,
      "outputs": [
        {
          "output_type": "execute_result",
          "data": {
            "text/html": [
              "<div>\n",
              "<style scoped>\n",
              "    .dataframe tbody tr th:only-of-type {\n",
              "        vertical-align: middle;\n",
              "    }\n",
              "\n",
              "    .dataframe tbody tr th {\n",
              "        vertical-align: top;\n",
              "    }\n",
              "\n",
              "    .dataframe thead th {\n",
              "        text-align: right;\n",
              "    }\n",
              "</style>\n",
              "<table border=\"1\" class=\"dataframe\">\n",
              "  <thead>\n",
              "    <tr style=\"text-align: right;\">\n",
              "      <th></th>\n",
              "      <th>prediction_id</th>\n",
              "      <th>id_persona</th>\n",
              "      <th>codmes</th>\n",
              "      <th>codtarget</th>\n",
              "      <th>new_target</th>\n",
              "      <th>margen</th>\n",
              "      <th>cem</th>\n",
              "      <th>ingreso_neto</th>\n",
              "      <th>linea_ofrecida</th>\n",
              "      <th>flg_exist_prev_month</th>\n",
              "      <th>flg_exist_hist</th>\n",
              "      <th>ratio_1</th>\n",
              "      <th>ratio_2</th>\n",
              "      <th>ratio_3</th>\n",
              "      <th>ratio_4</th>\n",
              "      <th>ratio_5</th>\n",
              "    </tr>\n",
              "  </thead>\n",
              "  <tbody>\n",
              "    <tr>\n",
              "      <th>0</th>\n",
              "      <td>165747_201901</td>\n",
              "      <td>165747</td>\n",
              "      <td>201901</td>\n",
              "      <td>0.0</td>\n",
              "      <td>0.0</td>\n",
              "      <td>-5.00000</td>\n",
              "      <td>1.0</td>\n",
              "      <td>1781.0</td>\n",
              "      <td>1700</td>\n",
              "      <td>0.0</td>\n",
              "      <td>0.0</td>\n",
              "      <td>0.954520</td>\n",
              "      <td>0.000561</td>\n",
              "      <td>0.000588</td>\n",
              "      <td>1781.000000</td>\n",
              "      <td>1700.000000</td>\n",
              "    </tr>\n",
              "    <tr>\n",
              "      <th>1</th>\n",
              "      <td>65751_201901</td>\n",
              "      <td>65751</td>\n",
              "      <td>201901</td>\n",
              "      <td>1.0</td>\n",
              "      <td>1.0</td>\n",
              "      <td>342.98999</td>\n",
              "      <td>687.0</td>\n",
              "      <td>3083.0</td>\n",
              "      <td>4600</td>\n",
              "      <td>0.0</td>\n",
              "      <td>0.0</td>\n",
              "      <td>1.492053</td>\n",
              "      <td>0.222835</td>\n",
              "      <td>0.149348</td>\n",
              "      <td>4.487628</td>\n",
              "      <td>6.695779</td>\n",
              "    </tr>\n",
              "    <tr>\n",
              "      <th>2</th>\n",
              "      <td>58047_201901</td>\n",
              "      <td>58047</td>\n",
              "      <td>201901</td>\n",
              "      <td>0.0</td>\n",
              "      <td>0.0</td>\n",
              "      <td>-5.00000</td>\n",
              "      <td>182.0</td>\n",
              "      <td>1814.0</td>\n",
              "      <td>3600</td>\n",
              "      <td>0.0</td>\n",
              "      <td>0.0</td>\n",
              "      <td>1.984564</td>\n",
              "      <td>0.100331</td>\n",
              "      <td>0.050556</td>\n",
              "      <td>9.967033</td>\n",
              "      <td>19.780220</td>\n",
              "    </tr>\n",
              "    <tr>\n",
              "      <th>3</th>\n",
              "      <td>113221_201901</td>\n",
              "      <td>113221</td>\n",
              "      <td>201901</td>\n",
              "      <td>0.0</td>\n",
              "      <td>0.0</td>\n",
              "      <td>-5.00000</td>\n",
              "      <td>582.0</td>\n",
              "      <td>2153.0</td>\n",
              "      <td>4300</td>\n",
              "      <td>0.0</td>\n",
              "      <td>0.0</td>\n",
              "      <td>1.997213</td>\n",
              "      <td>0.270320</td>\n",
              "      <td>0.135349</td>\n",
              "      <td>3.699313</td>\n",
              "      <td>7.388316</td>\n",
              "    </tr>\n",
              "    <tr>\n",
              "      <th>4</th>\n",
              "      <td>142634_201901</td>\n",
              "      <td>142634</td>\n",
              "      <td>201901</td>\n",
              "      <td>0.0</td>\n",
              "      <td>0.0</td>\n",
              "      <td>-5.00000</td>\n",
              "      <td>4058.0</td>\n",
              "      <td>7342.0</td>\n",
              "      <td>33000</td>\n",
              "      <td>0.0</td>\n",
              "      <td>0.0</td>\n",
              "      <td>4.494688</td>\n",
              "      <td>0.552710</td>\n",
              "      <td>0.122970</td>\n",
              "      <td>1.809266</td>\n",
              "      <td>8.132085</td>\n",
              "    </tr>\n",
              "  </tbody>\n",
              "</table>\n",
              "</div>"
            ],
            "text/plain": [
              "   prediction_id  id_persona  codmes  ...   ratio_3      ratio_4      ratio_5\n",
              "0  165747_201901      165747  201901  ...  0.000588  1781.000000  1700.000000\n",
              "1   65751_201901       65751  201901  ...  0.149348     4.487628     6.695779\n",
              "2   58047_201901       58047  201901  ...  0.050556     9.967033    19.780220\n",
              "3  113221_201901      113221  201901  ...  0.135349     3.699313     7.388316\n",
              "4  142634_201901      142634  201901  ...  0.122970     1.809266     8.132085\n",
              "\n",
              "[5 rows x 16 columns]"
            ]
          },
          "metadata": {
            "tags": []
          },
          "execution_count": 25
        }
      ]
    },
    {
      "cell_type": "code",
      "metadata": {
        "id": "jlswxDvgzzSG",
        "colab_type": "code",
        "colab": {}
      },
      "source": [
        "for month_to_analyze in [201901, 201902, 201903, 201904]:\n",
        "  "
      ],
      "execution_count": 0,
      "outputs": []
    },
    {
      "cell_type": "code",
      "metadata": {
        "id": "tlZTaOBYz6Tg",
        "colab_type": "code",
        "colab": {}
      },
      "source": [
        ""
      ],
      "execution_count": 0,
      "outputs": []
    },
    {
      "cell_type": "code",
      "metadata": {
        "id": "BW6p79xxz6MR",
        "colab_type": "code",
        "colab": {}
      },
      "source": [
        ""
      ],
      "execution_count": 0,
      "outputs": []
    },
    {
      "cell_type": "code",
      "metadata": {
        "id": "jJQ37zfpz6FJ",
        "colab_type": "code",
        "colab": {}
      },
      "source": [
        ""
      ],
      "execution_count": 0,
      "outputs": []
    },
    {
      "cell_type": "code",
      "metadata": {
        "id": "BWnsbXUTXKad",
        "colab_type": "code",
        "colab": {}
      },
      "source": [
        "list_leakage_id = []\n",
        "for month_to_analyze in [201905, 201906, 201907]:\n",
        "  months_after_list = [c for c in month_list if c > month_to_analyze]\n",
        "  list_leakage_id += df_base_all.loc[(df_base_all[\"codmes\"] == month_to_analyze) &\n",
        "                           (df_base_all[\"id_persona\"].isin(df_base_all.loc[df_base_all[\"codmes\"].isin(months_after_list), \"id_persona\"])), \"prediction_id\"].tolist()\n",
        "  "
      ],
      "execution_count": 0,
      "outputs": []
    },
    {
      "cell_type": "code",
      "metadata": {
        "id": "SuyZW7esYUJc",
        "colab_type": "code",
        "outputId": "36e93371-27f5-43b9-8217-caa9e5684835",
        "colab": {
          "base_uri": "https://localhost:8080/",
          "height": 34
        }
      },
      "source": [
        "len(list_leakage_id)"
      ],
      "execution_count": 19,
      "outputs": [
        {
          "output_type": "execute_result",
          "data": {
            "text/plain": [
              "36069"
            ]
          },
          "metadata": {
            "tags": []
          },
          "execution_count": 19
        }
      ]
    },
    {
      "cell_type": "code",
      "metadata": {
        "id": "CzLSy73iakKS",
        "colab_type": "code",
        "colab": {}
      },
      "source": [
        "dataset.loc[dataset[\"prediction_id\"].isin(list_leakage_id), \"margen\"] = -5"
      ],
      "execution_count": 0,
      "outputs": []
    },
    {
      "cell_type": "markdown",
      "metadata": {
        "id": "ZFL_MPA_Ybni",
        "colab_type": "text"
      },
      "source": [
        "Se han ganado 36K registros adicionales y además 36K con respuestas de target seguras que son las que permiten obtener un buen score pero que no son implementables en la vida real.\n",
        "\n",
        "Por eso el planteamiento del problema se debió realizar de manera cuidadosa para evitar este tipo de casos."
      ]
    },
    {
      "cell_type": "code",
      "metadata": {
        "id": "Qo4x8_iKWhAv",
        "colab_type": "code",
        "outputId": "7808018b-0171-4bde-d955-1d258a1672e5",
        "colab": {
          "base_uri": "https://localhost:8080/",
          "height": 68
        }
      },
      "source": [
        "#df_train = dataset.loc[~(dataset[\"codmes\"].isin([201905, 201906, 201907])) | (dataset[\"prediction_id\"].isin(list_leakage_id)) , :].reset_index(drop=True)\n",
        "#df_test = dataset.loc[dataset[\"codmes\"].isin([201905, 201906, 201907]) & ~(dataset[\"prediction_id\"].isin(list_leakage_id)), :].reset_index(drop=True)\n",
        "df_train = dataset.loc[~(dataset[\"codmes\"].isin([201905, 201906, 201907])) , :].reset_index(drop=True)\n",
        "df_test = dataset.loc[dataset[\"codmes\"].isin([201905, 201906, 201907]), :].reset_index(drop=True)\n",
        "\n",
        "nrows, nrows_train, nrows_test = dataset.shape[0], df_train.shape[0], df_test.shape[0]\n",
        "\n",
        "print(\"Cantidad de filas: {0:,}\\n\\t- Train:\\t{1:,} filas\\t({2:}%)\\n\\t- Test:\\t\\t{3:,} filas\\t({4:}%)\".format(nrows,\n",
        "                                                                                                                                             nrows_train,\n",
        "                                                                                                                                             round((100 * (nrows_train/nrows)), 2),\n",
        "                                                                                                                                             nrows_test,\n",
        "                                                                                                                                             round((100 * (nrows_test/nrows)), 2)\n",
        "                                                                                                                                             ))"
      ],
      "execution_count": 20,
      "outputs": [
        {
          "output_type": "stream",
          "text": [
            "Cantidad de filas: 391,350\n",
            "\t- Train:\t212,665 filas\t(54.34%)\n",
            "\t- Test:\t\t178,685 filas\t(45.66%)\n"
          ],
          "name": "stdout"
        }
      ]
    },
    {
      "cell_type": "code",
      "metadata": {
        "id": "00ldSV31ojfJ",
        "colab_type": "code",
        "outputId": "da1ac493-c102-4b9c-841b-9fc8641240cc",
        "colab": {
          "base_uri": "https://localhost:8080/",
          "height": 253
        }
      },
      "source": [
        "df_train.head()"
      ],
      "execution_count": 21,
      "outputs": [
        {
          "output_type": "execute_result",
          "data": {
            "text/html": [
              "<div>\n",
              "<style scoped>\n",
              "    .dataframe tbody tr th:only-of-type {\n",
              "        vertical-align: middle;\n",
              "    }\n",
              "\n",
              "    .dataframe tbody tr th {\n",
              "        vertical-align: top;\n",
              "    }\n",
              "\n",
              "    .dataframe thead th {\n",
              "        text-align: right;\n",
              "    }\n",
              "</style>\n",
              "<table border=\"1\" class=\"dataframe\">\n",
              "  <thead>\n",
              "    <tr style=\"text-align: right;\">\n",
              "      <th></th>\n",
              "      <th>prediction_id</th>\n",
              "      <th>id_persona</th>\n",
              "      <th>codmes</th>\n",
              "      <th>codtarget</th>\n",
              "      <th>new_target</th>\n",
              "      <th>margen</th>\n",
              "      <th>cem</th>\n",
              "      <th>ingreso_neto</th>\n",
              "      <th>linea_ofrecida</th>\n",
              "      <th>flg_exist_prev_month</th>\n",
              "      <th>flg_exist_hist</th>\n",
              "      <th>ratio_1</th>\n",
              "      <th>ratio_2</th>\n",
              "      <th>ratio_3</th>\n",
              "      <th>ratio_4</th>\n",
              "      <th>ratio_5</th>\n",
              "      <th>soc_var1</th>\n",
              "      <th>soc_var2</th>\n",
              "      <th>soc_var3</th>\n",
              "      <th>soc_var4</th>\n",
              "      <th>soc_var5</th>\n",
              "      <th>soc_var6</th>\n",
              "      <th>activ_econo</th>\n",
              "      <th>meses_alta_sum</th>\n",
              "      <th>Grupo_01</th>\n",
              "      <th>Grupo_02</th>\n",
              "      <th>Grupo_03</th>\n",
              "      <th>Grupo_04</th>\n",
              "      <th>Grupo_05</th>\n",
              "      <th>Grupo_06</th>\n",
              "      <th>Grupo_07</th>\n",
              "      <th>Grupo_08</th>\n",
              "      <th>Grupo_09</th>\n",
              "      <th>Grupo_10</th>\n",
              "      <th>Grupo_11</th>\n",
              "      <th>Grupo_12</th>\n",
              "      <th>Grupo_13</th>\n",
              "      <th>Grupo_14</th>\n",
              "      <th>Grupo_15</th>\n",
              "      <th>Grupo_16</th>\n",
              "      <th>...</th>\n",
              "      <th>time_mllp_sum</th>\n",
              "      <th>time_mllp_mean</th>\n",
              "      <th>time_mllp_std</th>\n",
              "      <th>time_mllst_sum</th>\n",
              "      <th>time_mllst_mean</th>\n",
              "      <th>time_mllst_std</th>\n",
              "      <th>time_ctasld_sum</th>\n",
              "      <th>time_ctasld_mean</th>\n",
              "      <th>time_ctasld_std</th>\n",
              "      <th>time_tc_sum</th>\n",
              "      <th>time_tc_mean</th>\n",
              "      <th>time_tc_std</th>\n",
              "      <th>time_total_sum</th>\n",
              "      <th>time_total_mean</th>\n",
              "      <th>time_total_std</th>\n",
              "      <th>busqtc_sum</th>\n",
              "      <th>busqtc_mean</th>\n",
              "      <th>busqvisa_sum</th>\n",
              "      <th>busqvisa_mean</th>\n",
              "      <th>busqamex_sum</th>\n",
              "      <th>busqamex_mean</th>\n",
              "      <th>busqmc_sum</th>\n",
              "      <th>busqmc_mean</th>\n",
              "      <th>busqcsimp_sum</th>\n",
              "      <th>busqcsimp_mean</th>\n",
              "      <th>busqmill_sum</th>\n",
              "      <th>busqmill_mean</th>\n",
              "      <th>busqcsld_sum</th>\n",
              "      <th>busqcsld_mean</th>\n",
              "      <th>num_busq_sum</th>\n",
              "      <th>num_busq_mean</th>\n",
              "      <th>num_busq_std</th>\n",
              "      <th>busq_sum</th>\n",
              "      <th>busq_mean</th>\n",
              "      <th>n_pag_sum</th>\n",
              "      <th>n_pag_mean</th>\n",
              "      <th>n_pag_std</th>\n",
              "      <th>ratio_6</th>\n",
              "      <th>ratio_7</th>\n",
              "      <th>ratio_8</th>\n",
              "    </tr>\n",
              "  </thead>\n",
              "  <tbody>\n",
              "    <tr>\n",
              "      <th>0</th>\n",
              "      <td>165747_201901</td>\n",
              "      <td>165747</td>\n",
              "      <td>201901</td>\n",
              "      <td>0.0</td>\n",
              "      <td>0.0</td>\n",
              "      <td>-5.00000</td>\n",
              "      <td>1.0</td>\n",
              "      <td>1781.0</td>\n",
              "      <td>1700</td>\n",
              "      <td>0.0</td>\n",
              "      <td>0.0</td>\n",
              "      <td>0.954520</td>\n",
              "      <td>0.000561</td>\n",
              "      <td>0.000588</td>\n",
              "      <td>1781.000000</td>\n",
              "      <td>1700.000000</td>\n",
              "      <td>0.773585</td>\n",
              "      <td>4.0</td>\n",
              "      <td>1.0</td>\n",
              "      <td>6.0</td>\n",
              "      <td>5.0</td>\n",
              "      <td>5.0</td>\n",
              "      <td>1.0</td>\n",
              "      <td>119.0</td>\n",
              "      <td>0.0</td>\n",
              "      <td>0.0</td>\n",
              "      <td>0.0</td>\n",
              "      <td>0.0</td>\n",
              "      <td>0.0</td>\n",
              "      <td>0.0</td>\n",
              "      <td>0.0</td>\n",
              "      <td>0.0</td>\n",
              "      <td>0.0</td>\n",
              "      <td>0.0</td>\n",
              "      <td>0.0</td>\n",
              "      <td>0.0</td>\n",
              "      <td>0.0</td>\n",
              "      <td>0.0</td>\n",
              "      <td>119.0</td>\n",
              "      <td>0.0</td>\n",
              "      <td>...</td>\n",
              "      <td>NaN</td>\n",
              "      <td>NaN</td>\n",
              "      <td>NaN</td>\n",
              "      <td>NaN</td>\n",
              "      <td>NaN</td>\n",
              "      <td>NaN</td>\n",
              "      <td>NaN</td>\n",
              "      <td>NaN</td>\n",
              "      <td>NaN</td>\n",
              "      <td>NaN</td>\n",
              "      <td>NaN</td>\n",
              "      <td>NaN</td>\n",
              "      <td>NaN</td>\n",
              "      <td>NaN</td>\n",
              "      <td>NaN</td>\n",
              "      <td>NaN</td>\n",
              "      <td>NaN</td>\n",
              "      <td>NaN</td>\n",
              "      <td>NaN</td>\n",
              "      <td>NaN</td>\n",
              "      <td>NaN</td>\n",
              "      <td>NaN</td>\n",
              "      <td>NaN</td>\n",
              "      <td>NaN</td>\n",
              "      <td>NaN</td>\n",
              "      <td>NaN</td>\n",
              "      <td>NaN</td>\n",
              "      <td>NaN</td>\n",
              "      <td>NaN</td>\n",
              "      <td>NaN</td>\n",
              "      <td>NaN</td>\n",
              "      <td>NaN</td>\n",
              "      <td>NaN</td>\n",
              "      <td>NaN</td>\n",
              "      <td>NaN</td>\n",
              "      <td>NaN</td>\n",
              "      <td>NaN</td>\n",
              "      <td>0.038430</td>\n",
              "      <td>0.040261</td>\n",
              "      <td>0.000023</td>\n",
              "    </tr>\n",
              "    <tr>\n",
              "      <th>1</th>\n",
              "      <td>65751_201901</td>\n",
              "      <td>65751</td>\n",
              "      <td>201901</td>\n",
              "      <td>1.0</td>\n",
              "      <td>1.0</td>\n",
              "      <td>342.98999</td>\n",
              "      <td>687.0</td>\n",
              "      <td>3083.0</td>\n",
              "      <td>4600</td>\n",
              "      <td>0.0</td>\n",
              "      <td>0.0</td>\n",
              "      <td>1.492053</td>\n",
              "      <td>0.222835</td>\n",
              "      <td>0.149348</td>\n",
              "      <td>4.487628</td>\n",
              "      <td>6.695779</td>\n",
              "      <td>0.566038</td>\n",
              "      <td>4.0</td>\n",
              "      <td>2.0</td>\n",
              "      <td>6.0</td>\n",
              "      <td>5.0</td>\n",
              "      <td>8.0</td>\n",
              "      <td>2.0</td>\n",
              "      <td>44.0</td>\n",
              "      <td>0.0</td>\n",
              "      <td>0.0</td>\n",
              "      <td>0.0</td>\n",
              "      <td>0.0</td>\n",
              "      <td>0.0</td>\n",
              "      <td>0.0</td>\n",
              "      <td>0.0</td>\n",
              "      <td>0.0</td>\n",
              "      <td>0.0</td>\n",
              "      <td>0.0</td>\n",
              "      <td>44.0</td>\n",
              "      <td>0.0</td>\n",
              "      <td>0.0</td>\n",
              "      <td>0.0</td>\n",
              "      <td>0.0</td>\n",
              "      <td>0.0</td>\n",
              "      <td>...</td>\n",
              "      <td>NaN</td>\n",
              "      <td>NaN</td>\n",
              "      <td>NaN</td>\n",
              "      <td>NaN</td>\n",
              "      <td>NaN</td>\n",
              "      <td>NaN</td>\n",
              "      <td>NaN</td>\n",
              "      <td>NaN</td>\n",
              "      <td>NaN</td>\n",
              "      <td>NaN</td>\n",
              "      <td>NaN</td>\n",
              "      <td>NaN</td>\n",
              "      <td>NaN</td>\n",
              "      <td>NaN</td>\n",
              "      <td>NaN</td>\n",
              "      <td>NaN</td>\n",
              "      <td>NaN</td>\n",
              "      <td>NaN</td>\n",
              "      <td>NaN</td>\n",
              "      <td>NaN</td>\n",
              "      <td>NaN</td>\n",
              "      <td>NaN</td>\n",
              "      <td>NaN</td>\n",
              "      <td>NaN</td>\n",
              "      <td>NaN</td>\n",
              "      <td>NaN</td>\n",
              "      <td>NaN</td>\n",
              "      <td>NaN</td>\n",
              "      <td>NaN</td>\n",
              "      <td>NaN</td>\n",
              "      <td>NaN</td>\n",
              "      <td>NaN</td>\n",
              "      <td>NaN</td>\n",
              "      <td>NaN</td>\n",
              "      <td>NaN</td>\n",
              "      <td>NaN</td>\n",
              "      <td>NaN</td>\n",
              "      <td>0.177250</td>\n",
              "      <td>0.118796</td>\n",
              "      <td>0.026472</td>\n",
              "    </tr>\n",
              "    <tr>\n",
              "      <th>2</th>\n",
              "      <td>58047_201901</td>\n",
              "      <td>58047</td>\n",
              "      <td>201901</td>\n",
              "      <td>0.0</td>\n",
              "      <td>0.0</td>\n",
              "      <td>-5.00000</td>\n",
              "      <td>182.0</td>\n",
              "      <td>1814.0</td>\n",
              "      <td>3600</td>\n",
              "      <td>0.0</td>\n",
              "      <td>0.0</td>\n",
              "      <td>1.984564</td>\n",
              "      <td>0.100331</td>\n",
              "      <td>0.050556</td>\n",
              "      <td>9.967033</td>\n",
              "      <td>19.780220</td>\n",
              "      <td>0.603774</td>\n",
              "      <td>4.0</td>\n",
              "      <td>1.0</td>\n",
              "      <td>6.0</td>\n",
              "      <td>5.0</td>\n",
              "      <td>9.0</td>\n",
              "      <td>9.0</td>\n",
              "      <td>221.0</td>\n",
              "      <td>0.0</td>\n",
              "      <td>0.0</td>\n",
              "      <td>0.0</td>\n",
              "      <td>0.0</td>\n",
              "      <td>0.0</td>\n",
              "      <td>0.0</td>\n",
              "      <td>0.0</td>\n",
              "      <td>0.0</td>\n",
              "      <td>0.0</td>\n",
              "      <td>0.0</td>\n",
              "      <td>0.0</td>\n",
              "      <td>221.0</td>\n",
              "      <td>0.0</td>\n",
              "      <td>0.0</td>\n",
              "      <td>0.0</td>\n",
              "      <td>0.0</td>\n",
              "      <td>...</td>\n",
              "      <td>NaN</td>\n",
              "      <td>NaN</td>\n",
              "      <td>NaN</td>\n",
              "      <td>NaN</td>\n",
              "      <td>NaN</td>\n",
              "      <td>NaN</td>\n",
              "      <td>NaN</td>\n",
              "      <td>NaN</td>\n",
              "      <td>NaN</td>\n",
              "      <td>NaN</td>\n",
              "      <td>NaN</td>\n",
              "      <td>NaN</td>\n",
              "      <td>NaN</td>\n",
              "      <td>NaN</td>\n",
              "      <td>NaN</td>\n",
              "      <td>NaN</td>\n",
              "      <td>NaN</td>\n",
              "      <td>NaN</td>\n",
              "      <td>NaN</td>\n",
              "      <td>NaN</td>\n",
              "      <td>NaN</td>\n",
              "      <td>NaN</td>\n",
              "      <td>NaN</td>\n",
              "      <td>NaN</td>\n",
              "      <td>NaN</td>\n",
              "      <td>NaN</td>\n",
              "      <td>NaN</td>\n",
              "      <td>NaN</td>\n",
              "      <td>NaN</td>\n",
              "      <td>NaN</td>\n",
              "      <td>NaN</td>\n",
              "      <td>NaN</td>\n",
              "      <td>NaN</td>\n",
              "      <td>NaN</td>\n",
              "      <td>NaN</td>\n",
              "      <td>NaN</td>\n",
              "      <td>NaN</td>\n",
              "      <td>0.122254</td>\n",
              "      <td>0.061603</td>\n",
              "      <td>0.006181</td>\n",
              "    </tr>\n",
              "    <tr>\n",
              "      <th>3</th>\n",
              "      <td>113221_201901</td>\n",
              "      <td>113221</td>\n",
              "      <td>201901</td>\n",
              "      <td>0.0</td>\n",
              "      <td>0.0</td>\n",
              "      <td>-5.00000</td>\n",
              "      <td>582.0</td>\n",
              "      <td>2153.0</td>\n",
              "      <td>4300</td>\n",
              "      <td>0.0</td>\n",
              "      <td>0.0</td>\n",
              "      <td>1.997213</td>\n",
              "      <td>0.270320</td>\n",
              "      <td>0.135349</td>\n",
              "      <td>3.699313</td>\n",
              "      <td>7.388316</td>\n",
              "      <td>0.660377</td>\n",
              "      <td>3.0</td>\n",
              "      <td>2.0</td>\n",
              "      <td>6.0</td>\n",
              "      <td>5.0</td>\n",
              "      <td>2.0</td>\n",
              "      <td>3.0</td>\n",
              "      <td>189.0</td>\n",
              "      <td>0.0</td>\n",
              "      <td>0.0</td>\n",
              "      <td>0.0</td>\n",
              "      <td>0.0</td>\n",
              "      <td>0.0</td>\n",
              "      <td>0.0</td>\n",
              "      <td>189.0</td>\n",
              "      <td>0.0</td>\n",
              "      <td>0.0</td>\n",
              "      <td>0.0</td>\n",
              "      <td>0.0</td>\n",
              "      <td>0.0</td>\n",
              "      <td>0.0</td>\n",
              "      <td>0.0</td>\n",
              "      <td>0.0</td>\n",
              "      <td>0.0</td>\n",
              "      <td>...</td>\n",
              "      <td>0.0</td>\n",
              "      <td>0.0</td>\n",
              "      <td>0.0</td>\n",
              "      <td>0.0</td>\n",
              "      <td>0.0</td>\n",
              "      <td>0.0</td>\n",
              "      <td>0.0</td>\n",
              "      <td>0.0</td>\n",
              "      <td>0.0</td>\n",
              "      <td>0.0</td>\n",
              "      <td>0.0</td>\n",
              "      <td>0.0</td>\n",
              "      <td>0.0</td>\n",
              "      <td>0.0</td>\n",
              "      <td>0.0</td>\n",
              "      <td>0.0</td>\n",
              "      <td>0.0</td>\n",
              "      <td>0.0</td>\n",
              "      <td>0.0</td>\n",
              "      <td>0.0</td>\n",
              "      <td>0.0</td>\n",
              "      <td>0.0</td>\n",
              "      <td>0.0</td>\n",
              "      <td>0.0</td>\n",
              "      <td>0.0</td>\n",
              "      <td>0.0</td>\n",
              "      <td>0.0</td>\n",
              "      <td>0.0</td>\n",
              "      <td>0.0</td>\n",
              "      <td>0.0</td>\n",
              "      <td>0.0</td>\n",
              "      <td>0.0</td>\n",
              "      <td>0.0</td>\n",
              "      <td>0.0</td>\n",
              "      <td>12.0</td>\n",
              "      <td>3.0</td>\n",
              "      <td>1.154701</td>\n",
              "      <td>0.150854</td>\n",
              "      <td>0.075532</td>\n",
              "      <td>0.020418</td>\n",
              "    </tr>\n",
              "    <tr>\n",
              "      <th>4</th>\n",
              "      <td>142634_201901</td>\n",
              "      <td>142634</td>\n",
              "      <td>201901</td>\n",
              "      <td>0.0</td>\n",
              "      <td>0.0</td>\n",
              "      <td>-5.00000</td>\n",
              "      <td>4058.0</td>\n",
              "      <td>7342.0</td>\n",
              "      <td>33000</td>\n",
              "      <td>0.0</td>\n",
              "      <td>0.0</td>\n",
              "      <td>4.494688</td>\n",
              "      <td>0.552710</td>\n",
              "      <td>0.122970</td>\n",
              "      <td>1.809266</td>\n",
              "      <td>8.132085</td>\n",
              "      <td>0.735849</td>\n",
              "      <td>4.0</td>\n",
              "      <td>2.0</td>\n",
              "      <td>6.0</td>\n",
              "      <td>5.0</td>\n",
              "      <td>1.0</td>\n",
              "      <td>1.0</td>\n",
              "      <td>161.0</td>\n",
              "      <td>0.0</td>\n",
              "      <td>0.0</td>\n",
              "      <td>0.0</td>\n",
              "      <td>0.0</td>\n",
              "      <td>0.0</td>\n",
              "      <td>0.0</td>\n",
              "      <td>0.0</td>\n",
              "      <td>0.0</td>\n",
              "      <td>0.0</td>\n",
              "      <td>0.0</td>\n",
              "      <td>0.0</td>\n",
              "      <td>0.0</td>\n",
              "      <td>0.0</td>\n",
              "      <td>0.0</td>\n",
              "      <td>161.0</td>\n",
              "      <td>0.0</td>\n",
              "      <td>...</td>\n",
              "      <td>NaN</td>\n",
              "      <td>NaN</td>\n",
              "      <td>NaN</td>\n",
              "      <td>NaN</td>\n",
              "      <td>NaN</td>\n",
              "      <td>NaN</td>\n",
              "      <td>NaN</td>\n",
              "      <td>NaN</td>\n",
              "      <td>NaN</td>\n",
              "      <td>NaN</td>\n",
              "      <td>NaN</td>\n",
              "      <td>NaN</td>\n",
              "      <td>NaN</td>\n",
              "      <td>NaN</td>\n",
              "      <td>NaN</td>\n",
              "      <td>NaN</td>\n",
              "      <td>NaN</td>\n",
              "      <td>NaN</td>\n",
              "      <td>NaN</td>\n",
              "      <td>NaN</td>\n",
              "      <td>NaN</td>\n",
              "      <td>NaN</td>\n",
              "      <td>NaN</td>\n",
              "      <td>NaN</td>\n",
              "      <td>NaN</td>\n",
              "      <td>NaN</td>\n",
              "      <td>NaN</td>\n",
              "      <td>NaN</td>\n",
              "      <td>NaN</td>\n",
              "      <td>NaN</td>\n",
              "      <td>NaN</td>\n",
              "      <td>NaN</td>\n",
              "      <td>NaN</td>\n",
              "      <td>NaN</td>\n",
              "      <td>NaN</td>\n",
              "      <td>NaN</td>\n",
              "      <td>NaN</td>\n",
              "      <td>0.182122</td>\n",
              "      <td>0.040519</td>\n",
              "      <td>0.022396</td>\n",
              "    </tr>\n",
              "  </tbody>\n",
              "</table>\n",
              "<p>5 rows × 1249 columns</p>\n",
              "</div>"
            ],
            "text/plain": [
              "   prediction_id  id_persona  codmes  ...   ratio_6   ratio_7   ratio_8\n",
              "0  165747_201901      165747  201901  ...  0.038430  0.040261  0.000023\n",
              "1   65751_201901       65751  201901  ...  0.177250  0.118796  0.026472\n",
              "2   58047_201901       58047  201901  ...  0.122254  0.061603  0.006181\n",
              "3  113221_201901      113221  201901  ...  0.150854  0.075532  0.020418\n",
              "4  142634_201901      142634  201901  ...  0.182122  0.040519  0.022396\n",
              "\n",
              "[5 rows x 1249 columns]"
            ]
          },
          "metadata": {
            "tags": []
          },
          "execution_count": 21
        }
      ]
    },
    {
      "cell_type": "code",
      "metadata": {
        "id": "UJR5emPgc1ep",
        "colab_type": "code",
        "colab": {}
      },
      "source": [
        "import xgboost as xgb\n",
        "import lightgbm as lgb\n",
        "from catboost import CatBoostClassifier, CatBoostRegressor\n",
        "from sklearn.ensemble import RandomForestClassifier\n",
        "\n",
        "from sklearn.metrics import roc_auc_score, mean_squared_error\n",
        "from sklearn.model_selection import StratifiedKFold, KFold\n",
        "\n",
        "from scipy.optimize import differential_evolution"
      ],
      "execution_count": 0,
      "outputs": []
    },
    {
      "cell_type": "code",
      "metadata": {
        "id": "-AzzRo7xeOlW",
        "colab_type": "code",
        "colab": {}
      },
      "source": [
        "seed_val = 41\n",
        "\n",
        "ctb_params = {'loss_function':'Logloss',\n",
        "              'eval_metric':'AUC',\n",
        "              'task_type': 'GPU',\n",
        "              'verbose': 200,\n",
        "              'random_seed': 1\n",
        "             }\n",
        "\n",
        "ctb_regr_params = {'loss_function':'RMSE',\n",
        "              'eval_metric':'RMSE',\n",
        "              'task_type': 'GPU',\n",
        "              'verbose': 200,\n",
        "              'random_seed': 1\n",
        "             }\n",
        "\n",
        "lgb_params = {\n",
        "                \"objective\": \"binary\",\n",
        "                \"metric\": \"auc\",\n",
        "                \"max_depth\": 8,\n",
        "                \"learning_rate\": 0.05,\n",
        "                \"bagging_seed\": 41,\n",
        "                \"min_data_in_leaf\": 20,\n",
        "                \"bagging_fraction\": 0.7,\n",
        "                \"feature_fraction\": 0.7,\n",
        "                \"bagging_freq\": 5,\n",
        "                \"verbosity\": -1\n",
        "              }\n",
        "\n",
        "lgb_regr_params = {\n",
        "                \"objective\": \"regression\",\n",
        "                \"metric\": \"l2\",\n",
        "                \"max_depth\": 8,\n",
        "                \"learning_rate\": 0.05,\n",
        "                \"bagging_seed\": 41,\n",
        "                \"min_data_in_leaf\": 20,\n",
        "                \"bagging_fraction\": 0.7,\n",
        "                \"feature_fraction\": 0.7,\n",
        "                \"bagging_freq\": 5,\n",
        "                \"verbosity\": -1\n",
        "              }\n",
        "\n",
        "xgb_params = {\n",
        "                'base_score': 0.5,\n",
        "                'booster': 'gbtree',\n",
        "                'colsample_bylevel': 1,\n",
        "                'colsample_bynode': 1,\n",
        "                'colsample_bytree': 0.8,\n",
        "                'gamma': 0,\n",
        "                'learning_rate': 0.1,\n",
        "                'max_delta_step': 0,\n",
        "                'max_depth': 5,\n",
        "                'min_child_weight': 1,\n",
        "                'missing': None,\n",
        "                'n_estimators': 1000,\n",
        "                'nthread': -1,\n",
        "                'objective': 'binary:logistic',\n",
        "                'reg_alpha': 0,\n",
        "                'reg_lambda': 1,\n",
        "                'scale_pos_weight': 1,\n",
        "                'seed': 27,\n",
        "                'subsample': 0.8,\n",
        "                'verbosity': 1,\n",
        "                'eval_metric':\"auc\"\n",
        "              }\n",
        "\n",
        "rf_params = {\n",
        "              'n_estimators':500,\n",
        "              'random_state':0,\n",
        "              'n_jobs': -1,\n",
        "              'max_depth': 12,\n",
        "              'class_weight': \"balanced\",\n",
        "              \"min_samples_leaf\" : 20,\n",
        "              \"max_features\" : 300\n",
        "             }"
      ],
      "execution_count": 0,
      "outputs": []
    },
    {
      "cell_type": "code",
      "metadata": {
        "id": "EEB44jgbeOjU",
        "colab_type": "code",
        "colab": {}
      },
      "source": [
        "k = 5 # n folds\n",
        "\n",
        "def model_with_cv(df_train, df_test, target_class, predictores, df_val=None):\n",
        "\n",
        "  ##################################################################\n",
        "  ############# ETAPA DE PREDICCIÓN\n",
        "  ##################################################################\n",
        "\n",
        "  # Se instancian las variables que se obtendrán como resultado.\n",
        "  results_models = []\n",
        "  list_models_cv = []\n",
        "\n",
        "  df_probs_train = df_train[[\"prediction_id\", target_class]].copy().reset_index(drop=True)\n",
        "  df_probs_test = df_test[[\"prediction_id\"]].copy().reset_index(drop=True)\n",
        "\n",
        "  if df_val is not None:\n",
        "    df_probs_val = df_val[[\"prediction_id\", target_class]].copy().reset_index(drop=True)\n",
        "  else:\n",
        "    df_probs_val = None\n",
        "  # Generar los Folds\n",
        "  skf = StratifiedKFold(n_splits=k, shuffle=True, random_state=0)\n",
        "\n",
        "  for i, (traincv, valcv) in enumerate(skf.split(df_train[predictores], df_train[target_class])):\n",
        "\n",
        "      print(\"Iteracion {}\".format(i))\n",
        "      \n",
        "      df_train_cv = df_train.loc[traincv, :].copy().reset_index(drop=True)\n",
        "      df_val_cv = df_train.loc[valcv, :].copy().reset_index(drop=True)\n",
        "\n",
        "      # Fase de Entrenamiento\n",
        "      print(\"\\t CLASIFICACIÓN\")\n",
        "      print(\"\\t\\t 1. CATBOOST\")\n",
        "      ## CatBoost\n",
        "      cbt_model = CatBoostClassifier(**ctb_params)\n",
        "      cbt_model.fit(df_train_cv[predictores], df_train_cv[target_class], eval_set=(df_val_cv[predictores], df_val_cv[target_class]), use_best_model=True)\n",
        "\n",
        "      print(\"\\t\\t 2. LIGHTGBM\")\n",
        "      ## LightGBM\n",
        "      lgtrain = lgb.Dataset(df_train_cv[predictores], label=df_train_cv[target_class])\n",
        "      lgval = lgb.Dataset(df_val_cv[predictores], label=df_val_cv[target_class])\n",
        "      lgb_model = lgb.train(lgb_params, lgtrain, 900, valid_sets=[lgtrain, lgval], early_stopping_rounds=100, verbose_eval=20, evals_result={})\n",
        "\n",
        "      # Fase de Scoring\n",
        "      ## Clasificación\n",
        "      probas_train_cbtm = cbt_model.predict_proba(df_train_cv[predictores])[:, 1]\n",
        "      probas_val_cbtm = cbt_model.predict_proba(df_val_cv[predictores])[:, 1]\n",
        "\n",
        "      probas_train_lgbm = lgb_model.predict(df_train_cv[predictores])\n",
        "      probas_val_lgbm = lgb_model.predict(df_val_cv[predictores])\n",
        "\n",
        "      # Cálculo de Métricas\n",
        "      ## Clasificación\n",
        "      metric_train_cbtm = roc_auc_score(df_train_cv[target_class], probas_train_cbtm)\n",
        "      metric_val_cbtm = roc_auc_score(df_val_cv[target_class], probas_val_cbtm)\n",
        "\n",
        "      metric_train_lgbm = roc_auc_score(df_train_cv[target_class], probas_train_lgbm)\n",
        "      metric_val_lgbm = roc_auc_score(df_val_cv[target_class], probas_val_lgbm)\n",
        "\n",
        "      if df_val is not None:\n",
        "        probas_val_out_cbtm = cbt_model.predict_proba(df_val[predictores])[:, 1]\n",
        "        metric_val_out_cbtm = roc_auc_score(df_val[target_class], probas_val_out_cbtm)\n",
        "\n",
        "        probas_val_out_lgbm = lgb_model.predict(df_val[predictores])\n",
        "        metric_val_out_lgbm = roc_auc_score(df_val[target_class], probas_val_out_lgbm)\n",
        "\n",
        "      else:\n",
        "        probas_val_out_cbtm = np.zeros((1,1))\n",
        "        metric_val_out_cbtm = 0\n",
        "\n",
        "        probas_val_out_lgbm = np.zeros((1,1))\n",
        "        metric_val_out_lgbm = 0\n",
        "\n",
        "      # Cálculo de probabilidades en la base de Train y Validacion\n",
        "      df_probs_train.loc[valcv, \"prob_cbtm\"] = probas_val_cbtm\n",
        "      df_probs_train.loc[valcv, \"prob_lgbm\"] = probas_val_lgbm\n",
        "      df_probs_train.loc[valcv, \"FOLD\"] = \"FOLD_{0}\".format(i+1)\n",
        "\n",
        "      \n",
        "      df_probs_test[\"prob_cbtm_{}\".format(i)] = cbt_model.predict_proba(df_test[predictores])[:, 1]\n",
        "      df_probs_test[\"prob_lgbm_{}\".format(i)] = lgb_model.predict(df_test[predictores])\n",
        "\n",
        "      if df_val is not None:\n",
        "        df_probs_val[\"prob_cbtm_{}\".format(i)] = cbt_model.predict_proba(df_val[predictores])[:, 1]\n",
        "        df_probs_val[\"prob_lgbm_{}\".format(i)] = lgb_model.predict(df_val[predictores])\n",
        "\n",
        "        results_models.append({\"auc_train_cbtm\": metric_train_cbtm, \"auc_val_cbtm\": metric_val_cbtm, \"auc_val_out_cbtm\": metric_val_out_cbtm, ## CATBOOST\n",
        "                          \"auc_train_lgbm\": metric_train_lgbm, \"auc_val_lgbm\": metric_val_lgbm, \"auc_val_out_lgbm\": metric_val_out_lgbm, ## LIGHTGBM\n",
        "                          \"seed_val\": seed_val})\n",
        "        \n",
        "        print(\"AVG METRICS CLASSIFICATION\")\n",
        "        print(\"Mean Target:\\tTrain: {0},\\tVal In: {1},\\tVal Out: {2}\".format(round(df_train_cv[target_class].mean(),4), round(df_val_cv[target_class].mean(),4), round(df_val[target_class].mean(),4)))\n",
        "        print(\"Mean Probs:\\tTrain: {0},\\tVal In: {1},\\tVal Out: {2}\".format(round(np.mean(probas_train_cbtm),4), round(np.mean(probas_val_cbtm),4), round(np.mean(probas_val_out_cbtm),4)))\n",
        "        print(\"Std Probs:\\tTrain: {0},\\tVal In: {1},\\tVal Out: {2}\".format(round(np.std(probas_train_cbtm),4), round(np.std(probas_val_cbtm),4), round(np.std(probas_val_out_cbtm),4)))\n",
        "\n",
        "      else:\n",
        "\n",
        "        # Almacenar los resultados\n",
        "        results_models.append({\"auc_train_cbtm\": metric_train_cbtm, \"auc_val_cbtm\": metric_val_cbtm, ## CATBOOST\n",
        "                          \"auc_train_lgbm\": metric_train_lgbm, \"auc_val_lgbm\": metric_val_lgbm, ## LIGHTGBM\n",
        "                          \"seed_val\": seed_val})\n",
        "        \n",
        "        print(\"AVG METRICS CLASSIFICATION\")\n",
        "        print(\"Mean Target:\\tTrain: {0},\\tVal In: {1}\".format(round(df_train_cv[target_class].mean(),4), round(df_val_cv[target_class].mean(),4)))\n",
        "        print(\"Mean Probs:\\tTrain: {0},\\tVal In: {1}\".format(round(np.mean(probas_train_cbtm),4), round(np.mean(probas_val_cbtm),4)))\n",
        "        print(\"Std Probs:\\tTrain: {0},\\tVal In: {1}\".format(round(np.std(probas_train_cbtm),4), round(np.std(probas_val_cbtm),4)))\n",
        "        \n",
        "        \n",
        "      list_models_cv.append({\"cbtm_model\": cbt_model, \"lgbm_model\": lgb_model})\n",
        "      \n",
        "      print(\"CATBOOST REPORT\")\n",
        "      if df_val is not None:\n",
        "        df_prob_target_tmp = pd.DataFrame({\"prob\": probas_val_out_cbtm, \"target\": df_val[target_class]})\n",
        "      else:\n",
        "        df_prob_target_tmp = pd.DataFrame({\"prob\": probas_val_cbtm, \"target\": df_val_cv[target_class]})\n",
        "\n",
        "      df_prob_target_tmp = df_prob_target_tmp.groupby(pd.qcut(df_prob_target_tmp[\"prob\"], q=10)).agg({\"target\": [\"sum\", \"count\", \"mean\"]}).reset_index(drop=False)\n",
        "      df_prob_target_tmp.columns = [\"_\".join(c) if c[-1] != \"\" else c[0] for c in df_prob_target_tmp.columns]\n",
        "      df_prob_target_tmp[\"target_%\"] = round(df_prob_target_tmp[\"target_sum\"] * 100.0 / df_prob_target_tmp[\"target_sum\"].sum(), 2)\n",
        "      print(df_prob_target_tmp)\n",
        "      print(\"#\" * 500)\n",
        "\n",
        "      print(\"LIGHTGBM REPORT\")\n",
        "      if df_val is not None:\n",
        "        df_prob_target_tmp = pd.DataFrame({\"prob\": probas_val_out_lgbm, \"target\": df_val[target_class]})\n",
        "      else:\n",
        "        df_prob_target_tmp = pd.DataFrame({\"prob\": probas_val_lgbm, \"target\": df_val_cv[target_class]})\n",
        "\n",
        "      df_prob_target_tmp = df_prob_target_tmp.groupby(pd.qcut(df_prob_target_tmp[\"prob\"], q=10)).agg({\"target\": [\"sum\", \"count\", \"mean\"]}).reset_index(drop=False)\n",
        "      df_prob_target_tmp.columns = [\"_\".join(c) if c[-1] != \"\" else c[0] for c in df_prob_target_tmp.columns]\n",
        "      df_prob_target_tmp[\"target_%\"] = round(df_prob_target_tmp[\"target_sum\"] * 100.0 / df_prob_target_tmp[\"target_sum\"].sum(), 2)\n",
        "      print(df_prob_target_tmp)\n",
        "      print(\"#\" * 500)\n",
        "  \n",
        "  ##################################################################\n",
        "  ############# PARA ETAPA DE OPTIMIZACIÓN\n",
        "  ##################################################################\n",
        "\n",
        "  if df_val is not None:\n",
        "    df_probs_val[\"prob_avg_cbtm\"] = df_probs_val[[c for c in df_probs_val.columns if \"prob_cbtm\" in c]].mean(axis=1)\n",
        "    df_probs_val[\"prob_avg_lgbm\"] = df_probs_val[[c for c in df_probs_val.columns if \"prob_lgbm\" in c]].mean(axis=1)\n",
        "\n",
        "  df_probs_test[\"prob_avg_cbtm\"] = df_probs_test[[c for c in df_probs_test.columns if \"prob_cbtm\" in c]].mean(axis=1)\n",
        "  df_probs_test[\"prob_avg_lgbm\"] = df_probs_test[[c for c in df_probs_test.columns if \"prob_lgbm\" in c]].mean(axis=1)\n",
        "\n",
        "  \n",
        "  return results_models, list_models_cv, df_probs_train, df_probs_val, df_probs_test"
      ],
      "execution_count": 0,
      "outputs": []
    },
    {
      "cell_type": "markdown",
      "metadata": {
        "id": "BovtosoORvJw",
        "colab_type": "text"
      },
      "source": [
        "##### Adquisition Model"
      ]
    },
    {
      "cell_type": "code",
      "metadata": {
        "id": "3ckagkUycFvq",
        "colab_type": "code",
        "outputId": "0dfe8328-061d-4546-fb97-91b1f6cf6a10",
        "colab": {
          "base_uri": "https://localhost:8080/",
          "height": 1000
        }
      },
      "source": [
        "results_adqui, list_models_adqui, df_probs_train_adqui, df_probs_val_adqui, df_probs_test_adqui = model_with_cv(df_train, df_test, target_adqui, predictores, None)"
      ],
      "execution_count": 0,
      "outputs": [
        {
          "output_type": "stream",
          "text": [
            "Iteracion 0\n",
            "\t CLASIFICACIÓN\n",
            "\t\t 1. CATBOOST\n",
            "Learning rate set to 0.136028\n",
            "0:\tlearn: 0.6738970\ttest: 0.6724440\tbest: 0.6724440 (0)\ttotal: 18ms\tremaining: 18s\n",
            "200:\tlearn: 0.8061127\ttest: 0.7898562\tbest: 0.7898562 (200)\ttotal: 3.23s\tremaining: 12.8s\n",
            "400:\tlearn: 0.8208062\ttest: 0.7929595\tbest: 0.7929595 (400)\ttotal: 6.28s\tremaining: 9.38s\n",
            "600:\tlearn: 0.8325427\ttest: 0.7932473\tbest: 0.7933763 (512)\ttotal: 9.4s\tremaining: 6.24s\n",
            "800:\tlearn: 0.8430612\ttest: 0.7938000\tbest: 0.7938000 (800)\ttotal: 12.5s\tremaining: 3.1s\n",
            "999:\tlearn: 0.8527017\ttest: 0.7942081\tbest: 0.7942535 (984)\ttotal: 15.6s\tremaining: 0us\n",
            "bestTest = 0.7942535281\n",
            "bestIteration = 984\n",
            "Shrink model to first 985 iterations.\n",
            "\t\t 2. LIGHTGBM\n",
            "Training until validation scores don't improve for 100 rounds.\n",
            "[20]\ttraining's auc: 0.772556\tvalid_1's auc: 0.767041\n",
            "[40]\ttraining's auc: 0.78535\tvalid_1's auc: 0.776143\n",
            "[60]\ttraining's auc: 0.794884\tvalid_1's auc: 0.782244\n",
            "[80]\ttraining's auc: 0.801861\tvalid_1's auc: 0.78612\n",
            "[100]\ttraining's auc: 0.808026\tvalid_1's auc: 0.788486\n",
            "[120]\ttraining's auc: 0.813758\tvalid_1's auc: 0.790901\n",
            "[140]\ttraining's auc: 0.818168\tvalid_1's auc: 0.792072\n",
            "[160]\ttraining's auc: 0.822526\tvalid_1's auc: 0.793077\n",
            "[180]\ttraining's auc: 0.82644\tvalid_1's auc: 0.793617\n",
            "[200]\ttraining's auc: 0.830283\tvalid_1's auc: 0.794174\n",
            "[220]\ttraining's auc: 0.833427\tvalid_1's auc: 0.794803\n",
            "[240]\ttraining's auc: 0.836785\tvalid_1's auc: 0.79523\n",
            "[260]\ttraining's auc: 0.840017\tvalid_1's auc: 0.795451\n",
            "[280]\ttraining's auc: 0.843044\tvalid_1's auc: 0.795489\n",
            "[300]\ttraining's auc: 0.846033\tvalid_1's auc: 0.795657\n",
            "[320]\ttraining's auc: 0.848997\tvalid_1's auc: 0.795764\n",
            "[340]\ttraining's auc: 0.852045\tvalid_1's auc: 0.795807\n",
            "[360]\ttraining's auc: 0.854919\tvalid_1's auc: 0.795776\n",
            "[380]\ttraining's auc: 0.857332\tvalid_1's auc: 0.795826\n",
            "[400]\ttraining's auc: 0.859846\tvalid_1's auc: 0.796018\n",
            "[420]\ttraining's auc: 0.862337\tvalid_1's auc: 0.795911\n",
            "[440]\ttraining's auc: 0.865096\tvalid_1's auc: 0.795765\n",
            "[460]\ttraining's auc: 0.867409\tvalid_1's auc: 0.79576\n",
            "[480]\ttraining's auc: 0.86986\tvalid_1's auc: 0.795745\n",
            "[500]\ttraining's auc: 0.87198\tvalid_1's auc: 0.795858\n",
            "Early stopping, best iteration is:\n",
            "[406]\ttraining's auc: 0.860582\tvalid_1's auc: 0.796075\n",
            "AVG METRICS CLASSIFICATION\n",
            "Mean Target:\tTrain: 0.1245,\tVal In: 0.1245\n",
            "Mean Probs:\tTrain: 0.1245,\tVal In: 0.1236\n",
            "Std Probs:\tTrain: 0.1334,\tVal In: 0.1293\n",
            "CATBOOST REPORT\n",
            "                                prob  target_sum  ...  target_mean  target_%\n",
            "0  (-0.00036300000000000004, 0.0181]        39.0  ...     0.007839      0.63\n",
            "1                   (0.0181, 0.0288]       122.0  ...     0.024523      1.97\n",
            "2                   (0.0288, 0.0407]       150.0  ...     0.030151      2.42\n",
            "3                   (0.0407, 0.0554]       228.0  ...     0.045838      3.68\n",
            "4                   (0.0554, 0.0751]       334.0  ...     0.067136      5.39\n",
            "5                    (0.0751, 0.103]       457.0  ...     0.091859      7.38\n",
            "6                     (0.103, 0.143]       625.0  ...     0.125653     10.09\n",
            "7                     (0.143, 0.202]       910.0  ...     0.182915     14.69\n",
            "8                     (0.202, 0.297]      1249.0  ...     0.251055     20.16\n",
            "9                     (0.297, 0.913]      2081.0  ...     0.418291     33.59\n",
            "\n",
            "[10 rows x 5 columns]\n",
            "####################################################################################################################################################################################################################################################################################################################################################################################################################################################################################################################\n",
            "LIGHTGBM REPORT\n",
            "                  prob  target_sum  target_count  target_mean   target_%\n",
            "0  (-0.000459, 0.0189]        24.0          4975     0.004824   0.390000\n",
            "1     (0.0189, 0.0298]       120.0          4975     0.024121   1.940000\n",
            "2     (0.0298, 0.0413]       152.0          4975     0.030553   2.450000\n",
            "3      (0.0413, 0.056]       219.0          4974     0.044029   3.540000\n",
            "4      (0.056, 0.0755]       316.0          4975     0.063518   5.100000\n",
            "5      (0.0755, 0.102]       478.0          4975     0.096080   7.720000\n",
            "6       (0.102, 0.143]       636.0          4974     0.127865  10.270000\n",
            "7       (0.143, 0.205]       916.0          4975     0.184121  14.790000\n",
            "8       (0.205, 0.303]      1259.0          4975     0.253065  20.320000\n",
            "9         (0.303, 0.9]      2075.0          4975     0.417085  33.490002\n",
            "####################################################################################################################################################################################################################################################################################################################################################################################################################################################################################################################\n",
            "Iteracion 1\n",
            "\t CLASIFICACIÓN\n",
            "\t\t 1. CATBOOST\n",
            "Learning rate set to 0.136028\n",
            "0:\tlearn: 0.6817787\ttest: 0.6842477\tbest: 0.6842477 (0)\ttotal: 18.9ms\tremaining: 18.8s\n",
            "200:\tlearn: 0.8066425\ttest: 0.7889428\tbest: 0.7889428 (200)\ttotal: 3.22s\tremaining: 12.8s\n",
            "400:\tlearn: 0.8213158\ttest: 0.7914969\tbest: 0.7914969 (400)\ttotal: 6.36s\tremaining: 9.49s\n",
            "600:\tlearn: 0.8338143\ttest: 0.7927272\tbest: 0.7927361 (593)\ttotal: 9.62s\tremaining: 6.39s\n",
            "800:\tlearn: 0.8448578\ttest: 0.7929002\tbest: 0.7930752 (765)\ttotal: 13s\tremaining: 3.22s\n",
            "999:\tlearn: 0.8548973\ttest: 0.7928663\tbest: 0.7930752 (765)\ttotal: 16.3s\tremaining: 0us\n",
            "bestTest = 0.7930752337\n",
            "bestIteration = 765\n",
            "Shrink model to first 766 iterations.\n",
            "\t\t 2. LIGHTGBM\n",
            "Training until validation scores don't improve for 100 rounds.\n",
            "[20]\ttraining's auc: 0.77285\tvalid_1's auc: 0.763199\n",
            "[40]\ttraining's auc: 0.785403\tvalid_1's auc: 0.773303\n",
            "[60]\ttraining's auc: 0.794386\tvalid_1's auc: 0.779392\n",
            "[80]\ttraining's auc: 0.801656\tvalid_1's auc: 0.783294\n",
            "[100]\ttraining's auc: 0.80773\tvalid_1's auc: 0.785967\n",
            "[120]\ttraining's auc: 0.813274\tvalid_1's auc: 0.787794\n",
            "[140]\ttraining's auc: 0.81803\tvalid_1's auc: 0.789215\n",
            "[160]\ttraining's auc: 0.822306\tvalid_1's auc: 0.790267\n",
            "[180]\ttraining's auc: 0.82626\tvalid_1's auc: 0.791198\n",
            "[200]\ttraining's auc: 0.829955\tvalid_1's auc: 0.791845\n",
            "[220]\ttraining's auc: 0.833267\tvalid_1's auc: 0.792268\n",
            "[240]\ttraining's auc: 0.836548\tvalid_1's auc: 0.792624\n",
            "[260]\ttraining's auc: 0.83995\tvalid_1's auc: 0.792732\n",
            "[280]\ttraining's auc: 0.842758\tvalid_1's auc: 0.793022\n",
            "[300]\ttraining's auc: 0.845356\tvalid_1's auc: 0.792949\n",
            "[320]\ttraining's auc: 0.847905\tvalid_1's auc: 0.792952\n",
            "[340]\ttraining's auc: 0.850681\tvalid_1's auc: 0.793021\n",
            "[360]\ttraining's auc: 0.853746\tvalid_1's auc: 0.792951\n",
            "[380]\ttraining's auc: 0.856424\tvalid_1's auc: 0.793038\n",
            "[400]\ttraining's auc: 0.858851\tvalid_1's auc: 0.792963\n",
            "Early stopping, best iteration is:\n",
            "[315]\ttraining's auc: 0.847212\tvalid_1's auc: 0.793052\n",
            "AVG METRICS CLASSIFICATION\n",
            "Mean Target:\tTrain: 0.1245,\tVal In: 0.1245\n",
            "Mean Probs:\tTrain: 0.1244,\tVal In: 0.1229\n",
            "Std Probs:\tTrain: 0.1316,\tVal In: 0.1267\n",
            "CATBOOST REPORT\n",
            "                 prob  target_sum  target_count  target_mean  target_%\n",
            "0  (-0.00034, 0.0177]        44.0          4975     0.008844      0.71\n",
            "1    (0.0177, 0.0288]       112.0          4975     0.022513      1.81\n",
            "2    (0.0288, 0.0408]       169.0          4975     0.033970      2.73\n",
            "3     (0.0408, 0.056]       231.0          4974     0.046441      3.73\n",
            "4     (0.056, 0.0759]       349.0          4975     0.070151      5.63\n",
            "5     (0.0759, 0.104]       430.0          4975     0.086432      6.94\n",
            "6      (0.104, 0.143]       622.0          4974     0.125050     10.04\n",
            "7      (0.143, 0.201]       887.0          4975     0.178291     14.32\n",
            "8      (0.201, 0.296]      1270.0          4975     0.255276     20.50\n",
            "9      (0.296, 0.928]      2081.0          4975     0.418291     33.59\n",
            "####################################################################################################################################################################################################################################################################################################################################################################################################################################################################################################################\n",
            "LIGHTGBM REPORT\n",
            "                                prob  target_sum  ...  target_mean  target_%\n",
            "0  (-0.00035800000000000003, 0.0192]        35.0  ...     0.007035      0.56\n",
            "1                   (0.0192, 0.0302]       127.0  ...     0.025528      2.05\n",
            "2                   (0.0302, 0.0418]       158.0  ...     0.031759      2.55\n",
            "3                   (0.0418, 0.0564]       243.0  ...     0.048854      3.92\n",
            "4                   (0.0564, 0.0755]       336.0  ...     0.067538      5.42\n",
            "5                    (0.0755, 0.103]       441.0  ...     0.088643      7.12\n",
            "6                     (0.103, 0.143]       622.0  ...     0.125050     10.04\n",
            "7                     (0.143, 0.203]       873.0  ...     0.175477     14.09\n",
            "8                     (0.203, 0.298]      1300.0  ...     0.261307     20.98\n",
            "9                     (0.298, 0.879]      2060.0  ...     0.414070     33.25\n",
            "\n",
            "[10 rows x 5 columns]\n",
            "####################################################################################################################################################################################################################################################################################################################################################################################################################################################################################################################\n",
            "Iteracion 2\n",
            "\t CLASIFICACIÓN\n",
            "\t\t 1. CATBOOST\n",
            "Learning rate set to 0.136028\n",
            "0:\tlearn: 0.6837431\ttest: 0.6818743\tbest: 0.6818743 (0)\ttotal: 19.3ms\tremaining: 19.3s\n",
            "200:\tlearn: 0.8083526\ttest: 0.7857831\tbest: 0.7857875 (198)\ttotal: 3.37s\tremaining: 13.4s\n",
            "400:\tlearn: 0.8227994\ttest: 0.7881845\tbest: 0.7881904 (398)\ttotal: 6.57s\tremaining: 9.82s\n",
            "600:\tlearn: 0.8341670\ttest: 0.7890763\tbest: 0.7891244 (588)\ttotal: 9.61s\tremaining: 6.38s\n",
            "800:\tlearn: 0.8446952\ttest: 0.7892810\tbest: 0.7893493 (787)\ttotal: 12.7s\tremaining: 3.16s\n",
            "999:\tlearn: 0.8542905\ttest: 0.7894422\tbest: 0.7894621 (994)\ttotal: 15.8s\tremaining: 0us\n",
            "bestTest = 0.7894620597\n",
            "bestIteration = 994\n",
            "Shrink model to first 995 iterations.\n",
            "\t\t 2. LIGHTGBM\n",
            "Training until validation scores don't improve for 100 rounds.\n",
            "[20]\ttraining's auc: 0.771955\tvalid_1's auc: 0.761687\n",
            "[40]\ttraining's auc: 0.785538\tvalid_1's auc: 0.773138\n",
            "[60]\ttraining's auc: 0.794933\tvalid_1's auc: 0.779087\n",
            "[80]\ttraining's auc: 0.8024\tvalid_1's auc: 0.783093\n",
            "[100]\ttraining's auc: 0.808431\tvalid_1's auc: 0.785353\n",
            "[120]\ttraining's auc: 0.813851\tvalid_1's auc: 0.787345\n",
            "[140]\ttraining's auc: 0.818432\tvalid_1's auc: 0.788616\n",
            "[160]\ttraining's auc: 0.822919\tvalid_1's auc: 0.789605\n",
            "[180]\ttraining's auc: 0.826744\tvalid_1's auc: 0.789944\n",
            "[200]\ttraining's auc: 0.830488\tvalid_1's auc: 0.790301\n",
            "[220]\ttraining's auc: 0.834029\tvalid_1's auc: 0.79112\n",
            "[240]\ttraining's auc: 0.837259\tvalid_1's auc: 0.791393\n",
            "[260]\ttraining's auc: 0.840419\tvalid_1's auc: 0.791639\n",
            "[280]\ttraining's auc: 0.843598\tvalid_1's auc: 0.79207\n",
            "[300]\ttraining's auc: 0.846105\tvalid_1's auc: 0.792343\n",
            "[320]\ttraining's auc: 0.848598\tvalid_1's auc: 0.792394\n",
            "[340]\ttraining's auc: 0.851502\tvalid_1's auc: 0.792554\n",
            "[360]\ttraining's auc: 0.853995\tvalid_1's auc: 0.792589\n",
            "[380]\ttraining's auc: 0.856128\tvalid_1's auc: 0.792511\n",
            "[400]\ttraining's auc: 0.8586\tvalid_1's auc: 0.792353\n",
            "[420]\ttraining's auc: 0.860913\tvalid_1's auc: 0.792281\n",
            "[440]\ttraining's auc: 0.863327\tvalid_1's auc: 0.792279\n",
            "Early stopping, best iteration is:\n",
            "[358]\ttraining's auc: 0.853736\tvalid_1's auc: 0.792627\n",
            "AVG METRICS CLASSIFICATION\n",
            "Mean Target:\tTrain: 0.1245,\tVal In: 0.1245\n",
            "Mean Probs:\tTrain: 0.1245,\tVal In: 0.1226\n",
            "Std Probs:\tTrain: 0.1343,\tVal In: 0.1286\n",
            "CATBOOST REPORT\n",
            "                  prob  target_sum  target_count  target_mean  target_%\n",
            "0  (-0.000236, 0.0173]        42.0          4975     0.008442      0.68\n",
            "1     (0.0173, 0.0283]       120.0          4975     0.024121      1.94\n",
            "2     (0.0283, 0.0399]       200.0          4974     0.040209      3.23\n",
            "3     (0.0399, 0.0545]       204.0          4975     0.041005      3.29\n",
            "4     (0.0545, 0.0737]       317.0          4974     0.063731      5.12\n",
            "5      (0.0737, 0.101]       508.0          4975     0.102111      8.20\n",
            "6       (0.101, 0.141]       627.0          4974     0.126055     10.12\n",
            "7         (0.141, 0.2]       868.0          4975     0.174472     14.01\n",
            "8           (0.2, 0.3]      1233.0          4974     0.247889     19.91\n",
            "9         (0.3, 0.935]      2075.0          4975     0.417085     33.50\n",
            "####################################################################################################################################################################################################################################################################################################################################################################################################################################################################################################################\n",
            "LIGHTGBM REPORT\n",
            "                               prob  target_sum  ...  target_mean   target_%\n",
            "0  (-0.00030000000000000003, 0.019]        40.0  ...     0.008040   0.650000\n",
            "1                   (0.019, 0.0304]       113.0  ...     0.022714   1.820000\n",
            "2                   (0.0304, 0.042]       158.0  ...     0.031765   2.550000\n",
            "3                   (0.042, 0.0563]       233.0  ...     0.046834   3.760000\n",
            "4                  (0.0563, 0.0755]       329.0  ...     0.066144   5.310000\n",
            "5                   (0.0755, 0.102]       489.0  ...     0.098291   7.890000\n",
            "6                    (0.102, 0.142]       608.0  ...     0.122236   9.820000\n",
            "7                    (0.142, 0.204]       906.0  ...     0.182111  14.630000\n",
            "8                    (0.204, 0.301]      1224.0  ...     0.246080  19.760000\n",
            "9                    (0.301, 0.885]      2094.0  ...     0.420905  33.810001\n",
            "\n",
            "[10 rows x 5 columns]\n",
            "####################################################################################################################################################################################################################################################################################################################################################################################################################################################################################################################\n",
            "Iteracion 3\n",
            "\t CLASIFICACIÓN\n",
            "\t\t 1. CATBOOST\n",
            "Learning rate set to 0.136028\n",
            "0:\tlearn: 0.6816629\ttest: 0.6841440\tbest: 0.6841440 (0)\ttotal: 18.2ms\tremaining: 18.2s\n",
            "200:\tlearn: 0.8059383\ttest: 0.7942470\tbest: 0.7942602 (199)\ttotal: 3.24s\tremaining: 12.9s\n",
            "400:\tlearn: 0.8208430\ttest: 0.7970392\tbest: 0.7970392 (400)\ttotal: 6.32s\tremaining: 9.44s\n",
            "600:\tlearn: 0.8325147\ttest: 0.7975296\tbest: 0.7975627 (593)\ttotal: 9.42s\tremaining: 6.26s\n",
            "800:\tlearn: 0.8435412\ttest: 0.7976079\tbest: 0.7977658 (652)\ttotal: 12.6s\tremaining: 3.13s\n",
            "999:\tlearn: 0.8527697\ttest: 0.7972742\tbest: 0.7978471 (827)\ttotal: 15.6s\tremaining: 0us\n",
            "bestTest = 0.7978470623\n",
            "bestIteration = 827\n",
            "Shrink model to first 828 iterations.\n",
            "\t\t 2. LIGHTGBM\n",
            "Training until validation scores don't improve for 100 rounds.\n",
            "[20]\ttraining's auc: 0.771095\tvalid_1's auc: 0.770658\n",
            "[40]\ttraining's auc: 0.783874\tvalid_1's auc: 0.77972\n",
            "[60]\ttraining's auc: 0.793561\tvalid_1's auc: 0.786444\n",
            "[80]\ttraining's auc: 0.800896\tvalid_1's auc: 0.790044\n",
            "[100]\ttraining's auc: 0.806909\tvalid_1's auc: 0.792923\n",
            "[120]\ttraining's auc: 0.81266\tvalid_1's auc: 0.794537\n",
            "[140]\ttraining's auc: 0.81755\tvalid_1's auc: 0.796229\n",
            "[160]\ttraining's auc: 0.82142\tvalid_1's auc: 0.796864\n",
            "[180]\ttraining's auc: 0.825026\tvalid_1's auc: 0.797777\n",
            "[200]\ttraining's auc: 0.82862\tvalid_1's auc: 0.798301\n",
            "[220]\ttraining's auc: 0.832594\tvalid_1's auc: 0.79832\n",
            "[240]\ttraining's auc: 0.836043\tvalid_1's auc: 0.798925\n",
            "[260]\ttraining's auc: 0.839404\tvalid_1's auc: 0.79922\n",
            "[280]\ttraining's auc: 0.842582\tvalid_1's auc: 0.799166\n",
            "[300]\ttraining's auc: 0.845751\tvalid_1's auc: 0.79933\n",
            "[320]\ttraining's auc: 0.84829\tvalid_1's auc: 0.799821\n",
            "[340]\ttraining's auc: 0.850743\tvalid_1's auc: 0.799942\n",
            "[360]\ttraining's auc: 0.853519\tvalid_1's auc: 0.800113\n",
            "[380]\ttraining's auc: 0.856107\tvalid_1's auc: 0.800157\n",
            "[400]\ttraining's auc: 0.858574\tvalid_1's auc: 0.800212\n",
            "[420]\ttraining's auc: 0.861339\tvalid_1's auc: 0.800329\n",
            "[440]\ttraining's auc: 0.863736\tvalid_1's auc: 0.800393\n",
            "[460]\ttraining's auc: 0.866138\tvalid_1's auc: 0.800637\n",
            "[480]\ttraining's auc: 0.868524\tvalid_1's auc: 0.800729\n",
            "[500]\ttraining's auc: 0.870787\tvalid_1's auc: 0.800595\n",
            "[520]\ttraining's auc: 0.872703\tvalid_1's auc: 0.800769\n",
            "[540]\ttraining's auc: 0.874868\tvalid_1's auc: 0.800749\n",
            "[560]\ttraining's auc: 0.877052\tvalid_1's auc: 0.800844\n",
            "[580]\ttraining's auc: 0.878966\tvalid_1's auc: 0.800933\n",
            "[600]\ttraining's auc: 0.881131\tvalid_1's auc: 0.800756\n",
            "[620]\ttraining's auc: 0.883299\tvalid_1's auc: 0.800799\n",
            "[640]\ttraining's auc: 0.885215\tvalid_1's auc: 0.800774\n",
            "[660]\ttraining's auc: 0.886904\tvalid_1's auc: 0.800621\n",
            "[680]\ttraining's auc: 0.88844\tvalid_1's auc: 0.800584\n",
            "Early stopping, best iteration is:\n",
            "[582]\ttraining's auc: 0.879172\tvalid_1's auc: 0.80099\n",
            "AVG METRICS CLASSIFICATION\n",
            "Mean Target:\tTrain: 0.1245,\tVal In: 0.1245\n",
            "Mean Probs:\tTrain: 0.1245,\tVal In: 0.124\n",
            "Std Probs:\tTrain: 0.1311,\tVal In: 0.1276\n",
            "CATBOOST REPORT\n",
            "                               prob  target_sum  ...  target_mean   target_%\n",
            "0  (-7.300000000000004e-05, 0.0183]        46.0  ...     0.009246   0.740000\n",
            "1                  (0.0183, 0.0293]       111.0  ...     0.022312   1.790000\n",
            "2                  (0.0293, 0.0414]       171.0  ...     0.034379   2.760000\n",
            "3                  (0.0414, 0.0565]       209.0  ...     0.042010   3.370000\n",
            "4                  (0.0565, 0.0762]       324.0  ...     0.065139   5.230000\n",
            "5                   (0.0762, 0.105]       404.0  ...     0.081206   6.520000\n",
            "6                    (0.105, 0.144]       641.0  ...     0.128870  10.350000\n",
            "7                    (0.144, 0.202]       881.0  ...     0.177085  14.220000\n",
            "8                    (0.202, 0.298]      1305.0  ...     0.262364  21.070000\n",
            "9                    (0.298, 0.918]      2102.0  ...     0.422513  33.939999\n",
            "\n",
            "[10 rows x 5 columns]\n",
            "####################################################################################################################################################################################################################################################################################################################################################################################################################################################################################################################\n",
            "LIGHTGBM REPORT\n",
            "                  prob  target_sum  target_count  target_mean   target_%\n",
            "0  (-0.000794, 0.0169]        35.0          4975     0.007035   0.570000\n",
            "1     (0.0169, 0.0281]       112.0          4975     0.022513   1.810000\n",
            "2     (0.0281, 0.0402]       166.0          4974     0.033374   2.680000\n",
            "3     (0.0402, 0.0549]       240.0          4975     0.048241   3.870000\n",
            "4     (0.0549, 0.0747]       284.0          4974     0.057097   4.590000\n",
            "5      (0.0747, 0.103]       422.0          4975     0.084824   6.810000\n",
            "6       (0.103, 0.143]       618.0          4974     0.124246   9.980000\n",
            "7       (0.143, 0.205]       872.0          4975     0.175276  14.080000\n",
            "8       (0.205, 0.306]      1316.0          4974     0.264576  21.250000\n",
            "9       (0.306, 0.906]      2129.0          4975     0.427940  34.369999\n",
            "####################################################################################################################################################################################################################################################################################################################################################################################################################################################################################################################\n",
            "Iteracion 4\n",
            "\t CLASIFICACIÓN\n",
            "\t\t 1. CATBOOST\n",
            "Learning rate set to 0.136028\n",
            "0:\tlearn: 0.6903322\ttest: 0.6894694\tbest: 0.6894694 (0)\ttotal: 18ms\tremaining: 18s\n",
            "200:\tlearn: 0.8066220\ttest: 0.7919120\tbest: 0.7919120 (200)\ttotal: 3.46s\tremaining: 13.8s\n",
            "400:\tlearn: 0.8216121\ttest: 0.7952203\tbest: 0.7952209 (398)\ttotal: 6.8s\tremaining: 10.2s\n",
            "600:\tlearn: 0.8337537\ttest: 0.7961086\tbest: 0.7961550 (598)\ttotal: 10.1s\tremaining: 6.72s\n",
            "800:\tlearn: 0.8440017\ttest: 0.7962909\tbest: 0.7966076 (755)\ttotal: 13.4s\tremaining: 3.33s\n",
            "999:\tlearn: 0.8537877\ttest: 0.7963064\tbest: 0.7966076 (755)\ttotal: 16.6s\tremaining: 0us\n",
            "bestTest = 0.7966076434\n",
            "bestIteration = 755\n",
            "Shrink model to first 756 iterations.\n",
            "\t\t 2. LIGHTGBM\n",
            "Training until validation scores don't improve for 100 rounds.\n",
            "[20]\ttraining's auc: 0.773055\tvalid_1's auc: 0.767382\n",
            "[40]\ttraining's auc: 0.784897\tvalid_1's auc: 0.777496\n",
            "[60]\ttraining's auc: 0.794161\tvalid_1's auc: 0.783858\n",
            "[80]\ttraining's auc: 0.801558\tvalid_1's auc: 0.78784\n",
            "[100]\ttraining's auc: 0.807638\tvalid_1's auc: 0.79023\n",
            "[120]\ttraining's auc: 0.812299\tvalid_1's auc: 0.791994\n",
            "[140]\ttraining's auc: 0.816978\tvalid_1's auc: 0.793349\n",
            "[160]\ttraining's auc: 0.821386\tvalid_1's auc: 0.794282\n",
            "[180]\ttraining's auc: 0.825063\tvalid_1's auc: 0.795131\n",
            "[200]\ttraining's auc: 0.82898\tvalid_1's auc: 0.795783\n",
            "[220]\ttraining's auc: 0.832218\tvalid_1's auc: 0.796349\n",
            "[240]\ttraining's auc: 0.835773\tvalid_1's auc: 0.796671\n",
            "[260]\ttraining's auc: 0.838957\tvalid_1's auc: 0.796609\n",
            "[280]\ttraining's auc: 0.841658\tvalid_1's auc: 0.796941\n",
            "[300]\ttraining's auc: 0.844354\tvalid_1's auc: 0.796813\n",
            "[320]\ttraining's auc: 0.847437\tvalid_1's auc: 0.796778\n",
            "[340]\ttraining's auc: 0.850189\tvalid_1's auc: 0.796756\n",
            "[360]\ttraining's auc: 0.852669\tvalid_1's auc: 0.796912\n",
            "[380]\ttraining's auc: 0.855569\tvalid_1's auc: 0.797034\n",
            "[400]\ttraining's auc: 0.857987\tvalid_1's auc: 0.797168\n",
            "[420]\ttraining's auc: 0.86076\tvalid_1's auc: 0.797211\n",
            "[440]\ttraining's auc: 0.862627\tvalid_1's auc: 0.797112\n",
            "[460]\ttraining's auc: 0.865274\tvalid_1's auc: 0.797364\n",
            "[480]\ttraining's auc: 0.867298\tvalid_1's auc: 0.797365\n",
            "[500]\ttraining's auc: 0.869723\tvalid_1's auc: 0.7974\n",
            "[520]\ttraining's auc: 0.871853\tvalid_1's auc: 0.797347\n",
            "[540]\ttraining's auc: 0.873756\tvalid_1's auc: 0.797529\n",
            "[560]\ttraining's auc: 0.875704\tvalid_1's auc: 0.797401\n",
            "[580]\ttraining's auc: 0.877985\tvalid_1's auc: 0.797388\n",
            "[600]\ttraining's auc: 0.880248\tvalid_1's auc: 0.79721\n",
            "[620]\ttraining's auc: 0.882325\tvalid_1's auc: 0.797228\n",
            "[640]\ttraining's auc: 0.88407\tvalid_1's auc: 0.797338\n",
            "Early stopping, best iteration is:\n",
            "[549]\ttraining's auc: 0.874608\tvalid_1's auc: 0.797567\n",
            "AVG METRICS CLASSIFICATION\n",
            "Mean Target:\tTrain: 0.1245,\tVal In: 0.1245\n",
            "Mean Probs:\tTrain: 0.1245,\tVal In: 0.124\n",
            "Std Probs:\tTrain: 0.1303,\tVal In: 0.1272\n",
            "CATBOOST REPORT\n",
            "                                prob  target_sum  ...  target_mean   target_%\n",
            "0  (-0.00014500000000000006, 0.0182]        43.0  ...     0.008643   0.690000\n",
            "1                   (0.0182, 0.0293]       110.0  ...     0.022111   1.780000\n",
            "2                   (0.0293, 0.0414]       178.0  ...     0.035786   2.870000\n",
            "3                   (0.0414, 0.0565]       235.0  ...     0.047236   3.790000\n",
            "4                   (0.0565, 0.0763]       332.0  ...     0.066747   5.360000\n",
            "5                    (0.0763, 0.105]       400.0  ...     0.080402   6.460000\n",
            "6                     (0.105, 0.145]       610.0  ...     0.122638   9.850000\n",
            "7                     (0.145, 0.203]       846.0  ...     0.170050  13.660000\n",
            "8                     (0.203, 0.299]      1328.0  ...     0.266988  21.440001\n",
            "9                     (0.299, 0.926]      2112.0  ...     0.424523  34.099998\n",
            "\n",
            "[10 rows x 5 columns]\n",
            "####################################################################################################################################################################################################################################################################################################################################################################################################################################################################################################################\n",
            "LIGHTGBM REPORT\n",
            "                  prob  target_sum  target_count  target_mean   target_%\n",
            "0  (-0.000789, 0.0168]        34.0          4975     0.006834   0.550000\n",
            "1     (0.0168, 0.0281]       123.0          4975     0.024724   1.990000\n",
            "2     (0.0281, 0.0401]       164.0          4974     0.032971   2.650000\n",
            "3     (0.0401, 0.0543]       251.0          4975     0.050452   4.050000\n",
            "4      (0.0543, 0.074]       321.0          4974     0.064536   5.180000\n",
            "5       (0.074, 0.102]       402.0          4975     0.080804   6.490000\n",
            "6       (0.102, 0.143]       617.0          4974     0.124045   9.960000\n",
            "7       (0.143, 0.206]       858.0          4975     0.172462  13.850000\n",
            "8       (0.206, 0.306]      1303.0          4974     0.261962  21.040001\n",
            "9       (0.306, 0.927]      2121.0          4975     0.426332  34.240002\n",
            "####################################################################################################################################################################################################################################################################################################################################################################################################################################################################################################################\n"
          ],
          "name": "stdout"
        }
      ]
    },
    {
      "cell_type": "code",
      "metadata": {
        "id": "nJSUI8cKdtqD",
        "colab_type": "code",
        "outputId": "90ed6ead-005f-4b4b-f4ca-f8a3ad912ad9",
        "colab": {
          "base_uri": "https://localhost:8080/",
          "height": 34
        }
      },
      "source": [
        "df_probs_test_adqui.shape"
      ],
      "execution_count": 0,
      "outputs": [
        {
          "output_type": "execute_result",
          "data": {
            "text/plain": [
              "(142616, 13)"
            ]
          },
          "metadata": {
            "tags": []
          },
          "execution_count": 27
        }
      ]
    },
    {
      "cell_type": "code",
      "metadata": {
        "colab_type": "code",
        "id": "G-wCTK4uracR",
        "colab": {}
      },
      "source": [
        "#results_adqui, list_models_adqui, df_probs_train_adqui, df_probs_val_adqui, df_probs_test_adqui = model_with_cv(df_train, df_test, target_adqui, predictores, None)"
      ],
      "execution_count": 0,
      "outputs": []
    },
    {
      "cell_type": "code",
      "metadata": {
        "id": "6-1xl2-rSiQV",
        "colab_type": "code",
        "outputId": "881f55db-fae5-4349-d96a-1cf6ae8f3891",
        "colab": {
          "base_uri": "https://localhost:8080/",
          "height": 204
        }
      },
      "source": [
        "# First Version\n",
        "pd.DataFrame(results_adqui)"
      ],
      "execution_count": 0,
      "outputs": [
        {
          "output_type": "execute_result",
          "data": {
            "text/html": [
              "<div>\n",
              "<style scoped>\n",
              "    .dataframe tbody tr th:only-of-type {\n",
              "        vertical-align: middle;\n",
              "    }\n",
              "\n",
              "    .dataframe tbody tr th {\n",
              "        vertical-align: top;\n",
              "    }\n",
              "\n",
              "    .dataframe thead th {\n",
              "        text-align: right;\n",
              "    }\n",
              "</style>\n",
              "<table border=\"1\" class=\"dataframe\">\n",
              "  <thead>\n",
              "    <tr style=\"text-align: right;\">\n",
              "      <th></th>\n",
              "      <th>auc_train_cbtm</th>\n",
              "      <th>auc_val_cbtm</th>\n",
              "      <th>auc_train_lgbm</th>\n",
              "      <th>auc_val_lgbm</th>\n",
              "      <th>seed_val</th>\n",
              "    </tr>\n",
              "  </thead>\n",
              "  <tbody>\n",
              "    <tr>\n",
              "      <th>0</th>\n",
              "      <td>0.842622</td>\n",
              "      <td>0.794255</td>\n",
              "      <td>0.860582</td>\n",
              "      <td>0.796075</td>\n",
              "      <td>41</td>\n",
              "    </tr>\n",
              "    <tr>\n",
              "      <th>1</th>\n",
              "      <td>0.846026</td>\n",
              "      <td>0.792608</td>\n",
              "      <td>0.847212</td>\n",
              "      <td>0.793052</td>\n",
              "      <td>41</td>\n",
              "    </tr>\n",
              "    <tr>\n",
              "      <th>2</th>\n",
              "      <td>0.847536</td>\n",
              "      <td>0.790017</td>\n",
              "      <td>0.853736</td>\n",
              "      <td>0.792627</td>\n",
              "      <td>41</td>\n",
              "    </tr>\n",
              "    <tr>\n",
              "      <th>3</th>\n",
              "      <td>0.850533</td>\n",
              "      <td>0.797989</td>\n",
              "      <td>0.879172</td>\n",
              "      <td>0.800990</td>\n",
              "      <td>41</td>\n",
              "    </tr>\n",
              "    <tr>\n",
              "      <th>4</th>\n",
              "      <td>0.841775</td>\n",
              "      <td>0.796608</td>\n",
              "      <td>0.874608</td>\n",
              "      <td>0.797567</td>\n",
              "      <td>41</td>\n",
              "    </tr>\n",
              "  </tbody>\n",
              "</table>\n",
              "</div>"
            ],
            "text/plain": [
              "   auc_train_cbtm  auc_val_cbtm  auc_train_lgbm  auc_val_lgbm  seed_val\n",
              "0        0.842622      0.794255        0.860582      0.796075        41\n",
              "1        0.846026      0.792608        0.847212      0.793052        41\n",
              "2        0.847536      0.790017        0.853736      0.792627        41\n",
              "3        0.850533      0.797989        0.879172      0.800990        41\n",
              "4        0.841775      0.796608        0.874608      0.797567        41"
            ]
          },
          "metadata": {
            "tags": []
          },
          "execution_count": 27
        }
      ]
    },
    {
      "cell_type": "code",
      "metadata": {
        "id": "ybqTpmozhHSQ",
        "colab_type": "code",
        "outputId": "632b87a7-0de3-4d70-e9ae-dfcf2f6b879a",
        "colab": {
          "base_uri": "https://localhost:8080/",
          "height": 204
        }
      },
      "source": [
        "# Second Version\n",
        "pd.DataFrame(results_adqui)"
      ],
      "execution_count": 0,
      "outputs": [
        {
          "output_type": "execute_result",
          "data": {
            "text/html": [
              "<div>\n",
              "<style scoped>\n",
              "    .dataframe tbody tr th:only-of-type {\n",
              "        vertical-align: middle;\n",
              "    }\n",
              "\n",
              "    .dataframe tbody tr th {\n",
              "        vertical-align: top;\n",
              "    }\n",
              "\n",
              "    .dataframe thead th {\n",
              "        text-align: right;\n",
              "    }\n",
              "</style>\n",
              "<table border=\"1\" class=\"dataframe\">\n",
              "  <thead>\n",
              "    <tr style=\"text-align: right;\">\n",
              "      <th></th>\n",
              "      <th>auc_train_cbtm</th>\n",
              "      <th>auc_val_cbtm</th>\n",
              "      <th>auc_train_lgbm</th>\n",
              "      <th>auc_val_lgbm</th>\n",
              "      <th>seed_val</th>\n",
              "    </tr>\n",
              "  </thead>\n",
              "  <tbody>\n",
              "    <tr>\n",
              "      <th>0</th>\n",
              "      <td>0.852062</td>\n",
              "      <td>0.794254</td>\n",
              "      <td>0.860582</td>\n",
              "      <td>0.796075</td>\n",
              "      <td>41</td>\n",
              "    </tr>\n",
              "    <tr>\n",
              "      <th>1</th>\n",
              "      <td>0.842768</td>\n",
              "      <td>0.793075</td>\n",
              "      <td>0.847212</td>\n",
              "      <td>0.793052</td>\n",
              "      <td>41</td>\n",
              "    </tr>\n",
              "    <tr>\n",
              "      <th>2</th>\n",
              "      <td>0.854110</td>\n",
              "      <td>0.789462</td>\n",
              "      <td>0.853736</td>\n",
              "      <td>0.792627</td>\n",
              "      <td>41</td>\n",
              "    </tr>\n",
              "    <tr>\n",
              "      <th>3</th>\n",
              "      <td>0.844817</td>\n",
              "      <td>0.797847</td>\n",
              "      <td>0.879172</td>\n",
              "      <td>0.800990</td>\n",
              "      <td>41</td>\n",
              "    </tr>\n",
              "    <tr>\n",
              "      <th>4</th>\n",
              "      <td>0.841775</td>\n",
              "      <td>0.796608</td>\n",
              "      <td>0.874608</td>\n",
              "      <td>0.797567</td>\n",
              "      <td>41</td>\n",
              "    </tr>\n",
              "  </tbody>\n",
              "</table>\n",
              "</div>"
            ],
            "text/plain": [
              "   auc_train_cbtm  auc_val_cbtm  auc_train_lgbm  auc_val_lgbm  seed_val\n",
              "0        0.852062      0.794254        0.860582      0.796075        41\n",
              "1        0.842768      0.793075        0.847212      0.793052        41\n",
              "2        0.854110      0.789462        0.853736      0.792627        41\n",
              "3        0.844817      0.797847        0.879172      0.800990        41\n",
              "4        0.841775      0.796608        0.874608      0.797567        41"
            ]
          },
          "metadata": {
            "tags": []
          },
          "execution_count": 28
        }
      ]
    },
    {
      "cell_type": "code",
      "metadata": {
        "id": "06FB60ZlB2nf",
        "colab_type": "code",
        "outputId": "7239dcbf-8139-44b2-859f-480d0716393f",
        "colab": {
          "base_uri": "https://localhost:8080/",
          "height": 737
        }
      },
      "source": [
        "df_predictores_ = pd.DataFrame({\"name\": predictores, \"importance_fold_0\": list_models_adqui[0][\"cbtm_model\"].get_feature_importance()})\n",
        "for i in range(1, 5):\n",
        "    print(i)\n",
        "    df_predictores_ = df_predictores_.merge(pd.DataFrame({\"name\": predictores, \"importance_fold_{0}\".format(i): list_models_adqui[i][\"cbtm_model\"].get_feature_importance()}), how=\"left\", on=\"name\")\n",
        "    df_predictores_[\"importance_folds_mean\"] = df_predictores_[[c for c in df_predictores_.columns if c not in [\"name\"]]].mean(axis=1)\n",
        "\n",
        "df_predictores_ = df_predictores_.sort_values(by=\"importance_folds_mean\", ascending=False).reset_index(drop=True)\n",
        "df_predictores_.head(20)"
      ],
      "execution_count": 0,
      "outputs": [
        {
          "output_type": "stream",
          "text": [
            "1\n",
            "2\n",
            "3\n",
            "4\n"
          ],
          "name": "stdout"
        },
        {
          "output_type": "execute_result",
          "data": {
            "text/html": [
              "<div>\n",
              "<style scoped>\n",
              "    .dataframe tbody tr th:only-of-type {\n",
              "        vertical-align: middle;\n",
              "    }\n",
              "\n",
              "    .dataframe tbody tr th {\n",
              "        vertical-align: top;\n",
              "    }\n",
              "\n",
              "    .dataframe thead th {\n",
              "        text-align: right;\n",
              "    }\n",
              "</style>\n",
              "<table border=\"1\" class=\"dataframe\">\n",
              "  <thead>\n",
              "    <tr style=\"text-align: right;\">\n",
              "      <th></th>\n",
              "      <th>name</th>\n",
              "      <th>importance_fold_0</th>\n",
              "      <th>importance_fold_1</th>\n",
              "      <th>importance_folds_mean</th>\n",
              "      <th>importance_fold_2</th>\n",
              "      <th>importance_fold_3</th>\n",
              "      <th>importance_fold_4</th>\n",
              "    </tr>\n",
              "  </thead>\n",
              "  <tbody>\n",
              "    <tr>\n",
              "      <th>0</th>\n",
              "      <td>U2M_NA_canal_asignado_new_sum</td>\n",
              "      <td>7.133191</td>\n",
              "      <td>11.935358</td>\n",
              "      <td>8.835271</td>\n",
              "      <td>8.595358</td>\n",
              "      <td>8.134986</td>\n",
              "      <td>8.193045</td>\n",
              "    </tr>\n",
              "    <tr>\n",
              "      <th>1</th>\n",
              "      <td>U2M_Combos_producto_new_sum</td>\n",
              "      <td>5.290656</td>\n",
              "      <td>10.614899</td>\n",
              "      <td>7.630872</td>\n",
              "      <td>7.941330</td>\n",
              "      <td>7.341432</td>\n",
              "      <td>6.769271</td>\n",
              "    </tr>\n",
              "    <tr>\n",
              "      <th>2</th>\n",
              "      <td>U4M_NA_producto_new_sum</td>\n",
              "      <td>3.882341</td>\n",
              "      <td>7.054947</td>\n",
              "      <td>4.859758</td>\n",
              "      <td>3.130109</td>\n",
              "      <td>5.625869</td>\n",
              "      <td>4.549825</td>\n",
              "    </tr>\n",
              "    <tr>\n",
              "      <th>3</th>\n",
              "      <td>flg_exist_hist</td>\n",
              "      <td>4.075892</td>\n",
              "      <td>4.208825</td>\n",
              "      <td>4.199203</td>\n",
              "      <td>3.781342</td>\n",
              "      <td>4.342671</td>\n",
              "      <td>4.694321</td>\n",
              "    </tr>\n",
              "    <tr>\n",
              "      <th>4</th>\n",
              "      <td>soc_var1</td>\n",
              "      <td>2.724564</td>\n",
              "      <td>2.355824</td>\n",
              "      <td>2.623938</td>\n",
              "      <td>2.620480</td>\n",
              "      <td>2.694756</td>\n",
              "      <td>2.756826</td>\n",
              "    </tr>\n",
              "    <tr>\n",
              "      <th>5</th>\n",
              "      <td>U4M_TLV_canal_asignado_new_sum</td>\n",
              "      <td>1.321338</td>\n",
              "      <td>1.697540</td>\n",
              "      <td>1.841364</td>\n",
              "      <td>2.114231</td>\n",
              "      <td>1.994668</td>\n",
              "      <td>2.162726</td>\n",
              "    </tr>\n",
              "    <tr>\n",
              "      <th>6</th>\n",
              "      <td>U6M_NA_producto_new_sum</td>\n",
              "      <td>0.000000</td>\n",
              "      <td>1.354337</td>\n",
              "      <td>1.607534</td>\n",
              "      <td>1.757610</td>\n",
              "      <td>2.756206</td>\n",
              "      <td>2.413967</td>\n",
              "    </tr>\n",
              "    <tr>\n",
              "      <th>7</th>\n",
              "      <td>U6M_Adquisicion_producto_new_sum</td>\n",
              "      <td>1.559303</td>\n",
              "      <td>1.538566</td>\n",
              "      <td>1.594681</td>\n",
              "      <td>1.478817</td>\n",
              "      <td>1.900788</td>\n",
              "      <td>1.488837</td>\n",
              "    </tr>\n",
              "    <tr>\n",
              "      <th>8</th>\n",
              "      <td>U2M_NA_producto_new_sum</td>\n",
              "      <td>3.039546</td>\n",
              "      <td>0.000000</td>\n",
              "      <td>1.471396</td>\n",
              "      <td>2.114243</td>\n",
              "      <td>0.013483</td>\n",
              "      <td>2.293974</td>\n",
              "    </tr>\n",
              "    <tr>\n",
              "      <th>9</th>\n",
              "      <td>U6M_TLV_canal_asignado_new_sum</td>\n",
              "      <td>1.282991</td>\n",
              "      <td>0.968428</td>\n",
              "      <td>1.227789</td>\n",
              "      <td>0.957552</td>\n",
              "      <td>1.440063</td>\n",
              "      <td>1.571162</td>\n",
              "    </tr>\n",
              "    <tr>\n",
              "      <th>10</th>\n",
              "      <td>ratio_7</td>\n",
              "      <td>1.496841</td>\n",
              "      <td>0.793750</td>\n",
              "      <td>1.220399</td>\n",
              "      <td>1.551406</td>\n",
              "      <td>0.970758</td>\n",
              "      <td>1.297724</td>\n",
              "    </tr>\n",
              "    <tr>\n",
              "      <th>11</th>\n",
              "      <td>soc_var6</td>\n",
              "      <td>1.121271</td>\n",
              "      <td>0.935142</td>\n",
              "      <td>1.025158</td>\n",
              "      <td>1.064603</td>\n",
              "      <td>0.924944</td>\n",
              "      <td>1.088333</td>\n",
              "    </tr>\n",
              "    <tr>\n",
              "      <th>12</th>\n",
              "      <td>ingreso_neto</td>\n",
              "      <td>0.901651</td>\n",
              "      <td>0.886878</td>\n",
              "      <td>0.957929</td>\n",
              "      <td>0.982938</td>\n",
              "      <td>1.006222</td>\n",
              "      <td>1.031059</td>\n",
              "    </tr>\n",
              "    <tr>\n",
              "      <th>13</th>\n",
              "      <td>U2M_sum_mto_saldo_in_new_producto_TARJETAS COM...</td>\n",
              "      <td>0.920476</td>\n",
              "      <td>0.754765</td>\n",
              "      <td>0.875729</td>\n",
              "      <td>0.996385</td>\n",
              "      <td>0.801722</td>\n",
              "      <td>0.910894</td>\n",
              "    </tr>\n",
              "    <tr>\n",
              "      <th>14</th>\n",
              "      <td>U6M_producto_new_count_sum</td>\n",
              "      <td>0.295437</td>\n",
              "      <td>2.026617</td>\n",
              "      <td>0.819764</td>\n",
              "      <td>0.512439</td>\n",
              "      <td>1.080928</td>\n",
              "      <td>0.020302</td>\n",
              "    </tr>\n",
              "    <tr>\n",
              "      <th>15</th>\n",
              "      <td>U10M_mto_saldo_first</td>\n",
              "      <td>0.859862</td>\n",
              "      <td>0.956287</td>\n",
              "      <td>0.808886</td>\n",
              "      <td>0.723435</td>\n",
              "      <td>0.639297</td>\n",
              "      <td>0.866275</td>\n",
              "    </tr>\n",
              "    <tr>\n",
              "      <th>16</th>\n",
              "      <td>n_pag_std</td>\n",
              "      <td>0.774868</td>\n",
              "      <td>0.788607</td>\n",
              "      <td>0.759735</td>\n",
              "      <td>0.574888</td>\n",
              "      <td>0.802694</td>\n",
              "      <td>0.883136</td>\n",
              "    </tr>\n",
              "    <tr>\n",
              "      <th>17</th>\n",
              "      <td>U2M_max_rango_mora_in_new_cod_banco_43_sum</td>\n",
              "      <td>0.449276</td>\n",
              "      <td>0.539556</td>\n",
              "      <td>0.745718</td>\n",
              "      <td>0.891749</td>\n",
              "      <td>0.929690</td>\n",
              "      <td>0.983234</td>\n",
              "    </tr>\n",
              "    <tr>\n",
              "      <th>18</th>\n",
              "      <td>U6M_codmes_campana_count</td>\n",
              "      <td>0.610978</td>\n",
              "      <td>1.401847</td>\n",
              "      <td>0.715559</td>\n",
              "      <td>1.086482</td>\n",
              "      <td>0.171611</td>\n",
              "      <td>0.162963</td>\n",
              "    </tr>\n",
              "    <tr>\n",
              "      <th>19</th>\n",
              "      <td>num_visitas_sum</td>\n",
              "      <td>0.678669</td>\n",
              "      <td>0.739114</td>\n",
              "      <td>0.688265</td>\n",
              "      <td>0.517626</td>\n",
              "      <td>0.625378</td>\n",
              "      <td>0.924429</td>\n",
              "    </tr>\n",
              "  </tbody>\n",
              "</table>\n",
              "</div>"
            ],
            "text/plain": [
              "                                                 name  ...  importance_fold_4\n",
              "0                       U2M_NA_canal_asignado_new_sum  ...           8.193045\n",
              "1                         U2M_Combos_producto_new_sum  ...           6.769271\n",
              "2                             U4M_NA_producto_new_sum  ...           4.549825\n",
              "3                                      flg_exist_hist  ...           4.694321\n",
              "4                                            soc_var1  ...           2.756826\n",
              "5                      U4M_TLV_canal_asignado_new_sum  ...           2.162726\n",
              "6                             U6M_NA_producto_new_sum  ...           2.413967\n",
              "7                    U6M_Adquisicion_producto_new_sum  ...           1.488837\n",
              "8                             U2M_NA_producto_new_sum  ...           2.293974\n",
              "9                      U6M_TLV_canal_asignado_new_sum  ...           1.571162\n",
              "10                                            ratio_7  ...           1.297724\n",
              "11                                           soc_var6  ...           1.088333\n",
              "12                                       ingreso_neto  ...           1.031059\n",
              "13  U2M_sum_mto_saldo_in_new_producto_TARJETAS COM...  ...           0.910894\n",
              "14                         U6M_producto_new_count_sum  ...           0.020302\n",
              "15                               U10M_mto_saldo_first  ...           0.866275\n",
              "16                                          n_pag_std  ...           0.883136\n",
              "17         U2M_max_rango_mora_in_new_cod_banco_43_sum  ...           0.983234\n",
              "18                           U6M_codmes_campana_count  ...           0.162963\n",
              "19                                    num_visitas_sum  ...           0.924429\n",
              "\n",
              "[20 rows x 7 columns]"
            ]
          },
          "metadata": {
            "tags": []
          },
          "execution_count": 29
        }
      ]
    },
    {
      "cell_type": "code",
      "metadata": {
        "id": "tXwYWr97BkaU",
        "colab_type": "code",
        "colab": {}
      },
      "source": [
        "df_predictores_.to_csv(\"predictores_first_model.csv\", index=False)"
      ],
      "execution_count": 0,
      "outputs": []
    },
    {
      "cell_type": "markdown",
      "metadata": {
        "id": "hvMqCzI6R0KI",
        "colab_type": "text"
      },
      "source": [
        "##### Rentability Model Classification"
      ]
    },
    {
      "cell_type": "markdown",
      "metadata": {
        "id": "SOG3De13UFca",
        "colab_type": "text"
      },
      "source": [
        "###### With ALL"
      ]
    },
    {
      "cell_type": "code",
      "metadata": {
        "id": "vpFgIwpAeOg_",
        "colab_type": "code",
        "outputId": "9818f459-9cce-4ad9-cad0-4ec67522e2ca",
        "colab": {
          "base_uri": "https://localhost:8080/",
          "height": 1000
        }
      },
      "source": [
        "results_renta_1, list_models_renta_1, df_probs_train_renta_1, df_probs_val_renta_1, df_probs_test_renta_1 = model_with_cv(df_train, df_test, target_class, predictores, None)"
      ],
      "execution_count": 0,
      "outputs": [
        {
          "output_type": "stream",
          "text": [
            "Iteracion 0\n",
            "\t CLASIFICACIÓN\n",
            "\t\t 1. CATBOOST\n",
            "Learning rate set to 0.136028\n",
            "0:\tlearn: 0.6858625\ttest: 0.6880222\tbest: 0.6880222 (0)\ttotal: 16.6ms\tremaining: 16.6s\n",
            "200:\tlearn: 0.8374787\ttest: 0.8184593\tbest: 0.8184624 (199)\ttotal: 3.32s\tremaining: 13.2s\n",
            "400:\tlearn: 0.8508102\ttest: 0.8213207\tbest: 0.8213207 (400)\ttotal: 6.57s\tremaining: 9.81s\n",
            "600:\tlearn: 0.8619752\ttest: 0.8226088\tbest: 0.8226350 (599)\ttotal: 9.81s\tremaining: 6.51s\n",
            "800:\tlearn: 0.8714315\ttest: 0.8227091\tbest: 0.8229067 (718)\ttotal: 13.1s\tremaining: 3.25s\n",
            "999:\tlearn: 0.8806905\ttest: 0.8230679\tbest: 0.8231973 (930)\ttotal: 16.3s\tremaining: 0us\n",
            "bestTest = 0.8231973052\n",
            "bestIteration = 930\n",
            "Shrink model to first 931 iterations.\n",
            "\t\t 2. LIGHTGBM\n",
            "Training until validation scores don't improve for 100 rounds.\n",
            "[20]\ttraining's auc: 0.803806\tvalid_1's auc: 0.792256\n",
            "[40]\ttraining's auc: 0.819632\tvalid_1's auc: 0.804878\n",
            "[60]\ttraining's auc: 0.830394\tvalid_1's auc: 0.811677\n",
            "[80]\ttraining's auc: 0.838624\tvalid_1's auc: 0.815289\n",
            "[100]\ttraining's auc: 0.845386\tvalid_1's auc: 0.818228\n",
            "[120]\ttraining's auc: 0.851231\tvalid_1's auc: 0.820103\n",
            "[140]\ttraining's auc: 0.856163\tvalid_1's auc: 0.821486\n",
            "[160]\ttraining's auc: 0.861402\tvalid_1's auc: 0.822678\n",
            "[180]\ttraining's auc: 0.865499\tvalid_1's auc: 0.823545\n",
            "[200]\ttraining's auc: 0.869197\tvalid_1's auc: 0.824175\n",
            "[220]\ttraining's auc: 0.873479\tvalid_1's auc: 0.824548\n",
            "[240]\ttraining's auc: 0.87751\tvalid_1's auc: 0.825404\n",
            "[260]\ttraining's auc: 0.881061\tvalid_1's auc: 0.82552\n",
            "[280]\ttraining's auc: 0.884264\tvalid_1's auc: 0.825792\n",
            "[300]\ttraining's auc: 0.88745\tvalid_1's auc: 0.825836\n",
            "[320]\ttraining's auc: 0.890449\tvalid_1's auc: 0.825914\n",
            "[340]\ttraining's auc: 0.89357\tvalid_1's auc: 0.82583\n",
            "[360]\ttraining's auc: 0.896098\tvalid_1's auc: 0.826\n",
            "[380]\ttraining's auc: 0.898383\tvalid_1's auc: 0.825784\n",
            "[400]\ttraining's auc: 0.900888\tvalid_1's auc: 0.825763\n",
            "[420]\ttraining's auc: 0.903297\tvalid_1's auc: 0.825719\n",
            "[440]\ttraining's auc: 0.90598\tvalid_1's auc: 0.825844\n",
            "[460]\ttraining's auc: 0.908403\tvalid_1's auc: 0.826212\n",
            "[480]\ttraining's auc: 0.910401\tvalid_1's auc: 0.826104\n",
            "[500]\ttraining's auc: 0.912102\tvalid_1's auc: 0.826229\n",
            "[520]\ttraining's auc: 0.914141\tvalid_1's auc: 0.826267\n",
            "[540]\ttraining's auc: 0.916066\tvalid_1's auc: 0.8264\n",
            "[560]\ttraining's auc: 0.91794\tvalid_1's auc: 0.826633\n",
            "[580]\ttraining's auc: 0.919941\tvalid_1's auc: 0.826698\n",
            "[600]\ttraining's auc: 0.922025\tvalid_1's auc: 0.826668\n",
            "[620]\ttraining's auc: 0.923638\tvalid_1's auc: 0.826623\n",
            "[640]\ttraining's auc: 0.925117\tvalid_1's auc: 0.826433\n",
            "[660]\ttraining's auc: 0.926897\tvalid_1's auc: 0.826383\n",
            "Early stopping, best iteration is:\n",
            "[570]\ttraining's auc: 0.918896\tvalid_1's auc: 0.826775\n",
            "AVG METRICS CLASSIFICATION\n",
            "Mean Target:\tTrain: 0.0836,\tVal In: 0.0836\n",
            "Mean Probs:\tTrain: 0.0836,\tVal In: 0.0824\n",
            "Std Probs:\tTrain: 0.114,\tVal In: 0.1088\n",
            "CATBOOST REPORT\n",
            "                   prob  target_sum  target_count  target_mean   target_%\n",
            "0  (-0.000828, 0.00786]        20.0          4975     0.004020   0.480000\n",
            "1      (0.00786, 0.013]        69.0          4975     0.013869   1.660000\n",
            "2        (0.013, 0.019]        69.0          4974     0.013872   1.660000\n",
            "3        (0.019, 0.027]       122.0          4975     0.024523   2.930000\n",
            "4       (0.027, 0.0382]       151.0          4975     0.030352   3.630000\n",
            "5      (0.0382, 0.0556]       227.0          4974     0.045637   5.460000\n",
            "6       (0.0556, 0.084]       334.0          4975     0.067136   8.030000\n",
            "7        (0.084, 0.132]       567.0          4974     0.113993  13.630000\n",
            "8        (0.132, 0.214]       898.0          4975     0.180503  21.590000\n",
            "9        (0.214, 0.931]      1702.0          4975     0.342111  40.919998\n",
            "####################################################################################################################################################################################################################################################################################################################################################################################################################################################################################################################\n",
            "LIGHTGBM REPORT\n",
            "                   prob  target_sum  target_count  target_mean   target_%\n",
            "0  (-0.000746, 0.00698]        20.0          4975     0.004020   0.480000\n",
            "1     (0.00698, 0.0118]        63.0          4975     0.012663   1.510000\n",
            "2      (0.0118, 0.0174]        62.0          4974     0.012465   1.490000\n",
            "3      (0.0174, 0.0248]       104.0          4975     0.020905   2.500000\n",
            "4      (0.0248, 0.0354]       145.0          4975     0.029146   3.490000\n",
            "5      (0.0354, 0.0522]       237.0          4974     0.047648   5.700000\n",
            "6      (0.0522, 0.0799]       341.0          4975     0.068543   8.200000\n",
            "7       (0.0799, 0.131]       569.0          4974     0.114395  13.680000\n",
            "8        (0.131, 0.218]       922.0          4975     0.185327  22.170000\n",
            "9        (0.218, 0.916]      1696.0          4975     0.340905  40.779999\n",
            "####################################################################################################################################################################################################################################################################################################################################################################################################################################################################################################################\n",
            "Iteracion 1\n",
            "\t CLASIFICACIÓN\n",
            "\t\t 1. CATBOOST\n",
            "Learning rate set to 0.136028\n",
            "0:\tlearn: 0.7087111\ttest: 0.6996607\tbest: 0.6996607 (0)\ttotal: 16.8ms\tremaining: 16.7s\n",
            "200:\tlearn: 0.8375293\ttest: 0.8210254\tbest: 0.8210254 (200)\ttotal: 3.23s\tremaining: 12.9s\n",
            "400:\tlearn: 0.8516908\ttest: 0.8234612\tbest: 0.8234612 (400)\ttotal: 6.33s\tremaining: 9.45s\n",
            "600:\tlearn: 0.8627313\ttest: 0.8240976\tbest: 0.8241955 (586)\ttotal: 9.41s\tremaining: 6.25s\n",
            "800:\tlearn: 0.8728636\ttest: 0.8241792\tbest: 0.8244466 (703)\ttotal: 12.6s\tremaining: 3.12s\n",
            "999:\tlearn: 0.8815570\ttest: 0.8241014\tbest: 0.8244466 (703)\ttotal: 15.8s\tremaining: 0us\n",
            "bestTest = 0.8244466186\n",
            "bestIteration = 703\n",
            "Shrink model to first 704 iterations.\n",
            "\t\t 2. LIGHTGBM\n",
            "Training until validation scores don't improve for 100 rounds.\n",
            "[20]\ttraining's auc: 0.803262\tvalid_1's auc: 0.791497\n",
            "[40]\ttraining's auc: 0.818962\tvalid_1's auc: 0.805058\n",
            "[60]\ttraining's auc: 0.829706\tvalid_1's auc: 0.811838\n",
            "[80]\ttraining's auc: 0.837887\tvalid_1's auc: 0.816149\n",
            "[100]\ttraining's auc: 0.844973\tvalid_1's auc: 0.81955\n",
            "[120]\ttraining's auc: 0.851163\tvalid_1's auc: 0.821352\n",
            "[140]\ttraining's auc: 0.855862\tvalid_1's auc: 0.822392\n",
            "[160]\ttraining's auc: 0.86116\tvalid_1's auc: 0.823218\n",
            "[180]\ttraining's auc: 0.86519\tvalid_1's auc: 0.823954\n",
            "[200]\ttraining's auc: 0.869676\tvalid_1's auc: 0.824405\n",
            "[220]\ttraining's auc: 0.873549\tvalid_1's auc: 0.824741\n",
            "[240]\ttraining's auc: 0.877003\tvalid_1's auc: 0.825184\n",
            "[260]\ttraining's auc: 0.880148\tvalid_1's auc: 0.825334\n",
            "[280]\ttraining's auc: 0.883319\tvalid_1's auc: 0.825348\n",
            "[300]\ttraining's auc: 0.886247\tvalid_1's auc: 0.82537\n",
            "[320]\ttraining's auc: 0.889323\tvalid_1's auc: 0.82546\n",
            "[340]\ttraining's auc: 0.892282\tvalid_1's auc: 0.825426\n",
            "[360]\ttraining's auc: 0.894966\tvalid_1's auc: 0.825405\n",
            "[380]\ttraining's auc: 0.897151\tvalid_1's auc: 0.825251\n",
            "[400]\ttraining's auc: 0.899739\tvalid_1's auc: 0.825197\n",
            "[420]\ttraining's auc: 0.901803\tvalid_1's auc: 0.825123\n",
            "Early stopping, best iteration is:\n",
            "[333]\ttraining's auc: 0.891269\tvalid_1's auc: 0.825522\n",
            "AVG METRICS CLASSIFICATION\n",
            "Mean Target:\tTrain: 0.0836,\tVal In: 0.0836\n",
            "Mean Probs:\tTrain: 0.0836,\tVal In: 0.0824\n",
            "Std Probs:\tTrain: 0.1108,\tVal In: 0.1062\n",
            "CATBOOST REPORT\n",
            "                                prob  target_sum  ...  target_mean   target_%\n",
            "0  (-0.0006950000000000001, 0.00819]        15.0  ...     0.003015   0.360000\n",
            "1                  (0.00819, 0.0135]        53.0  ...     0.010653   1.270000\n",
            "2                   (0.0135, 0.0197]        79.0  ...     0.015883   1.900000\n",
            "3                   (0.0197, 0.0279]       128.0  ...     0.025729   3.080000\n",
            "4                   (0.0279, 0.0399]       160.0  ...     0.032161   3.850000\n",
            "5                   (0.0399, 0.0575]       237.0  ...     0.047648   5.700000\n",
            "6                   (0.0575, 0.0849]       344.0  ...     0.069146   8.270000\n",
            "7                    (0.0849, 0.132]       517.0  ...     0.103940  12.430000\n",
            "8                     (0.132, 0.213]       879.0  ...     0.176683  21.129999\n",
            "9                     (0.213, 0.934]      1747.0  ...     0.351156  42.009998\n",
            "\n",
            "[10 rows x 5 columns]\n",
            "####################################################################################################################################################################################################################################################################################################################################################################################################################################################################################################################\n",
            "LIGHTGBM REPORT\n",
            "                                 prob  target_sum  ...  target_mean   target_%\n",
            "0  (-0.00047400000000000003, 0.00915]        14.0  ...     0.002814   0.340000\n",
            "1                   (0.00915, 0.0142]        37.0  ...     0.007437   0.890000\n",
            "2                    (0.0142, 0.0197]        78.0  ...     0.015682   1.880000\n",
            "3                    (0.0197, 0.0274]       130.0  ...     0.026131   3.130000\n",
            "4                    (0.0274, 0.0384]       167.0  ...     0.033568   4.020000\n",
            "5                    (0.0384, 0.0556]       245.0  ...     0.049256   5.890000\n",
            "6                    (0.0556, 0.0826]       330.0  ...     0.066332   7.930000\n",
            "7                     (0.0826, 0.133]       547.0  ...     0.109972  13.150000\n",
            "8                      (0.133, 0.219]       892.0  ...     0.179296  21.450001\n",
            "9                      (0.219, 0.901]      1719.0  ...     0.345528  41.330002\n",
            "\n",
            "[10 rows x 5 columns]\n",
            "####################################################################################################################################################################################################################################################################################################################################################################################################################################################################################################################\n",
            "Iteracion 2\n",
            "\t CLASIFICACIÓN\n",
            "\t\t 1. CATBOOST\n",
            "Learning rate set to 0.136028\n",
            "0:\tlearn: 0.6943876\ttest: 0.6941071\tbest: 0.6941071 (0)\ttotal: 17.3ms\tremaining: 17.3s\n",
            "200:\tlearn: 0.8371673\ttest: 0.8203854\tbest: 0.8204306 (191)\ttotal: 3.39s\tremaining: 13.5s\n",
            "400:\tlearn: 0.8512315\ttest: 0.8232915\tbest: 0.8233161 (397)\ttotal: 6.62s\tremaining: 9.89s\n",
            "600:\tlearn: 0.8619344\ttest: 0.8240426\tbest: 0.8240426 (600)\ttotal: 9.86s\tremaining: 6.54s\n",
            "800:\tlearn: 0.8719887\ttest: 0.8246754\tbest: 0.8248725 (786)\ttotal: 13.1s\tremaining: 3.26s\n",
            "999:\tlearn: 0.8807538\ttest: 0.8245000\tbest: 0.8248725 (786)\ttotal: 16.4s\tremaining: 0us\n",
            "bestTest = 0.8248724937\n",
            "bestIteration = 786\n",
            "Shrink model to first 787 iterations.\n",
            "\t\t 2. LIGHTGBM\n",
            "Training until validation scores don't improve for 100 rounds.\n",
            "[20]\ttraining's auc: 0.803838\tvalid_1's auc: 0.795691\n",
            "[40]\ttraining's auc: 0.818716\tvalid_1's auc: 0.807608\n",
            "[60]\ttraining's auc: 0.828797\tvalid_1's auc: 0.813683\n",
            "[80]\ttraining's auc: 0.837396\tvalid_1's auc: 0.817963\n",
            "[100]\ttraining's auc: 0.844101\tvalid_1's auc: 0.820424\n",
            "[120]\ttraining's auc: 0.850088\tvalid_1's auc: 0.822328\n",
            "[140]\ttraining's auc: 0.855655\tvalid_1's auc: 0.82335\n",
            "[160]\ttraining's auc: 0.860335\tvalid_1's auc: 0.824317\n",
            "[180]\ttraining's auc: 0.864212\tvalid_1's auc: 0.824773\n",
            "[200]\ttraining's auc: 0.868373\tvalid_1's auc: 0.825342\n",
            "[220]\ttraining's auc: 0.872059\tvalid_1's auc: 0.825528\n",
            "[240]\ttraining's auc: 0.875565\tvalid_1's auc: 0.825874\n",
            "[260]\ttraining's auc: 0.878985\tvalid_1's auc: 0.826241\n",
            "[280]\ttraining's auc: 0.881857\tvalid_1's auc: 0.826341\n",
            "[300]\ttraining's auc: 0.884665\tvalid_1's auc: 0.826252\n",
            "[320]\ttraining's auc: 0.887957\tvalid_1's auc: 0.826317\n",
            "[340]\ttraining's auc: 0.891667\tvalid_1's auc: 0.826533\n",
            "[360]\ttraining's auc: 0.894299\tvalid_1's auc: 0.826636\n",
            "[380]\ttraining's auc: 0.897215\tvalid_1's auc: 0.826713\n",
            "[400]\ttraining's auc: 0.899705\tvalid_1's auc: 0.826867\n",
            "[420]\ttraining's auc: 0.902747\tvalid_1's auc: 0.826924\n",
            "[440]\ttraining's auc: 0.904861\tvalid_1's auc: 0.827048\n",
            "[460]\ttraining's auc: 0.906783\tvalid_1's auc: 0.827015\n",
            "[480]\ttraining's auc: 0.908629\tvalid_1's auc: 0.826878\n",
            "[500]\ttraining's auc: 0.910886\tvalid_1's auc: 0.827164\n",
            "[520]\ttraining's auc: 0.91318\tvalid_1's auc: 0.827361\n",
            "[540]\ttraining's auc: 0.915259\tvalid_1's auc: 0.827271\n",
            "[560]\ttraining's auc: 0.917181\tvalid_1's auc: 0.827233\n",
            "[580]\ttraining's auc: 0.919235\tvalid_1's auc: 0.826865\n",
            "[600]\ttraining's auc: 0.921208\tvalid_1's auc: 0.826939\n",
            "Early stopping, best iteration is:\n",
            "[516]\ttraining's auc: 0.912757\tvalid_1's auc: 0.827387\n",
            "AVG METRICS CLASSIFICATION\n",
            "Mean Target:\tTrain: 0.0836,\tVal In: 0.0836\n",
            "Mean Probs:\tTrain: 0.0835,\tVal In: 0.0831\n",
            "Std Probs:\tTrain: 0.1126,\tVal In: 0.1083\n",
            "CATBOOST REPORT\n",
            "                   prob  target_sum  target_count  target_mean   target_%\n",
            "0  (-0.000776, 0.00797]        32.0          4975     0.006432   0.770000\n",
            "1     (0.00797, 0.0133]        43.0          4975     0.008643   1.030000\n",
            "2      (0.0133, 0.0196]        66.0          4974     0.013269   1.590000\n",
            "3      (0.0196, 0.0279]       103.0          4975     0.020704   2.480000\n",
            "4      (0.0279, 0.0397]       158.0          4975     0.031759   3.800000\n",
            "5      (0.0397, 0.0567]       263.0          4974     0.052875   6.320000\n",
            "6      (0.0567, 0.0844]       338.0          4975     0.067940   8.130000\n",
            "7       (0.0844, 0.133]       546.0          4974     0.109771  13.130000\n",
            "8        (0.133, 0.217]       895.0          4975     0.179899  21.520000\n",
            "9        (0.217, 0.883]      1715.0          4975     0.344724  41.240002\n",
            "####################################################################################################################################################################################################################################################################################################################################################################################################################################################################################################################\n",
            "LIGHTGBM REPORT\n",
            "                                prob  target_sum  ...  target_mean   target_%\n",
            "0  (-0.0006540000000000001, 0.00765]        20.0  ...     0.004020   0.480000\n",
            "1                  (0.00765, 0.0126]        44.0  ...     0.008844   1.060000\n",
            "2                    (0.0126, 0.018]        75.0  ...     0.015078   1.800000\n",
            "3                    (0.018, 0.0254]        89.0  ...     0.017889   2.140000\n",
            "4                   (0.0254, 0.0364]       153.0  ...     0.030754   3.680000\n",
            "5                   (0.0364, 0.0532]       268.0  ...     0.053880   6.440000\n",
            "6                    (0.0532, 0.081]       339.0  ...     0.068141   8.150000\n",
            "7                     (0.081, 0.133]       551.0  ...     0.110776  13.250000\n",
            "8                     (0.133, 0.222]       913.0  ...     0.183518  21.950001\n",
            "9                     (0.222, 0.888]      1707.0  ...     0.343116  41.040001\n",
            "\n",
            "[10 rows x 5 columns]\n",
            "####################################################################################################################################################################################################################################################################################################################################################################################################################################################################################################################\n",
            "Iteracion 3\n",
            "\t CLASIFICACIÓN\n",
            "\t\t 1. CATBOOST\n",
            "Learning rate set to 0.136028\n",
            "0:\tlearn: 0.6940804\ttest: 0.6962042\tbest: 0.6962042 (0)\ttotal: 17.9ms\tremaining: 17.9s\n",
            "200:\tlearn: 0.8375486\ttest: 0.8219703\tbest: 0.8219703 (200)\ttotal: 3.23s\tremaining: 12.8s\n",
            "400:\tlearn: 0.8512176\ttest: 0.8241863\tbest: 0.8241863 (400)\ttotal: 6.28s\tremaining: 9.38s\n",
            "600:\tlearn: 0.8618018\ttest: 0.8247995\tbest: 0.8247995 (600)\ttotal: 9.35s\tremaining: 6.21s\n",
            "800:\tlearn: 0.8717124\ttest: 0.8251404\tbest: 0.8252810 (787)\ttotal: 12.5s\tremaining: 3.1s\n",
            "999:\tlearn: 0.8806217\ttest: 0.8254709\tbest: 0.8257122 (931)\ttotal: 15.5s\tremaining: 0us\n",
            "bestTest = 0.825712204\n",
            "bestIteration = 931\n",
            "Shrink model to first 932 iterations.\n",
            "\t\t 2. LIGHTGBM\n",
            "Training until validation scores don't improve for 100 rounds.\n",
            "[20]\ttraining's auc: 0.804547\tvalid_1's auc: 0.797281\n",
            "[40]\ttraining's auc: 0.818835\tvalid_1's auc: 0.807373\n",
            "[60]\ttraining's auc: 0.829976\tvalid_1's auc: 0.814137\n",
            "[80]\ttraining's auc: 0.837997\tvalid_1's auc: 0.817786\n",
            "[100]\ttraining's auc: 0.844551\tvalid_1's auc: 0.820126\n",
            "[120]\ttraining's auc: 0.850402\tvalid_1's auc: 0.822285\n",
            "[140]\ttraining's auc: 0.856175\tvalid_1's auc: 0.823236\n",
            "[160]\ttraining's auc: 0.860251\tvalid_1's auc: 0.824237\n",
            "[180]\ttraining's auc: 0.864594\tvalid_1's auc: 0.824827\n",
            "[200]\ttraining's auc: 0.869544\tvalid_1's auc: 0.825625\n",
            "[220]\ttraining's auc: 0.873482\tvalid_1's auc: 0.825765\n",
            "[240]\ttraining's auc: 0.876797\tvalid_1's auc: 0.826033\n",
            "[260]\ttraining's auc: 0.880335\tvalid_1's auc: 0.826453\n",
            "[280]\ttraining's auc: 0.883551\tvalid_1's auc: 0.826493\n",
            "[300]\ttraining's auc: 0.886036\tvalid_1's auc: 0.826808\n",
            "[320]\ttraining's auc: 0.889211\tvalid_1's auc: 0.82682\n",
            "[340]\ttraining's auc: 0.892294\tvalid_1's auc: 0.826916\n",
            "[360]\ttraining's auc: 0.89507\tvalid_1's auc: 0.827144\n",
            "[380]\ttraining's auc: 0.897664\tvalid_1's auc: 0.827152\n",
            "[400]\ttraining's auc: 0.900054\tvalid_1's auc: 0.827479\n",
            "[420]\ttraining's auc: 0.902834\tvalid_1's auc: 0.827319\n",
            "[440]\ttraining's auc: 0.905095\tvalid_1's auc: 0.827555\n",
            "[460]\ttraining's auc: 0.907232\tvalid_1's auc: 0.827696\n",
            "[480]\ttraining's auc: 0.90927\tvalid_1's auc: 0.827807\n",
            "[500]\ttraining's auc: 0.911408\tvalid_1's auc: 0.827695\n",
            "[520]\ttraining's auc: 0.91367\tvalid_1's auc: 0.827782\n",
            "[540]\ttraining's auc: 0.915551\tvalid_1's auc: 0.827651\n",
            "[560]\ttraining's auc: 0.917357\tvalid_1's auc: 0.827522\n",
            "Early stopping, best iteration is:\n",
            "[465]\ttraining's auc: 0.907588\tvalid_1's auc: 0.827885\n",
            "AVG METRICS CLASSIFICATION\n",
            "Mean Target:\tTrain: 0.0836,\tVal In: 0.0836\n",
            "Mean Probs:\tTrain: 0.0836,\tVal In: 0.0826\n",
            "Std Probs:\tTrain: 0.1139,\tVal In: 0.1087\n",
            "CATBOOST REPORT\n",
            "                   prob  target_sum  target_count  target_mean   target_%\n",
            "0  (-0.000644, 0.00788]        30.0          4975     0.006030   0.720000\n",
            "1      (0.00788, 0.013]        48.0          4975     0.009648   1.150000\n",
            "2       (0.013, 0.0193]        77.0          4974     0.015480   1.850000\n",
            "3      (0.0193, 0.0271]       105.0          4975     0.021106   2.520000\n",
            "4      (0.0271, 0.0386]       153.0          4975     0.030754   3.680000\n",
            "5      (0.0386, 0.0561]       221.0          4974     0.044431   5.310000\n",
            "6      (0.0561, 0.0829]       351.0          4975     0.070553   8.440000\n",
            "7       (0.0829, 0.131]       562.0          4974     0.112988  13.510000\n",
            "8        (0.131, 0.216]       878.0          4975     0.176482  21.110001\n",
            "9        (0.216, 0.908]      1734.0          4975     0.348543  41.689999\n",
            "####################################################################################################################################################################################################################################################################################################################################################################################################################################################################################################################\n",
            "LIGHTGBM REPORT\n",
            "                                prob  target_sum  ...  target_mean  target_%\n",
            "0  (-0.0007379999999999999, 0.00767]        20.0  ...     0.004020      0.48\n",
            "1                  (0.00767, 0.0125]        49.0  ...     0.009849      1.18\n",
            "2                    (0.0125, 0.018]        78.0  ...     0.015682      1.88\n",
            "3                    (0.018, 0.0254]       116.0  ...     0.023317      2.79\n",
            "4                   (0.0254, 0.0363]       143.0  ...     0.028744      3.44\n",
            "5                   (0.0363, 0.0533]       218.0  ...     0.043828      5.24\n",
            "6                   (0.0533, 0.0818]       355.0  ...     0.071357      8.54\n",
            "7                    (0.0818, 0.132]       542.0  ...     0.108967     13.03\n",
            "8                     (0.132, 0.222]       877.0  ...     0.176281     21.09\n",
            "9                     (0.222, 0.912]      1761.0  ...     0.353970     42.34\n",
            "\n",
            "[10 rows x 5 columns]\n",
            "####################################################################################################################################################################################################################################################################################################################################################################################################################################################################################################################\n",
            "Iteracion 4\n",
            "\t CLASIFICACIÓN\n",
            "\t\t 1. CATBOOST\n",
            "Learning rate set to 0.136028\n",
            "0:\tlearn: 0.6941627\ttest: 0.6961186\tbest: 0.6961186 (0)\ttotal: 17.7ms\tremaining: 17.7s\n",
            "200:\tlearn: 0.8372560\ttest: 0.8228813\tbest: 0.8229224 (199)\ttotal: 3.35s\tremaining: 13.3s\n",
            "400:\tlearn: 0.8502468\ttest: 0.8251360\tbest: 0.8251360 (400)\ttotal: 6.41s\tremaining: 9.57s\n",
            "600:\tlearn: 0.8619905\ttest: 0.8267836\tbest: 0.8268654 (583)\ttotal: 9.5s\tremaining: 6.31s\n",
            "800:\tlearn: 0.8717603\ttest: 0.8271732\tbest: 0.8272158 (709)\ttotal: 12.7s\tremaining: 3.15s\n",
            "999:\tlearn: 0.8806647\ttest: 0.8269484\tbest: 0.8273689 (933)\ttotal: 15.9s\tremaining: 0us\n",
            "bestTest = 0.8273688555\n",
            "bestIteration = 933\n",
            "Shrink model to first 934 iterations.\n",
            "\t\t 2. LIGHTGBM\n",
            "Training until validation scores don't improve for 100 rounds.\n",
            "[20]\ttraining's auc: 0.802704\tvalid_1's auc: 0.798994\n",
            "[40]\ttraining's auc: 0.817828\tvalid_1's auc: 0.809134\n",
            "[60]\ttraining's auc: 0.829032\tvalid_1's auc: 0.815226\n",
            "[80]\ttraining's auc: 0.837345\tvalid_1's auc: 0.819408\n",
            "[100]\ttraining's auc: 0.844386\tvalid_1's auc: 0.82238\n",
            "[120]\ttraining's auc: 0.850453\tvalid_1's auc: 0.823918\n",
            "[140]\ttraining's auc: 0.855559\tvalid_1's auc: 0.8252\n",
            "[160]\ttraining's auc: 0.860653\tvalid_1's auc: 0.826538\n",
            "[180]\ttraining's auc: 0.864972\tvalid_1's auc: 0.827066\n",
            "[200]\ttraining's auc: 0.868903\tvalid_1's auc: 0.827518\n",
            "[220]\ttraining's auc: 0.872409\tvalid_1's auc: 0.828089\n",
            "[240]\ttraining's auc: 0.876795\tvalid_1's auc: 0.828447\n",
            "[260]\ttraining's auc: 0.879941\tvalid_1's auc: 0.828715\n",
            "[280]\ttraining's auc: 0.883626\tvalid_1's auc: 0.828845\n",
            "[300]\ttraining's auc: 0.886754\tvalid_1's auc: 0.828876\n",
            "[320]\ttraining's auc: 0.889801\tvalid_1's auc: 0.829352\n",
            "[340]\ttraining's auc: 0.892696\tvalid_1's auc: 0.829312\n",
            "[360]\ttraining's auc: 0.895475\tvalid_1's auc: 0.829266\n",
            "[380]\ttraining's auc: 0.898035\tvalid_1's auc: 0.829294\n",
            "[400]\ttraining's auc: 0.900522\tvalid_1's auc: 0.829197\n",
            "[420]\ttraining's auc: 0.90302\tvalid_1's auc: 0.829486\n",
            "[440]\ttraining's auc: 0.905359\tvalid_1's auc: 0.829487\n",
            "[460]\ttraining's auc: 0.907844\tvalid_1's auc: 0.82933\n",
            "[480]\ttraining's auc: 0.909899\tvalid_1's auc: 0.829102\n",
            "[500]\ttraining's auc: 0.911988\tvalid_1's auc: 0.828781\n",
            "[520]\ttraining's auc: 0.9137\tvalid_1's auc: 0.828828\n",
            "[540]\ttraining's auc: 0.915741\tvalid_1's auc: 0.828898\n",
            "Early stopping, best iteration is:\n",
            "[442]\ttraining's auc: 0.905526\tvalid_1's auc: 0.829509\n",
            "AVG METRICS CLASSIFICATION\n",
            "Mean Target:\tTrain: 0.0836,\tVal In: 0.0836\n",
            "Mean Probs:\tTrain: 0.0836,\tVal In: 0.0818\n",
            "Std Probs:\tTrain: 0.1139,\tVal In: 0.1073\n",
            "CATBOOST REPORT\n",
            "                   prob  target_sum  target_count  target_mean   target_%\n",
            "0  (-0.000621, 0.00807]        22.0          4975     0.004422   0.530000\n",
            "1     (0.00807, 0.0131]        52.0          4975     0.010452   1.250000\n",
            "2       (0.0131, 0.019]        73.0          4974     0.014676   1.760000\n",
            "3        (0.019, 0.027]       113.0          4975     0.022714   2.720000\n",
            "4       (0.027, 0.0385]       157.0          4974     0.031564   3.780000\n",
            "5      (0.0385, 0.0555]       221.0          4975     0.044422   5.320000\n",
            "6      (0.0555, 0.0831]       312.0          4974     0.062726   7.500000\n",
            "7        (0.0831, 0.13]       569.0          4975     0.114372  13.680000\n",
            "8         (0.13, 0.213]       905.0          4974     0.181946  21.770000\n",
            "9        (0.213, 0.898]      1734.0          4975     0.348543  41.700001\n",
            "####################################################################################################################################################################################################################################################################################################################################################################################################################################################################################################################\n",
            "LIGHTGBM REPORT\n",
            "                 prob  target_sum  target_count  target_mean   target_%\n",
            "0  (-0.000611, 0.008]        27.0          4975     0.005427   0.650000\n",
            "1     (0.008, 0.0127]        48.0          4975     0.009648   1.150000\n",
            "2    (0.0127, 0.0182]        71.0          4974     0.014274   1.710000\n",
            "3    (0.0182, 0.0259]       108.0          4975     0.021709   2.600000\n",
            "4    (0.0259, 0.0366]       145.0          4974     0.029152   3.490000\n",
            "5    (0.0366, 0.0538]       230.0          4975     0.046231   5.530000\n",
            "6    (0.0538, 0.0816]       316.0          4974     0.063530   7.600000\n",
            "7     (0.0816, 0.132]       573.0          4975     0.115176  13.780000\n",
            "8      (0.132, 0.221]       894.0          4974     0.179735  21.500000\n",
            "9       (0.221, 0.89]      1746.0          4975     0.350955  41.990002\n",
            "####################################################################################################################################################################################################################################################################################################################################################################################################################################################################################################################\n"
          ],
          "name": "stdout"
        }
      ]
    },
    {
      "cell_type": "code",
      "metadata": {
        "id": "GlbVt1w4wi_k",
        "colab_type": "code",
        "outputId": "de6bda84-fd72-4908-fd94-301322fb5d16",
        "colab": {
          "base_uri": "https://localhost:8080/",
          "height": 204
        }
      },
      "source": [
        "pd.DataFrame(results_renta_1)"
      ],
      "execution_count": 0,
      "outputs": [
        {
          "output_type": "execute_result",
          "data": {
            "text/html": [
              "<div>\n",
              "<style scoped>\n",
              "    .dataframe tbody tr th:only-of-type {\n",
              "        vertical-align: middle;\n",
              "    }\n",
              "\n",
              "    .dataframe tbody tr th {\n",
              "        vertical-align: top;\n",
              "    }\n",
              "\n",
              "    .dataframe thead th {\n",
              "        text-align: right;\n",
              "    }\n",
              "</style>\n",
              "<table border=\"1\" class=\"dataframe\">\n",
              "  <thead>\n",
              "    <tr style=\"text-align: right;\">\n",
              "      <th></th>\n",
              "      <th>auc_train_cbtm</th>\n",
              "      <th>auc_val_cbtm</th>\n",
              "      <th>auc_train_lgbm</th>\n",
              "      <th>auc_val_lgbm</th>\n",
              "      <th>seed_val</th>\n",
              "    </tr>\n",
              "  </thead>\n",
              "  <tbody>\n",
              "    <tr>\n",
              "      <th>0</th>\n",
              "      <td>0.877542</td>\n",
              "      <td>0.823197</td>\n",
              "      <td>0.918896</td>\n",
              "      <td>0.826775</td>\n",
              "      <td>41</td>\n",
              "    </tr>\n",
              "    <tr>\n",
              "      <th>1</th>\n",
              "      <td>0.868295</td>\n",
              "      <td>0.824447</td>\n",
              "      <td>0.891269</td>\n",
              "      <td>0.825522</td>\n",
              "      <td>41</td>\n",
              "    </tr>\n",
              "    <tr>\n",
              "      <th>2</th>\n",
              "      <td>0.871315</td>\n",
              "      <td>0.824872</td>\n",
              "      <td>0.912757</td>\n",
              "      <td>0.827387</td>\n",
              "      <td>41</td>\n",
              "    </tr>\n",
              "    <tr>\n",
              "      <th>3</th>\n",
              "      <td>0.877686</td>\n",
              "      <td>0.825712</td>\n",
              "      <td>0.907588</td>\n",
              "      <td>0.827885</td>\n",
              "      <td>41</td>\n",
              "    </tr>\n",
              "    <tr>\n",
              "      <th>4</th>\n",
              "      <td>0.877872</td>\n",
              "      <td>0.827369</td>\n",
              "      <td>0.905526</td>\n",
              "      <td>0.829509</td>\n",
              "      <td>41</td>\n",
              "    </tr>\n",
              "  </tbody>\n",
              "</table>\n",
              "</div>"
            ],
            "text/plain": [
              "   auc_train_cbtm  auc_val_cbtm  auc_train_lgbm  auc_val_lgbm  seed_val\n",
              "0        0.877542      0.823197        0.918896      0.826775        41\n",
              "1        0.868295      0.824447        0.891269      0.825522        41\n",
              "2        0.871315      0.824872        0.912757      0.827387        41\n",
              "3        0.877686      0.825712        0.907588      0.827885        41\n",
              "4        0.877872      0.827369        0.905526      0.829509        41"
            ]
          },
          "metadata": {
            "tags": []
          },
          "execution_count": 31
        }
      ]
    },
    {
      "cell_type": "code",
      "metadata": {
        "id": "5xJ6IUGHtuUY",
        "colab_type": "code",
        "outputId": "0000184b-a049-4db3-873f-f1a9727aa8e2",
        "colab": {
          "base_uri": "https://localhost:8080/",
          "height": 204
        }
      },
      "source": [
        "pd.DataFrame(results_renta_1)"
      ],
      "execution_count": 0,
      "outputs": [
        {
          "output_type": "execute_result",
          "data": {
            "text/html": [
              "<div>\n",
              "<style scoped>\n",
              "    .dataframe tbody tr th:only-of-type {\n",
              "        vertical-align: middle;\n",
              "    }\n",
              "\n",
              "    .dataframe tbody tr th {\n",
              "        vertical-align: top;\n",
              "    }\n",
              "\n",
              "    .dataframe thead th {\n",
              "        text-align: right;\n",
              "    }\n",
              "</style>\n",
              "<table border=\"1\" class=\"dataframe\">\n",
              "  <thead>\n",
              "    <tr style=\"text-align: right;\">\n",
              "      <th></th>\n",
              "      <th>auc_train_cbtm</th>\n",
              "      <th>auc_val_cbtm</th>\n",
              "      <th>auc_train_lgbm</th>\n",
              "      <th>auc_val_lgbm</th>\n",
              "      <th>seed_val</th>\n",
              "    </tr>\n",
              "  </thead>\n",
              "  <tbody>\n",
              "    <tr>\n",
              "      <th>0</th>\n",
              "      <td>0.865454</td>\n",
              "      <td>0.812883</td>\n",
              "      <td>0.894461</td>\n",
              "      <td>0.813908</td>\n",
              "      <td>41</td>\n",
              "    </tr>\n",
              "    <tr>\n",
              "      <th>1</th>\n",
              "      <td>0.872681</td>\n",
              "      <td>0.816804</td>\n",
              "      <td>0.889301</td>\n",
              "      <td>0.817849</td>\n",
              "      <td>41</td>\n",
              "    </tr>\n",
              "    <tr>\n",
              "      <th>2</th>\n",
              "      <td>0.866489</td>\n",
              "      <td>0.814111</td>\n",
              "      <td>0.886794</td>\n",
              "      <td>0.817558</td>\n",
              "      <td>41</td>\n",
              "    </tr>\n",
              "    <tr>\n",
              "      <th>3</th>\n",
              "      <td>0.873617</td>\n",
              "      <td>0.810741</td>\n",
              "      <td>0.905314</td>\n",
              "      <td>0.811592</td>\n",
              "      <td>41</td>\n",
              "    </tr>\n",
              "    <tr>\n",
              "      <th>4</th>\n",
              "      <td>0.874568</td>\n",
              "      <td>0.806605</td>\n",
              "      <td>0.876171</td>\n",
              "      <td>0.805082</td>\n",
              "      <td>41</td>\n",
              "    </tr>\n",
              "  </tbody>\n",
              "</table>\n",
              "</div>"
            ],
            "text/plain": [
              "   auc_train_cbtm  auc_val_cbtm  auc_train_lgbm  auc_val_lgbm  seed_val\n",
              "0        0.865454      0.812883        0.894461      0.813908        41\n",
              "1        0.872681      0.816804        0.889301      0.817849        41\n",
              "2        0.866489      0.814111        0.886794      0.817558        41\n",
              "3        0.873617      0.810741        0.905314      0.811592        41\n",
              "4        0.874568      0.806605        0.876171      0.805082        41"
            ]
          },
          "metadata": {
            "tags": []
          },
          "execution_count": 22
        }
      ]
    },
    {
      "cell_type": "code",
      "metadata": {
        "id": "wnr5ql1iCUTc",
        "colab_type": "code",
        "outputId": "f62d29c7-4393-441e-97a5-910f6e381170",
        "colab": {
          "base_uri": "https://localhost:8080/",
          "height": 737
        }
      },
      "source": [
        "df_predictores_ = pd.DataFrame({\"name\": predictores, \"importance_fold_0\": list_models_renta_1[0][\"cbtm_model\"].get_feature_importance()})\n",
        "for i in range(1, 5):\n",
        "    print(i)\n",
        "    df_predictores_ = df_predictores_.merge(pd.DataFrame({\"name\": predictores, \"importance_fold_{0}\".format(i): list_models_renta_1[i][\"cbtm_model\"].get_feature_importance()}), how=\"left\", on=\"name\")\n",
        "    df_predictores_[\"importance_folds_mean\"] = df_predictores_[[c for c in df_predictores_.columns if c not in [\"name\"]]].mean(axis=1)\n",
        "\n",
        "df_predictores_ = df_predictores_.sort_values(by=\"importance_folds_mean\", ascending=False).reset_index(drop=True)\n",
        "df_predictores_.head(20)"
      ],
      "execution_count": 0,
      "outputs": [
        {
          "output_type": "stream",
          "text": [
            "1\n",
            "2\n",
            "3\n",
            "4\n"
          ],
          "name": "stdout"
        },
        {
          "output_type": "execute_result",
          "data": {
            "text/html": [
              "<div>\n",
              "<style scoped>\n",
              "    .dataframe tbody tr th:only-of-type {\n",
              "        vertical-align: middle;\n",
              "    }\n",
              "\n",
              "    .dataframe tbody tr th {\n",
              "        vertical-align: top;\n",
              "    }\n",
              "\n",
              "    .dataframe thead th {\n",
              "        text-align: right;\n",
              "    }\n",
              "</style>\n",
              "<table border=\"1\" class=\"dataframe\">\n",
              "  <thead>\n",
              "    <tr style=\"text-align: right;\">\n",
              "      <th></th>\n",
              "      <th>name</th>\n",
              "      <th>importance_fold_0</th>\n",
              "      <th>importance_fold_1</th>\n",
              "      <th>importance_folds_mean</th>\n",
              "      <th>importance_fold_2</th>\n",
              "      <th>importance_fold_3</th>\n",
              "      <th>importance_fold_4</th>\n",
              "    </tr>\n",
              "  </thead>\n",
              "  <tbody>\n",
              "    <tr>\n",
              "      <th>0</th>\n",
              "      <td>U2M_NA_canal_asignado_new_sum</td>\n",
              "      <td>10.366241</td>\n",
              "      <td>7.245178</td>\n",
              "      <td>7.621364</td>\n",
              "      <td>7.961507</td>\n",
              "      <td>6.763669</td>\n",
              "      <td>5.205336</td>\n",
              "    </tr>\n",
              "    <tr>\n",
              "      <th>1</th>\n",
              "      <td>U2M_Combos_producto_new_sum</td>\n",
              "      <td>10.606719</td>\n",
              "      <td>6.639597</td>\n",
              "      <td>7.346624</td>\n",
              "      <td>7.700303</td>\n",
              "      <td>6.497628</td>\n",
              "      <td>4.668158</td>\n",
              "    </tr>\n",
              "    <tr>\n",
              "      <th>2</th>\n",
              "      <td>flg_exist_hist</td>\n",
              "      <td>2.465572</td>\n",
              "      <td>4.332569</td>\n",
              "      <td>3.545435</td>\n",
              "      <td>2.876560</td>\n",
              "      <td>4.247213</td>\n",
              "      <td>3.912625</td>\n",
              "    </tr>\n",
              "    <tr>\n",
              "      <th>3</th>\n",
              "      <td>U6M_NA_producto_new_sum</td>\n",
              "      <td>3.984590</td>\n",
              "      <td>3.838866</td>\n",
              "      <td>3.416313</td>\n",
              "      <td>1.630276</td>\n",
              "      <td>2.810540</td>\n",
              "      <td>5.112478</td>\n",
              "    </tr>\n",
              "    <tr>\n",
              "      <th>4</th>\n",
              "      <td>soc_var1</td>\n",
              "      <td>2.863204</td>\n",
              "      <td>3.146656</td>\n",
              "      <td>3.003089</td>\n",
              "      <td>2.940574</td>\n",
              "      <td>3.120535</td>\n",
              "      <td>2.935603</td>\n",
              "    </tr>\n",
              "    <tr>\n",
              "      <th>5</th>\n",
              "      <td>U2M_sum_mto_saldo_in_new_producto_TARJETAS COM...</td>\n",
              "      <td>1.706623</td>\n",
              "      <td>2.068247</td>\n",
              "      <td>1.748866</td>\n",
              "      <td>1.514407</td>\n",
              "      <td>1.715991</td>\n",
              "      <td>1.728042</td>\n",
              "    </tr>\n",
              "    <tr>\n",
              "      <th>6</th>\n",
              "      <td>ratio_7</td>\n",
              "      <td>1.829069</td>\n",
              "      <td>1.549882</td>\n",
              "      <td>1.447793</td>\n",
              "      <td>1.669403</td>\n",
              "      <td>1.006766</td>\n",
              "      <td>1.083722</td>\n",
              "    </tr>\n",
              "    <tr>\n",
              "      <th>7</th>\n",
              "      <td>U2M_NA_producto_new_sum</td>\n",
              "      <td>0.000000</td>\n",
              "      <td>0.000000</td>\n",
              "      <td>1.337730</td>\n",
              "      <td>3.195982</td>\n",
              "      <td>3.359500</td>\n",
              "      <td>0.000000</td>\n",
              "    </tr>\n",
              "    <tr>\n",
              "      <th>8</th>\n",
              "      <td>U6M_TLV_canal_asignado_new_sum</td>\n",
              "      <td>1.974550</td>\n",
              "      <td>1.301390</td>\n",
              "      <td>1.324950</td>\n",
              "      <td>1.510224</td>\n",
              "      <td>0.908799</td>\n",
              "      <td>0.794538</td>\n",
              "    </tr>\n",
              "    <tr>\n",
              "      <th>9</th>\n",
              "      <td>U6M_Adquisicion_producto_new_sum</td>\n",
              "      <td>0.906523</td>\n",
              "      <td>2.219568</td>\n",
              "      <td>1.315665</td>\n",
              "      <td>1.367642</td>\n",
              "      <td>1.270716</td>\n",
              "      <td>0.673814</td>\n",
              "    </tr>\n",
              "    <tr>\n",
              "      <th>10</th>\n",
              "      <td>U10M_sum_mto_saldo_in_new_clasif_-1.0_sum</td>\n",
              "      <td>1.422435</td>\n",
              "      <td>0.491326</td>\n",
              "      <td>1.302006</td>\n",
              "      <td>2.057530</td>\n",
              "      <td>0.796682</td>\n",
              "      <td>1.844063</td>\n",
              "    </tr>\n",
              "    <tr>\n",
              "      <th>11</th>\n",
              "      <td>U4M_sum_mto_saldo_in_new_producto_TARJETAS COM...</td>\n",
              "      <td>1.058851</td>\n",
              "      <td>1.010278</td>\n",
              "      <td>1.259943</td>\n",
              "      <td>1.569311</td>\n",
              "      <td>1.105616</td>\n",
              "      <td>1.633139</td>\n",
              "    </tr>\n",
              "    <tr>\n",
              "      <th>12</th>\n",
              "      <td>U4M_coefvar_producto_new_count</td>\n",
              "      <td>1.102531</td>\n",
              "      <td>1.536040</td>\n",
              "      <td>1.246941</td>\n",
              "      <td>1.279993</td>\n",
              "      <td>1.027301</td>\n",
              "      <td>1.284719</td>\n",
              "    </tr>\n",
              "    <tr>\n",
              "      <th>13</th>\n",
              "      <td>soc_var6</td>\n",
              "      <td>1.168566</td>\n",
              "      <td>1.310215</td>\n",
              "      <td>1.224786</td>\n",
              "      <td>1.202370</td>\n",
              "      <td>1.131704</td>\n",
              "      <td>1.327260</td>\n",
              "    </tr>\n",
              "    <tr>\n",
              "      <th>14</th>\n",
              "      <td>U4M_TLV_canal_asignado_new_sum</td>\n",
              "      <td>0.360004</td>\n",
              "      <td>1.266286</td>\n",
              "      <td>1.159050</td>\n",
              "      <td>1.156917</td>\n",
              "      <td>1.724305</td>\n",
              "      <td>1.365467</td>\n",
              "    </tr>\n",
              "    <tr>\n",
              "      <th>15</th>\n",
              "      <td>U4M_NA_producto_new_sum</td>\n",
              "      <td>0.743748</td>\n",
              "      <td>1.880645</td>\n",
              "      <td>1.133099</td>\n",
              "      <td>2.073088</td>\n",
              "      <td>0.000000</td>\n",
              "      <td>0.861132</td>\n",
              "    </tr>\n",
              "    <tr>\n",
              "      <th>16</th>\n",
              "      <td>U10M_sum_mto_saldo_in_new_producto_TARJETAS CO...</td>\n",
              "      <td>1.128457</td>\n",
              "      <td>1.054910</td>\n",
              "      <td>1.129318</td>\n",
              "      <td>1.244613</td>\n",
              "      <td>0.894570</td>\n",
              "      <td>1.362867</td>\n",
              "    </tr>\n",
              "    <tr>\n",
              "      <th>17</th>\n",
              "      <td>ingreso_neto</td>\n",
              "      <td>0.869300</td>\n",
              "      <td>0.936127</td>\n",
              "      <td>0.946795</td>\n",
              "      <td>1.111269</td>\n",
              "      <td>0.937082</td>\n",
              "      <td>0.865268</td>\n",
              "    </tr>\n",
              "    <tr>\n",
              "      <th>18</th>\n",
              "      <td>U4M_sum_mto_saldo_in_new_producto_LINEA TOTAL ...</td>\n",
              "      <td>0.965213</td>\n",
              "      <td>0.514858</td>\n",
              "      <td>0.853326</td>\n",
              "      <td>0.416557</td>\n",
              "      <td>1.661252</td>\n",
              "      <td>0.718667</td>\n",
              "    </tr>\n",
              "    <tr>\n",
              "      <th>19</th>\n",
              "      <td>U2M_sum_mto_saldo_in_new_producto_LINEA TOTAL ...</td>\n",
              "      <td>1.081287</td>\n",
              "      <td>1.323823</td>\n",
              "      <td>0.830709</td>\n",
              "      <td>0.406008</td>\n",
              "      <td>0.782047</td>\n",
              "      <td>0.471772</td>\n",
              "    </tr>\n",
              "  </tbody>\n",
              "</table>\n",
              "</div>"
            ],
            "text/plain": [
              "                                                 name  ...  importance_fold_4\n",
              "0                       U2M_NA_canal_asignado_new_sum  ...           5.205336\n",
              "1                         U2M_Combos_producto_new_sum  ...           4.668158\n",
              "2                                      flg_exist_hist  ...           3.912625\n",
              "3                             U6M_NA_producto_new_sum  ...           5.112478\n",
              "4                                            soc_var1  ...           2.935603\n",
              "5   U2M_sum_mto_saldo_in_new_producto_TARJETAS COM...  ...           1.728042\n",
              "6                                             ratio_7  ...           1.083722\n",
              "7                             U2M_NA_producto_new_sum  ...           0.000000\n",
              "8                      U6M_TLV_canal_asignado_new_sum  ...           0.794538\n",
              "9                    U6M_Adquisicion_producto_new_sum  ...           0.673814\n",
              "10          U10M_sum_mto_saldo_in_new_clasif_-1.0_sum  ...           1.844063\n",
              "11  U4M_sum_mto_saldo_in_new_producto_TARJETAS COM...  ...           1.633139\n",
              "12                     U4M_coefvar_producto_new_count  ...           1.284719\n",
              "13                                           soc_var6  ...           1.327260\n",
              "14                     U4M_TLV_canal_asignado_new_sum  ...           1.365467\n",
              "15                            U4M_NA_producto_new_sum  ...           0.861132\n",
              "16  U10M_sum_mto_saldo_in_new_producto_TARJETAS CO...  ...           1.362867\n",
              "17                                       ingreso_neto  ...           0.865268\n",
              "18  U4M_sum_mto_saldo_in_new_producto_LINEA TOTAL ...  ...           0.718667\n",
              "19  U2M_sum_mto_saldo_in_new_producto_LINEA TOTAL ...  ...           0.471772\n",
              "\n",
              "[20 rows x 7 columns]"
            ]
          },
          "metadata": {
            "tags": []
          },
          "execution_count": 32
        }
      ]
    },
    {
      "cell_type": "code",
      "metadata": {
        "id": "Px6-ybfDCVNP",
        "colab_type": "code",
        "colab": {}
      },
      "source": [
        "df_predictores_.to_csv(\"predictores_rentability_model.csv\", index=False)"
      ],
      "execution_count": 0,
      "outputs": []
    },
    {
      "cell_type": "markdown",
      "metadata": {
        "id": "zQlWrBlqUIsN",
        "colab_type": "text"
      },
      "source": [
        "###### With Just Contacted"
      ]
    },
    {
      "cell_type": "code",
      "metadata": {
        "id": "ZoIpfpl9XDJB",
        "colab_type": "code",
        "outputId": "ab428915-90bd-4f86-b37a-9687acbd2cd8",
        "colab": {
          "base_uri": "https://localhost:8080/",
          "height": 204
        }
      },
      "source": [
        "df_train.loc[df_train[\"codtarget\"] == 1].groupby(\"codmes\", as_index=False).agg({\"new_target\": [\"count\", \"sum\", \"mean\"]})"
      ],
      "execution_count": 0,
      "outputs": [
        {
          "output_type": "execute_result",
          "data": {
            "text/html": [
              "<div>\n",
              "<style scoped>\n",
              "    .dataframe tbody tr th:only-of-type {\n",
              "        vertical-align: middle;\n",
              "    }\n",
              "\n",
              "    .dataframe tbody tr th {\n",
              "        vertical-align: top;\n",
              "    }\n",
              "\n",
              "    .dataframe thead tr th {\n",
              "        text-align: left;\n",
              "    }\n",
              "</style>\n",
              "<table border=\"1\" class=\"dataframe\">\n",
              "  <thead>\n",
              "    <tr>\n",
              "      <th></th>\n",
              "      <th>codmes</th>\n",
              "      <th colspan=\"3\" halign=\"left\">new_target</th>\n",
              "    </tr>\n",
              "    <tr>\n",
              "      <th></th>\n",
              "      <th></th>\n",
              "      <th>count</th>\n",
              "      <th>sum</th>\n",
              "      <th>mean</th>\n",
              "    </tr>\n",
              "  </thead>\n",
              "  <tbody>\n",
              "    <tr>\n",
              "      <th>0</th>\n",
              "      <td>201901</td>\n",
              "      <td>6797</td>\n",
              "      <td>4170.0</td>\n",
              "      <td>0.613506</td>\n",
              "    </tr>\n",
              "    <tr>\n",
              "      <th>1</th>\n",
              "      <td>201902</td>\n",
              "      <td>6876</td>\n",
              "      <td>4461.0</td>\n",
              "      <td>0.648778</td>\n",
              "    </tr>\n",
              "    <tr>\n",
              "      <th>2</th>\n",
              "      <td>201903</td>\n",
              "      <td>8495</td>\n",
              "      <td>6004.0</td>\n",
              "      <td>0.706769</td>\n",
              "    </tr>\n",
              "    <tr>\n",
              "      <th>3</th>\n",
              "      <td>201904</td>\n",
              "      <td>8804</td>\n",
              "      <td>6159.0</td>\n",
              "      <td>0.699568</td>\n",
              "    </tr>\n",
              "  </tbody>\n",
              "</table>\n",
              "</div>"
            ],
            "text/plain": [
              "   codmes new_target                  \n",
              "               count     sum      mean\n",
              "0  201901       6797  4170.0  0.613506\n",
              "1  201902       6876  4461.0  0.648778\n",
              "2  201903       8495  6004.0  0.706769\n",
              "3  201904       8804  6159.0  0.699568"
            ]
          },
          "metadata": {
            "tags": []
          },
          "execution_count": 33
        }
      ]
    },
    {
      "cell_type": "code",
      "metadata": {
        "id": "jpgsjhUowyDJ",
        "colab_type": "code",
        "outputId": "e411e838-62bb-4dca-9411-d1574e3f459e",
        "colab": {
          "base_uri": "https://localhost:8080/",
          "height": 1000
        }
      },
      "source": [
        "results_renta_2, list_models_renta_2, df_probs_train_renta_2, df_probs_val_renta_2, df_probs_test_renta_2 = model_with_cv(df_train.loc[df_train[target_adqui] == 1].reset_index(drop=True), df_test, target_class, predictores, None)"
      ],
      "execution_count": 0,
      "outputs": [
        {
          "output_type": "stream",
          "text": [
            "Iteracion 0\n",
            "\t CLASIFICACIÓN\n",
            "\t\t 1. CATBOOST\n",
            "Learning rate set to 0.109302\n",
            "0:\tlearn: 0.6443666\ttest: 0.6477043\tbest: 0.6477043 (0)\ttotal: 81.9ms\tremaining: 1m 21s\n",
            "200:\tlearn: 0.7708621\ttest: 0.7251613\tbest: 0.7257644 (166)\ttotal: 14.1s\tremaining: 56.2s\n",
            "400:\tlearn: 0.8021103\ttest: 0.7226514\tbest: 0.7257644 (166)\ttotal: 28s\tremaining: 41.8s\n",
            "600:\tlearn: 0.8208703\ttest: 0.7196231\tbest: 0.7257644 (166)\ttotal: 41.7s\tremaining: 27.7s\n",
            "800:\tlearn: 0.8359344\ttest: 0.7187715\tbest: 0.7257644 (166)\ttotal: 55.5s\tremaining: 13.8s\n",
            "999:\tlearn: 0.8458733\ttest: 0.7175394\tbest: 0.7257644 (166)\ttotal: 1m 9s\tremaining: 0us\n",
            "bestTest = 0.7257643938\n",
            "bestIteration = 166\n",
            "Shrink model to first 167 iterations.\n",
            "\t\t 2. LIGHTGBM\n",
            "Training until validation scores don't improve for 100 rounds.\n",
            "[20]\ttraining's auc: 0.738055\tvalid_1's auc: 0.711406\n",
            "[40]\ttraining's auc: 0.758152\tvalid_1's auc: 0.720116\n",
            "[60]\ttraining's auc: 0.775474\tvalid_1's auc: 0.726444\n",
            "[80]\ttraining's auc: 0.791103\tvalid_1's auc: 0.729198\n",
            "[100]\ttraining's auc: 0.805153\tvalid_1's auc: 0.728948\n",
            "[120]\ttraining's auc: 0.817579\tvalid_1's auc: 0.728209\n",
            "[140]\ttraining's auc: 0.827297\tvalid_1's auc: 0.728004\n",
            "[160]\ttraining's auc: 0.837298\tvalid_1's auc: 0.72802\n",
            "[180]\ttraining's auc: 0.846987\tvalid_1's auc: 0.726162\n",
            "[200]\ttraining's auc: 0.855371\tvalid_1's auc: 0.725791\n",
            "Early stopping, best iteration is:\n",
            "[105]\ttraining's auc: 0.808588\tvalid_1's auc: 0.729313\n",
            "AVG METRICS CLASSIFICATION\n",
            "Mean Target:\tTrain: 0.6714,\tVal In: 0.6713\n",
            "Mean Probs:\tTrain: 0.6715,\tVal In: 0.6703\n",
            "Std Probs:\tTrain: 0.159,\tVal In: 0.1552\n",
            "CATBOOST REPORT\n",
            "                           prob  target_sum  ...  target_mean  target_%\n",
            "0  (0.10099999999999999, 0.437]       194.0  ...     0.312903      4.66\n",
            "1                (0.437, 0.543]       309.0  ...     0.499192      7.43\n",
            "2                (0.543, 0.613]       335.0  ...     0.540323      8.05\n",
            "3                (0.613, 0.665]       377.0  ...     0.609047      9.06\n",
            "4                (0.665, 0.708]       399.0  ...     0.643548      9.59\n",
            "5                (0.708, 0.742]       460.0  ...     0.743134     11.06\n",
            "6                (0.742, 0.768]       486.0  ...     0.785137     11.69\n",
            "7                (0.768, 0.803]       501.0  ...     0.808065     12.05\n",
            "8                (0.803, 0.842]       532.0  ...     0.859451     12.79\n",
            "9                (0.842, 0.951]       566.0  ...     0.912903     13.61\n",
            "\n",
            "[10 rows x 5 columns]\n",
            "####################################################################################################################################################################################################################################################################################################################################################################################################################################################################################################################\n",
            "LIGHTGBM REPORT\n",
            "             prob  target_sum  target_count  target_mean  target_%\n",
            "0  (0.154, 0.431]       205.0           620     0.330645      4.93\n",
            "1  (0.431, 0.527]       273.0           619     0.441034      6.56\n",
            "2  (0.527, 0.598]       352.0           620     0.567742      8.46\n",
            "3  (0.598, 0.655]       377.0           619     0.609047      9.06\n",
            "4  (0.655, 0.707]       415.0           620     0.669355      9.98\n",
            "5  (0.707, 0.744]       441.0           619     0.712439     10.60\n",
            "6  (0.744, 0.776]       483.0           619     0.780291     11.61\n",
            "7  (0.776, 0.812]       508.0           620     0.819355     12.21\n",
            "8  (0.812, 0.852]       541.0           619     0.873990     13.01\n",
            "9  (0.852, 0.931]       564.0           620     0.909677     13.56\n",
            "####################################################################################################################################################################################################################################################################################################################################################################################################################################################################################################################\n",
            "Iteracion 1\n",
            "\t CLASIFICACIÓN\n",
            "\t\t 1. CATBOOST\n",
            "Learning rate set to 0.109302\n",
            "0:\tlearn: 0.6528740\ttest: 0.6445482\tbest: 0.6445482 (0)\ttotal: 78ms\tremaining: 1m 17s\n",
            "200:\tlearn: 0.7709113\ttest: 0.7083021\tbest: 0.7085484 (183)\ttotal: 14s\tremaining: 55.7s\n",
            "400:\tlearn: 0.8008847\ttest: 0.7108659\tbest: 0.7109958 (381)\ttotal: 27.6s\tremaining: 41.3s\n",
            "600:\tlearn: 0.8211429\ttest: 0.7083783\tbest: 0.7109958 (381)\ttotal: 41.3s\tremaining: 27.4s\n",
            "800:\tlearn: 0.8341866\ttest: 0.7053925\tbest: 0.7109958 (381)\ttotal: 54.9s\tremaining: 13.6s\n",
            "999:\tlearn: 0.8441850\ttest: 0.7042075\tbest: 0.7109958 (381)\ttotal: 1m 8s\tremaining: 0us\n",
            "bestTest = 0.7109957635\n",
            "bestIteration = 381\n",
            "Shrink model to first 382 iterations.\n",
            "\t\t 2. LIGHTGBM\n",
            "Training until validation scores don't improve for 100 rounds.\n",
            "[20]\ttraining's auc: 0.738946\tvalid_1's auc: 0.700291\n",
            "[40]\ttraining's auc: 0.758534\tvalid_1's auc: 0.705121\n",
            "[60]\ttraining's auc: 0.776036\tvalid_1's auc: 0.708733\n",
            "[80]\ttraining's auc: 0.791341\tvalid_1's auc: 0.711161\n",
            "[100]\ttraining's auc: 0.804765\tvalid_1's auc: 0.71153\n",
            "[120]\ttraining's auc: 0.816518\tvalid_1's auc: 0.711\n",
            "[140]\ttraining's auc: 0.827778\tvalid_1's auc: 0.710949\n",
            "[160]\ttraining's auc: 0.837545\tvalid_1's auc: 0.710642\n",
            "[180]\ttraining's auc: 0.846968\tvalid_1's auc: 0.710738\n",
            "Early stopping, best iteration is:\n",
            "[87]\ttraining's auc: 0.796474\tvalid_1's auc: 0.712075\n",
            "AVG METRICS CLASSIFICATION\n",
            "Mean Target:\tTrain: 0.6714,\tVal In: 0.6713\n",
            "Mean Probs:\tTrain: 0.6715,\tVal In: 0.6749\n",
            "Std Probs:\tTrain: 0.1769,\tVal In: 0.1698\n",
            "CATBOOST REPORT\n",
            "              prob  target_sum  target_count  target_mean  target_%\n",
            "0  (0.0553, 0.418]       211.0           620     0.340323      5.07\n",
            "1   (0.418, 0.531]       304.0           619     0.491115      7.31\n",
            "2    (0.531, 0.61]       348.0           620     0.561290      8.37\n",
            "3     (0.61, 0.67]       382.0           619     0.617124      9.18\n",
            "4    (0.67, 0.718]       412.0           620     0.664516      9.91\n",
            "5   (0.718, 0.754]       445.0           619     0.718901     10.70\n",
            "6   (0.754, 0.786]       483.0           619     0.780291     11.61\n",
            "7    (0.786, 0.82]       505.0           620     0.814516     12.14\n",
            "8    (0.82, 0.862]       512.0           619     0.827141     12.31\n",
            "9   (0.862, 0.968]       557.0           620     0.898387     13.39\n",
            "####################################################################################################################################################################################################################################################################################################################################################################################################################################################################################################################\n",
            "LIGHTGBM REPORT\n",
            "             prob  target_sum  target_count  target_mean  target_%\n",
            "0  (0.177, 0.434]       207.0           620     0.333871      4.98\n",
            "1  (0.434, 0.528]       280.0           619     0.452342      6.73\n",
            "2  (0.528, 0.604]       357.0           621     0.574879      8.58\n",
            "3   (0.604, 0.66]       387.0           618     0.626214      9.31\n",
            "4   (0.66, 0.711]       436.0           620     0.703226     10.48\n",
            "5  (0.711, 0.748]       446.0           619     0.720517     10.72\n",
            "6  (0.748, 0.784]       477.0           619     0.770598     11.47\n",
            "7  (0.784, 0.813]       506.0           621     0.814815     12.17\n",
            "8  (0.813, 0.852]       507.0           618     0.820388     12.19\n",
            "9  (0.852, 0.922]       556.0           620     0.896774     13.37\n",
            "####################################################################################################################################################################################################################################################################################################################################################################################################################################################################################################################\n",
            "Iteracion 2\n",
            "\t CLASIFICACIÓN\n",
            "\t\t 1. CATBOOST\n",
            "Learning rate set to 0.109302\n",
            "0:\tlearn: 0.6528325\ttest: 0.6465544\tbest: 0.6465544 (0)\ttotal: 77.5ms\tremaining: 1m 17s\n",
            "200:\tlearn: 0.7718048\ttest: 0.7102701\tbest: 0.7103600 (198)\ttotal: 14s\tremaining: 55.5s\n",
            "400:\tlearn: 0.8026625\ttest: 0.7074018\tbest: 0.7106234 (205)\ttotal: 27.8s\tremaining: 41.5s\n",
            "600:\tlearn: 0.8194060\ttest: 0.7047001\tbest: 0.7106234 (205)\ttotal: 41.5s\tremaining: 27.5s\n",
            "800:\tlearn: 0.8319670\ttest: 0.7035590\tbest: 0.7106234 (205)\ttotal: 54.9s\tremaining: 13.7s\n",
            "999:\tlearn: 0.8414966\ttest: 0.7015831\tbest: 0.7106234 (205)\ttotal: 1m 8s\tremaining: 0us\n",
            "bestTest = 0.7106233537\n",
            "bestIteration = 205\n",
            "Shrink model to first 206 iterations.\n",
            "\t\t 2. LIGHTGBM\n",
            "Training until validation scores don't improve for 100 rounds.\n",
            "[20]\ttraining's auc: 0.740917\tvalid_1's auc: 0.700065\n",
            "[40]\ttraining's auc: 0.761173\tvalid_1's auc: 0.704307\n",
            "[60]\ttraining's auc: 0.77887\tvalid_1's auc: 0.707831\n",
            "[80]\ttraining's auc: 0.794329\tvalid_1's auc: 0.709495\n",
            "[100]\ttraining's auc: 0.807821\tvalid_1's auc: 0.709222\n",
            "[120]\ttraining's auc: 0.818111\tvalid_1's auc: 0.709873\n",
            "[140]\ttraining's auc: 0.828789\tvalid_1's auc: 0.708926\n",
            "[160]\ttraining's auc: 0.838517\tvalid_1's auc: 0.709796\n",
            "[180]\ttraining's auc: 0.847531\tvalid_1's auc: 0.709989\n",
            "[200]\ttraining's auc: 0.856463\tvalid_1's auc: 0.709644\n",
            "[220]\ttraining's auc: 0.862672\tvalid_1's auc: 0.708218\n",
            "Early stopping, best iteration is:\n",
            "[122]\ttraining's auc: 0.819479\tvalid_1's auc: 0.710245\n",
            "AVG METRICS CLASSIFICATION\n",
            "Mean Target:\tTrain: 0.6714,\tVal In: 0.6713\n",
            "Mean Probs:\tTrain: 0.6715,\tVal In: 0.6714\n",
            "Std Probs:\tTrain: 0.1661,\tVal In: 0.1633\n",
            "CATBOOST REPORT\n",
            "             prob  target_sum  target_count  target_mean  target_%\n",
            "0   (0.105, 0.43]       219.0           620     0.353226      5.27\n",
            "1   (0.43, 0.533]       302.0           619     0.487884      7.26\n",
            "2  (0.533, 0.609]       340.0           620     0.548387      8.18\n",
            "3  (0.609, 0.664]       380.0           619     0.613893      9.14\n",
            "4  (0.664, 0.711]       417.0           620     0.672581     10.03\n",
            "5  (0.711, 0.748]       463.0           619     0.747981     11.13\n",
            "6  (0.748, 0.776]       454.0           619     0.733441     10.92\n",
            "7  (0.776, 0.809]       498.0           620     0.803226     11.97\n",
            "8  (0.809, 0.853]       531.0           619     0.857835     12.77\n",
            "9  (0.853, 0.973]       555.0           620     0.895161     13.34\n",
            "####################################################################################################################################################################################################################################################################################################################################################################################################################################################################################################################\n",
            "LIGHTGBM REPORT\n",
            "             prob  target_sum  target_count  target_mean  target_%\n",
            "0  (0.129, 0.415]       224.0           620     0.361290      5.39\n",
            "1  (0.415, 0.521]       286.0           619     0.462036      6.88\n",
            "2  (0.521, 0.599]       344.0           620     0.554839      8.27\n",
            "3  (0.599, 0.656]       385.0           619     0.621971      9.26\n",
            "4   (0.656, 0.71]       432.0           620     0.696774     10.39\n",
            "5   (0.71, 0.752]       440.0           619     0.710824     10.58\n",
            "6  (0.752, 0.787]       480.0           619     0.775444     11.54\n",
            "7  (0.787, 0.821]       497.0           620     0.801613     11.95\n",
            "8  (0.821, 0.859]       507.0           619     0.819063     12.19\n",
            "9  (0.859, 0.943]       564.0           620     0.909677     13.56\n",
            "####################################################################################################################################################################################################################################################################################################################################################################################################################################################################################################################\n",
            "Iteracion 3\n",
            "\t CLASIFICACIÓN\n",
            "\t\t 1. CATBOOST\n",
            "Learning rate set to 0.109302\n",
            "0:\tlearn: 0.6460087\ttest: 0.6348746\tbest: 0.6348746 (0)\ttotal: 77.3ms\tremaining: 1m 17s\n",
            "200:\tlearn: 0.7746928\ttest: 0.7072686\tbest: 0.7075235 (197)\ttotal: 14s\tremaining: 55.7s\n",
            "400:\tlearn: 0.8048461\ttest: 0.7086771\tbest: 0.7090089 (345)\ttotal: 27.7s\tremaining: 41.3s\n",
            "600:\tlearn: 0.8257881\ttest: 0.7058131\tbest: 0.7090089 (345)\ttotal: 41.5s\tremaining: 27.5s\n",
            "800:\tlearn: 0.8420546\ttest: 0.7042818\tbest: 0.7090089 (345)\ttotal: 55.2s\tremaining: 13.7s\n",
            "999:\tlearn: 0.8522740\ttest: 0.7031263\tbest: 0.7090089 (345)\ttotal: 1m 8s\tremaining: 0us\n",
            "bestTest = 0.7090089023\n",
            "bestIteration = 345\n",
            "Shrink model to first 346 iterations.\n",
            "\t\t 2. LIGHTGBM\n",
            "Training until validation scores don't improve for 100 rounds.\n",
            "[20]\ttraining's auc: 0.740479\tvalid_1's auc: 0.693949\n",
            "[40]\ttraining's auc: 0.761625\tvalid_1's auc: 0.704003\n",
            "[60]\ttraining's auc: 0.776937\tvalid_1's auc: 0.707437\n",
            "[80]\ttraining's auc: 0.791734\tvalid_1's auc: 0.709399\n",
            "[100]\ttraining's auc: 0.804293\tvalid_1's auc: 0.70901\n",
            "[120]\ttraining's auc: 0.816881\tvalid_1's auc: 0.71063\n",
            "[140]\ttraining's auc: 0.827293\tvalid_1's auc: 0.709402\n",
            "[160]\ttraining's auc: 0.836281\tvalid_1's auc: 0.708711\n",
            "[180]\ttraining's auc: 0.846215\tvalid_1's auc: 0.708377\n",
            "[200]\ttraining's auc: 0.855172\tvalid_1's auc: 0.707935\n",
            "[220]\ttraining's auc: 0.864991\tvalid_1's auc: 0.707854\n",
            "Early stopping, best iteration is:\n",
            "[120]\ttraining's auc: 0.816881\tvalid_1's auc: 0.71063\n",
            "AVG METRICS CLASSIFICATION\n",
            "Mean Target:\tTrain: 0.6714,\tVal In: 0.6715\n",
            "Mean Probs:\tTrain: 0.6714,\tVal In: 0.6739\n",
            "Std Probs:\tTrain: 0.1772,\tVal In: 0.1712\n",
            "CATBOOST REPORT\n",
            "              prob  target_sum  target_count  target_mean  target_%\n",
            "0  (0.0457, 0.412]       235.0           620     0.379032      5.65\n",
            "1   (0.412, 0.536]       290.0           619     0.468498      6.97\n",
            "2   (0.536, 0.614]       338.0           619     0.546042      8.13\n",
            "3   (0.614, 0.672]       375.0           620     0.604839      9.02\n",
            "4   (0.672, 0.721]       412.0           619     0.665590      9.91\n",
            "5   (0.721, 0.755]       452.0           620     0.729032     10.87\n",
            "6   (0.755, 0.782]       476.0           619     0.768982     11.45\n",
            "7   (0.782, 0.817]       503.0           619     0.812601     12.09\n",
            "8    (0.817, 0.86]       533.0           619     0.861066     12.82\n",
            "9    (0.86, 0.978]       545.0           620     0.879032     13.10\n",
            "####################################################################################################################################################################################################################################################################################################################################################################################################################################################################################################################\n",
            "LIGHTGBM REPORT\n",
            "             prob  target_sum  target_count  target_mean  target_%\n",
            "0  (0.127, 0.417]       233.0           620     0.375806      5.60\n",
            "1  (0.417, 0.529]       289.0           619     0.466882      6.95\n",
            "2  (0.529, 0.605]       341.0           619     0.550889      8.20\n",
            "3  (0.605, 0.668]       374.0           620     0.603226      8.99\n",
            "4   (0.668, 0.72]       425.0           619     0.686591     10.22\n",
            "5   (0.72, 0.756]       437.0           621     0.703704     10.51\n",
            "6  (0.756, 0.789]       476.0           618     0.770227     11.45\n",
            "7  (0.789, 0.819]       502.0           619     0.810985     12.07\n",
            "8  (0.819, 0.861]       537.0           619     0.867528     12.91\n",
            "9  (0.861, 0.958]       545.0           620     0.879032     13.10\n",
            "####################################################################################################################################################################################################################################################################################################################################################################################################################################################################################################################\n",
            "Iteracion 4\n",
            "\t CLASIFICACIÓN\n",
            "\t\t 1. CATBOOST\n",
            "Learning rate set to 0.109302\n",
            "0:\tlearn: 0.6553917\ttest: 0.6557148\tbest: 0.6557148 (0)\ttotal: 79.7ms\tremaining: 1m 19s\n",
            "200:\tlearn: 0.7710423\ttest: 0.7137909\tbest: 0.7139130 (199)\ttotal: 14.1s\tremaining: 56s\n",
            "400:\tlearn: 0.7988658\ttest: 0.7129861\tbest: 0.7141926 (216)\ttotal: 27.8s\tremaining: 41.5s\n",
            "600:\tlearn: 0.8173298\ttest: 0.7116389\tbest: 0.7141926 (216)\ttotal: 41.4s\tremaining: 27.5s\n",
            "800:\tlearn: 0.8315265\ttest: 0.7112015\tbest: 0.7141926 (216)\ttotal: 55s\tremaining: 13.7s\n",
            "999:\tlearn: 0.8436815\ttest: 0.7098808\tbest: 0.7141926 (216)\ttotal: 1m 8s\tremaining: 0us\n",
            "bestTest = 0.7141926289\n",
            "bestIteration = 216\n",
            "Shrink model to first 217 iterations.\n",
            "\t\t 2. LIGHTGBM\n",
            "Training until validation scores don't improve for 100 rounds.\n",
            "[20]\ttraining's auc: 0.738531\tvalid_1's auc: 0.700359\n",
            "[40]\ttraining's auc: 0.758143\tvalid_1's auc: 0.706713\n",
            "[60]\ttraining's auc: 0.774876\tvalid_1's auc: 0.712515\n",
            "[80]\ttraining's auc: 0.789981\tvalid_1's auc: 0.713994\n",
            "[100]\ttraining's auc: 0.803025\tvalid_1's auc: 0.715308\n",
            "[120]\ttraining's auc: 0.813669\tvalid_1's auc: 0.717105\n",
            "[140]\ttraining's auc: 0.825541\tvalid_1's auc: 0.717503\n",
            "[160]\ttraining's auc: 0.835577\tvalid_1's auc: 0.716987\n",
            "[180]\ttraining's auc: 0.844135\tvalid_1's auc: 0.717879\n",
            "[200]\ttraining's auc: 0.853113\tvalid_1's auc: 0.71759\n",
            "[220]\ttraining's auc: 0.862224\tvalid_1's auc: 0.717431\n",
            "[240]\ttraining's auc: 0.869501\tvalid_1's auc: 0.716754\n",
            "[260]\ttraining's auc: 0.877648\tvalid_1's auc: 0.716083\n",
            "[280]\ttraining's auc: 0.883523\tvalid_1's auc: 0.716369\n",
            "Early stopping, best iteration is:\n",
            "[184]\ttraining's auc: 0.845807\tvalid_1's auc: 0.718085\n",
            "AVG METRICS CLASSIFICATION\n",
            "Mean Target:\tTrain: 0.6714,\tVal In: 0.6714\n",
            "Mean Probs:\tTrain: 0.6715,\tVal In: 0.6704\n",
            "Std Probs:\tTrain: 0.1647,\tVal In: 0.1618\n",
            "CATBOOST REPORT\n",
            "             prob  target_sum  target_count  target_mean  target_%\n",
            "0  (0.0713, 0.43]       213.0           620     0.343548      5.12\n",
            "1   (0.43, 0.535]       283.0           619     0.457189      6.81\n",
            "2  (0.535, 0.608]       344.0           619     0.555735      8.27\n",
            "3  (0.608, 0.667]       400.0           619     0.646204      9.62\n",
            "4  (0.667, 0.711]       424.0           620     0.683871     10.20\n",
            "5  (0.711, 0.748]       458.0           619     0.739903     11.01\n",
            "6  (0.748, 0.776]       461.0           619     0.744750     11.09\n",
            "7  (0.776, 0.805]       490.0           619     0.791599     11.78\n",
            "8  (0.805, 0.847]       520.0           619     0.840065     12.51\n",
            "9  (0.847, 0.964]       565.0           620     0.911290     13.59\n",
            "####################################################################################################################################################################################################################################################################################################################################################################################################################################################################################################################\n",
            "LIGHTGBM REPORT\n",
            "             prob  target_sum  target_count  target_mean  target_%\n",
            "0  (0.125, 0.415]       212.0           620     0.341935      5.10\n",
            "1  (0.415, 0.517]       291.0           619     0.470113      7.00\n",
            "2  (0.517, 0.596]       325.0           619     0.525040      7.82\n",
            "3  (0.596, 0.658]       401.0           619     0.647819      9.64\n",
            "4  (0.658, 0.713]       418.0           620     0.674194     10.05\n",
            "5  (0.713, 0.754]       455.0           619     0.735057     10.94\n",
            "6  (0.754, 0.787]       479.0           619     0.773829     11.52\n",
            "7  (0.787, 0.824]       493.0           619     0.796446     11.86\n",
            "8  (0.824, 0.863]       514.0           619     0.830372     12.36\n",
            "9  (0.863, 0.968]       570.0           620     0.919355     13.71\n",
            "####################################################################################################################################################################################################################################################################################################################################################################################################################################################################################################################\n"
          ],
          "name": "stdout"
        }
      ]
    },
    {
      "cell_type": "code",
      "metadata": {
        "id": "9MyFUnfFUm-e",
        "colab_type": "code",
        "outputId": "ac51a296-c80c-40ed-9a54-aa40da125327",
        "colab": {
          "base_uri": "https://localhost:8080/",
          "height": 1000
        }
      },
      "source": [
        "results_renta_2, list_models_renta_2, df_probs_train_renta_2, df_probs_val_renta_2, df_probs_test_renta_2 = model_with_cv(df_train.loc[df_train[target_adqui] == 1].reset_index(drop=True), df_test, target_class, predictores, None)"
      ],
      "execution_count": 0,
      "outputs": [
        {
          "output_type": "stream",
          "text": [
            "Iteracion 0\n",
            "\t CLASIFICACIÓN\n",
            "\t\t 1. CATBOOST\n",
            "Learning rate set to 0.109302\n",
            "0:\tlearn: 0.6443666\ttest: 0.6477043\tbest: 0.6477043 (0)\ttotal: 77.3ms\tremaining: 1m 17s\n",
            "200:\tlearn: 0.7708621\ttest: 0.7251613\tbest: 0.7257644 (166)\ttotal: 13.9s\tremaining: 55.1s\n",
            "400:\tlearn: 0.8021103\ttest: 0.7226514\tbest: 0.7257644 (166)\ttotal: 27.5s\tremaining: 41.1s\n",
            "600:\tlearn: 0.8208703\ttest: 0.7196231\tbest: 0.7257644 (166)\ttotal: 41s\tremaining: 27.2s\n",
            "800:\tlearn: 0.8359344\ttest: 0.7187715\tbest: 0.7257644 (166)\ttotal: 54.4s\tremaining: 13.5s\n",
            "999:\tlearn: 0.8458733\ttest: 0.7175394\tbest: 0.7257644 (166)\ttotal: 1m 7s\tremaining: 0us\n",
            "bestTest = 0.7257643938\n",
            "bestIteration = 166\n",
            "Shrink model to first 167 iterations.\n",
            "\t\t 2. LIGHTGBM\n",
            "Training until validation scores don't improve for 100 rounds.\n",
            "[20]\ttraining's auc: 0.738055\tvalid_1's auc: 0.711406\n",
            "[40]\ttraining's auc: 0.758152\tvalid_1's auc: 0.720116\n",
            "[60]\ttraining's auc: 0.775474\tvalid_1's auc: 0.726444\n",
            "[80]\ttraining's auc: 0.791103\tvalid_1's auc: 0.729198\n",
            "[100]\ttraining's auc: 0.805153\tvalid_1's auc: 0.728948\n",
            "[120]\ttraining's auc: 0.817579\tvalid_1's auc: 0.728209\n",
            "[140]\ttraining's auc: 0.827297\tvalid_1's auc: 0.728004\n",
            "[160]\ttraining's auc: 0.837298\tvalid_1's auc: 0.72802\n",
            "[180]\ttraining's auc: 0.846987\tvalid_1's auc: 0.726162\n",
            "[200]\ttraining's auc: 0.855371\tvalid_1's auc: 0.725791\n",
            "Early stopping, best iteration is:\n",
            "[105]\ttraining's auc: 0.808588\tvalid_1's auc: 0.729313\n",
            "AVG METRICS CLASSIFICATION\n",
            "Mean Target:\tTrain: 0.6714,\tVal In: 0.6713\n",
            "Mean Probs:\tTrain: 0.6715,\tVal In: 0.6703\n",
            "Std Probs:\tTrain: 0.159,\tVal In: 0.1552\n",
            "CATBOOST REPORT\n",
            "                           prob  target_sum  ...  target_mean  target_%\n",
            "0  (0.10099999999999999, 0.437]       194.0  ...     0.312903      4.66\n",
            "1                (0.437, 0.543]       309.0  ...     0.499192      7.43\n",
            "2                (0.543, 0.613]       335.0  ...     0.540323      8.05\n",
            "3                (0.613, 0.665]       377.0  ...     0.609047      9.06\n",
            "4                (0.665, 0.708]       399.0  ...     0.643548      9.59\n",
            "5                (0.708, 0.742]       460.0  ...     0.743134     11.06\n",
            "6                (0.742, 0.768]       486.0  ...     0.785137     11.69\n",
            "7                (0.768, 0.803]       501.0  ...     0.808065     12.05\n",
            "8                (0.803, 0.842]       532.0  ...     0.859451     12.79\n",
            "9                (0.842, 0.951]       566.0  ...     0.912903     13.61\n",
            "\n",
            "[10 rows x 5 columns]\n",
            "####################################################################################################################################################################################################################################################################################################################################################################################################################################################################################################################\n",
            "LIGHTGBM REPORT\n",
            "             prob  target_sum  target_count  target_mean  target_%\n",
            "0  (0.154, 0.431]       205.0           620     0.330645      4.93\n",
            "1  (0.431, 0.527]       273.0           619     0.441034      6.56\n",
            "2  (0.527, 0.598]       352.0           620     0.567742      8.46\n",
            "3  (0.598, 0.655]       377.0           619     0.609047      9.06\n",
            "4  (0.655, 0.707]       415.0           620     0.669355      9.98\n",
            "5  (0.707, 0.744]       441.0           619     0.712439     10.60\n",
            "6  (0.744, 0.776]       483.0           619     0.780291     11.61\n",
            "7  (0.776, 0.812]       508.0           620     0.819355     12.21\n",
            "8  (0.812, 0.852]       541.0           619     0.873990     13.01\n",
            "9  (0.852, 0.931]       564.0           620     0.909677     13.56\n",
            "####################################################################################################################################################################################################################################################################################################################################################################################################################################################################################################################\n",
            "Iteracion 1\n",
            "\t CLASIFICACIÓN\n",
            "\t\t 1. CATBOOST\n",
            "Learning rate set to 0.109302\n",
            "0:\tlearn: 0.6528740\ttest: 0.6445482\tbest: 0.6445482 (0)\ttotal: 77.6ms\tremaining: 1m 17s\n",
            "200:\tlearn: 0.7709113\ttest: 0.7083021\tbest: 0.7085484 (183)\ttotal: 13.7s\tremaining: 54.4s\n",
            "400:\tlearn: 0.8008847\ttest: 0.7108659\tbest: 0.7109958 (381)\ttotal: 27.1s\tremaining: 40.4s\n",
            "600:\tlearn: 0.8211429\ttest: 0.7083783\tbest: 0.7109958 (381)\ttotal: 40.4s\tremaining: 26.8s\n",
            "800:\tlearn: 0.8341866\ttest: 0.7053925\tbest: 0.7109958 (381)\ttotal: 53.7s\tremaining: 13.3s\n",
            "999:\tlearn: 0.8441850\ttest: 0.7042075\tbest: 0.7109958 (381)\ttotal: 1m 6s\tremaining: 0us\n",
            "bestTest = 0.7109957635\n",
            "bestIteration = 381\n",
            "Shrink model to first 382 iterations.\n",
            "\t\t 2. LIGHTGBM\n",
            "Training until validation scores don't improve for 100 rounds.\n",
            "[20]\ttraining's auc: 0.738946\tvalid_1's auc: 0.700291\n",
            "[40]\ttraining's auc: 0.758534\tvalid_1's auc: 0.705121\n",
            "[60]\ttraining's auc: 0.776036\tvalid_1's auc: 0.708733\n",
            "[80]\ttraining's auc: 0.791341\tvalid_1's auc: 0.711161\n",
            "[100]\ttraining's auc: 0.804765\tvalid_1's auc: 0.71153\n",
            "[120]\ttraining's auc: 0.816518\tvalid_1's auc: 0.711\n",
            "[140]\ttraining's auc: 0.827778\tvalid_1's auc: 0.710949\n",
            "[160]\ttraining's auc: 0.837545\tvalid_1's auc: 0.710642\n",
            "[180]\ttraining's auc: 0.846968\tvalid_1's auc: 0.710738\n",
            "Early stopping, best iteration is:\n",
            "[87]\ttraining's auc: 0.796474\tvalid_1's auc: 0.712075\n",
            "AVG METRICS CLASSIFICATION\n",
            "Mean Target:\tTrain: 0.6714,\tVal In: 0.6713\n",
            "Mean Probs:\tTrain: 0.6715,\tVal In: 0.6749\n",
            "Std Probs:\tTrain: 0.1769,\tVal In: 0.1698\n",
            "CATBOOST REPORT\n",
            "              prob  target_sum  target_count  target_mean  target_%\n",
            "0  (0.0553, 0.418]       211.0           620     0.340323      5.07\n",
            "1   (0.418, 0.531]       304.0           619     0.491115      7.31\n",
            "2    (0.531, 0.61]       348.0           620     0.561290      8.37\n",
            "3     (0.61, 0.67]       382.0           619     0.617124      9.18\n",
            "4    (0.67, 0.718]       412.0           620     0.664516      9.91\n",
            "5   (0.718, 0.754]       445.0           619     0.718901     10.70\n",
            "6   (0.754, 0.786]       483.0           619     0.780291     11.61\n",
            "7    (0.786, 0.82]       505.0           620     0.814516     12.14\n",
            "8    (0.82, 0.862]       512.0           619     0.827141     12.31\n",
            "9   (0.862, 0.968]       557.0           620     0.898387     13.39\n",
            "####################################################################################################################################################################################################################################################################################################################################################################################################################################################################################################################\n",
            "LIGHTGBM REPORT\n",
            "             prob  target_sum  target_count  target_mean  target_%\n",
            "0  (0.177, 0.434]       207.0           620     0.333871      4.98\n",
            "1  (0.434, 0.528]       280.0           619     0.452342      6.73\n",
            "2  (0.528, 0.604]       357.0           621     0.574879      8.58\n",
            "3   (0.604, 0.66]       387.0           618     0.626214      9.31\n",
            "4   (0.66, 0.711]       436.0           620     0.703226     10.48\n",
            "5  (0.711, 0.748]       446.0           619     0.720517     10.72\n",
            "6  (0.748, 0.784]       477.0           619     0.770598     11.47\n",
            "7  (0.784, 0.813]       506.0           621     0.814815     12.17\n",
            "8  (0.813, 0.852]       507.0           618     0.820388     12.19\n",
            "9  (0.852, 0.922]       556.0           620     0.896774     13.37\n",
            "####################################################################################################################################################################################################################################################################################################################################################################################################################################################################################################################\n",
            "Iteracion 2\n",
            "\t CLASIFICACIÓN\n",
            "\t\t 1. CATBOOST\n",
            "Learning rate set to 0.109302\n",
            "0:\tlearn: 0.6528325\ttest: 0.6465544\tbest: 0.6465544 (0)\ttotal: 76.6ms\tremaining: 1m 16s\n",
            "200:\tlearn: 0.7718048\ttest: 0.7102701\tbest: 0.7103600 (198)\ttotal: 13.7s\tremaining: 54.6s\n",
            "400:\tlearn: 0.8026625\ttest: 0.7074018\tbest: 0.7106234 (205)\ttotal: 27.2s\tremaining: 40.7s\n",
            "600:\tlearn: 0.8194060\ttest: 0.7047001\tbest: 0.7106234 (205)\ttotal: 40.6s\tremaining: 27s\n",
            "800:\tlearn: 0.8319670\ttest: 0.7035590\tbest: 0.7106234 (205)\ttotal: 54.1s\tremaining: 13.4s\n",
            "999:\tlearn: 0.8414966\ttest: 0.7015831\tbest: 0.7106234 (205)\ttotal: 1m 7s\tremaining: 0us\n",
            "bestTest = 0.7106233537\n",
            "bestIteration = 205\n",
            "Shrink model to first 206 iterations.\n",
            "\t\t 2. LIGHTGBM\n",
            "Training until validation scores don't improve for 100 rounds.\n",
            "[20]\ttraining's auc: 0.740917\tvalid_1's auc: 0.700065\n",
            "[40]\ttraining's auc: 0.761173\tvalid_1's auc: 0.704307\n",
            "[60]\ttraining's auc: 0.77887\tvalid_1's auc: 0.707831\n",
            "[80]\ttraining's auc: 0.794329\tvalid_1's auc: 0.709495\n",
            "[100]\ttraining's auc: 0.807821\tvalid_1's auc: 0.709222\n",
            "[120]\ttraining's auc: 0.818111\tvalid_1's auc: 0.709873\n",
            "[140]\ttraining's auc: 0.828789\tvalid_1's auc: 0.708926\n",
            "[160]\ttraining's auc: 0.838517\tvalid_1's auc: 0.709796\n",
            "[180]\ttraining's auc: 0.847531\tvalid_1's auc: 0.709989\n",
            "[200]\ttraining's auc: 0.856463\tvalid_1's auc: 0.709644\n",
            "[220]\ttraining's auc: 0.862672\tvalid_1's auc: 0.708218\n",
            "Early stopping, best iteration is:\n",
            "[122]\ttraining's auc: 0.819479\tvalid_1's auc: 0.710245\n",
            "AVG METRICS CLASSIFICATION\n",
            "Mean Target:\tTrain: 0.6714,\tVal In: 0.6713\n",
            "Mean Probs:\tTrain: 0.6715,\tVal In: 0.6714\n",
            "Std Probs:\tTrain: 0.1661,\tVal In: 0.1633\n",
            "CATBOOST REPORT\n",
            "             prob  target_sum  target_count  target_mean  target_%\n",
            "0   (0.105, 0.43]       219.0           620     0.353226      5.27\n",
            "1   (0.43, 0.533]       302.0           619     0.487884      7.26\n",
            "2  (0.533, 0.609]       340.0           620     0.548387      8.18\n",
            "3  (0.609, 0.664]       380.0           619     0.613893      9.14\n",
            "4  (0.664, 0.711]       417.0           620     0.672581     10.03\n",
            "5  (0.711, 0.748]       463.0           619     0.747981     11.13\n",
            "6  (0.748, 0.776]       454.0           619     0.733441     10.92\n",
            "7  (0.776, 0.809]       498.0           620     0.803226     11.97\n",
            "8  (0.809, 0.853]       531.0           619     0.857835     12.77\n",
            "9  (0.853, 0.973]       555.0           620     0.895161     13.34\n",
            "####################################################################################################################################################################################################################################################################################################################################################################################################################################################################################################################\n",
            "LIGHTGBM REPORT\n",
            "             prob  target_sum  target_count  target_mean  target_%\n",
            "0  (0.129, 0.415]       224.0           620     0.361290      5.39\n",
            "1  (0.415, 0.521]       286.0           619     0.462036      6.88\n",
            "2  (0.521, 0.599]       344.0           620     0.554839      8.27\n",
            "3  (0.599, 0.656]       385.0           619     0.621971      9.26\n",
            "4   (0.656, 0.71]       432.0           620     0.696774     10.39\n",
            "5   (0.71, 0.752]       440.0           619     0.710824     10.58\n",
            "6  (0.752, 0.787]       480.0           619     0.775444     11.54\n",
            "7  (0.787, 0.821]       497.0           620     0.801613     11.95\n",
            "8  (0.821, 0.859]       507.0           619     0.819063     12.19\n",
            "9  (0.859, 0.943]       564.0           620     0.909677     13.56\n",
            "####################################################################################################################################################################################################################################################################################################################################################################################################################################################################################################################\n",
            "Iteracion 3\n",
            "\t CLASIFICACIÓN\n",
            "\t\t 1. CATBOOST\n",
            "Learning rate set to 0.109302\n",
            "0:\tlearn: 0.6460087\ttest: 0.6348746\tbest: 0.6348746 (0)\ttotal: 77.8ms\tremaining: 1m 17s\n",
            "200:\tlearn: 0.7746928\ttest: 0.7072686\tbest: 0.7075235 (197)\ttotal: 13.9s\tremaining: 55.3s\n",
            "400:\tlearn: 0.8048461\ttest: 0.7086771\tbest: 0.7090089 (345)\ttotal: 27.5s\tremaining: 41s\n",
            "600:\tlearn: 0.8257881\ttest: 0.7058131\tbest: 0.7090089 (345)\ttotal: 41s\tremaining: 27.2s\n",
            "800:\tlearn: 0.8420546\ttest: 0.7042818\tbest: 0.7090089 (345)\ttotal: 54.4s\tremaining: 13.5s\n",
            "999:\tlearn: 0.8522740\ttest: 0.7031263\tbest: 0.7090089 (345)\ttotal: 1m 7s\tremaining: 0us\n",
            "bestTest = 0.7090089023\n",
            "bestIteration = 345\n",
            "Shrink model to first 346 iterations.\n",
            "\t\t 2. LIGHTGBM\n",
            "Training until validation scores don't improve for 100 rounds.\n",
            "[20]\ttraining's auc: 0.740479\tvalid_1's auc: 0.693949\n",
            "[40]\ttraining's auc: 0.761625\tvalid_1's auc: 0.704003\n",
            "[60]\ttraining's auc: 0.776937\tvalid_1's auc: 0.707437\n",
            "[80]\ttraining's auc: 0.791734\tvalid_1's auc: 0.709399\n",
            "[100]\ttraining's auc: 0.804293\tvalid_1's auc: 0.70901\n",
            "[120]\ttraining's auc: 0.816881\tvalid_1's auc: 0.71063\n",
            "[140]\ttraining's auc: 0.827293\tvalid_1's auc: 0.709402\n",
            "[160]\ttraining's auc: 0.836281\tvalid_1's auc: 0.708711\n",
            "[180]\ttraining's auc: 0.846215\tvalid_1's auc: 0.708377\n",
            "[200]\ttraining's auc: 0.855172\tvalid_1's auc: 0.707935\n",
            "[220]\ttraining's auc: 0.864991\tvalid_1's auc: 0.707854\n",
            "Early stopping, best iteration is:\n",
            "[120]\ttraining's auc: 0.816881\tvalid_1's auc: 0.71063\n",
            "AVG METRICS CLASSIFICATION\n",
            "Mean Target:\tTrain: 0.6714,\tVal In: 0.6715\n",
            "Mean Probs:\tTrain: 0.6714,\tVal In: 0.6739\n",
            "Std Probs:\tTrain: 0.1772,\tVal In: 0.1712\n",
            "CATBOOST REPORT\n",
            "              prob  target_sum  target_count  target_mean  target_%\n",
            "0  (0.0457, 0.412]       235.0           620     0.379032      5.65\n",
            "1   (0.412, 0.536]       290.0           619     0.468498      6.97\n",
            "2   (0.536, 0.614]       338.0           619     0.546042      8.13\n",
            "3   (0.614, 0.672]       375.0           620     0.604839      9.02\n",
            "4   (0.672, 0.721]       412.0           619     0.665590      9.91\n",
            "5   (0.721, 0.755]       452.0           620     0.729032     10.87\n",
            "6   (0.755, 0.782]       476.0           619     0.768982     11.45\n",
            "7   (0.782, 0.817]       503.0           619     0.812601     12.09\n",
            "8    (0.817, 0.86]       533.0           619     0.861066     12.82\n",
            "9    (0.86, 0.978]       545.0           620     0.879032     13.10\n",
            "####################################################################################################################################################################################################################################################################################################################################################################################################################################################################################################################\n",
            "LIGHTGBM REPORT\n",
            "             prob  target_sum  target_count  target_mean  target_%\n",
            "0  (0.127, 0.417]       233.0           620     0.375806      5.60\n",
            "1  (0.417, 0.529]       289.0           619     0.466882      6.95\n",
            "2  (0.529, 0.605]       341.0           619     0.550889      8.20\n",
            "3  (0.605, 0.668]       374.0           620     0.603226      8.99\n",
            "4   (0.668, 0.72]       425.0           619     0.686591     10.22\n",
            "5   (0.72, 0.756]       437.0           621     0.703704     10.51\n",
            "6  (0.756, 0.789]       476.0           618     0.770227     11.45\n",
            "7  (0.789, 0.819]       502.0           619     0.810985     12.07\n",
            "8  (0.819, 0.861]       537.0           619     0.867528     12.91\n",
            "9  (0.861, 0.958]       545.0           620     0.879032     13.10\n",
            "####################################################################################################################################################################################################################################################################################################################################################################################################################################################################################################################\n",
            "Iteracion 4\n",
            "\t CLASIFICACIÓN\n",
            "\t\t 1. CATBOOST\n",
            "Learning rate set to 0.109302\n",
            "0:\tlearn: 0.6553917\ttest: 0.6557148\tbest: 0.6557148 (0)\ttotal: 78.6ms\tremaining: 1m 18s\n",
            "200:\tlearn: 0.7710423\ttest: 0.7137909\tbest: 0.7139130 (199)\ttotal: 14s\tremaining: 55.5s\n",
            "400:\tlearn: 0.7988658\ttest: 0.7129861\tbest: 0.7141926 (216)\ttotal: 27.7s\tremaining: 41.4s\n",
            "600:\tlearn: 0.8173298\ttest: 0.7116389\tbest: 0.7141926 (216)\ttotal: 41.3s\tremaining: 27.4s\n",
            "800:\tlearn: 0.8315265\ttest: 0.7112015\tbest: 0.7141926 (216)\ttotal: 54.8s\tremaining: 13.6s\n",
            "999:\tlearn: 0.8436815\ttest: 0.7098808\tbest: 0.7141926 (216)\ttotal: 1m 8s\tremaining: 0us\n",
            "bestTest = 0.7141926289\n",
            "bestIteration = 216\n",
            "Shrink model to first 217 iterations.\n",
            "\t\t 2. LIGHTGBM\n",
            "Training until validation scores don't improve for 100 rounds.\n",
            "[20]\ttraining's auc: 0.738531\tvalid_1's auc: 0.700359\n",
            "[40]\ttraining's auc: 0.758143\tvalid_1's auc: 0.706713\n",
            "[60]\ttraining's auc: 0.774876\tvalid_1's auc: 0.712515\n",
            "[80]\ttraining's auc: 0.789981\tvalid_1's auc: 0.713994\n",
            "[100]\ttraining's auc: 0.803025\tvalid_1's auc: 0.715308\n",
            "[120]\ttraining's auc: 0.813669\tvalid_1's auc: 0.717105\n",
            "[140]\ttraining's auc: 0.825541\tvalid_1's auc: 0.717503\n",
            "[160]\ttraining's auc: 0.835577\tvalid_1's auc: 0.716987\n",
            "[180]\ttraining's auc: 0.844135\tvalid_1's auc: 0.717879\n",
            "[200]\ttraining's auc: 0.853113\tvalid_1's auc: 0.71759\n",
            "[220]\ttraining's auc: 0.862224\tvalid_1's auc: 0.717431\n",
            "[240]\ttraining's auc: 0.869501\tvalid_1's auc: 0.716754\n",
            "[260]\ttraining's auc: 0.877648\tvalid_1's auc: 0.716083\n",
            "[280]\ttraining's auc: 0.883523\tvalid_1's auc: 0.716369\n",
            "Early stopping, best iteration is:\n",
            "[184]\ttraining's auc: 0.845807\tvalid_1's auc: 0.718085\n",
            "AVG METRICS CLASSIFICATION\n",
            "Mean Target:\tTrain: 0.6714,\tVal In: 0.6714\n",
            "Mean Probs:\tTrain: 0.6715,\tVal In: 0.6704\n",
            "Std Probs:\tTrain: 0.1647,\tVal In: 0.1618\n",
            "CATBOOST REPORT\n",
            "             prob  target_sum  target_count  target_mean  target_%\n",
            "0  (0.0713, 0.43]       213.0           620     0.343548      5.12\n",
            "1   (0.43, 0.535]       283.0           619     0.457189      6.81\n",
            "2  (0.535, 0.608]       344.0           619     0.555735      8.27\n",
            "3  (0.608, 0.667]       400.0           619     0.646204      9.62\n",
            "4  (0.667, 0.711]       424.0           620     0.683871     10.20\n",
            "5  (0.711, 0.748]       458.0           619     0.739903     11.01\n",
            "6  (0.748, 0.776]       461.0           619     0.744750     11.09\n",
            "7  (0.776, 0.805]       490.0           619     0.791599     11.78\n",
            "8  (0.805, 0.847]       520.0           619     0.840065     12.51\n",
            "9  (0.847, 0.964]       565.0           620     0.911290     13.59\n",
            "####################################################################################################################################################################################################################################################################################################################################################################################################################################################################################################################\n",
            "LIGHTGBM REPORT\n",
            "             prob  target_sum  target_count  target_mean  target_%\n",
            "0  (0.125, 0.415]       212.0           620     0.341935      5.10\n",
            "1  (0.415, 0.517]       291.0           619     0.470113      7.00\n",
            "2  (0.517, 0.596]       325.0           619     0.525040      7.82\n",
            "3  (0.596, 0.658]       401.0           619     0.647819      9.64\n",
            "4  (0.658, 0.713]       418.0           620     0.674194     10.05\n",
            "5  (0.713, 0.754]       455.0           619     0.735057     10.94\n",
            "6  (0.754, 0.787]       479.0           619     0.773829     11.52\n",
            "7  (0.787, 0.824]       493.0           619     0.796446     11.86\n",
            "8  (0.824, 0.863]       514.0           619     0.830372     12.36\n",
            "9  (0.863, 0.968]       570.0           620     0.919355     13.71\n",
            "####################################################################################################################################################################################################################################################################################################################################################################################################################################################################################################################\n"
          ],
          "name": "stdout"
        }
      ]
    },
    {
      "cell_type": "code",
      "metadata": {
        "id": "KawpV674zZrO",
        "colab_type": "code",
        "outputId": "cd3fb960-aa46-4979-d92f-d570c77e7be6",
        "colab": {
          "base_uri": "https://localhost:8080/",
          "height": 204
        }
      },
      "source": [
        "pd.DataFrame(results_renta_2)"
      ],
      "execution_count": 0,
      "outputs": [
        {
          "output_type": "execute_result",
          "data": {
            "text/html": [
              "<div>\n",
              "<style scoped>\n",
              "    .dataframe tbody tr th:only-of-type {\n",
              "        vertical-align: middle;\n",
              "    }\n",
              "\n",
              "    .dataframe tbody tr th {\n",
              "        vertical-align: top;\n",
              "    }\n",
              "\n",
              "    .dataframe thead th {\n",
              "        text-align: right;\n",
              "    }\n",
              "</style>\n",
              "<table border=\"1\" class=\"dataframe\">\n",
              "  <thead>\n",
              "    <tr style=\"text-align: right;\">\n",
              "      <th></th>\n",
              "      <th>auc_train_cbtm</th>\n",
              "      <th>auc_val_cbtm</th>\n",
              "      <th>auc_train_lgbm</th>\n",
              "      <th>auc_val_lgbm</th>\n",
              "      <th>seed_val</th>\n",
              "    </tr>\n",
              "  </thead>\n",
              "  <tbody>\n",
              "    <tr>\n",
              "      <th>0</th>\n",
              "      <td>0.762690</td>\n",
              "      <td>0.725765</td>\n",
              "      <td>0.808588</td>\n",
              "      <td>0.729313</td>\n",
              "      <td>41</td>\n",
              "    </tr>\n",
              "    <tr>\n",
              "      <th>1</th>\n",
              "      <td>0.798604</td>\n",
              "      <td>0.710996</td>\n",
              "      <td>0.796474</td>\n",
              "      <td>0.712075</td>\n",
              "      <td>41</td>\n",
              "    </tr>\n",
              "    <tr>\n",
              "      <th>2</th>\n",
              "      <td>0.772740</td>\n",
              "      <td>0.710623</td>\n",
              "      <td>0.819479</td>\n",
              "      <td>0.710245</td>\n",
              "      <td>41</td>\n",
              "    </tr>\n",
              "    <tr>\n",
              "      <th>3</th>\n",
              "      <td>0.797334</td>\n",
              "      <td>0.709009</td>\n",
              "      <td>0.816881</td>\n",
              "      <td>0.710630</td>\n",
              "      <td>41</td>\n",
              "    </tr>\n",
              "    <tr>\n",
              "      <th>4</th>\n",
              "      <td>0.773887</td>\n",
              "      <td>0.714193</td>\n",
              "      <td>0.845807</td>\n",
              "      <td>0.718085</td>\n",
              "      <td>41</td>\n",
              "    </tr>\n",
              "  </tbody>\n",
              "</table>\n",
              "</div>"
            ],
            "text/plain": [
              "   auc_train_cbtm  auc_val_cbtm  auc_train_lgbm  auc_val_lgbm  seed_val\n",
              "0        0.762690      0.725765        0.808588      0.729313        41\n",
              "1        0.798604      0.710996        0.796474      0.712075        41\n",
              "2        0.772740      0.710623        0.819479      0.710245        41\n",
              "3        0.797334      0.709009        0.816881      0.710630        41\n",
              "4        0.773887      0.714193        0.845807      0.718085        41"
            ]
          },
          "metadata": {
            "tags": []
          },
          "execution_count": 35
        }
      ]
    },
    {
      "cell_type": "code",
      "metadata": {
        "id": "-uCgtjw9t2lw",
        "colab_type": "code",
        "outputId": "62ea8f81-7e7e-4ff3-cd35-c306fea4a410",
        "colab": {
          "base_uri": "https://localhost:8080/",
          "height": 204
        }
      },
      "source": [
        "pd.DataFrame(results_renta_2)"
      ],
      "execution_count": 0,
      "outputs": [
        {
          "output_type": "execute_result",
          "data": {
            "text/html": [
              "<div>\n",
              "<style scoped>\n",
              "    .dataframe tbody tr th:only-of-type {\n",
              "        vertical-align: middle;\n",
              "    }\n",
              "\n",
              "    .dataframe tbody tr th {\n",
              "        vertical-align: top;\n",
              "    }\n",
              "\n",
              "    .dataframe thead th {\n",
              "        text-align: right;\n",
              "    }\n",
              "</style>\n",
              "<table border=\"1\" class=\"dataframe\">\n",
              "  <thead>\n",
              "    <tr style=\"text-align: right;\">\n",
              "      <th></th>\n",
              "      <th>auc_train_cbtm</th>\n",
              "      <th>auc_val_cbtm</th>\n",
              "      <th>auc_train_lgbm</th>\n",
              "      <th>auc_val_lgbm</th>\n",
              "      <th>seed_val</th>\n",
              "    </tr>\n",
              "  </thead>\n",
              "  <tbody>\n",
              "    <tr>\n",
              "      <th>0</th>\n",
              "      <td>0.762690</td>\n",
              "      <td>0.725765</td>\n",
              "      <td>0.808588</td>\n",
              "      <td>0.729313</td>\n",
              "      <td>41</td>\n",
              "    </tr>\n",
              "    <tr>\n",
              "      <th>1</th>\n",
              "      <td>0.798604</td>\n",
              "      <td>0.710996</td>\n",
              "      <td>0.796474</td>\n",
              "      <td>0.712075</td>\n",
              "      <td>41</td>\n",
              "    </tr>\n",
              "    <tr>\n",
              "      <th>2</th>\n",
              "      <td>0.772740</td>\n",
              "      <td>0.710623</td>\n",
              "      <td>0.819479</td>\n",
              "      <td>0.710245</td>\n",
              "      <td>41</td>\n",
              "    </tr>\n",
              "    <tr>\n",
              "      <th>3</th>\n",
              "      <td>0.797334</td>\n",
              "      <td>0.709009</td>\n",
              "      <td>0.816881</td>\n",
              "      <td>0.710630</td>\n",
              "      <td>41</td>\n",
              "    </tr>\n",
              "    <tr>\n",
              "      <th>4</th>\n",
              "      <td>0.773887</td>\n",
              "      <td>0.714193</td>\n",
              "      <td>0.845807</td>\n",
              "      <td>0.718085</td>\n",
              "      <td>41</td>\n",
              "    </tr>\n",
              "  </tbody>\n",
              "</table>\n",
              "</div>"
            ],
            "text/plain": [
              "   auc_train_cbtm  auc_val_cbtm  auc_train_lgbm  auc_val_lgbm  seed_val\n",
              "0        0.762690      0.725765        0.808588      0.729313        41\n",
              "1        0.798604      0.710996        0.796474      0.712075        41\n",
              "2        0.772740      0.710623        0.819479      0.710245        41\n",
              "3        0.797334      0.709009        0.816881      0.710630        41\n",
              "4        0.773887      0.714193        0.845807      0.718085        41"
            ]
          },
          "metadata": {
            "tags": []
          },
          "execution_count": 25
        }
      ]
    },
    {
      "cell_type": "code",
      "metadata": {
        "id": "n6WG_9fPqyfK",
        "colab_type": "code",
        "colab": {}
      },
      "source": [
        "#predictores"
      ],
      "execution_count": 0,
      "outputs": []
    },
    {
      "cell_type": "code",
      "metadata": {
        "id": "z1sxJZYXq-7R",
        "colab_type": "code",
        "colab": {}
      },
      "source": [
        "df_probs_train_renta_2_complement = df_train.loc[df_train[target_adqui] != 1, :].copy().reset_index(drop=True)"
      ],
      "execution_count": 0,
      "outputs": []
    },
    {
      "cell_type": "code",
      "metadata": {
        "id": "L9bLduecr1rS",
        "colab_type": "code",
        "outputId": "609a6232-6796-4946-f9f1-48fa95290744",
        "colab": {
          "base_uri": "https://localhost:8080/",
          "height": 160
        }
      },
      "source": [
        "df_probs_train_renta_2_complement.head(2)"
      ],
      "execution_count": 0,
      "outputs": [
        {
          "output_type": "execute_result",
          "data": {
            "text/html": [
              "<div>\n",
              "<style scoped>\n",
              "    .dataframe tbody tr th:only-of-type {\n",
              "        vertical-align: middle;\n",
              "    }\n",
              "\n",
              "    .dataframe tbody tr th {\n",
              "        vertical-align: top;\n",
              "    }\n",
              "\n",
              "    .dataframe thead th {\n",
              "        text-align: right;\n",
              "    }\n",
              "</style>\n",
              "<table border=\"1\" class=\"dataframe\">\n",
              "  <thead>\n",
              "    <tr style=\"text-align: right;\">\n",
              "      <th></th>\n",
              "      <th>prediction_id</th>\n",
              "      <th>id_persona</th>\n",
              "      <th>codmes</th>\n",
              "      <th>codtarget</th>\n",
              "      <th>new_target</th>\n",
              "      <th>margen</th>\n",
              "      <th>cem</th>\n",
              "      <th>ingreso_neto</th>\n",
              "      <th>linea_ofrecida</th>\n",
              "      <th>flg_exist_prev_month</th>\n",
              "      <th>flg_exist_hist</th>\n",
              "      <th>ratio_1</th>\n",
              "      <th>ratio_2</th>\n",
              "      <th>ratio_3</th>\n",
              "      <th>ratio_4</th>\n",
              "      <th>ratio_5</th>\n",
              "      <th>soc_var1</th>\n",
              "      <th>soc_var2</th>\n",
              "      <th>soc_var3</th>\n",
              "      <th>soc_var4</th>\n",
              "      <th>soc_var5</th>\n",
              "      <th>soc_var6</th>\n",
              "      <th>activ_econo</th>\n",
              "      <th>meses_alta_sum</th>\n",
              "      <th>Grupo_01</th>\n",
              "      <th>Grupo_02</th>\n",
              "      <th>Grupo_03</th>\n",
              "      <th>Grupo_04</th>\n",
              "      <th>Grupo_05</th>\n",
              "      <th>Grupo_06</th>\n",
              "      <th>Grupo_07</th>\n",
              "      <th>Grupo_08</th>\n",
              "      <th>Grupo_09</th>\n",
              "      <th>Grupo_10</th>\n",
              "      <th>Grupo_11</th>\n",
              "      <th>Grupo_12</th>\n",
              "      <th>Grupo_13</th>\n",
              "      <th>Grupo_14</th>\n",
              "      <th>Grupo_15</th>\n",
              "      <th>Grupo_16</th>\n",
              "      <th>...</th>\n",
              "      <th>time_mllp_sum</th>\n",
              "      <th>time_mllp_mean</th>\n",
              "      <th>time_mllp_std</th>\n",
              "      <th>time_mllst_sum</th>\n",
              "      <th>time_mllst_mean</th>\n",
              "      <th>time_mllst_std</th>\n",
              "      <th>time_ctasld_sum</th>\n",
              "      <th>time_ctasld_mean</th>\n",
              "      <th>time_ctasld_std</th>\n",
              "      <th>time_tc_sum</th>\n",
              "      <th>time_tc_mean</th>\n",
              "      <th>time_tc_std</th>\n",
              "      <th>time_total_sum</th>\n",
              "      <th>time_total_mean</th>\n",
              "      <th>time_total_std</th>\n",
              "      <th>busqtc_sum</th>\n",
              "      <th>busqtc_mean</th>\n",
              "      <th>busqvisa_sum</th>\n",
              "      <th>busqvisa_mean</th>\n",
              "      <th>busqamex_sum</th>\n",
              "      <th>busqamex_mean</th>\n",
              "      <th>busqmc_sum</th>\n",
              "      <th>busqmc_mean</th>\n",
              "      <th>busqcsimp_sum</th>\n",
              "      <th>busqcsimp_mean</th>\n",
              "      <th>busqmill_sum</th>\n",
              "      <th>busqmill_mean</th>\n",
              "      <th>busqcsld_sum</th>\n",
              "      <th>busqcsld_mean</th>\n",
              "      <th>num_busq_sum</th>\n",
              "      <th>num_busq_mean</th>\n",
              "      <th>num_busq_std</th>\n",
              "      <th>busq_sum</th>\n",
              "      <th>busq_mean</th>\n",
              "      <th>n_pag_sum</th>\n",
              "      <th>n_pag_mean</th>\n",
              "      <th>n_pag_std</th>\n",
              "      <th>ratio_6</th>\n",
              "      <th>ratio_7</th>\n",
              "      <th>ratio_8</th>\n",
              "    </tr>\n",
              "  </thead>\n",
              "  <tbody>\n",
              "    <tr>\n",
              "      <th>0</th>\n",
              "      <td>165747_201901</td>\n",
              "      <td>165747</td>\n",
              "      <td>201901</td>\n",
              "      <td>0.0</td>\n",
              "      <td>0.0</td>\n",
              "      <td>-5.0</td>\n",
              "      <td>1.0</td>\n",
              "      <td>1781.0</td>\n",
              "      <td>1700</td>\n",
              "      <td>0.0</td>\n",
              "      <td>0.0</td>\n",
              "      <td>0.954520</td>\n",
              "      <td>0.000561</td>\n",
              "      <td>0.000588</td>\n",
              "      <td>1781.000000</td>\n",
              "      <td>1700.00000</td>\n",
              "      <td>0.773585</td>\n",
              "      <td>4.0</td>\n",
              "      <td>1.0</td>\n",
              "      <td>6.0</td>\n",
              "      <td>5.0</td>\n",
              "      <td>5.0</td>\n",
              "      <td>1.0</td>\n",
              "      <td>119.0</td>\n",
              "      <td>0.0</td>\n",
              "      <td>0.0</td>\n",
              "      <td>0.0</td>\n",
              "      <td>0.0</td>\n",
              "      <td>0.0</td>\n",
              "      <td>0.0</td>\n",
              "      <td>0.0</td>\n",
              "      <td>0.0</td>\n",
              "      <td>0.0</td>\n",
              "      <td>0.0</td>\n",
              "      <td>0.0</td>\n",
              "      <td>0.0</td>\n",
              "      <td>0.0</td>\n",
              "      <td>0.0</td>\n",
              "      <td>119.0</td>\n",
              "      <td>0.0</td>\n",
              "      <td>...</td>\n",
              "      <td>NaN</td>\n",
              "      <td>NaN</td>\n",
              "      <td>NaN</td>\n",
              "      <td>NaN</td>\n",
              "      <td>NaN</td>\n",
              "      <td>NaN</td>\n",
              "      <td>NaN</td>\n",
              "      <td>NaN</td>\n",
              "      <td>NaN</td>\n",
              "      <td>NaN</td>\n",
              "      <td>NaN</td>\n",
              "      <td>NaN</td>\n",
              "      <td>NaN</td>\n",
              "      <td>NaN</td>\n",
              "      <td>NaN</td>\n",
              "      <td>NaN</td>\n",
              "      <td>NaN</td>\n",
              "      <td>NaN</td>\n",
              "      <td>NaN</td>\n",
              "      <td>NaN</td>\n",
              "      <td>NaN</td>\n",
              "      <td>NaN</td>\n",
              "      <td>NaN</td>\n",
              "      <td>NaN</td>\n",
              "      <td>NaN</td>\n",
              "      <td>NaN</td>\n",
              "      <td>NaN</td>\n",
              "      <td>NaN</td>\n",
              "      <td>NaN</td>\n",
              "      <td>NaN</td>\n",
              "      <td>NaN</td>\n",
              "      <td>NaN</td>\n",
              "      <td>NaN</td>\n",
              "      <td>NaN</td>\n",
              "      <td>NaN</td>\n",
              "      <td>NaN</td>\n",
              "      <td>NaN</td>\n",
              "      <td>0.038430</td>\n",
              "      <td>0.040261</td>\n",
              "      <td>0.000023</td>\n",
              "    </tr>\n",
              "    <tr>\n",
              "      <th>1</th>\n",
              "      <td>58047_201901</td>\n",
              "      <td>58047</td>\n",
              "      <td>201901</td>\n",
              "      <td>0.0</td>\n",
              "      <td>0.0</td>\n",
              "      <td>-5.0</td>\n",
              "      <td>182.0</td>\n",
              "      <td>1814.0</td>\n",
              "      <td>3600</td>\n",
              "      <td>0.0</td>\n",
              "      <td>0.0</td>\n",
              "      <td>1.984564</td>\n",
              "      <td>0.100331</td>\n",
              "      <td>0.050556</td>\n",
              "      <td>9.967033</td>\n",
              "      <td>19.78022</td>\n",
              "      <td>0.603774</td>\n",
              "      <td>4.0</td>\n",
              "      <td>1.0</td>\n",
              "      <td>6.0</td>\n",
              "      <td>5.0</td>\n",
              "      <td>9.0</td>\n",
              "      <td>9.0</td>\n",
              "      <td>221.0</td>\n",
              "      <td>0.0</td>\n",
              "      <td>0.0</td>\n",
              "      <td>0.0</td>\n",
              "      <td>0.0</td>\n",
              "      <td>0.0</td>\n",
              "      <td>0.0</td>\n",
              "      <td>0.0</td>\n",
              "      <td>0.0</td>\n",
              "      <td>0.0</td>\n",
              "      <td>0.0</td>\n",
              "      <td>0.0</td>\n",
              "      <td>221.0</td>\n",
              "      <td>0.0</td>\n",
              "      <td>0.0</td>\n",
              "      <td>0.0</td>\n",
              "      <td>0.0</td>\n",
              "      <td>...</td>\n",
              "      <td>NaN</td>\n",
              "      <td>NaN</td>\n",
              "      <td>NaN</td>\n",
              "      <td>NaN</td>\n",
              "      <td>NaN</td>\n",
              "      <td>NaN</td>\n",
              "      <td>NaN</td>\n",
              "      <td>NaN</td>\n",
              "      <td>NaN</td>\n",
              "      <td>NaN</td>\n",
              "      <td>NaN</td>\n",
              "      <td>NaN</td>\n",
              "      <td>NaN</td>\n",
              "      <td>NaN</td>\n",
              "      <td>NaN</td>\n",
              "      <td>NaN</td>\n",
              "      <td>NaN</td>\n",
              "      <td>NaN</td>\n",
              "      <td>NaN</td>\n",
              "      <td>NaN</td>\n",
              "      <td>NaN</td>\n",
              "      <td>NaN</td>\n",
              "      <td>NaN</td>\n",
              "      <td>NaN</td>\n",
              "      <td>NaN</td>\n",
              "      <td>NaN</td>\n",
              "      <td>NaN</td>\n",
              "      <td>NaN</td>\n",
              "      <td>NaN</td>\n",
              "      <td>NaN</td>\n",
              "      <td>NaN</td>\n",
              "      <td>NaN</td>\n",
              "      <td>NaN</td>\n",
              "      <td>NaN</td>\n",
              "      <td>NaN</td>\n",
              "      <td>NaN</td>\n",
              "      <td>NaN</td>\n",
              "      <td>0.122254</td>\n",
              "      <td>0.061603</td>\n",
              "      <td>0.006181</td>\n",
              "    </tr>\n",
              "  </tbody>\n",
              "</table>\n",
              "<p>2 rows × 1249 columns</p>\n",
              "</div>"
            ],
            "text/plain": [
              "   prediction_id  id_persona  codmes  ...   ratio_6   ratio_7   ratio_8\n",
              "0  165747_201901      165747  201901  ...  0.038430  0.040261  0.000023\n",
              "1   58047_201901       58047  201901  ...  0.122254  0.061603  0.006181\n",
              "\n",
              "[2 rows x 1249 columns]"
            ]
          },
          "metadata": {
            "tags": []
          },
          "execution_count": 37
        }
      ]
    },
    {
      "cell_type": "code",
      "metadata": {
        "id": "p8uO-MbZrQZO",
        "colab_type": "code",
        "outputId": "1a93a8d4-92d7-4aef-d8fc-99c10b49c6de",
        "colab": {
          "base_uri": "https://localhost:8080/",
          "height": 111
        }
      },
      "source": [
        "df_probs_train_renta_2.head(2)"
      ],
      "execution_count": 0,
      "outputs": [
        {
          "output_type": "execute_result",
          "data": {
            "text/html": [
              "<div>\n",
              "<style scoped>\n",
              "    .dataframe tbody tr th:only-of-type {\n",
              "        vertical-align: middle;\n",
              "    }\n",
              "\n",
              "    .dataframe tbody tr th {\n",
              "        vertical-align: top;\n",
              "    }\n",
              "\n",
              "    .dataframe thead th {\n",
              "        text-align: right;\n",
              "    }\n",
              "</style>\n",
              "<table border=\"1\" class=\"dataframe\">\n",
              "  <thead>\n",
              "    <tr style=\"text-align: right;\">\n",
              "      <th></th>\n",
              "      <th>prediction_id</th>\n",
              "      <th>new_target</th>\n",
              "      <th>prob_cbtm</th>\n",
              "      <th>prob_lgbm</th>\n",
              "      <th>FOLD</th>\n",
              "    </tr>\n",
              "  </thead>\n",
              "  <tbody>\n",
              "    <tr>\n",
              "      <th>0</th>\n",
              "      <td>65751_201901</td>\n",
              "      <td>1.0</td>\n",
              "      <td>0.715803</td>\n",
              "      <td>0.764294</td>\n",
              "      <td>FOLD_3</td>\n",
              "    </tr>\n",
              "    <tr>\n",
              "      <th>1</th>\n",
              "      <td>65634_201901</td>\n",
              "      <td>0.0</td>\n",
              "      <td>0.328104</td>\n",
              "      <td>0.352521</td>\n",
              "      <td>FOLD_5</td>\n",
              "    </tr>\n",
              "  </tbody>\n",
              "</table>\n",
              "</div>"
            ],
            "text/plain": [
              "  prediction_id  new_target  prob_cbtm  prob_lgbm    FOLD\n",
              "0  65751_201901         1.0   0.715803   0.764294  FOLD_3\n",
              "1  65634_201901         0.0   0.328104   0.352521  FOLD_5"
            ]
          },
          "metadata": {
            "tags": []
          },
          "execution_count": 38
        }
      ]
    },
    {
      "cell_type": "code",
      "metadata": {
        "id": "fWwuLy-3tNSs",
        "colab_type": "code",
        "outputId": "93aa5026-8bff-4348-c813-e1267f01d88d",
        "colab": {
          "base_uri": "https://localhost:8080/",
          "height": 34
        }
      },
      "source": [
        "print(df_probs_train_renta_2.columns.tolist())"
      ],
      "execution_count": 0,
      "outputs": [
        {
          "output_type": "stream",
          "text": [
            "['prediction_id', 'new_target', 'prob_cbtm', 'prob_lgbm', 'FOLD']\n"
          ],
          "name": "stdout"
        }
      ]
    },
    {
      "cell_type": "code",
      "metadata": {
        "id": "fwqqJhuGq0K9",
        "colab_type": "code",
        "outputId": "81a70b47-4adb-493a-d93b-294b35fd47df",
        "colab": {
          "base_uri": "https://localhost:8080/",
          "height": 102
        }
      },
      "source": [
        "for i, pair_m in enumerate(list_models_renta_2):\n",
        "  print(i)\n",
        "  df_probs_train_renta_2_complement[\"prob_cbtm_{}\".format(i)] = pair_m[\"cbtm_model\"].predict_proba(df_probs_train_renta_2_complement[predictores])[:, 1]\n",
        "  df_probs_train_renta_2_complement[\"prob_lgbm_{}\".format(i)] = pair_m[\"lgbm_model\"].predict(df_probs_train_renta_2_complement[predictores])"
      ],
      "execution_count": 0,
      "outputs": [
        {
          "output_type": "stream",
          "text": [
            "0\n",
            "1\n",
            "2\n",
            "3\n",
            "4\n"
          ],
          "name": "stdout"
        }
      ]
    },
    {
      "cell_type": "code",
      "metadata": {
        "id": "SZ2-ZPNYtFHl",
        "colab_type": "code",
        "colab": {}
      },
      "source": [
        "df_probs_train_renta_2_complement[\"prob_cbtm\"] = df_probs_train_renta_2_complement[[c for c in df_probs_train_renta_2_complement.columns if \"prob_cbtm\" in c]].mean(axis=1)\n",
        "df_probs_train_renta_2_complement[\"prob_lgbm\"] = df_probs_train_renta_2_complement[[c for c in df_probs_train_renta_2_complement.columns if \"prob_lgbm\" in c]].mean(axis=1)"
      ],
      "execution_count": 0,
      "outputs": []
    },
    {
      "cell_type": "code",
      "metadata": {
        "id": "-sGbq4ZFtKhP",
        "colab_type": "code",
        "colab": {}
      },
      "source": [
        "df_probs_train_renta_2_complement = df_probs_train_renta_2_complement[['prediction_id', 'new_target', 'prob_cbtm', 'prob_lgbm']]"
      ],
      "execution_count": 0,
      "outputs": []
    },
    {
      "cell_type": "code",
      "metadata": {
        "id": "8yQHUBXjs-oM",
        "colab_type": "code",
        "outputId": "ad86a220-ce72-48ad-ff01-eaa9fffe81c4",
        "colab": {
          "base_uri": "https://localhost:8080/",
          "height": 34
        }
      },
      "source": [
        "df_probs_train_renta_2_complement.shape"
      ],
      "execution_count": 0,
      "outputs": [
        {
          "output_type": "execute_result",
          "data": {
            "text/plain": [
              "(217762, 4)"
            ]
          },
          "metadata": {
            "tags": []
          },
          "execution_count": 43
        }
      ]
    },
    {
      "cell_type": "code",
      "metadata": {
        "id": "e9K2q_mEtXgb",
        "colab_type": "code",
        "colab": {}
      },
      "source": [
        "df_probs_train_renta_2_final = pd.concat([df_probs_train_renta_2, df_probs_train_renta_2_complement], sort=False).reset_index(drop=True)"
      ],
      "execution_count": 0,
      "outputs": []
    },
    {
      "cell_type": "code",
      "metadata": {
        "id": "eoM5cMNBtsdz",
        "colab_type": "code",
        "outputId": "9004c6db-75bf-4485-d5e9-d7d3b5fdf9a8",
        "colab": {
          "base_uri": "https://localhost:8080/",
          "height": 204
        }
      },
      "source": [
        "df_probs_train_renta_2_final.head()"
      ],
      "execution_count": 0,
      "outputs": [
        {
          "output_type": "execute_result",
          "data": {
            "text/html": [
              "<div>\n",
              "<style scoped>\n",
              "    .dataframe tbody tr th:only-of-type {\n",
              "        vertical-align: middle;\n",
              "    }\n",
              "\n",
              "    .dataframe tbody tr th {\n",
              "        vertical-align: top;\n",
              "    }\n",
              "\n",
              "    .dataframe thead th {\n",
              "        text-align: right;\n",
              "    }\n",
              "</style>\n",
              "<table border=\"1\" class=\"dataframe\">\n",
              "  <thead>\n",
              "    <tr style=\"text-align: right;\">\n",
              "      <th></th>\n",
              "      <th>prediction_id</th>\n",
              "      <th>new_target</th>\n",
              "      <th>prob_cbtm</th>\n",
              "      <th>prob_lgbm</th>\n",
              "      <th>FOLD</th>\n",
              "    </tr>\n",
              "  </thead>\n",
              "  <tbody>\n",
              "    <tr>\n",
              "      <th>0</th>\n",
              "      <td>65751_201901</td>\n",
              "      <td>1.0</td>\n",
              "      <td>0.715803</td>\n",
              "      <td>0.764294</td>\n",
              "      <td>FOLD_3</td>\n",
              "    </tr>\n",
              "    <tr>\n",
              "      <th>1</th>\n",
              "      <td>65634_201901</td>\n",
              "      <td>0.0</td>\n",
              "      <td>0.328104</td>\n",
              "      <td>0.352521</td>\n",
              "      <td>FOLD_5</td>\n",
              "    </tr>\n",
              "    <tr>\n",
              "      <th>2</th>\n",
              "      <td>86617_201901</td>\n",
              "      <td>1.0</td>\n",
              "      <td>0.785928</td>\n",
              "      <td>0.791304</td>\n",
              "      <td>FOLD_4</td>\n",
              "    </tr>\n",
              "    <tr>\n",
              "      <th>3</th>\n",
              "      <td>116521_201901</td>\n",
              "      <td>1.0</td>\n",
              "      <td>0.544718</td>\n",
              "      <td>0.632826</td>\n",
              "      <td>FOLD_4</td>\n",
              "    </tr>\n",
              "    <tr>\n",
              "      <th>4</th>\n",
              "      <td>178404_201901</td>\n",
              "      <td>0.0</td>\n",
              "      <td>0.311350</td>\n",
              "      <td>0.302059</td>\n",
              "      <td>FOLD_3</td>\n",
              "    </tr>\n",
              "  </tbody>\n",
              "</table>\n",
              "</div>"
            ],
            "text/plain": [
              "   prediction_id  new_target  prob_cbtm  prob_lgbm    FOLD\n",
              "0   65751_201901         1.0   0.715803   0.764294  FOLD_3\n",
              "1   65634_201901         0.0   0.328104   0.352521  FOLD_5\n",
              "2   86617_201901         1.0   0.785928   0.791304  FOLD_4\n",
              "3  116521_201901         1.0   0.544718   0.632826  FOLD_4\n",
              "4  178404_201901         0.0   0.311350   0.302059  FOLD_3"
            ]
          },
          "metadata": {
            "tags": []
          },
          "execution_count": 45
        }
      ]
    },
    {
      "cell_type": "code",
      "metadata": {
        "id": "T0LRkRLDzh9I",
        "colab_type": "code",
        "outputId": "6a96cf82-0b95-418f-a938-0019052d9845",
        "colab": {
          "base_uri": "https://localhost:8080/",
          "height": 34
        }
      },
      "source": [
        "df_probs_train_renta_2_final.shape"
      ],
      "execution_count": 0,
      "outputs": [
        {
          "output_type": "execute_result",
          "data": {
            "text/plain": [
              "(248734, 5)"
            ]
          },
          "metadata": {
            "tags": []
          },
          "execution_count": 46
        }
      ]
    },
    {
      "cell_type": "code",
      "metadata": {
        "id": "b6tmyr22qtId",
        "colab_type": "code",
        "outputId": "43a24d08-7e2a-420d-f8e8-a60f92d2011e",
        "colab": {
          "base_uri": "https://localhost:8080/",
          "height": 34
        }
      },
      "source": [
        "df_probs_train_renta_2_final.shape"
      ],
      "execution_count": 0,
      "outputs": [
        {
          "output_type": "execute_result",
          "data": {
            "text/plain": [
              "(248734, 5)"
            ]
          },
          "metadata": {
            "tags": []
          },
          "execution_count": 47
        }
      ]
    },
    {
      "cell_type": "code",
      "metadata": {
        "id": "Qaf_dYXodUjy",
        "colab_type": "code",
        "outputId": "9969c0e2-e4d0-4659-9693-0a1c24cfe8a1",
        "colab": {
          "base_uri": "https://localhost:8080/",
          "height": 204
        }
      },
      "source": [
        "pd.DataFrame(results_renta_2)"
      ],
      "execution_count": 0,
      "outputs": [
        {
          "output_type": "execute_result",
          "data": {
            "text/html": [
              "<div>\n",
              "<style scoped>\n",
              "    .dataframe tbody tr th:only-of-type {\n",
              "        vertical-align: middle;\n",
              "    }\n",
              "\n",
              "    .dataframe tbody tr th {\n",
              "        vertical-align: top;\n",
              "    }\n",
              "\n",
              "    .dataframe thead th {\n",
              "        text-align: right;\n",
              "    }\n",
              "</style>\n",
              "<table border=\"1\" class=\"dataframe\">\n",
              "  <thead>\n",
              "    <tr style=\"text-align: right;\">\n",
              "      <th></th>\n",
              "      <th>auc_train_cbtm</th>\n",
              "      <th>auc_val_cbtm</th>\n",
              "      <th>auc_train_lgbm</th>\n",
              "      <th>auc_val_lgbm</th>\n",
              "      <th>seed_val</th>\n",
              "    </tr>\n",
              "  </thead>\n",
              "  <tbody>\n",
              "    <tr>\n",
              "      <th>0</th>\n",
              "      <td>0.762690</td>\n",
              "      <td>0.725765</td>\n",
              "      <td>0.808588</td>\n",
              "      <td>0.729313</td>\n",
              "      <td>41</td>\n",
              "    </tr>\n",
              "    <tr>\n",
              "      <th>1</th>\n",
              "      <td>0.798604</td>\n",
              "      <td>0.710996</td>\n",
              "      <td>0.796474</td>\n",
              "      <td>0.712075</td>\n",
              "      <td>41</td>\n",
              "    </tr>\n",
              "    <tr>\n",
              "      <th>2</th>\n",
              "      <td>0.772740</td>\n",
              "      <td>0.710623</td>\n",
              "      <td>0.819479</td>\n",
              "      <td>0.710245</td>\n",
              "      <td>41</td>\n",
              "    </tr>\n",
              "    <tr>\n",
              "      <th>3</th>\n",
              "      <td>0.797334</td>\n",
              "      <td>0.709009</td>\n",
              "      <td>0.816881</td>\n",
              "      <td>0.710630</td>\n",
              "      <td>41</td>\n",
              "    </tr>\n",
              "    <tr>\n",
              "      <th>4</th>\n",
              "      <td>0.773887</td>\n",
              "      <td>0.714193</td>\n",
              "      <td>0.845807</td>\n",
              "      <td>0.718085</td>\n",
              "      <td>41</td>\n",
              "    </tr>\n",
              "  </tbody>\n",
              "</table>\n",
              "</div>"
            ],
            "text/plain": [
              "   auc_train_cbtm  auc_val_cbtm  auc_train_lgbm  auc_val_lgbm  seed_val\n",
              "0        0.762690      0.725765        0.808588      0.729313        41\n",
              "1        0.798604      0.710996        0.796474      0.712075        41\n",
              "2        0.772740      0.710623        0.819479      0.710245        41\n",
              "3        0.797334      0.709009        0.816881      0.710630        41\n",
              "4        0.773887      0.714193        0.845807      0.718085        41"
            ]
          },
          "metadata": {
            "tags": []
          },
          "execution_count": 48
        }
      ]
    },
    {
      "cell_type": "code",
      "metadata": {
        "id": "CF9dhxlPlIC0",
        "colab_type": "code",
        "colab": {}
      },
      "source": [
        "pd.DataFrame(results_renta_2)"
      ],
      "execution_count": 0,
      "outputs": []
    },
    {
      "cell_type": "markdown",
      "metadata": {
        "id": "4bEghuwZdiIx",
        "colab_type": "text"
      },
      "source": [
        "##### Rentability Model Regression"
      ]
    },
    {
      "cell_type": "code",
      "metadata": {
        "id": "pQ2TiXIjcMAG",
        "colab_type": "code",
        "colab": {}
      },
      "source": [
        "k = 5 # n folds\n",
        "\n",
        "def renta_regre_model_with_cv(df_train, df_test, target_regres, predictores, df_val=None):\n",
        "\n",
        "  ##################################################################\n",
        "  ############# ETAPA DE PREDICCIÓN\n",
        "  ##################################################################\n",
        "\n",
        "  # Se instancian las variables que se obtendrán como resultado.\n",
        "  results_models = []\n",
        "  list_models_cv = []\n",
        "\n",
        "  df_probs_train = df_train[[\"prediction_id\", target_regres]].copy().reset_index(drop=True)\n",
        "  df_probs_test = df_test[[\"prediction_id\"]].copy().reset_index(drop=True)\n",
        "\n",
        "  if df_val is not None:\n",
        "    df_probs_val = df_val[[\"prediction_id\", target_regres]].copy().reset_index(drop=True)\n",
        "  else:\n",
        "    df_probs_val = None\n",
        "  \n",
        "  # Generar los Folds\n",
        "  skf = KFold(n_splits=k, shuffle=True, random_state=0)\n",
        "\n",
        "  for i, (traincv, valcv) in enumerate(skf.split(df_train[predictores], df_train[target_regres])):\n",
        "\n",
        "      print(\"Iteracion {}\".format(i))\n",
        "      \n",
        "      df_train_cv = df_train.loc[traincv, :].copy().reset_index(drop=True)\n",
        "      df_val_cv = df_train.loc[valcv, :].copy().reset_index(drop=True)\n",
        "\n",
        "      # Fase de Entrenamiento\n",
        "      print(\"\\t REGRESIÓN\")\n",
        "      print(\"\\t\\t 1. CATBOOST\")\n",
        "      cbt_reg_model = CatBoostRegressor(**ctb_regr_params)\n",
        "      cbt_reg_model.fit(df_train_cv[predictores], df_train_cv[target_regres], eval_set=(df_val_cv[predictores], df_val_cv[target_regres]), use_best_model=True)\n",
        "\n",
        "      print(\"\\t\\t 2. LIGHTGBM\")\n",
        "      ## LightGBM\n",
        "      lgtrain = lgb.Dataset(df_train_cv[predictores], label=df_train_cv[target_regres])\n",
        "      lgval = lgb.Dataset(df_val_cv[predictores], label=df_val_cv[target_regres])\n",
        "      lgb_reg_model = lgb.train(lgb_regr_params, lgtrain, 900, valid_sets=[lgtrain, lgval], early_stopping_rounds=100, verbose_eval=20, evals_result={})\n",
        "\n",
        "      # Fase de Scoring\n",
        "      ## Regresión\n",
        "      pred_train_cbtm = cbt_reg_model.predict(df_train_cv[predictores])\n",
        "      pred_val_cbtm = cbt_reg_model.predict(df_val_cv[predictores])\n",
        "\n",
        "      pred_train_lgbm = lgb_reg_model.predict(df_train_cv[predictores])\n",
        "      pred_val_lgbm = lgb_reg_model.predict(df_val_cv[predictores])\n",
        "\n",
        "      # Cálculo de Métricas\n",
        "      ## Regresión\n",
        "      metric_reg_train_cbtm = np.sqrt(mean_squared_error(df_train_cv[target_regre], pred_train_cbtm))\n",
        "      metric_reg_val_cbtm = np.sqrt(mean_squared_error(df_val_cv[target_regre], pred_val_cbtm))\n",
        "\n",
        "      metric_reg_train_lgbm = np.sqrt(mean_squared_error(df_train_cv[target_regre], pred_train_lgbm))\n",
        "      metric_reg_val_lgbm = np.sqrt(mean_squared_error(df_val_cv[target_regre], pred_val_lgbm))\n",
        "\n",
        "      if df_val is not None:\n",
        "        pred_val_out_cbtm = cbt_reg_model.predict(df_val[predictores])\n",
        "        metric_reg_val_out_cbtm = np.sqrt(mean_squared_error(df_val[target_regre], pred_val_out_cbtm))\n",
        "\n",
        "        pred_val_out_lgbm = lgb_reg_model.predict(df_val[predictores])\n",
        "        metric_reg_val_out_lgbm = np.sqrt(mean_squared_error(df_val[target_regre], pred_val_out_lgbm))\n",
        "\n",
        "      else:\n",
        "        pred_val_out_cbtm = np.zeros((1,1))\n",
        "        metric_reg_val_out_cbtm = 0\n",
        "\n",
        "        pred_val_out_lgbm = np.zeros((1,1))\n",
        "        metric_reg_val_out_lgbm = 0\n",
        "\n",
        "      # Cálculo de probabilidades en la base de Train y Validacion\n",
        "      df_probs_train.loc[valcv, \"pred_cbtm\"] = pred_val_cbtm\n",
        "      df_probs_train.loc[valcv, \"pred_lgbm\"] = pred_val_lgbm\n",
        "      df_probs_train.loc[valcv, \"FOLD\"] = \"FOLD_{0}\".format(i+1)\n",
        "      \n",
        "      \n",
        "      df_probs_test[\"pred_cbtm_{}\".format(i)] = cbt_reg_model.predict(df_test[predictores])\n",
        "      df_probs_test[\"pred_lgbm_{}\".format(i)] = lgb_reg_model.predict(df_test[predictores])\n",
        "      \n",
        "      if df_val is not None:\n",
        "        df_probs_val[\"pred_cbtm_{}\".format(i)] = cbt_reg_model.predict(df_val[predictores])\n",
        "        df_probs_val[\"pred_lgbm_{}\".format(i)] = lgb_reg_model.predict(df_val[predictores])\n",
        "\n",
        "        # Almacenar los resultados\n",
        "        results_models.append({\"rmse_train_cbtm\": metric_reg_train_cbtm, \"rmse_val_cbtm\": metric_reg_val_cbtm, ## CATBOOST\n",
        "                            \"rmse_train_lgbm\": metric_reg_train_lgbm, \"rmse_val_lgbm\": metric_reg_val_lgbm, ## LIGHTGBM\n",
        "                            \"seed_val\": seed_val})\n",
        "        \n",
        "        print(\"AVG METRICS REGRESSION\")\n",
        "        print(\"Mean Target:\\tTrain: {0},\\tVal In: {1},\\tVal Out: {2}\".format(round(df_train_cv[target_regre].mean(),4), round(df_val_cv[target_regre].mean(),4), round(df_val[target_regre].mean(),4)))\n",
        "        print(\"Mean Preds:\\tTrain: {0},\\tVal In: {1},\\tVal Out: {2}\".format(round(np.mean(pred_train_cbtm),4), round(np.mean(pred_val_cbtm),4), round(np.mean(pred_val_out_cbtm),4)))\n",
        "        print(\"Std Preds:\\tTrain: {0},\\tVal In: {1},\\tVal Out: {2}\".format(round(np.std(pred_train_cbtm),4), round(np.std(pred_val_cbtm),4), round(np.std(pred_val_out_cbtm),4)))\n",
        "        \n",
        "      else:\n",
        "        results_models.append({\"rmse_train_cbtm\": metric_reg_train_cbtm, \"rmse_val_cbtm\": metric_reg_val_cbtm, \"rmse_val_out_cbtm\": metric_reg_val_out_cbtm, ## CATBOOST\n",
        "                            \"rmse_train_lgbm\": metric_reg_train_lgbm, \"rmse_val_lgbm\": metric_reg_val_lgbm, \"rmse_val_out_lgbm\": metric_reg_val_out_lgbm, ## LIGHTGBM\n",
        "                            \"seed_val\": seed_val})\n",
        "\n",
        "        print(\"AVG METRICS REGRESSION\")\n",
        "        print(\"Mean Target:\\tTrain: {0},\\tVal In: {1}\".format(round(df_train_cv[target_regre].mean(),4), round(df_val_cv[target_regre].mean(),4)))\n",
        "        print(\"Mean Preds:\\tTrain: {0},\\tVal In: {1}\".format(round(np.mean(pred_train_cbtm),4), round(np.mean(pred_val_cbtm),4)))\n",
        "        print(\"Std Preds:\\tTrain: {0},\\tVal In: {1}\".format(round(np.std(pred_train_cbtm),4), round(np.std(pred_val_cbtm),4)))\n",
        "      \n",
        "      list_models_cv.append({\"cbtm_regre\": cbt_reg_model, \"lgbm_regre\": cbt_reg_model})\n",
        "      \n",
        "      print(\"CATBOOST REPORT\")\n",
        "      if df_val is not None:\n",
        "        df_prob_target_tmp = pd.DataFrame({\"prob\": pred_val_out_cbtm, \"target\": df_val[target_class]})\n",
        "      else:\n",
        "        df_prob_target_tmp = pd.DataFrame({\"prob\": pred_val_cbtm, \"target\": df_val_cv[target_class]})\n",
        "\n",
        "      df_prob_target_tmp = df_prob_target_tmp.groupby(pd.qcut(df_prob_target_tmp[\"prob\"], q=10)).agg({\"target\": [\"sum\", \"count\", \"mean\"]}).reset_index(drop=False)\n",
        "      df_prob_target_tmp.columns = [\"_\".join(c) if c[-1] != \"\" else c[0] for c in df_prob_target_tmp.columns]\n",
        "      df_prob_target_tmp[\"target_%\"] = round(df_prob_target_tmp[\"target_sum\"] * 100.0 / df_prob_target_tmp[\"target_sum\"].sum(), 2)\n",
        "      print(df_prob_target_tmp)\n",
        "      print(\"#\" * 500)\n",
        "\n",
        "      print(\"LIGHTGBM REPORT\")\n",
        "      if df_val is not None:\n",
        "        df_prob_target_tmp = pd.DataFrame({\"prob\": pred_val_out_lgbm, \"target\": df_val[target_class]})\n",
        "      else:\n",
        "        df_prob_target_tmp = pd.DataFrame({\"prob\": pred_val_lgbm, \"target\": df_val_cv[target_class]})\n",
        "\n",
        "      df_prob_target_tmp = df_prob_target_tmp.groupby(pd.qcut(df_prob_target_tmp[\"prob\"], q=10)).agg({\"target\": [\"sum\", \"count\", \"mean\"]}).reset_index(drop=False)\n",
        "      df_prob_target_tmp.columns = [\"_\".join(c) if c[-1] != \"\" else c[0] for c in df_prob_target_tmp.columns]\n",
        "      df_prob_target_tmp[\"target_%\"] = round(df_prob_target_tmp[\"target_sum\"] * 100.0 / df_prob_target_tmp[\"target_sum\"].sum(), 2)\n",
        "      print(df_prob_target_tmp)\n",
        "      print(\"#\" * 500)\n",
        "  \n",
        "  if df_val is not None:\n",
        "    df_probs_val[\"pred_avg_cbtm\"] = df_probs_val[[c for c in df_probs_val.columns if \"pred_cbtm\" in c]].mean(axis=1)\n",
        "    df_probs_val[\"pred_avg_lgbm\"] = df_probs_val[[c for c in df_probs_val.columns if \"pred_lgbm\" in c]].mean(axis=1)\n",
        "  \n",
        "  df_probs_test[\"pred_avg_cbtm\"] = df_probs_test[[c for c in df_probs_test.columns if \"pred_cbtm\" in c]].mean(axis=1)\n",
        "  df_probs_test[\"pred_avg_lgbm\"] = df_probs_test[[c for c in df_probs_test.columns if \"pred_lgbm\" in c]].mean(axis=1)\n",
        "  \n",
        "  return results_models, list_models_cv, df_probs_train, df_probs_val, df_probs_test"
      ],
      "execution_count": 0,
      "outputs": []
    },
    {
      "cell_type": "markdown",
      "metadata": {
        "id": "53pMP5MfhUI_",
        "colab_type": "text"
      },
      "source": [
        "###### With ALL"
      ]
    },
    {
      "cell_type": "code",
      "metadata": {
        "id": "fCMumB2Fzm7e",
        "colab_type": "code",
        "outputId": "a4a8e0ef-a9d1-425c-b559-75698a21ec9a",
        "colab": {
          "base_uri": "https://localhost:8080/",
          "height": 446
        }
      },
      "source": [
        "results_renta_3, list_models_renta_3, df_probs_train_renta_3, df_probs_val_renta_3, df_probs_test_renta_3 = renta_regre_model_with_cv(df_train, df_test, target_regre, predictores, None)"
      ],
      "execution_count": 0,
      "outputs": [
        {
          "output_type": "stream",
          "text": [
            "Iteracion 0\n",
            "\t REGRESIÓN\n",
            "\t\t 1. CATBOOST\n"
          ],
          "name": "stdout"
        },
        {
          "output_type": "error",
          "ename": "KeyboardInterrupt",
          "evalue": "ignored",
          "traceback": [
            "\u001b[0;31m---------------------------------------------------------------------------\u001b[0m",
            "\u001b[0;31mKeyboardInterrupt\u001b[0m                         Traceback (most recent call last)",
            "\u001b[0;32m<ipython-input-50-cb2991a89d87>\u001b[0m in \u001b[0;36m<module>\u001b[0;34m()\u001b[0m\n\u001b[0;32m----> 1\u001b[0;31m \u001b[0mresults_renta_3\u001b[0m\u001b[0;34m,\u001b[0m \u001b[0mlist_models_renta_3\u001b[0m\u001b[0;34m,\u001b[0m \u001b[0mdf_probs_train_renta_3\u001b[0m\u001b[0;34m,\u001b[0m \u001b[0mdf_probs_val_renta_3\u001b[0m\u001b[0;34m,\u001b[0m \u001b[0mdf_probs_test_renta_3\u001b[0m \u001b[0;34m=\u001b[0m \u001b[0mrenta_regre_model_with_cv\u001b[0m\u001b[0;34m(\u001b[0m\u001b[0mdf_train\u001b[0m\u001b[0;34m,\u001b[0m \u001b[0mdf_test\u001b[0m\u001b[0;34m,\u001b[0m \u001b[0mtarget_regre\u001b[0m\u001b[0;34m,\u001b[0m \u001b[0mpredictores\u001b[0m\u001b[0;34m,\u001b[0m \u001b[0;32mNone\u001b[0m\u001b[0;34m)\u001b[0m\u001b[0;34m\u001b[0m\u001b[0;34m\u001b[0m\u001b[0m\n\u001b[0m",
            "\u001b[0;32m<ipython-input-49-7240dcc7cb40>\u001b[0m in \u001b[0;36mrenta_regre_model_with_cv\u001b[0;34m(df_train, df_test, target_regres, predictores, df_val)\u001b[0m\n\u001b[1;32m     33\u001b[0m       \u001b[0mprint\u001b[0m\u001b[0;34m(\u001b[0m\u001b[0;34m\"\\t\\t 1. CATBOOST\"\u001b[0m\u001b[0;34m)\u001b[0m\u001b[0;34m\u001b[0m\u001b[0;34m\u001b[0m\u001b[0m\n\u001b[1;32m     34\u001b[0m       \u001b[0mcbt_reg_model\u001b[0m \u001b[0;34m=\u001b[0m \u001b[0mCatBoostRegressor\u001b[0m\u001b[0;34m(\u001b[0m\u001b[0;34m**\u001b[0m\u001b[0mctb_regr_params\u001b[0m\u001b[0;34m)\u001b[0m\u001b[0;34m\u001b[0m\u001b[0;34m\u001b[0m\u001b[0m\n\u001b[0;32m---> 35\u001b[0;31m       \u001b[0mcbt_reg_model\u001b[0m\u001b[0;34m.\u001b[0m\u001b[0mfit\u001b[0m\u001b[0;34m(\u001b[0m\u001b[0mdf_train_cv\u001b[0m\u001b[0;34m[\u001b[0m\u001b[0mpredictores\u001b[0m\u001b[0;34m]\u001b[0m\u001b[0;34m,\u001b[0m \u001b[0mdf_train_cv\u001b[0m\u001b[0;34m[\u001b[0m\u001b[0mtarget_regres\u001b[0m\u001b[0;34m]\u001b[0m\u001b[0;34m,\u001b[0m \u001b[0meval_set\u001b[0m\u001b[0;34m=\u001b[0m\u001b[0;34m(\u001b[0m\u001b[0mdf_val_cv\u001b[0m\u001b[0;34m[\u001b[0m\u001b[0mpredictores\u001b[0m\u001b[0;34m]\u001b[0m\u001b[0;34m,\u001b[0m \u001b[0mdf_val_cv\u001b[0m\u001b[0;34m[\u001b[0m\u001b[0mtarget_regres\u001b[0m\u001b[0;34m]\u001b[0m\u001b[0;34m)\u001b[0m\u001b[0;34m,\u001b[0m \u001b[0muse_best_model\u001b[0m\u001b[0;34m=\u001b[0m\u001b[0;32mTrue\u001b[0m\u001b[0;34m)\u001b[0m\u001b[0;34m\u001b[0m\u001b[0;34m\u001b[0m\u001b[0m\n\u001b[0m\u001b[1;32m     36\u001b[0m \u001b[0;34m\u001b[0m\u001b[0m\n\u001b[1;32m     37\u001b[0m       \u001b[0mprint\u001b[0m\u001b[0;34m(\u001b[0m\u001b[0;34m\"\\t\\t 2. LIGHTGBM\"\u001b[0m\u001b[0;34m)\u001b[0m\u001b[0;34m\u001b[0m\u001b[0;34m\u001b[0m\u001b[0m\n",
            "\u001b[0;32m/usr/local/lib/python3.6/dist-packages/catboost/core.py\u001b[0m in \u001b[0;36mfit\u001b[0;34m(self, X, y, cat_features, sample_weight, baseline, use_best_model, eval_set, verbose, logging_level, plot, column_description, verbose_eval, metric_period, silent, early_stopping_rounds, save_snapshot, snapshot_file, snapshot_interval, init_model)\u001b[0m\n\u001b[1;32m   4138\u001b[0m                          \u001b[0muse_best_model\u001b[0m\u001b[0;34m,\u001b[0m \u001b[0meval_set\u001b[0m\u001b[0;34m,\u001b[0m \u001b[0mverbose\u001b[0m\u001b[0;34m,\u001b[0m \u001b[0mlogging_level\u001b[0m\u001b[0;34m,\u001b[0m \u001b[0mplot\u001b[0m\u001b[0;34m,\u001b[0m \u001b[0mcolumn_description\u001b[0m\u001b[0;34m,\u001b[0m\u001b[0;34m\u001b[0m\u001b[0;34m\u001b[0m\u001b[0m\n\u001b[1;32m   4139\u001b[0m                          \u001b[0mverbose_eval\u001b[0m\u001b[0;34m,\u001b[0m \u001b[0mmetric_period\u001b[0m\u001b[0;34m,\u001b[0m \u001b[0msilent\u001b[0m\u001b[0;34m,\u001b[0m \u001b[0mearly_stopping_rounds\u001b[0m\u001b[0;34m,\u001b[0m\u001b[0;34m\u001b[0m\u001b[0;34m\u001b[0m\u001b[0m\n\u001b[0;32m-> 4140\u001b[0;31m                          save_snapshot, snapshot_file, snapshot_interval, init_model)\n\u001b[0m\u001b[1;32m   4141\u001b[0m \u001b[0;34m\u001b[0m\u001b[0m\n\u001b[1;32m   4142\u001b[0m     \u001b[0;32mdef\u001b[0m \u001b[0mpredict\u001b[0m\u001b[0;34m(\u001b[0m\u001b[0mself\u001b[0m\u001b[0;34m,\u001b[0m \u001b[0mdata\u001b[0m\u001b[0;34m,\u001b[0m \u001b[0mntree_start\u001b[0m\u001b[0;34m=\u001b[0m\u001b[0;36m0\u001b[0m\u001b[0;34m,\u001b[0m \u001b[0mntree_end\u001b[0m\u001b[0;34m=\u001b[0m\u001b[0;36m0\u001b[0m\u001b[0;34m,\u001b[0m \u001b[0mthread_count\u001b[0m\u001b[0;34m=\u001b[0m\u001b[0;34m-\u001b[0m\u001b[0;36m1\u001b[0m\u001b[0;34m,\u001b[0m \u001b[0mverbose\u001b[0m\u001b[0;34m=\u001b[0m\u001b[0;32mNone\u001b[0m\u001b[0;34m)\u001b[0m\u001b[0;34m:\u001b[0m\u001b[0;34m\u001b[0m\u001b[0;34m\u001b[0m\u001b[0m\n",
            "\u001b[0;32m/usr/local/lib/python3.6/dist-packages/catboost/core.py\u001b[0m in \u001b[0;36m_fit\u001b[0;34m(self, X, y, cat_features, pairs, sample_weight, group_id, group_weight, subgroup_id, pairs_weight, baseline, use_best_model, eval_set, verbose, logging_level, plot, column_description, verbose_eval, metric_period, silent, early_stopping_rounds, save_snapshot, snapshot_file, snapshot_interval, init_model)\u001b[0m\n\u001b[1;32m   1616\u001b[0m                 \u001b[0mparams\u001b[0m\u001b[0;34m,\u001b[0m\u001b[0;34m\u001b[0m\u001b[0;34m\u001b[0m\u001b[0m\n\u001b[1;32m   1617\u001b[0m                 \u001b[0mallow_clear_pool\u001b[0m\u001b[0;34m,\u001b[0m\u001b[0;34m\u001b[0m\u001b[0;34m\u001b[0m\u001b[0m\n\u001b[0;32m-> 1618\u001b[0;31m                 \u001b[0mtrain_params\u001b[0m\u001b[0;34m[\u001b[0m\u001b[0;34m\"init_model\"\u001b[0m\u001b[0;34m]\u001b[0m\u001b[0;34m\u001b[0m\u001b[0;34m\u001b[0m\u001b[0m\n\u001b[0m\u001b[1;32m   1619\u001b[0m             )\n\u001b[1;32m   1620\u001b[0m \u001b[0;34m\u001b[0m\u001b[0m\n",
            "\u001b[0;32m/usr/local/lib/python3.6/dist-packages/catboost/core.py\u001b[0m in \u001b[0;36m_train\u001b[0;34m(self, train_pool, test_pool, params, allow_clear_pool, init_model)\u001b[0m\n\u001b[1;32m   1175\u001b[0m \u001b[0;34m\u001b[0m\u001b[0m\n\u001b[1;32m   1176\u001b[0m     \u001b[0;32mdef\u001b[0m \u001b[0m_train\u001b[0m\u001b[0;34m(\u001b[0m\u001b[0mself\u001b[0m\u001b[0;34m,\u001b[0m \u001b[0mtrain_pool\u001b[0m\u001b[0;34m,\u001b[0m \u001b[0mtest_pool\u001b[0m\u001b[0;34m,\u001b[0m \u001b[0mparams\u001b[0m\u001b[0;34m,\u001b[0m \u001b[0mallow_clear_pool\u001b[0m\u001b[0;34m,\u001b[0m \u001b[0minit_model\u001b[0m\u001b[0;34m)\u001b[0m\u001b[0;34m:\u001b[0m\u001b[0;34m\u001b[0m\u001b[0;34m\u001b[0m\u001b[0m\n\u001b[0;32m-> 1177\u001b[0;31m         \u001b[0mself\u001b[0m\u001b[0;34m.\u001b[0m\u001b[0m_object\u001b[0m\u001b[0;34m.\u001b[0m\u001b[0m_train\u001b[0m\u001b[0;34m(\u001b[0m\u001b[0mtrain_pool\u001b[0m\u001b[0;34m,\u001b[0m \u001b[0mtest_pool\u001b[0m\u001b[0;34m,\u001b[0m \u001b[0mparams\u001b[0m\u001b[0;34m,\u001b[0m \u001b[0mallow_clear_pool\u001b[0m\u001b[0;34m,\u001b[0m \u001b[0minit_model\u001b[0m\u001b[0;34m.\u001b[0m\u001b[0m_object\u001b[0m \u001b[0;32mif\u001b[0m \u001b[0minit_model\u001b[0m \u001b[0;32melse\u001b[0m \u001b[0;32mNone\u001b[0m\u001b[0;34m)\u001b[0m\u001b[0;34m\u001b[0m\u001b[0;34m\u001b[0m\u001b[0m\n\u001b[0m\u001b[1;32m   1178\u001b[0m         \u001b[0mself\u001b[0m\u001b[0;34m.\u001b[0m\u001b[0m_set_trained_model_attributes\u001b[0m\u001b[0;34m(\u001b[0m\u001b[0;34m)\u001b[0m\u001b[0;34m\u001b[0m\u001b[0;34m\u001b[0m\u001b[0m\n\u001b[1;32m   1179\u001b[0m \u001b[0;34m\u001b[0m\u001b[0m\n",
            "\u001b[0;32m_catboost.pyx\u001b[0m in \u001b[0;36m_catboost._CatBoost._train\u001b[0;34m()\u001b[0m\n",
            "\u001b[0;32m_catboost.pyx\u001b[0m in \u001b[0;36m_catboost._CatBoost._train\u001b[0;34m()\u001b[0m\n",
            "\u001b[0;31mKeyboardInterrupt\u001b[0m: "
          ]
        }
      ]
    },
    {
      "cell_type": "code",
      "metadata": {
        "id": "BAszFrLwcL8q",
        "colab_type": "code",
        "outputId": "4157b4fd-2804-4b9c-c0ce-bd3589c0fe29",
        "colab": {
          "base_uri": "https://localhost:8080/",
          "height": 1000
        }
      },
      "source": [
        "results_renta_3, list_models_renta_3, df_probs_train_renta_3, df_probs_val_renta_3, df_probs_test_renta_3 = renta_regre_model_with_cv(df_train, df_test, target_regre, predictores, None)"
      ],
      "execution_count": 0,
      "outputs": [
        {
          "output_type": "stream",
          "text": [
            "Iteracion 0\n",
            "\t REGRESIÓN\n",
            "\t\t 1. CATBOOST\n",
            "0:\tlearn: 70.6323288\ttest: 68.1838852\tbest: 68.1838852 (0)\ttotal: 10.9ms\tremaining: 10.9s\n",
            "200:\tlearn: 67.0365837\ttest: 66.5086531\tbest: 66.5072984 (198)\ttotal: 1.75s\tremaining: 6.97s\n",
            "400:\tlearn: 65.4214689\ttest: 66.2804175\tbest: 66.2799861 (399)\ttotal: 3.4s\tremaining: 5.08s\n",
            "600:\tlearn: 64.0124861\ttest: 66.1598327\tbest: 66.1566030 (573)\ttotal: 5.06s\tremaining: 3.36s\n",
            "800:\tlearn: 62.9469744\ttest: 66.0989939\tbest: 66.0988260 (797)\ttotal: 6.7s\tremaining: 1.66s\n",
            "999:\tlearn: 62.0420351\ttest: 66.0736920\tbest: 66.0730259 (992)\ttotal: 8.34s\tremaining: 0us\n",
            "bestTest = 66.07302586\n",
            "bestIteration = 992\n",
            "Shrink model to first 993 iterations.\n",
            "\t\t 2. LIGHTGBM\n",
            "Training until validation scores don't improve for 100 rounds.\n",
            "[20]\ttraining's l2: 4605.06\tvalid_1's l2: 4453.55\n",
            "[40]\ttraining's l2: 4389.68\tvalid_1's l2: 4373.93\n",
            "[60]\ttraining's l2: 4228.02\tvalid_1's l2: 4348.06\n",
            "[80]\ttraining's l2: 4124.85\tvalid_1's l2: 4337.28\n",
            "[100]\ttraining's l2: 4042.7\tvalid_1's l2: 4329.61\n",
            "[120]\ttraining's l2: 3993.01\tvalid_1's l2: 4325.2\n",
            "[140]\ttraining's l2: 3948.29\tvalid_1's l2: 4327.75\n",
            "[160]\ttraining's l2: 3908.45\tvalid_1's l2: 4325.81\n",
            "[180]\ttraining's l2: 3851.11\tvalid_1's l2: 4328.47\n",
            "[200]\ttraining's l2: 3818.42\tvalid_1's l2: 4326.01\n",
            "[220]\ttraining's l2: 3776.27\tvalid_1's l2: 4331.85\n",
            "Early stopping, best iteration is:\n",
            "[125]\ttraining's l2: 3984.15\tvalid_1's l2: 4324.1\n",
            "AVG METRICS REGRESSION\n",
            "Mean Target:\tTrain: 7.6106,\tVal In: 7.2304\n",
            "Mean Preds:\tTrain: 7.5944,\tVal In: 7.6945\n",
            "Std Preds:\tTrain: 21.2655,\tVal In: 16.0208\n",
            "CATBOOST REPORT\n",
            "                prob  target_sum  target_count  target_mean  target_%\n",
            "0  (-17.259, -5.839]        47.0          4254     0.011048      1.15\n",
            "1   (-5.839, -3.225]        85.0          4253     0.019986      2.08\n",
            "2   (-3.225, -1.011]       118.0          4253     0.027745      2.88\n",
            "3    (-1.011, 1.125]       166.0          4253     0.039031      4.06\n",
            "4     (1.125, 3.351]       303.0          4254     0.071227      7.41\n",
            "5       (3.351, 6.1]       356.0          4253     0.083706      8.70\n",
            "6      (6.1, 10.296]       405.0          4253     0.095227      9.90\n",
            "7   (10.296, 16.072]       571.0          4253     0.134258     13.96\n",
            "8    (16.072, 26.42]       795.0          4253     0.186927     19.43\n",
            "9   (26.42, 447.213]      1245.0          4254     0.292666     30.43\n",
            "####################################################################################################################################################################################################################################################################################################################################################################################################################################################################################################################\n",
            "LIGHTGBM REPORT\n",
            "                prob  target_sum  target_count  target_mean  target_%\n",
            "0  (-64.983, -4.493]        54.0          4254     0.012694      1.32\n",
            "1   (-4.493, -2.895]        65.0          4253     0.015283      1.59\n",
            "2   (-2.895, -1.359]       116.0          4253     0.027275      2.84\n",
            "3    (-1.359, 0.367]       148.0          4254     0.034791      3.62\n",
            "4     (0.367, 2.275]       231.0          4253     0.054315      5.65\n",
            "5     (2.275, 4.486]       433.0          4253     0.101810     10.58\n",
            "6     (4.486, 8.227]       379.0          4253     0.089114      9.26\n",
            "7    (8.227, 13.998]       613.0          4253     0.144134     14.98\n",
            "8   (13.998, 25.137]       814.0          4253     0.191394     19.90\n",
            "9  (25.137, 384.795]      1238.0          4254     0.291020     30.26\n",
            "####################################################################################################################################################################################################################################################################################################################################################################################################################################################################################################################\n",
            "Iteracion 1\n",
            "\t REGRESIÓN\n",
            "\t\t 1. CATBOOST\n",
            "0:\tlearn: 70.9191887\ttest: 66.8385461\tbest: 66.8385461 (0)\ttotal: 13.2ms\tremaining: 13.2s\n",
            "200:\tlearn: 67.2385559\ttest: 65.0342281\tbest: 65.0342281 (200)\ttotal: 1.8s\tremaining: 7.14s\n",
            "400:\tlearn: 65.5740561\ttest: 64.7876932\tbest: 64.7876932 (400)\ttotal: 3.5s\tremaining: 5.22s\n",
            "600:\tlearn: 64.1844232\ttest: 64.6480427\tbest: 64.6480427 (600)\ttotal: 5.17s\tremaining: 3.43s\n",
            "800:\tlearn: 63.0820213\ttest: 64.5866798\tbest: 64.5866798 (800)\ttotal: 6.85s\tremaining: 1.7s\n",
            "999:\tlearn: 62.1516685\ttest: 64.5191602\tbest: 64.5191602 (999)\ttotal: 8.58s\tremaining: 0us\n",
            "bestTest = 64.51916016\n",
            "bestIteration = 999\n",
            "Shrink model to first 1000 iterations.\n",
            "\t\t 2. LIGHTGBM\n",
            "Training until validation scores don't improve for 100 rounds.\n",
            "[20]\ttraining's l2: 4632.9\tvalid_1's l2: 4249.76\n",
            "[40]\ttraining's l2: 4397.83\tvalid_1's l2: 4180.29\n",
            "[60]\ttraining's l2: 4262.75\tvalid_1's l2: 4143.31\n",
            "[80]\ttraining's l2: 4153.11\tvalid_1's l2: 4125.79\n",
            "[100]\ttraining's l2: 4078.6\tvalid_1's l2: 4121.21\n",
            "[120]\ttraining's l2: 4014.6\tvalid_1's l2: 4120.21\n",
            "[140]\ttraining's l2: 3961.97\tvalid_1's l2: 4117.26\n",
            "[160]\ttraining's l2: 3913.79\tvalid_1's l2: 4111.43\n",
            "[180]\ttraining's l2: 3852.17\tvalid_1's l2: 4119.93\n",
            "[200]\ttraining's l2: 3823.22\tvalid_1's l2: 4113.03\n",
            "[220]\ttraining's l2: 3778.79\tvalid_1's l2: 4117.42\n",
            "[240]\ttraining's l2: 3743.47\tvalid_1's l2: 4117.65\n",
            "Early stopping, best iteration is:\n",
            "[156]\ttraining's l2: 3922.41\tvalid_1's l2: 4110.36\n",
            "AVG METRICS REGRESSION\n",
            "Mean Target:\tTrain: 7.5168,\tVal In: 7.6053\n",
            "Mean Preds:\tTrain: 7.5006,\tVal In: 7.691\n",
            "Std Preds:\tTrain: 21.419,\tVal In: 15.5597\n",
            "CATBOOST REPORT\n",
            "                prob  target_sum  target_count  target_mean  target_%\n",
            "0  (-21.789, -5.742]        44.0          4254     0.010343      1.04\n",
            "1   (-5.742, -3.148]        89.0          4253     0.020926      2.11\n",
            "2   (-3.148, -1.032]       135.0          4253     0.031742      3.20\n",
            "3    (-1.032, 1.083]       181.0          4253     0.042558      4.29\n",
            "4     (1.083, 3.297]       292.0          4254     0.068641      6.93\n",
            "5     (3.297, 6.234]       353.0          4253     0.083000      8.37\n",
            "6    (6.234, 10.398]       395.0          4253     0.092876      9.37\n",
            "7   (10.398, 16.188]       579.0          4253     0.136139     13.74\n",
            "8   (16.188, 26.198]       850.0          4253     0.199859     20.17\n",
            "9  (26.198, 382.392]      1297.0          4254     0.304890     30.77\n",
            "####################################################################################################################################################################################################################################################################################################################################################################################################################################################################################################################\n",
            "LIGHTGBM REPORT\n",
            "                            prob  target_sum  ...  target_mean   target_%\n",
            "0  (-62.897999999999996, -5.156]        46.0  ...     0.010813   1.090000\n",
            "1               (-5.156, -3.357]        72.0  ...     0.016929   1.710000\n",
            "2               (-3.357, -1.699]       124.0  ...     0.029156   2.940000\n",
            "3                (-1.699, 0.065]       158.0  ...     0.037150   3.750000\n",
            "4                 (0.065, 2.179]       228.0  ...     0.053597   5.410000\n",
            "5                 (2.179, 4.398]       397.0  ...     0.093346   9.420000\n",
            "6                 (4.398, 8.592]       412.0  ...     0.096873   9.770000\n",
            "7                (8.592, 14.428]       586.0  ...     0.137785  13.900000\n",
            "8               (14.428, 25.671]       912.0  ...     0.214437  21.639999\n",
            "9              (25.671, 352.075]      1280.0  ...     0.300893  30.370001\n",
            "\n",
            "[10 rows x 5 columns]\n",
            "####################################################################################################################################################################################################################################################################################################################################################################################################################################################################################################################\n",
            "Iteracion 2\n",
            "\t REGRESIÓN\n",
            "\t\t 1. CATBOOST\n",
            "0:\tlearn: 68.3894301\ttest: 76.7721952\tbest: 76.7721952 (0)\ttotal: 12.4ms\tremaining: 12.4s\n",
            "200:\tlearn: 64.9396175\ttest: 75.0008481\tbest: 75.0008481 (200)\ttotal: 1.75s\tremaining: 6.98s\n",
            "400:\tlearn: 63.6142035\ttest: 74.7733666\tbest: 74.7732409 (398)\ttotal: 3.37s\tremaining: 5.04s\n",
            "600:\tlearn: 62.5749494\ttest: 74.6390942\tbest: 74.6390942 (600)\ttotal: 4.98s\tremaining: 3.31s\n",
            "800:\tlearn: 61.7126611\ttest: 74.5577451\tbest: 74.5577451 (800)\ttotal: 6.55s\tremaining: 1.63s\n",
            "999:\tlearn: 60.9194081\ttest: 74.4992680\tbest: 74.4979450 (995)\ttotal: 8.16s\tremaining: 0us\n",
            "bestTest = 74.49794499\n",
            "bestIteration = 995\n",
            "Shrink model to first 996 iterations.\n",
            "\t\t 2. LIGHTGBM\n",
            "Training until validation scores don't improve for 100 rounds.\n",
            "[20]\ttraining's l2: 4284.92\tvalid_1's l2: 5652.72\n",
            "[40]\ttraining's l2: 4073.48\tvalid_1's l2: 5553.07\n",
            "[60]\ttraining's l2: 3923.38\tvalid_1's l2: 5502.96\n",
            "[80]\ttraining's l2: 3814.72\tvalid_1's l2: 5478.72\n",
            "[100]\ttraining's l2: 3724.61\tvalid_1's l2: 5465.78\n",
            "[120]\ttraining's l2: 3659.88\tvalid_1's l2: 5460.84\n",
            "[140]\ttraining's l2: 3599.95\tvalid_1's l2: 5460.81\n",
            "[160]\ttraining's l2: 3550.96\tvalid_1's l2: 5461.77\n",
            "[180]\ttraining's l2: 3518.05\tvalid_1's l2: 5459.6\n",
            "[200]\ttraining's l2: 3484.39\tvalid_1's l2: 5456.93\n",
            "[220]\ttraining's l2: 3442.5\tvalid_1's l2: 5460.01\n",
            "[240]\ttraining's l2: 3416.79\tvalid_1's l2: 5460.74\n",
            "[260]\ttraining's l2: 3388.24\tvalid_1's l2: 5460.38\n",
            "[280]\ttraining's l2: 3356.34\tvalid_1's l2: 5460.14\n",
            "Early stopping, best iteration is:\n",
            "[196]\ttraining's l2: 3489.88\tvalid_1's l2: 5456.34\n",
            "AVG METRICS REGRESSION\n",
            "Mean Target:\tTrain: 7.4367,\tVal In: 7.9259\n",
            "Mean Preds:\tTrain: 7.4225,\tVal In: 7.3597\n",
            "Std Preds:\tTrain: 19.3793,\tVal In: 15.6295\n",
            "CATBOOST REPORT\n",
            "                            prob  target_sum  ...  target_mean   target_%\n",
            "0  (-17.615000000000002, -5.918]        45.0  ...     0.010578   1.080000\n",
            "1               (-5.918, -3.427]        85.0  ...     0.019986   2.050000\n",
            "2               (-3.427, -1.264]       121.0  ...     0.028451   2.910000\n",
            "3                (-1.264, 0.801]       180.0  ...     0.042323   4.340000\n",
            "4                 (0.801, 3.013]       258.0  ...     0.060649   6.210000\n",
            "5                 (3.013, 5.641]       368.0  ...     0.086527   8.860000\n",
            "6                 (5.641, 9.688]       378.0  ...     0.088878   9.100000\n",
            "7                (9.688, 15.683]       603.0  ...     0.141782  14.520000\n",
            "8                (15.683, 26.14]       822.0  ...     0.193275  19.799999\n",
            "9               (26.14, 575.657]      1292.0  ...     0.303714  31.120001\n",
            "\n",
            "[10 rows x 5 columns]\n",
            "####################################################################################################################################################################################################################################################################################################################################################################################################################################################################################################################\n",
            "LIGHTGBM REPORT\n",
            "                            prob  target_sum  ...  target_mean   target_%\n",
            "0  (-106.84100000000001, -5.765]        58.0  ...     0.013634   1.400000\n",
            "1               (-5.765, -3.852]        71.0  ...     0.016694   1.710000\n",
            "2               (-3.852, -2.093]       115.0  ...     0.027040   2.770000\n",
            "3               (-2.093, -0.276]       155.0  ...     0.036445   3.730000\n",
            "4                (-0.276, 1.775]       198.0  ...     0.046544   4.770000\n",
            "5                 (1.775, 4.054]       383.0  ...     0.090054   9.220000\n",
            "6                 (4.054, 7.933]       396.0  ...     0.093111   9.540000\n",
            "7                (7.933, 13.966]       617.0  ...     0.145074  14.860000\n",
            "8               (13.966, 25.786]       894.0  ...     0.210205  21.530001\n",
            "9              (25.786, 379.021]      1265.0  ...     0.297367  30.469999\n",
            "\n",
            "[10 rows x 5 columns]\n",
            "####################################################################################################################################################################################################################################################################################################################################################################################################################################################################################################################\n",
            "Iteracion 3\n",
            "\t REGRESIÓN\n",
            "\t\t 1. CATBOOST\n",
            "0:\tlearn: 69.4329566\ttest: 72.9140949\tbest: 72.9140949 (0)\ttotal: 11ms\tremaining: 11s\n",
            "200:\tlearn: 65.8791125\ttest: 70.9683746\tbest: 70.9683136 (197)\ttotal: 1.78s\tremaining: 7.09s\n",
            "400:\tlearn: 64.3000806\ttest: 70.7357108\tbest: 70.7357108 (400)\ttotal: 3.5s\tremaining: 5.23s\n",
            "600:\tlearn: 63.0673796\ttest: 70.6234686\tbest: 70.6221690 (575)\ttotal: 5.22s\tremaining: 3.46s\n",
            "800:\tlearn: 61.9922719\ttest: 70.5480792\tbest: 70.5445839 (786)\ttotal: 6.94s\tremaining: 1.72s\n",
            "999:\tlearn: 61.1696124\ttest: 70.5130004\tbest: 70.5106184 (872)\ttotal: 8.59s\tremaining: 0us\n",
            "bestTest = 70.51061836\n",
            "bestIteration = 872\n",
            "Shrink model to first 873 iterations.\n",
            "\t\t 2. LIGHTGBM\n",
            "Training until validation scores don't improve for 100 rounds.\n",
            "[20]\ttraining's l2: 4455.71\tvalid_1's l2: 5081.24\n",
            "[40]\ttraining's l2: 4242.68\tvalid_1's l2: 4982.04\n",
            "[60]\ttraining's l2: 4102.81\tvalid_1's l2: 4937.92\n",
            "[80]\ttraining's l2: 4000.16\tvalid_1's l2: 4914.48\n",
            "[100]\ttraining's l2: 3913.89\tvalid_1's l2: 4902.78\n",
            "[120]\ttraining's l2: 3863.02\tvalid_1's l2: 4896.53\n",
            "[140]\ttraining's l2: 3817.14\tvalid_1's l2: 4891.2\n",
            "[160]\ttraining's l2: 3776.71\tvalid_1's l2: 4889.56\n",
            "[180]\ttraining's l2: 3723.85\tvalid_1's l2: 4888.33\n",
            "[200]\ttraining's l2: 3696.26\tvalid_1's l2: 4886.24\n",
            "[220]\ttraining's l2: 3659.33\tvalid_1's l2: 4886.29\n",
            "[240]\ttraining's l2: 3623.7\tvalid_1's l2: 4886.79\n",
            "Early stopping, best iteration is:\n",
            "[152]\ttraining's l2: 3793.2\tvalid_1's l2: 4883.16\n",
            "AVG METRICS REGRESSION\n",
            "Mean Target:\tTrain: 7.4573,\tVal In: 7.8435\n",
            "Mean Preds:\tTrain: 7.4414,\tVal In: 7.2823\n",
            "Std Preds:\tTrain: 19.7788,\tVal In: 14.6831\n",
            "CATBOOST REPORT\n",
            "                prob  target_sum  target_count  target_mean   target_%\n",
            "0   (-19.73, -5.581]        60.0          4254     0.014104   1.430000\n",
            "1    (-5.581, -3.15]        82.0          4253     0.019281   1.960000\n",
            "2    (-3.15, -1.094]       137.0          4253     0.032213   3.270000\n",
            "3    (-1.094, 0.886]       179.0          4253     0.042088   4.280000\n",
            "4     (0.886, 2.981]       277.0          4262     0.064993   6.620000\n",
            "5     (2.981, 5.793]       316.0          4245     0.074441   7.550000\n",
            "6     (5.793, 9.866]       402.0          4253     0.094522   9.610000\n",
            "7    (9.866, 15.692]       564.0          4253     0.132612  13.480000\n",
            "8   (15.692, 25.774]       869.0          4253     0.204326  20.760000\n",
            "9  (25.774, 487.061]      1299.0          4254     0.305360  31.040001\n",
            "####################################################################################################################################################################################################################################################################################################################################################################################################################################################################################################################\n",
            "LIGHTGBM REPORT\n",
            "                 prob  target_sum  target_count  target_mean   target_%\n",
            "0   (-65.679, -4.791]        58.0          4254     0.013634   1.390000\n",
            "1    (-4.791, -3.161]        94.0          4253     0.022102   2.250000\n",
            "2    (-3.161, -1.657]       116.0          4253     0.027275   2.770000\n",
            "3  (-1.657, -0.00549]       136.0          4253     0.031977   3.250000\n",
            "4   (-0.00549, 1.978]       226.0          4254     0.053126   5.400000\n",
            "5      (1.978, 4.158]       376.0          4253     0.088408   8.980000\n",
            "6      (4.158, 7.844]       426.0          4253     0.100165  10.180000\n",
            "7      (7.844, 13.64]       563.0          4253     0.132377  13.450000\n",
            "8      (13.64, 24.83]       874.0          4253     0.205502  20.879999\n",
            "9    (24.83, 306.205]      1316.0          4254     0.309356  31.450001\n",
            "####################################################################################################################################################################################################################################################################################################################################################################################################################################################################################################################\n",
            "Iteracion 4\n",
            "\t REGRESIÓN\n",
            "\t\t 1. CATBOOST\n",
            "0:\tlearn: 71.2676992\ttest: 65.4145857\tbest: 65.4145857 (0)\ttotal: 12.2ms\tremaining: 12.2s\n",
            "200:\tlearn: 67.4604442\ttest: 63.6676237\tbest: 63.6676237 (200)\ttotal: 1.8s\tremaining: 7.15s\n",
            "400:\tlearn: 65.7053209\ttest: 63.4729314\tbest: 63.4721135 (396)\ttotal: 3.53s\tremaining: 5.28s\n",
            "600:\tlearn: 64.2570690\ttest: 63.3669079\tbest: 63.3662875 (599)\ttotal: 5.22s\tremaining: 3.47s\n",
            "800:\tlearn: 63.1058164\ttest: 63.3363393\tbest: 63.3338833 (787)\ttotal: 6.92s\tremaining: 1.72s\n",
            "999:\tlearn: 62.2240970\ttest: 63.2826899\tbest: 63.2826899 (999)\ttotal: 8.56s\tremaining: 0us\n",
            "bestTest = 63.28268994\n",
            "bestIteration = 999\n",
            "Shrink model to first 1000 iterations.\n",
            "\t\t 2. LIGHTGBM\n",
            "Training until validation scores don't improve for 100 rounds.\n",
            "[20]\ttraining's l2: 4648.46\tvalid_1's l2: 4100.28\n",
            "[40]\ttraining's l2: 4421.94\tvalid_1's l2: 4047.45\n",
            "[60]\ttraining's l2: 4253.66\tvalid_1's l2: 4029.41\n",
            "[80]\ttraining's l2: 4153.05\tvalid_1's l2: 4016.19\n",
            "[100]\ttraining's l2: 4066.48\tvalid_1's l2: 4013.98\n",
            "[120]\ttraining's l2: 3994.19\tvalid_1's l2: 4015.82\n",
            "[140]\ttraining's l2: 3940.45\tvalid_1's l2: 4017.03\n",
            "[160]\ttraining's l2: 3901.12\tvalid_1's l2: 4014.35\n",
            "[180]\ttraining's l2: 3857.03\tvalid_1's l2: 4015.8\n",
            "Early stopping, best iteration is:\n",
            "[96]\ttraining's l2: 4074.85\tvalid_1's l2: 4012.83\n",
            "AVG METRICS REGRESSION\n",
            "Mean Target:\tTrain: 7.6513,\tVal In: 7.0675\n",
            "Mean Preds:\tTrain: 7.6362,\tVal In: 7.6997\n",
            "Std Preds:\tTrain: 21.7603,\tVal In: 15.6101\n",
            "CATBOOST REPORT\n",
            "                            prob  target_sum  ...  target_mean   target_%\n",
            "0  (-20.060000000000002, -6.131]        47.0  ...     0.011048   1.130000\n",
            "1                (-6.131, -3.39]       109.0  ...     0.025629   2.630000\n",
            "2                (-3.39, -1.047]       137.0  ...     0.032213   3.300000\n",
            "3                (-1.047, 1.138]       202.0  ...     0.047496   4.870000\n",
            "4                 (1.138, 3.388]       294.0  ...     0.069111   7.080000\n",
            "5                 (3.388, 6.413]       321.0  ...     0.075476   7.730000\n",
            "6                (6.413, 10.572]       365.0  ...     0.085822   8.790000\n",
            "7               (10.572, 16.566]       558.0  ...     0.131202  13.440000\n",
            "8               (16.566, 26.665]       884.0  ...     0.207853  21.299999\n",
            "9              (26.665, 280.317]      1234.0  ...     0.290080  29.730000\n",
            "\n",
            "[10 rows x 5 columns]\n",
            "####################################################################################################################################################################################################################################################################################################################################################################################################################################################################################################################\n",
            "LIGHTGBM REPORT\n",
            "               prob  target_sum  target_count  target_mean   target_%\n",
            "0  (-46.26, -3.764]        70.0          4254     0.016455   1.690000\n",
            "1  (-3.764, -2.288]        91.0          4253     0.021397   2.190000\n",
            "2  (-2.288, -0.841]        99.0          4253     0.023278   2.380000\n",
            "3   (-0.841, 0.664]       169.0          4257     0.039699   4.070000\n",
            "4    (0.664, 2.377]       260.0          4250     0.061176   6.260000\n",
            "5    (2.377, 4.379]       385.0          4253     0.090524   9.270000\n",
            "6    (4.379, 7.897]       389.0          4253     0.091465   9.370000\n",
            "7   (7.897, 13.162]       584.0          4253     0.137315  14.070000\n",
            "8  (13.162, 23.291]       887.0          4253     0.208559  21.370001\n",
            "9  (23.291, 326.39]      1217.0          4254     0.286084  29.320000\n",
            "####################################################################################################################################################################################################################################################################################################################################################################################################################################################################################################################\n"
          ],
          "name": "stdout"
        }
      ]
    },
    {
      "cell_type": "code",
      "metadata": {
        "id": "0dbqDcJJuErJ",
        "colab_type": "code",
        "outputId": "6785a2e0-7692-46ee-a7b1-eb42961d015e",
        "colab": {
          "base_uri": "https://localhost:8080/",
          "height": 204
        }
      },
      "source": [
        "pd.DataFrame(results_renta_3)"
      ],
      "execution_count": 0,
      "outputs": [
        {
          "output_type": "execute_result",
          "data": {
            "text/html": [
              "<div>\n",
              "<style scoped>\n",
              "    .dataframe tbody tr th:only-of-type {\n",
              "        vertical-align: middle;\n",
              "    }\n",
              "\n",
              "    .dataframe tbody tr th {\n",
              "        vertical-align: top;\n",
              "    }\n",
              "\n",
              "    .dataframe thead th {\n",
              "        text-align: right;\n",
              "    }\n",
              "</style>\n",
              "<table border=\"1\" class=\"dataframe\">\n",
              "  <thead>\n",
              "    <tr style=\"text-align: right;\">\n",
              "      <th></th>\n",
              "      <th>rmse_train_cbtm</th>\n",
              "      <th>rmse_val_cbtm</th>\n",
              "      <th>rmse_val_out_cbtm</th>\n",
              "      <th>rmse_train_lgbm</th>\n",
              "      <th>rmse_val_lgbm</th>\n",
              "      <th>rmse_val_out_lgbm</th>\n",
              "      <th>seed_val</th>\n",
              "    </tr>\n",
              "  </thead>\n",
              "  <tbody>\n",
              "    <tr>\n",
              "      <th>0</th>\n",
              "      <td>62.067973</td>\n",
              "      <td>66.073031</td>\n",
              "      <td>0</td>\n",
              "      <td>63.120145</td>\n",
              "      <td>65.757876</td>\n",
              "      <td>0</td>\n",
              "      <td>41</td>\n",
              "    </tr>\n",
              "    <tr>\n",
              "      <th>1</th>\n",
              "      <td>62.151660</td>\n",
              "      <td>64.519157</td>\n",
              "      <td>0</td>\n",
              "      <td>62.629153</td>\n",
              "      <td>64.112055</td>\n",
              "      <td>0</td>\n",
              "      <td>41</td>\n",
              "    </tr>\n",
              "    <tr>\n",
              "      <th>2</th>\n",
              "      <td>60.935919</td>\n",
              "      <td>74.497947</td>\n",
              "      <td>0</td>\n",
              "      <td>59.075205</td>\n",
              "      <td>73.867012</td>\n",
              "      <td>0</td>\n",
              "      <td>41</td>\n",
              "    </tr>\n",
              "    <tr>\n",
              "      <th>3</th>\n",
              "      <td>61.670082</td>\n",
              "      <td>70.510619</td>\n",
              "      <td>0</td>\n",
              "      <td>61.588932</td>\n",
              "      <td>69.879617</td>\n",
              "      <td>0</td>\n",
              "      <td>41</td>\n",
              "    </tr>\n",
              "    <tr>\n",
              "      <th>4</th>\n",
              "      <td>62.224102</td>\n",
              "      <td>63.282688</td>\n",
              "      <td>0</td>\n",
              "      <td>63.834563</td>\n",
              "      <td>63.346937</td>\n",
              "      <td>0</td>\n",
              "      <td>41</td>\n",
              "    </tr>\n",
              "  </tbody>\n",
              "</table>\n",
              "</div>"
            ],
            "text/plain": [
              "   rmse_train_cbtm  rmse_val_cbtm  ...  rmse_val_out_lgbm  seed_val\n",
              "0        62.067973      66.073031  ...                  0        41\n",
              "1        62.151660      64.519157  ...                  0        41\n",
              "2        60.935919      74.497947  ...                  0        41\n",
              "3        61.670082      70.510619  ...                  0        41\n",
              "4        62.224102      63.282688  ...                  0        41\n",
              "\n",
              "[5 rows x 7 columns]"
            ]
          },
          "metadata": {
            "tags": []
          },
          "execution_count": 40
        }
      ]
    },
    {
      "cell_type": "markdown",
      "metadata": {
        "id": "1IY8h3mKhU_J",
        "colab_type": "text"
      },
      "source": [
        "###### With Just Contacted"
      ]
    },
    {
      "cell_type": "code",
      "metadata": {
        "id": "4ypKch0giU6h",
        "colab_type": "code",
        "outputId": "ac79a097-ca18-44fb-febb-b57b975de35d",
        "colab": {
          "base_uri": "https://localhost:8080/",
          "height": 1000
        }
      },
      "source": [
        "results_renta_4, list_models_renta_4, df_probs_train_renta_4, df_probs_val_renta_4, df_probs_test_renta_4 = renta_regre_model_with_cv(df_train.loc[df_train[target_adqui] == 1].reset_index(drop=True), df_test, target_regre, predictores, None)"
      ],
      "execution_count": 0,
      "outputs": [
        {
          "output_type": "stream",
          "text": [
            "Iteracion 0\n",
            "\t REGRESIÓN\n",
            "\t\t 1. CATBOOST\n",
            "0:\tlearn: 165.6326535\ttest: 164.9121976\tbest: 164.9121976 (0)\ttotal: 42.6ms\tremaining: 42.5s\n",
            "200:\tlearn: 144.5103270\ttest: 154.2040869\tbest: 154.1819685 (193)\ttotal: 6.89s\tremaining: 27.4s\n",
            "400:\tlearn: 139.5819079\ttest: 153.9507379\tbest: 153.8640302 (292)\ttotal: 13.3s\tremaining: 19.9s\n",
            "600:\tlearn: 136.4130676\ttest: 154.0486134\tbest: 153.8640302 (292)\ttotal: 19.8s\tremaining: 13.1s\n",
            "800:\tlearn: 134.5859888\ttest: 154.1745727\tbest: 153.8640302 (292)\ttotal: 26.2s\tremaining: 6.5s\n",
            "999:\tlearn: 133.3539299\ttest: 154.2479791\tbest: 153.8640302 (292)\ttotal: 32.4s\tremaining: 0us\n",
            "bestTest = 153.8640302\n",
            "bestIteration = 292\n",
            "Shrink model to first 293 iterations.\n",
            "\t\t 2. LIGHTGBM\n",
            "Training until validation scores don't improve for 100 rounds.\n",
            "[20]\ttraining's l2: 22622.2\tvalid_1's l2: 24327.5\n",
            "[40]\ttraining's l2: 20096.4\tvalid_1's l2: 23637.4\n",
            "[60]\ttraining's l2: 18826.3\tvalid_1's l2: 23346.4\n",
            "[80]\ttraining's l2: 18022\tvalid_1's l2: 23389.8\n",
            "[100]\ttraining's l2: 17356.3\tvalid_1's l2: 23484.2\n",
            "[120]\ttraining's l2: 16641.4\tvalid_1's l2: 23492.3\n",
            "[140]\ttraining's l2: 16213.6\tvalid_1's l2: 23431.9\n",
            "[160]\ttraining's l2: 15692.5\tvalid_1's l2: 23495.1\n",
            "Early stopping, best iteration is:\n",
            "[64]\ttraining's l2: 18588\tvalid_1's l2: 23319.7\n",
            "AVG METRICS REGRESSION\n",
            "Mean Target:\tTrain: 80.9707,\tVal In: 81.4506\n",
            "Mean Preds:\tTrain: 80.9017,\tVal In: 80.4114\n",
            "Std Preds:\tTrain: 56.9815,\tVal In: 50.2056\n",
            "CATBOOST REPORT\n",
            "                 prob  target_sum  target_count  target_mean  target_%\n",
            "0       (2.1, 38.402]       289.0           620     0.466129      6.88\n",
            "1    (38.402, 44.127]       433.0           619     0.699515     10.30\n",
            "2    (44.127, 51.203]       421.0           620     0.679032     10.02\n",
            "3    (51.203, 57.562]       434.0           619     0.701131     10.33\n",
            "4    (57.562, 64.929]       444.0           620     0.716129     10.57\n",
            "5    (64.929, 74.445]       435.0           619     0.702746     10.35\n",
            "6    (74.445, 89.432]       419.0           619     0.676898      9.97\n",
            "7   (89.432, 110.631]       426.0           620     0.687097     10.14\n",
            "8  (110.631, 145.446]       422.0           619     0.681745     10.04\n",
            "9  (145.446, 643.668]       479.0           620     0.772581     11.40\n",
            "####################################################################################################################################################################################################################################################################################################################################################################################################################################################################################################################\n",
            "LIGHTGBM REPORT\n",
            "                 prob  target_sum  target_count  target_mean  target_%\n",
            "0    (-56.942, 35.95]       255.0           620     0.411290      6.07\n",
            "1     (35.95, 40.982]       430.0           619     0.694669     10.23\n",
            "2    (40.982, 48.262]       402.0           620     0.648387      9.57\n",
            "3    (48.262, 54.542]       423.0           619     0.683360     10.07\n",
            "4    (54.542, 61.035]       444.0           620     0.716129     10.57\n",
            "5    (61.035, 69.247]       446.0           619     0.720517     10.61\n",
            "6    (69.247, 84.331]       442.0           619     0.714055     10.52\n",
            "7   (84.331, 107.924]       430.0           620     0.693548     10.23\n",
            "8  (107.924, 151.087]       442.0           619     0.714055     10.52\n",
            "9  (151.087, 692.162]       488.0           620     0.787097     11.61\n",
            "####################################################################################################################################################################################################################################################################################################################################################################################################################################################################################################################\n",
            "Iteracion 1\n",
            "\t REGRESIÓN\n",
            "\t\t 1. CATBOOST\n",
            "0:\tlearn: 165.5675783\ttest: 165.0910928\tbest: 165.0910928 (0)\ttotal: 42.7ms\tremaining: 42.7s\n",
            "200:\tlearn: 145.0063627\ttest: 153.1580119\tbest: 153.1499510 (198)\ttotal: 7.11s\tremaining: 28.2s\n",
            "400:\tlearn: 138.4133641\ttest: 152.2399703\tbest: 152.1532298 (326)\ttotal: 13.8s\tremaining: 20.6s\n",
            "600:\tlearn: 133.9850593\ttest: 152.3329432\tbest: 152.1532298 (326)\ttotal: 20.5s\tremaining: 13.6s\n",
            "800:\tlearn: 130.7388598\ttest: 152.3893488\tbest: 152.1532298 (326)\ttotal: 27.1s\tremaining: 6.74s\n",
            "999:\tlearn: 128.7500023\ttest: 152.3964669\tbest: 152.1532298 (326)\ttotal: 33.6s\tremaining: 0us\n",
            "bestTest = 152.1532298\n",
            "bestIteration = 326\n",
            "Shrink model to first 327 iterations.\n",
            "\t\t 2. LIGHTGBM\n",
            "Training until validation scores don't improve for 100 rounds.\n",
            "[20]\ttraining's l2: 22481.1\tvalid_1's l2: 24227.4\n",
            "[40]\ttraining's l2: 20149.8\tvalid_1's l2: 23286.9\n",
            "[60]\ttraining's l2: 18698\tvalid_1's l2: 23145.8\n",
            "[80]\ttraining's l2: 17859.5\tvalid_1's l2: 23056\n",
            "[100]\ttraining's l2: 17056.8\tvalid_1's l2: 23087.2\n",
            "[120]\ttraining's l2: 16438.7\tvalid_1's l2: 23060.7\n",
            "[140]\ttraining's l2: 16019.4\tvalid_1's l2: 23081.5\n",
            "[160]\ttraining's l2: 15391.9\tvalid_1's l2: 22983.5\n",
            "[180]\ttraining's l2: 14955.9\tvalid_1's l2: 23091.8\n",
            "[200]\ttraining's l2: 14615.6\tvalid_1's l2: 23098.7\n",
            "[220]\ttraining's l2: 14251.9\tvalid_1's l2: 23059.6\n",
            "[240]\ttraining's l2: 13925\tvalid_1's l2: 23111.5\n",
            "[260]\ttraining's l2: 13700.8\tvalid_1's l2: 23124\n",
            "Early stopping, best iteration is:\n",
            "[160]\ttraining's l2: 15391.9\tvalid_1's l2: 22983.5\n",
            "AVG METRICS REGRESSION\n",
            "Mean Target:\tTrain: 80.9703,\tVal In: 81.452\n",
            "Mean Preds:\tTrain: 80.8901,\tVal In: 81.3632\n",
            "Std Preds:\tTrain: 58.6214,\tVal In: 51.2683\n",
            "CATBOOST REPORT\n",
            "                 prob  target_sum  target_count  target_mean  target_%\n",
            "0     (-14.61, 37.38]       358.0           676     0.529586      8.70\n",
            "1     (37.38, 44.053]       362.0           563     0.642984      8.79\n",
            "2    (44.053, 51.616]       387.0           620     0.624194      9.40\n",
            "3    (51.616, 57.968]       436.0           619     0.704362     10.59\n",
            "4    (57.968, 65.917]       438.0           620     0.706452     10.64\n",
            "5    (65.917, 75.696]       434.0           619     0.701131     10.54\n",
            "6    (75.696, 90.999]       411.0           619     0.663974      9.99\n",
            "7   (90.999, 114.821]       413.0           620     0.666129     10.03\n",
            "8  (114.821, 147.661]       413.0           619     0.667205     10.03\n",
            "9   (147.661, 761.77]       464.0           620     0.748387     11.27\n",
            "####################################################################################################################################################################################################################################################################################################################################################################################################################################################################################################################\n",
            "LIGHTGBM REPORT\n",
            "                            prob  target_sum  ...  target_mean  target_%\n",
            "0  (-130.61700000000002, 29.997]       245.0  ...     0.395161      5.95\n",
            "1               (29.997, 38.486]       400.0  ...     0.646204      9.72\n",
            "2               (38.486, 45.766]       397.0  ...     0.640323      9.65\n",
            "3               (45.766, 53.101]       420.0  ...     0.678514     10.20\n",
            "4               (53.101, 61.431]       436.0  ...     0.703226     10.59\n",
            "5               (61.431, 71.193]       450.0  ...     0.726979     10.93\n",
            "6               (71.193, 88.304]       445.0  ...     0.718901     10.81\n",
            "7              (88.304, 116.297]       426.0  ...     0.687097     10.35\n",
            "8             (116.297, 164.425]       424.0  ...     0.684976     10.30\n",
            "9             (164.425, 723.377]       473.0  ...     0.762903     11.49\n",
            "\n",
            "[10 rows x 5 columns]\n",
            "####################################################################################################################################################################################################################################################################################################################################################################################################################################################################################################################\n",
            "Iteracion 2\n",
            "\t REGRESIÓN\n",
            "\t\t 1. CATBOOST\n",
            "0:\tlearn: 166.6920942\ttest: 160.7657170\tbest: 160.7657170 (0)\ttotal: 40.7ms\tremaining: 40.7s\n",
            "200:\tlearn: 145.4509639\ttest: 150.2684714\tbest: 150.2684714 (200)\ttotal: 7.01s\tremaining: 27.9s\n",
            "400:\tlearn: 139.5952962\ttest: 149.2032699\tbest: 149.1981712 (394)\ttotal: 13.6s\tremaining: 20.4s\n",
            "600:\tlearn: 135.4409986\ttest: 148.9308447\tbest: 148.9291710 (596)\ttotal: 20.3s\tremaining: 13.4s\n",
            "800:\tlearn: 132.8453912\ttest: 148.8499362\tbest: 148.8297261 (697)\ttotal: 26.9s\tremaining: 6.67s\n",
            "999:\tlearn: 131.3852139\ttest: 148.8869825\tbest: 148.7878306 (864)\ttotal: 33.2s\tremaining: 0us\n",
            "bestTest = 148.7878306\n",
            "bestIteration = 864\n",
            "Shrink model to first 865 iterations.\n",
            "\t\t 2. LIGHTGBM\n",
            "Training until validation scores don't improve for 100 rounds.\n",
            "[20]\ttraining's l2: 22854.7\tvalid_1's l2: 23090.5\n",
            "[40]\ttraining's l2: 20450.1\tvalid_1's l2: 22210.1\n",
            "[60]\ttraining's l2: 19147.8\tvalid_1's l2: 21982.3\n",
            "[80]\ttraining's l2: 18265.3\tvalid_1's l2: 21888.5\n",
            "[100]\ttraining's l2: 17577.2\tvalid_1's l2: 21817.6\n",
            "[120]\ttraining's l2: 17006.7\tvalid_1's l2: 21786.2\n",
            "[140]\ttraining's l2: 16523.9\tvalid_1's l2: 21802.3\n",
            "[160]\ttraining's l2: 15975.5\tvalid_1's l2: 21767.2\n",
            "[180]\ttraining's l2: 15604.4\tvalid_1's l2: 21734.7\n",
            "[200]\ttraining's l2: 15301.4\tvalid_1's l2: 21782.2\n",
            "[220]\ttraining's l2: 14906.8\tvalid_1's l2: 21857.1\n",
            "[240]\ttraining's l2: 14550.5\tvalid_1's l2: 21912.6\n",
            "[260]\ttraining's l2: 14189.2\tvalid_1's l2: 21958.8\n",
            "Early stopping, best iteration is:\n",
            "[179]\ttraining's l2: 15618.5\tvalid_1's l2: 21722.6\n",
            "AVG METRICS REGRESSION\n",
            "Mean Target:\tTrain: 81.6128,\tVal In: 78.8827\n",
            "Mean Preds:\tTrain: 81.5857,\tVal In: 80.959\n",
            "Std Preds:\tTrain: 77.5607,\tVal In: 58.4692\n",
            "CATBOOST REPORT\n",
            "                 prob  target_sum  target_count  target_mean  target_%\n",
            "0   (-29.663, 31.305]       274.0           620     0.441935      6.61\n",
            "1     (31.305, 38.32]       375.0           619     0.605816      9.04\n",
            "2      (38.32, 47.32]       392.0           619     0.633280      9.45\n",
            "3     (47.32, 54.903]       424.0           620     0.683871     10.22\n",
            "4    (54.903, 63.324]       450.0           619     0.726979     10.85\n",
            "5    (63.324, 74.144]       441.0           619     0.712439     10.63\n",
            "6    (74.144, 91.406]       452.0           620     0.729032     10.90\n",
            "7   (91.406, 117.544]       428.0           619     0.691438     10.32\n",
            "8  (117.544, 157.239]       437.0           619     0.705977     10.54\n",
            "9  (157.239, 668.641]       475.0           620     0.766129     11.45\n",
            "####################################################################################################################################################################################################################################################################################################################################################################################################################################################################################################################\n",
            "LIGHTGBM REPORT\n",
            "                           prob  target_sum  ...  target_mean  target_%\n",
            "0  (-87.91300000000001, 29.775]       242.0  ...     0.390323      5.83\n",
            "1              (29.775, 37.983]       379.0  ...     0.590343      9.14\n",
            "2              (37.983, 44.904]       391.0  ...     0.656040      9.43\n",
            "3              (44.904, 52.464]       426.0  ...     0.687097     10.27\n",
            "4              (52.464, 60.282]       446.0  ...     0.720517     10.75\n",
            "5              (60.282, 70.995]       443.0  ...     0.715670     10.68\n",
            "6              (70.995, 86.818]       444.0  ...     0.716129     10.70\n",
            "7             (86.818, 114.818]       454.0  ...     0.733441     10.95\n",
            "8            (114.818, 164.878]       448.0  ...     0.723748     10.80\n",
            "9            (164.878, 821.334]       475.0  ...     0.766129     11.45\n",
            "\n",
            "[10 rows x 5 columns]\n",
            "####################################################################################################################################################################################################################################################################################################################################################################################################################################################################################################################\n",
            "Iteracion 3\n",
            "\t REGRESIÓN\n",
            "\t\t 1. CATBOOST\n",
            "0:\tlearn: 162.0387026\ttest: 178.3538765\tbest: 178.3538765 (0)\ttotal: 45.9ms\tremaining: 45.8s\n",
            "200:\tlearn: 143.4142354\ttest: 167.3258535\tbest: 167.2960404 (197)\ttotal: 7.1s\tremaining: 28.2s\n",
            "400:\tlearn: 138.0030122\ttest: 166.6677731\tbest: 166.6427175 (392)\ttotal: 13.7s\tremaining: 20.5s\n",
            "600:\tlearn: 133.7719280\ttest: 166.3343789\tbest: 166.3343789 (600)\ttotal: 20.4s\tremaining: 13.6s\n",
            "800:\tlearn: 131.1337524\ttest: 166.3640538\tbest: 166.2850178 (664)\ttotal: 26.9s\tremaining: 6.69s\n",
            "999:\tlearn: 128.8008986\ttest: 166.5818103\tbest: 166.2850178 (664)\ttotal: 33.5s\tremaining: 0us\n",
            "bestTest = 166.2850178\n",
            "bestIteration = 664\n",
            "Shrink model to first 665 iterations.\n",
            "\t\t 2. LIGHTGBM\n",
            "Training until validation scores don't improve for 100 rounds.\n",
            "[20]\ttraining's l2: 21541.8\tvalid_1's l2: 28872.9\n",
            "[40]\ttraining's l2: 19054.2\tvalid_1's l2: 27796.2\n",
            "[60]\ttraining's l2: 17581.4\tvalid_1's l2: 27413.3\n",
            "[80]\ttraining's l2: 16774.5\tvalid_1's l2: 27427.3\n",
            "[100]\ttraining's l2: 15998\tvalid_1's l2: 27508\n",
            "[120]\ttraining's l2: 15345.6\tvalid_1's l2: 27500.7\n",
            "[140]\ttraining's l2: 14724.4\tvalid_1's l2: 27570.6\n",
            "[160]\ttraining's l2: 14372\tvalid_1's l2: 27653.9\n",
            "Early stopping, best iteration is:\n",
            "[67]\ttraining's l2: 17265.3\tvalid_1's l2: 27383.1\n",
            "AVG METRICS REGRESSION\n",
            "Mean Target:\tTrain: 80.6956,\tVal In: 82.5512\n",
            "Mean Preds:\tTrain: 80.6542,\tVal In: 80.448\n",
            "Std Preds:\tTrain: 67.1585,\tVal In: 56.444\n",
            "CATBOOST REPORT\n",
            "                 prob  target_sum  target_count  target_mean  target_%\n",
            "0   (-29.474, 32.035]       288.0           620     0.464516      6.94\n",
            "1    (32.035, 38.805]       402.0           619     0.649435      9.69\n",
            "2    (38.805, 47.236]       399.0           619     0.644588      9.61\n",
            "3    (47.236, 54.863]       431.0           620     0.695161     10.39\n",
            "4    (54.863, 64.024]       450.0           619     0.726979     10.84\n",
            "5     (64.024, 74.36]       451.0           619     0.728594     10.87\n",
            "6     (74.36, 90.846]       430.0           620     0.693548     10.36\n",
            "7   (90.846, 115.398]       409.0           619     0.660743      9.86\n",
            "8  (115.398, 153.574]       424.0           619     0.684976     10.22\n",
            "9  (153.574, 733.203]       466.0           620     0.751613     11.23\n",
            "####################################################################################################################################################################################################################################################################################################################################################################################################################################################################################################################\n",
            "LIGHTGBM REPORT\n",
            "                 prob  target_sum  target_count  target_mean  target_%\n",
            "0   (-18.352, 36.642]       282.0           620     0.454839      6.80\n",
            "1    (36.642, 41.574]       407.0           619     0.657512      9.81\n",
            "2    (41.574, 47.901]       391.0           619     0.631664      9.42\n",
            "3    (47.901, 53.838]       435.0           620     0.701613     10.48\n",
            "4      (53.838, 60.6]       447.0           619     0.722132     10.77\n",
            "5      (60.6, 70.907]       431.0           619     0.696284     10.39\n",
            "6    (70.907, 86.041]       428.0           620     0.690323     10.31\n",
            "7   (86.041, 111.196]       422.0           619     0.681745     10.17\n",
            "8  (111.196, 153.379]       428.0           619     0.691438     10.31\n",
            "9  (153.379, 681.944]       479.0           620     0.772581     11.54\n",
            "####################################################################################################################################################################################################################################################################################################################################################################################################################################################################################################################\n",
            "Iteracion 4\n",
            "\t REGRESIÓN\n",
            "\t\t 1. CATBOOST\n",
            "0:\tlearn: 167.4147527\ttest: 157.7969414\tbest: 157.7969414 (0)\ttotal: 38.6ms\tremaining: 38.6s\n",
            "200:\tlearn: 147.1302891\ttest: 148.1969821\tbest: 148.1969821 (200)\ttotal: 7.03s\tremaining: 27.9s\n",
            "400:\tlearn: 140.4182353\ttest: 147.8417589\tbest: 147.8385352 (399)\ttotal: 13.7s\tremaining: 20.5s\n",
            "600:\tlearn: 136.8749377\ttest: 147.5702686\tbest: 147.5497782 (591)\ttotal: 20.3s\tremaining: 13.5s\n",
            "800:\tlearn: 133.9331486\ttest: 147.4407046\tbest: 147.3834385 (713)\ttotal: 26.8s\tremaining: 6.67s\n",
            "999:\tlearn: 132.0550863\ttest: 147.3126224\tbest: 147.2951827 (939)\ttotal: 33.2s\tremaining: 0us\n",
            "bestTest = 147.2951827\n",
            "bestIteration = 939\n",
            "Shrink model to first 940 iterations.\n",
            "\t\t 2. LIGHTGBM\n",
            "Training until validation scores don't improve for 100 rounds.\n",
            "[20]\ttraining's l2: 23016.1\tvalid_1's l2: 22326.2\n",
            "[40]\ttraining's l2: 20524.2\tvalid_1's l2: 21653.8\n",
            "[60]\ttraining's l2: 19174.6\tvalid_1's l2: 21517.7\n",
            "[80]\ttraining's l2: 18152.8\tvalid_1's l2: 21428.5\n",
            "[100]\ttraining's l2: 17416.3\tvalid_1's l2: 21494.3\n",
            "[120]\ttraining's l2: 16800.1\tvalid_1's l2: 21523.8\n",
            "[140]\ttraining's l2: 16223.9\tvalid_1's l2: 21566.8\n",
            "[160]\ttraining's l2: 15786.6\tvalid_1's l2: 21493.3\n",
            "[180]\ttraining's l2: 15305.3\tvalid_1's l2: 21566.9\n",
            "[200]\ttraining's l2: 14921.8\tvalid_1's l2: 21627.3\n",
            "Early stopping, best iteration is:\n",
            "[115]\ttraining's l2: 16985.6\tvalid_1's l2: 21366.9\n",
            "AVG METRICS REGRESSION\n",
            "Mean Target:\tTrain: 81.0843,\tVal In: 80.9963\n",
            "Mean Preds:\tTrain: 81.0606,\tVal In: 82.0982\n",
            "Std Preds:\tTrain: 77.1863,\tVal In: 58.6627\n",
            "CATBOOST REPORT\n",
            "                            prob  target_sum  ...  target_mean  target_%\n",
            "0  (-25.708000000000002, 33.834]       282.0  ...     0.452648      6.75\n",
            "1                (33.834, 40.16]       416.0  ...     0.675325      9.96\n",
            "2                (40.16, 49.405]       384.0  ...     0.620355      9.19\n",
            "3               (49.405, 56.737]       426.0  ...     0.687097     10.20\n",
            "4                (56.737, 64.76]       447.0  ...     0.722132     10.70\n",
            "5                (64.76, 75.149]       461.0  ...     0.744750     11.03\n",
            "6               (75.149, 91.656]       432.0  ...     0.696774     10.34\n",
            "7              (91.656, 115.773]       409.0  ...     0.660743      9.79\n",
            "8             (115.773, 152.606]       453.0  ...     0.731826     10.84\n",
            "9             (152.606, 720.752]       468.0  ...     0.754839     11.20\n",
            "\n",
            "[10 rows x 5 columns]\n",
            "####################################################################################################################################################################################################################################################################################################################################################################################################################################################################################################################\n",
            "LIGHTGBM REPORT\n",
            "                           prob  target_sum  ...  target_mean  target_%\n",
            "0  (-97.95700000000001, 33.695]       275.0  ...     0.443548      6.58\n",
            "1              (33.695, 39.461]       404.0  ...     0.652666      9.67\n",
            "2               (39.461, 46.56]       375.0  ...     0.605816      8.98\n",
            "3               (46.56, 53.195]       439.0  ...     0.708064     10.51\n",
            "4              (53.195, 60.881]       463.0  ...     0.747981     11.08\n",
            "5              (60.881, 71.051]       440.0  ...     0.710824     10.53\n",
            "6              (71.051, 87.359]       438.0  ...     0.706452     10.48\n",
            "7             (87.359, 115.859]       424.0  ...     0.684976     10.15\n",
            "8            (115.859, 163.937]       452.0  ...     0.730210     10.82\n",
            "9            (163.937, 910.268]       468.0  ...     0.754839     11.20\n",
            "\n",
            "[10 rows x 5 columns]\n",
            "####################################################################################################################################################################################################################################################################################################################################################################################################################################################################################################################\n"
          ],
          "name": "stdout"
        }
      ]
    },
    {
      "cell_type": "code",
      "metadata": {
        "id": "08Fyaa_quNwN",
        "colab_type": "code",
        "outputId": "ded6ed0b-e61c-4613-e4d1-9e7db354a2ac",
        "cellView": "both",
        "colab": {
          "base_uri": "https://localhost:8080/",
          "height": 204
        }
      },
      "source": [
        "pd.DataFrame(results_renta_4)"
      ],
      "execution_count": 0,
      "outputs": [
        {
          "output_type": "execute_result",
          "data": {
            "text/html": [
              "<div>\n",
              "<style scoped>\n",
              "    .dataframe tbody tr th:only-of-type {\n",
              "        vertical-align: middle;\n",
              "    }\n",
              "\n",
              "    .dataframe tbody tr th {\n",
              "        vertical-align: top;\n",
              "    }\n",
              "\n",
              "    .dataframe thead th {\n",
              "        text-align: right;\n",
              "    }\n",
              "</style>\n",
              "<table border=\"1\" class=\"dataframe\">\n",
              "  <thead>\n",
              "    <tr style=\"text-align: right;\">\n",
              "      <th></th>\n",
              "      <th>rmse_train_cbtm</th>\n",
              "      <th>rmse_val_cbtm</th>\n",
              "      <th>rmse_val_out_cbtm</th>\n",
              "      <th>rmse_train_lgbm</th>\n",
              "      <th>rmse_val_lgbm</th>\n",
              "      <th>rmse_val_out_lgbm</th>\n",
              "      <th>seed_val</th>\n",
              "    </tr>\n",
              "  </thead>\n",
              "  <tbody>\n",
              "    <tr>\n",
              "      <th>0</th>\n",
              "      <td>141.993084</td>\n",
              "      <td>153.864032</td>\n",
              "      <td>0</td>\n",
              "      <td>136.337931</td>\n",
              "      <td>152.707743</td>\n",
              "      <td>0</td>\n",
              "      <td>41</td>\n",
              "    </tr>\n",
              "    <tr>\n",
              "      <th>1</th>\n",
              "      <td>140.430136</td>\n",
              "      <td>152.153236</td>\n",
              "      <td>0</td>\n",
              "      <td>124.064279</td>\n",
              "      <td>151.603005</td>\n",
              "      <td>0</td>\n",
              "      <td>41</td>\n",
              "    </tr>\n",
              "    <tr>\n",
              "      <th>2</th>\n",
              "      <td>132.284340</td>\n",
              "      <td>148.787830</td>\n",
              "      <td>0</td>\n",
              "      <td>124.973958</td>\n",
              "      <td>147.385737</td>\n",
              "      <td>0</td>\n",
              "      <td>41</td>\n",
              "    </tr>\n",
              "    <tr>\n",
              "      <th>3</th>\n",
              "      <td>132.778789</td>\n",
              "      <td>166.285008</td>\n",
              "      <td>0</td>\n",
              "      <td>131.397301</td>\n",
              "      <td>165.478383</td>\n",
              "      <td>0</td>\n",
              "      <td>41</td>\n",
              "    </tr>\n",
              "    <tr>\n",
              "      <th>4</th>\n",
              "      <td>132.558970</td>\n",
              "      <td>147.295191</td>\n",
              "      <td>0</td>\n",
              "      <td>130.328657</td>\n",
              "      <td>146.174203</td>\n",
              "      <td>0</td>\n",
              "      <td>41</td>\n",
              "    </tr>\n",
              "  </tbody>\n",
              "</table>\n",
              "</div>"
            ],
            "text/plain": [
              "   rmse_train_cbtm  rmse_val_cbtm  ...  rmse_val_out_lgbm  seed_val\n",
              "0       141.993084     153.864032  ...                  0        41\n",
              "1       140.430136     152.153236  ...                  0        41\n",
              "2       132.284340     148.787830  ...                  0        41\n",
              "3       132.778789     166.285008  ...                  0        41\n",
              "4       132.558970     147.295191  ...                  0        41\n",
              "\n",
              "[5 rows x 7 columns]"
            ]
          },
          "metadata": {
            "tags": []
          },
          "execution_count": 42
        }
      ]
    },
    {
      "cell_type": "code",
      "metadata": {
        "id": "NiM3QQJvt6we",
        "colab_type": "code",
        "colab": {}
      },
      "source": [
        "df_probs_train_renta_4_complement = df_train.loc[df_train[target_adqui] != 1, :].copy().reset_index(drop=True)"
      ],
      "execution_count": 0,
      "outputs": []
    },
    {
      "cell_type": "code",
      "metadata": {
        "id": "5ZWk5xist6uZ",
        "colab_type": "code",
        "outputId": "9112b16b-d1d1-4348-ef0c-ce10f2f57438",
        "colab": {
          "base_uri": "https://localhost:8080/",
          "height": 102
        }
      },
      "source": [
        "for i, pair_m in enumerate(list_models_renta_4):\n",
        "  print(i)\n",
        "  df_probs_train_renta_4_complement[\"pred_cbtm_{}\".format(i)] = pair_m[\"cbtm_regre\"].predict(df_probs_train_renta_4_complement[predictores])\n",
        "  df_probs_train_renta_4_complement[\"pred_lgbm_{}\".format(i)] = pair_m[\"lgbm_regre\"].predict(df_probs_train_renta_4_complement[predictores])"
      ],
      "execution_count": 0,
      "outputs": [
        {
          "output_type": "stream",
          "text": [
            "0\n",
            "1\n",
            "2\n",
            "3\n",
            "4\n"
          ],
          "name": "stdout"
        }
      ]
    },
    {
      "cell_type": "code",
      "metadata": {
        "id": "aCTRGvTgt6sv",
        "colab_type": "code",
        "colab": {}
      },
      "source": [
        "df_probs_train_renta_4_complement[\"pred_cbtm\"] = df_probs_train_renta_4_complement[[c for c in df_probs_train_renta_4_complement.columns if \"pred_cbtm\" in c]].mean(axis=1)\n",
        "df_probs_train_renta_4_complement[\"pred_lgbm\"] = df_probs_train_renta_4_complement[[c for c in df_probs_train_renta_4_complement.columns if \"pred_lgbm\" in c]].mean(axis=1)"
      ],
      "execution_count": 0,
      "outputs": []
    },
    {
      "cell_type": "code",
      "metadata": {
        "id": "Oon-UShRt6pf",
        "colab_type": "code",
        "colab": {}
      },
      "source": [
        "df_probs_train_renta_4_complement = df_probs_train_renta_4_complement[['prediction_id', 'margen', 'pred_cbtm', 'pred_lgbm']]"
      ],
      "execution_count": 0,
      "outputs": []
    },
    {
      "cell_type": "code",
      "metadata": {
        "id": "KTYQL_Klv7gX",
        "colab_type": "code",
        "outputId": "2b48a564-a3f9-4149-dfb2-e566b15f80a4",
        "colab": {
          "base_uri": "https://localhost:8080/",
          "height": 204
        }
      },
      "source": [
        "df_probs_train_renta_4_complement.head()"
      ],
      "execution_count": 0,
      "outputs": [
        {
          "output_type": "execute_result",
          "data": {
            "text/html": [
              "<div>\n",
              "<style scoped>\n",
              "    .dataframe tbody tr th:only-of-type {\n",
              "        vertical-align: middle;\n",
              "    }\n",
              "\n",
              "    .dataframe tbody tr th {\n",
              "        vertical-align: top;\n",
              "    }\n",
              "\n",
              "    .dataframe thead th {\n",
              "        text-align: right;\n",
              "    }\n",
              "</style>\n",
              "<table border=\"1\" class=\"dataframe\">\n",
              "  <thead>\n",
              "    <tr style=\"text-align: right;\">\n",
              "      <th></th>\n",
              "      <th>prediction_id</th>\n",
              "      <th>margen</th>\n",
              "      <th>pred_cbtm</th>\n",
              "      <th>pred_lgbm</th>\n",
              "    </tr>\n",
              "  </thead>\n",
              "  <tbody>\n",
              "    <tr>\n",
              "      <th>0</th>\n",
              "      <td>165747_201901</td>\n",
              "      <td>-5.0</td>\n",
              "      <td>3.912806</td>\n",
              "      <td>3.912806</td>\n",
              "    </tr>\n",
              "    <tr>\n",
              "      <th>1</th>\n",
              "      <td>58047_201901</td>\n",
              "      <td>-5.0</td>\n",
              "      <td>-3.028581</td>\n",
              "      <td>-3.028581</td>\n",
              "    </tr>\n",
              "    <tr>\n",
              "      <th>2</th>\n",
              "      <td>113221_201901</td>\n",
              "      <td>-5.0</td>\n",
              "      <td>98.321962</td>\n",
              "      <td>98.321962</td>\n",
              "    </tr>\n",
              "    <tr>\n",
              "      <th>3</th>\n",
              "      <td>142634_201901</td>\n",
              "      <td>-5.0</td>\n",
              "      <td>161.989300</td>\n",
              "      <td>161.989300</td>\n",
              "    </tr>\n",
              "    <tr>\n",
              "      <th>4</th>\n",
              "      <td>13204_201901</td>\n",
              "      <td>-5.0</td>\n",
              "      <td>77.155143</td>\n",
              "      <td>77.155143</td>\n",
              "    </tr>\n",
              "  </tbody>\n",
              "</table>\n",
              "</div>"
            ],
            "text/plain": [
              "   prediction_id  margen   pred_cbtm   pred_lgbm\n",
              "0  165747_201901    -5.0    3.912806    3.912806\n",
              "1   58047_201901    -5.0   -3.028581   -3.028581\n",
              "2  113221_201901    -5.0   98.321962   98.321962\n",
              "3  142634_201901    -5.0  161.989300  161.989300\n",
              "4   13204_201901    -5.0   77.155143   77.155143"
            ]
          },
          "metadata": {
            "tags": []
          },
          "execution_count": 47
        }
      ]
    },
    {
      "cell_type": "code",
      "metadata": {
        "id": "Y9bwWyDmusEl",
        "colab_type": "code",
        "colab": {}
      },
      "source": [
        "df_probs_train_renta_4_final = pd.concat([df_probs_train_renta_4, df_probs_train_renta_4_complement], sort=False).reset_index(drop=True)"
      ],
      "execution_count": 0,
      "outputs": []
    },
    {
      "cell_type": "code",
      "metadata": {
        "id": "T3et9LxPt6mp",
        "colab_type": "code",
        "outputId": "63189a61-4969-40c1-a425-69a77d45dc10",
        "colab": {
          "base_uri": "https://localhost:8080/",
          "height": 204
        }
      },
      "source": [
        "df_probs_train_renta_4_final.head()"
      ],
      "execution_count": 0,
      "outputs": [
        {
          "output_type": "execute_result",
          "data": {
            "text/html": [
              "<div>\n",
              "<style scoped>\n",
              "    .dataframe tbody tr th:only-of-type {\n",
              "        vertical-align: middle;\n",
              "    }\n",
              "\n",
              "    .dataframe tbody tr th {\n",
              "        vertical-align: top;\n",
              "    }\n",
              "\n",
              "    .dataframe thead th {\n",
              "        text-align: right;\n",
              "    }\n",
              "</style>\n",
              "<table border=\"1\" class=\"dataframe\">\n",
              "  <thead>\n",
              "    <tr style=\"text-align: right;\">\n",
              "      <th></th>\n",
              "      <th>prediction_id</th>\n",
              "      <th>margen</th>\n",
              "      <th>pred_cbtm</th>\n",
              "      <th>pred_lgbm</th>\n",
              "      <th>FOLD</th>\n",
              "    </tr>\n",
              "  </thead>\n",
              "  <tbody>\n",
              "    <tr>\n",
              "      <th>0</th>\n",
              "      <td>65751_201901</td>\n",
              "      <td>342.98999</td>\n",
              "      <td>266.003885</td>\n",
              "      <td>164.668865</td>\n",
              "      <td>FOLD_3</td>\n",
              "    </tr>\n",
              "    <tr>\n",
              "      <th>1</th>\n",
              "      <td>65634_201901</td>\n",
              "      <td>-3.62000</td>\n",
              "      <td>12.220110</td>\n",
              "      <td>13.120449</td>\n",
              "      <td>FOLD_3</td>\n",
              "    </tr>\n",
              "    <tr>\n",
              "      <th>2</th>\n",
              "      <td>86617_201901</td>\n",
              "      <td>521.98999</td>\n",
              "      <td>178.808543</td>\n",
              "      <td>185.954318</td>\n",
              "      <td>FOLD_3</td>\n",
              "    </tr>\n",
              "    <tr>\n",
              "      <th>3</th>\n",
              "      <td>116521_201901</td>\n",
              "      <td>40.50000</td>\n",
              "      <td>113.288662</td>\n",
              "      <td>105.749760</td>\n",
              "      <td>FOLD_3</td>\n",
              "    </tr>\n",
              "    <tr>\n",
              "      <th>4</th>\n",
              "      <td>178404_201901</td>\n",
              "      <td>-5.00000</td>\n",
              "      <td>47.518573</td>\n",
              "      <td>0.990993</td>\n",
              "      <td>FOLD_1</td>\n",
              "    </tr>\n",
              "  </tbody>\n",
              "</table>\n",
              "</div>"
            ],
            "text/plain": [
              "   prediction_id     margen   pred_cbtm   pred_lgbm    FOLD\n",
              "0   65751_201901  342.98999  266.003885  164.668865  FOLD_3\n",
              "1   65634_201901   -3.62000   12.220110   13.120449  FOLD_3\n",
              "2   86617_201901  521.98999  178.808543  185.954318  FOLD_3\n",
              "3  116521_201901   40.50000  113.288662  105.749760  FOLD_3\n",
              "4  178404_201901   -5.00000   47.518573    0.990993  FOLD_1"
            ]
          },
          "metadata": {
            "tags": []
          },
          "execution_count": 49
        }
      ]
    },
    {
      "cell_type": "code",
      "metadata": {
        "id": "CN4i0YhDvyDz",
        "colab_type": "code",
        "outputId": "31ec9eaa-9d94-4dbd-d284-4f3007c7b214",
        "colab": {
          "base_uri": "https://localhost:8080/",
          "height": 34
        }
      },
      "source": [
        "df_probs_train_renta_4_final[\"prediction_id\"].nunique()"
      ],
      "execution_count": 0,
      "outputs": [
        {
          "output_type": "execute_result",
          "data": {
            "text/plain": [
              "212665"
            ]
          },
          "metadata": {
            "tags": []
          },
          "execution_count": 50
        }
      ]
    },
    {
      "cell_type": "code",
      "metadata": {
        "id": "tGudEwC8usCS",
        "colab_type": "code",
        "outputId": "440c3c58-6b8b-41a7-f0f3-92ddc3fb8bd5",
        "colab": {
          "base_uri": "https://localhost:8080/",
          "height": 34
        }
      },
      "source": [
        "df_probs_train_renta_4_final.shape"
      ],
      "execution_count": 0,
      "outputs": [
        {
          "output_type": "execute_result",
          "data": {
            "text/plain": [
              "(212665, 5)"
            ]
          },
          "metadata": {
            "tags": []
          },
          "execution_count": 51
        }
      ]
    },
    {
      "cell_type": "code",
      "metadata": {
        "id": "pfiJa20bv2vN",
        "colab_type": "code",
        "outputId": "e46c08ed-257a-4c95-c161-24ab9dfbddcb",
        "colab": {
          "base_uri": "https://localhost:8080/",
          "height": 187
        }
      },
      "source": [
        "df_probs_train_renta_4_final.info()"
      ],
      "execution_count": 0,
      "outputs": [
        {
          "output_type": "stream",
          "text": [
            "<class 'pandas.core.frame.DataFrame'>\n",
            "RangeIndex: 212665 entries, 0 to 212664\n",
            "Data columns (total 5 columns):\n",
            "prediction_id    212665 non-null object\n",
            "margen           212665 non-null float32\n",
            "pred_cbtm        212665 non-null float64\n",
            "pred_lgbm        212665 non-null float64\n",
            "FOLD             30972 non-null object\n",
            "dtypes: float32(1), float64(2), object(2)\n",
            "memory usage: 7.3+ MB\n"
          ],
          "name": "stdout"
        }
      ]
    },
    {
      "cell_type": "markdown",
      "metadata": {
        "id": "e-X4GT81qkgf",
        "colab_type": "text"
      },
      "source": [
        "### RESULTS"
      ]
    },
    {
      "cell_type": "markdown",
      "metadata": {
        "id": "TgPrbLHEj6xe",
        "colab_type": "text"
      },
      "source": [
        "### Optimization"
      ]
    },
    {
      "cell_type": "code",
      "metadata": {
        "id": "jZHNlsOsj409",
        "colab_type": "code",
        "outputId": "c90d00a7-ea19-4c82-a539-d341589ea49e",
        "colab": {
          "base_uri": "https://localhost:8080/",
          "height": 204
        }
      },
      "source": [
        "#df_probs_train_contact, df_probs_val_contact, df_probs_test_contact\n",
        "df_probs_train_adqui.head()"
      ],
      "execution_count": 0,
      "outputs": [
        {
          "output_type": "execute_result",
          "data": {
            "text/html": [
              "<div>\n",
              "<style scoped>\n",
              "    .dataframe tbody tr th:only-of-type {\n",
              "        vertical-align: middle;\n",
              "    }\n",
              "\n",
              "    .dataframe tbody tr th {\n",
              "        vertical-align: top;\n",
              "    }\n",
              "\n",
              "    .dataframe thead th {\n",
              "        text-align: right;\n",
              "    }\n",
              "</style>\n",
              "<table border=\"1\" class=\"dataframe\">\n",
              "  <thead>\n",
              "    <tr style=\"text-align: right;\">\n",
              "      <th></th>\n",
              "      <th>prediction_id</th>\n",
              "      <th>codtarget</th>\n",
              "      <th>prob_cbtm</th>\n",
              "      <th>prob_lgbm</th>\n",
              "      <th>FOLD</th>\n",
              "    </tr>\n",
              "  </thead>\n",
              "  <tbody>\n",
              "    <tr>\n",
              "      <th>0</th>\n",
              "      <td>165747_201901</td>\n",
              "      <td>0.0</td>\n",
              "      <td>0.009868</td>\n",
              "      <td>0.010716</td>\n",
              "      <td>FOLD_2</td>\n",
              "    </tr>\n",
              "    <tr>\n",
              "      <th>1</th>\n",
              "      <td>65751_201901</td>\n",
              "      <td>1.0</td>\n",
              "      <td>0.279016</td>\n",
              "      <td>0.379954</td>\n",
              "      <td>FOLD_3</td>\n",
              "    </tr>\n",
              "    <tr>\n",
              "      <th>2</th>\n",
              "      <td>58047_201901</td>\n",
              "      <td>0.0</td>\n",
              "      <td>0.036175</td>\n",
              "      <td>0.040223</td>\n",
              "      <td>FOLD_4</td>\n",
              "    </tr>\n",
              "    <tr>\n",
              "      <th>3</th>\n",
              "      <td>113221_201901</td>\n",
              "      <td>0.0</td>\n",
              "      <td>0.156156</td>\n",
              "      <td>0.171142</td>\n",
              "      <td>FOLD_5</td>\n",
              "    </tr>\n",
              "    <tr>\n",
              "      <th>4</th>\n",
              "      <td>142634_201901</td>\n",
              "      <td>0.0</td>\n",
              "      <td>0.143672</td>\n",
              "      <td>0.124387</td>\n",
              "      <td>FOLD_3</td>\n",
              "    </tr>\n",
              "  </tbody>\n",
              "</table>\n",
              "</div>"
            ],
            "text/plain": [
              "   prediction_id  codtarget  prob_cbtm  prob_lgbm    FOLD\n",
              "0  165747_201901        0.0   0.009868   0.010716  FOLD_2\n",
              "1   65751_201901        1.0   0.279016   0.379954  FOLD_3\n",
              "2   58047_201901        0.0   0.036175   0.040223  FOLD_4\n",
              "3  113221_201901        0.0   0.156156   0.171142  FOLD_5\n",
              "4  142634_201901        0.0   0.143672   0.124387  FOLD_3"
            ]
          },
          "metadata": {
            "tags": []
          },
          "execution_count": 53
        }
      ]
    },
    {
      "cell_type": "code",
      "metadata": {
        "id": "2oup2dVjkAwo",
        "colab_type": "code",
        "outputId": "f7c2ed97-b8f9-425d-dc00-a15a13f64d01",
        "colab": {
          "base_uri": "https://localhost:8080/",
          "height": 204
        }
      },
      "source": [
        "#results_renta_1, list_models_renta_1, df_probs_train_renta_1, df_probs_val_renta_1, df_probs_test_renta_1\n",
        "df_probs_train_renta_1.head()"
      ],
      "execution_count": 0,
      "outputs": [
        {
          "output_type": "execute_result",
          "data": {
            "text/html": [
              "<div>\n",
              "<style scoped>\n",
              "    .dataframe tbody tr th:only-of-type {\n",
              "        vertical-align: middle;\n",
              "    }\n",
              "\n",
              "    .dataframe tbody tr th {\n",
              "        vertical-align: top;\n",
              "    }\n",
              "\n",
              "    .dataframe thead th {\n",
              "        text-align: right;\n",
              "    }\n",
              "</style>\n",
              "<table border=\"1\" class=\"dataframe\">\n",
              "  <thead>\n",
              "    <tr style=\"text-align: right;\">\n",
              "      <th></th>\n",
              "      <th>prediction_id</th>\n",
              "      <th>new_target</th>\n",
              "      <th>prob_cbtm</th>\n",
              "      <th>prob_lgbm</th>\n",
              "      <th>FOLD</th>\n",
              "    </tr>\n",
              "  </thead>\n",
              "  <tbody>\n",
              "    <tr>\n",
              "      <th>0</th>\n",
              "      <td>165747_201901</td>\n",
              "      <td>0.0</td>\n",
              "      <td>0.004600</td>\n",
              "      <td>0.009550</td>\n",
              "      <td>FOLD_2</td>\n",
              "    </tr>\n",
              "    <tr>\n",
              "      <th>1</th>\n",
              "      <td>65751_201901</td>\n",
              "      <td>1.0</td>\n",
              "      <td>0.294350</td>\n",
              "      <td>0.237664</td>\n",
              "      <td>FOLD_5</td>\n",
              "    </tr>\n",
              "    <tr>\n",
              "      <th>2</th>\n",
              "      <td>58047_201901</td>\n",
              "      <td>0.0</td>\n",
              "      <td>0.010029</td>\n",
              "      <td>0.009274</td>\n",
              "      <td>FOLD_4</td>\n",
              "    </tr>\n",
              "    <tr>\n",
              "      <th>3</th>\n",
              "      <td>113221_201901</td>\n",
              "      <td>0.0</td>\n",
              "      <td>0.081018</td>\n",
              "      <td>0.106675</td>\n",
              "      <td>FOLD_5</td>\n",
              "    </tr>\n",
              "    <tr>\n",
              "      <th>4</th>\n",
              "      <td>142634_201901</td>\n",
              "      <td>0.0</td>\n",
              "      <td>0.038269</td>\n",
              "      <td>0.013356</td>\n",
              "      <td>FOLD_3</td>\n",
              "    </tr>\n",
              "  </tbody>\n",
              "</table>\n",
              "</div>"
            ],
            "text/plain": [
              "   prediction_id  new_target  prob_cbtm  prob_lgbm    FOLD\n",
              "0  165747_201901         0.0   0.004600   0.009550  FOLD_2\n",
              "1   65751_201901         1.0   0.294350   0.237664  FOLD_5\n",
              "2   58047_201901         0.0   0.010029   0.009274  FOLD_4\n",
              "3  113221_201901         0.0   0.081018   0.106675  FOLD_5\n",
              "4  142634_201901         0.0   0.038269   0.013356  FOLD_3"
            ]
          },
          "metadata": {
            "tags": []
          },
          "execution_count": 54
        }
      ]
    },
    {
      "cell_type": "code",
      "metadata": {
        "id": "AwtHCODqkAuG",
        "colab_type": "code",
        "outputId": "f1364eb2-d077-46af-d76b-0267b4a87be7",
        "colab": {
          "base_uri": "https://localhost:8080/",
          "height": 34
        }
      },
      "source": [
        "#results_renta_2, list_models_renta_2, df_probs_train_renta_2, df_probs_val_renta_2, df_probs_test_renta_2\n",
        "df_probs_train_renta_2.shape"
      ],
      "execution_count": 0,
      "outputs": [
        {
          "output_type": "execute_result",
          "data": {
            "text/plain": [
              "(30972, 5)"
            ]
          },
          "metadata": {
            "tags": []
          },
          "execution_count": 55
        }
      ]
    },
    {
      "cell_type": "code",
      "metadata": {
        "id": "cFplSq3dkAsg",
        "colab_type": "code",
        "outputId": "94b2251e-83c4-469a-a400-fcae6223c5b3",
        "colab": {
          "base_uri": "https://localhost:8080/",
          "height": 204
        }
      },
      "source": [
        "#results_renta_3, list_models_renta_3, df_probs_train_renta_3, df_probs_val_renta_3, df_probs_test_renta_3\n",
        "df_probs_train_renta_3.head()"
      ],
      "execution_count": 0,
      "outputs": [
        {
          "output_type": "execute_result",
          "data": {
            "text/html": [
              "<div>\n",
              "<style scoped>\n",
              "    .dataframe tbody tr th:only-of-type {\n",
              "        vertical-align: middle;\n",
              "    }\n",
              "\n",
              "    .dataframe tbody tr th {\n",
              "        vertical-align: top;\n",
              "    }\n",
              "\n",
              "    .dataframe thead th {\n",
              "        text-align: right;\n",
              "    }\n",
              "</style>\n",
              "<table border=\"1\" class=\"dataframe\">\n",
              "  <thead>\n",
              "    <tr style=\"text-align: right;\">\n",
              "      <th></th>\n",
              "      <th>prediction_id</th>\n",
              "      <th>margen</th>\n",
              "      <th>pred_cbtm</th>\n",
              "      <th>pred_lgbm</th>\n",
              "      <th>FOLD</th>\n",
              "    </tr>\n",
              "  </thead>\n",
              "  <tbody>\n",
              "    <tr>\n",
              "      <th>0</th>\n",
              "      <td>165747_201901</td>\n",
              "      <td>-5.00000</td>\n",
              "      <td>-8.724386</td>\n",
              "      <td>-5.244561</td>\n",
              "      <td>FOLD_2</td>\n",
              "    </tr>\n",
              "    <tr>\n",
              "      <th>1</th>\n",
              "      <td>65751_201901</td>\n",
              "      <td>342.98999</td>\n",
              "      <td>33.909921</td>\n",
              "      <td>46.397335</td>\n",
              "      <td>FOLD_4</td>\n",
              "    </tr>\n",
              "    <tr>\n",
              "      <th>2</th>\n",
              "      <td>58047_201901</td>\n",
              "      <td>-5.00000</td>\n",
              "      <td>-9.149315</td>\n",
              "      <td>-5.854026</td>\n",
              "      <td>FOLD_5</td>\n",
              "    </tr>\n",
              "    <tr>\n",
              "      <th>3</th>\n",
              "      <td>113221_201901</td>\n",
              "      <td>-5.00000</td>\n",
              "      <td>17.787679</td>\n",
              "      <td>9.148081</td>\n",
              "      <td>FOLD_3</td>\n",
              "    </tr>\n",
              "    <tr>\n",
              "      <th>4</th>\n",
              "      <td>142634_201901</td>\n",
              "      <td>-5.00000</td>\n",
              "      <td>18.100429</td>\n",
              "      <td>24.941095</td>\n",
              "      <td>FOLD_4</td>\n",
              "    </tr>\n",
              "  </tbody>\n",
              "</table>\n",
              "</div>"
            ],
            "text/plain": [
              "   prediction_id     margen  pred_cbtm  pred_lgbm    FOLD\n",
              "0  165747_201901   -5.00000  -8.724386  -5.244561  FOLD_2\n",
              "1   65751_201901  342.98999  33.909921  46.397335  FOLD_4\n",
              "2   58047_201901   -5.00000  -9.149315  -5.854026  FOLD_5\n",
              "3  113221_201901   -5.00000  17.787679   9.148081  FOLD_3\n",
              "4  142634_201901   -5.00000  18.100429  24.941095  FOLD_4"
            ]
          },
          "metadata": {
            "tags": []
          },
          "execution_count": 56
        }
      ]
    },
    {
      "cell_type": "code",
      "metadata": {
        "id": "neXUMIiXkApg",
        "colab_type": "code",
        "outputId": "daeb9533-4d04-4413-af13-dd47cd5bd978",
        "colab": {
          "base_uri": "https://localhost:8080/",
          "height": 34
        }
      },
      "source": [
        "#results_renta_4, list_models_renta_4, df_probs_train_renta_4, df_probs_val_renta_4, df_probs_test_renta_4\n",
        "df_probs_train_renta_4.shape"
      ],
      "execution_count": 0,
      "outputs": [
        {
          "output_type": "execute_result",
          "data": {
            "text/plain": [
              "(30972, 5)"
            ]
          },
          "metadata": {
            "tags": []
          },
          "execution_count": 57
        }
      ]
    },
    {
      "cell_type": "code",
      "metadata": {
        "id": "TSic0DxmkAjZ",
        "colab_type": "code",
        "colab": {}
      },
      "source": [
        ""
      ],
      "execution_count": 0,
      "outputs": []
    },
    {
      "cell_type": "code",
      "metadata": {
        "id": "mynlUb15kAUj",
        "colab_type": "code",
        "colab": {}
      },
      "source": [
        "#df_probs_val_renta_1[[\"prediction_id\", \"prob_avg_cbtm\"]]\n",
        "#df_probs_val_renta_1"
      ],
      "execution_count": 0,
      "outputs": []
    },
    {
      "cell_type": "markdown",
      "metadata": {
        "id": "iRX59DAjUj8z",
        "colab_type": "text"
      },
      "source": [
        "## Catboost"
      ]
    },
    {
      "cell_type": "code",
      "metadata": {
        "id": "nmSWrobQurn0",
        "colab_type": "code",
        "colab": {}
      },
      "source": [
        "df_val_opt_woc = df_probs_train_adqui[[\"prediction_id\", \"codtarget\", \"prob_cbtm\"]].rename(columns={\"prob_cbtm\": \"adqui_prob_cbtm\"})\\\n",
        "                                                          .merge(df_probs_train_renta_1[[\"prediction_id\", \"new_target\", \"prob_cbtm\"]].rename(columns={\"prob_cbtm\": \"renta_prob_cbtm\"}), how=\"left\", on=\"prediction_id\")\\\n",
        "                                                          .merge(df_probs_train_renta_3[[\"prediction_id\", \"margen\", \"pred_cbtm\"]], how=\"left\", on=\"prediction_id\")\\"
      ],
      "execution_count": 0,
      "outputs": []
    },
    {
      "cell_type": "code",
      "metadata": {
        "id": "j_20Y41PkASG",
        "colab_type": "code",
        "colab": {}
      },
      "source": [
        "df_val_opt_wic = df_probs_train_adqui[[\"prediction_id\", \"codtarget\", \"prob_cbtm\"]].rename(columns={\"prob_cbtm\": \"adqui_prob_cbtm\"})\\\n",
        "                                                          .merge(df_probs_train_renta_2_final[[\"prediction_id\", \"new_target\", \"prob_cbtm\"]].rename(columns={\"prob_cbtm\": \"renta_prob_cbtm\"}), how=\"left\", on=\"prediction_id\")\\\n",
        "                                                          .merge(df_probs_train_renta_4_final[[\"prediction_id\", \"margen\", \"pred_cbtm\"]], how=\"left\", on=\"prediction_id\")\\"
      ],
      "execution_count": 0,
      "outputs": []
    },
    {
      "cell_type": "code",
      "metadata": {
        "id": "BwMzdtOoCNt_",
        "colab_type": "code",
        "colab": {}
      },
      "source": [
        "df_test_opt_woc = df_probs_test_adqui[[\"prediction_id\", \"prob_avg_cbtm\"]].rename(columns={\"prob_avg_cbtm\": \"adqui_prob_cbtm\"})\\\n",
        "                                                          .merge(df_probs_test_renta_1[[\"prediction_id\", \"prob_avg_cbtm\"]].rename(columns={\"prob_avg_cbtm\": \"renta_prob_cbtm\"}), how=\"left\", on=\"prediction_id\")\\\n",
        "                                                          .merge(df_probs_test_renta_3[[\"prediction_id\", \"pred_avg_cbtm\"]].rename(columns={\"pred_avg_cbtm\": \"pred_cbtm\"}), how=\"left\", on=\"prediction_id\")\\"
      ],
      "execution_count": 0,
      "outputs": []
    },
    {
      "cell_type": "code",
      "metadata": {
        "id": "6CqgSk354DVj",
        "colab_type": "code",
        "colab": {}
      },
      "source": [
        "df_test_opt_wic = df_probs_test_adqui[[\"prediction_id\", \"prob_avg_cbtm\"]].rename(columns={\"prob_avg_cbtm\": \"adqui_prob_cbtm\"})\\\n",
        "                                                          .merge(df_probs_test_renta_2[[\"prediction_id\", \"prob_avg_cbtm\"]].rename(columns={\"prob_avg_cbtm\": \"renta_prob_cbtm\"}), how=\"left\", on=\"prediction_id\")\\\n",
        "                                                          .merge(df_probs_test_renta_4[[\"prediction_id\", \"pred_avg_cbtm\"]].rename(columns={\"pred_avg_cbtm\": \"pred_cbtm\"}), how=\"left\", on=\"prediction_id\")\\"
      ],
      "execution_count": 0,
      "outputs": []
    },
    {
      "cell_type": "markdown",
      "metadata": {
        "id": "4fR9wxLZUmMs",
        "colab_type": "text"
      },
      "source": [
        "## HIBRIDO"
      ]
    },
    {
      "cell_type": "code",
      "metadata": {
        "id": "XKNKYv-TKgwV",
        "colab_type": "code",
        "outputId": "1a77c9f9-2c1a-4466-9779-b012e018c444",
        "colab": {
          "base_uri": "https://localhost:8080/",
          "height": 51
        }
      },
      "source": [
        "df_probs_train_renta_3 = pd.read_csv(\"[01] Intermediate/df_probs_train_renta_3.csv\")\n",
        "df_probs_test_renta_3 = pd.read_csv(\"[01] Intermediate/df_probs_test_renta_3.csv\")\n",
        "df_probs_train_renta_4_final = pd.read_csv(\"[01] Intermediate/df_probs_train_renta_4_final.csv\")\n",
        "df_probs_test_renta_4 = pd.read_csv(\"[01] Intermediate/df_probs_test_renta_4.csv\")"
      ],
      "execution_count": 0,
      "outputs": [
        {
          "output_type": "stream",
          "text": [
            "/usr/local/lib/python3.6/dist-packages/IPython/core/interactiveshell.py:2718: DtypeWarning: Columns (4) have mixed types. Specify dtype option on import or set low_memory=False.\n",
            "  interactivity=interactivity, compiler=compiler, result=result)\n"
          ],
          "name": "stderr"
        }
      ]
    },
    {
      "cell_type": "code",
      "metadata": {
        "id": "fZOvD952KjAP",
        "colab_type": "code",
        "outputId": "95d01d26-ccb8-4d0a-d280-0b144d89d748",
        "colab": {
          "base_uri": "https://localhost:8080/",
          "height": 187
        }
      },
      "source": [
        "df_probs_train_renta_3.info()"
      ],
      "execution_count": 0,
      "outputs": [
        {
          "output_type": "stream",
          "text": [
            "<class 'pandas.core.frame.DataFrame'>\n",
            "RangeIndex: 248734 entries, 0 to 248733\n",
            "Data columns (total 5 columns):\n",
            "prediction_id    248734 non-null object\n",
            "margen           248734 non-null float64\n",
            "pred_cbtm        248734 non-null float64\n",
            "pred_lgbm        248734 non-null float64\n",
            "FOLD             248734 non-null object\n",
            "dtypes: float64(3), object(2)\n",
            "memory usage: 9.5+ MB\n"
          ],
          "name": "stdout"
        }
      ]
    },
    {
      "cell_type": "code",
      "metadata": {
        "id": "zKS-2Wz5KWbf",
        "colab_type": "code",
        "outputId": "40474b7a-804b-47df-cc44-6bb7f70f090a",
        "colab": {
          "base_uri": "https://localhost:8080/",
          "height": 323
        }
      },
      "source": [
        "df_probs_test_renta_3.info()"
      ],
      "execution_count": 0,
      "outputs": [
        {
          "output_type": "stream",
          "text": [
            "<class 'pandas.core.frame.DataFrame'>\n",
            "RangeIndex: 142616 entries, 0 to 142615\n",
            "Data columns (total 13 columns):\n",
            "prediction_id    142616 non-null object\n",
            "pred_cbtm_0      142616 non-null float64\n",
            "pred_lgbm_0      142616 non-null float64\n",
            "pred_cbtm_1      142616 non-null float64\n",
            "pred_lgbm_1      142616 non-null float64\n",
            "pred_cbtm_2      142616 non-null float64\n",
            "pred_lgbm_2      142616 non-null float64\n",
            "pred_cbtm_3      142616 non-null float64\n",
            "pred_lgbm_3      142616 non-null float64\n",
            "pred_cbtm_4      142616 non-null float64\n",
            "pred_lgbm_4      142616 non-null float64\n",
            "pred_avg_cbtm    142616 non-null float64\n",
            "pred_avg_lgbm    142616 non-null float64\n",
            "dtypes: float64(12), object(1)\n",
            "memory usage: 14.1+ MB\n"
          ],
          "name": "stdout"
        }
      ]
    },
    {
      "cell_type": "code",
      "metadata": {
        "id": "gzHAnHhVK9YJ",
        "colab_type": "code",
        "outputId": "89014ee2-5259-4fe1-a51c-953031e81455",
        "colab": {
          "base_uri": "https://localhost:8080/",
          "height": 187
        }
      },
      "source": [
        "df_probs_train_renta_4_final.info()"
      ],
      "execution_count": 0,
      "outputs": [
        {
          "output_type": "stream",
          "text": [
            "<class 'pandas.core.frame.DataFrame'>\n",
            "RangeIndex: 248734 entries, 0 to 248733\n",
            "Data columns (total 5 columns):\n",
            "prediction_id    248734 non-null object\n",
            "margen           248734 non-null float64\n",
            "pred_cbtm        248734 non-null float64\n",
            "pred_lgbm        248734 non-null float64\n",
            "FOLD             30972 non-null object\n",
            "dtypes: float64(3), object(2)\n",
            "memory usage: 9.5+ MB\n"
          ],
          "name": "stdout"
        }
      ]
    },
    {
      "cell_type": "code",
      "metadata": {
        "id": "9pAgBYhPK9Jz",
        "colab_type": "code",
        "outputId": "ea202532-69e0-4407-8cd0-35f1f9c68a2f",
        "colab": {
          "base_uri": "https://localhost:8080/",
          "height": 323
        }
      },
      "source": [
        "df_probs_test_renta_4.info()"
      ],
      "execution_count": 0,
      "outputs": [
        {
          "output_type": "stream",
          "text": [
            "<class 'pandas.core.frame.DataFrame'>\n",
            "RangeIndex: 142616 entries, 0 to 142615\n",
            "Data columns (total 13 columns):\n",
            "prediction_id    142616 non-null object\n",
            "pred_cbtm_0      142616 non-null float64\n",
            "pred_lgbm_0      142616 non-null float64\n",
            "pred_cbtm_1      142616 non-null float64\n",
            "pred_lgbm_1      142616 non-null float64\n",
            "pred_cbtm_2      142616 non-null float64\n",
            "pred_lgbm_2      142616 non-null float64\n",
            "pred_cbtm_3      142616 non-null float64\n",
            "pred_lgbm_3      142616 non-null float64\n",
            "pred_cbtm_4      142616 non-null float64\n",
            "pred_lgbm_4      142616 non-null float64\n",
            "pred_avg_cbtm    142616 non-null float64\n",
            "pred_avg_lgbm    142616 non-null float64\n",
            "dtypes: float64(12), object(1)\n",
            "memory usage: 14.1+ MB\n"
          ],
          "name": "stdout"
        }
      ]
    },
    {
      "cell_type": "code",
      "metadata": {
        "id": "tHCZ_muJU2as",
        "colab_type": "code",
        "colab": {}
      },
      "source": [
        "df_probs_train_adqui[\"prob\"] = df_probs_train_adqui[[\"prob_cbtm\", \"prob_lgbm\"]].mean(axis=1)\n",
        "df_probs_train_renta_2_final[\"prob\"] = df_probs_train_renta_2_final[[\"prob_cbtm\", \"prob_lgbm\"]].mean(axis=1)\n",
        "df_probs_train_renta_4_final[\"pred\"] = df_probs_train_renta_4_final[[\"pred_cbtm\", \"pred_lgbm\"]].mean(axis=1)\n",
        "df_probs_train_renta_1[\"prob\"] = df_probs_train_renta_1[[\"prob_cbtm\", \"prob_lgbm\"]].mean(axis=1)\n",
        "df_probs_train_renta_3[\"pred\"] = df_probs_train_renta_3[[\"pred_cbtm\", \"pred_lgbm\"]].mean(axis=1)"
      ],
      "execution_count": 0,
      "outputs": []
    },
    {
      "cell_type": "code",
      "metadata": {
        "id": "zoMbwDqZVHW9",
        "colab_type": "code",
        "colab": {}
      },
      "source": [
        "df_probs_test_adqui[\"prob\"] = df_probs_test_adqui[[\"prob_avg_cbtm\", \"prob_avg_lgbm\"]].mean(axis=1)\n",
        "df_probs_test_renta_2[\"prob\"] = df_probs_test_renta_2[[\"prob_avg_cbtm\", \"prob_avg_lgbm\"]].mean(axis=1)\n",
        "df_probs_test_renta_4[\"pred\"] = df_probs_test_renta_4[[\"pred_avg_cbtm\", \"pred_avg_lgbm\"]].mean(axis=1)\n",
        "df_probs_test_renta_1[\"prob\"] = df_probs_test_renta_1[[\"prob_avg_cbtm\", \"prob_avg_lgbm\"]].mean(axis=1)\n",
        "df_probs_test_renta_3[\"pred\"] = df_probs_test_renta_3[[\"pred_avg_cbtm\", \"pred_avg_lgbm\"]].mean(axis=1)"
      ],
      "execution_count": 0,
      "outputs": []
    },
    {
      "cell_type": "code",
      "metadata": {
        "id": "HNOreuApV7Rd",
        "colab_type": "code",
        "colab": {}
      },
      "source": [
        ""
      ],
      "execution_count": 0,
      "outputs": []
    },
    {
      "cell_type": "code",
      "metadata": {
        "id": "gP2oQ1vKSMEj",
        "colab_type": "code",
        "colab": {}
      },
      "source": [
        ""
      ],
      "execution_count": 0,
      "outputs": []
    },
    {
      "cell_type": "code",
      "metadata": {
        "id": "T8A8dyQ5Rdvc",
        "colab_type": "code",
        "colab": {}
      },
      "source": [
        "df_val_opt_woc_h = df_probs_train_adqui[[\"prediction_id\", \"codtarget\", \"prob\"]].rename(columns={\"prob\": \"adqui_prob_cbtm\"})\\\n",
        "                                                          .merge(df_probs_train_renta_1[[\"prediction_id\", \"new_target\", \"prob\"]].rename(columns={\"prob\": \"renta_prob_cbtm\"}), how=\"left\", on=\"prediction_id\")\\\n",
        "                                                          .merge(df_probs_train_renta_3[[\"prediction_id\", \"margen\", \"pred\"]].rename(columns={\"pred\": \"pred_cbtm\"}), how=\"left\", on=\"prediction_id\")\\"
      ],
      "execution_count": 0,
      "outputs": []
    },
    {
      "cell_type": "code",
      "metadata": {
        "id": "_h2QZY20UoUN",
        "colab_type": "code",
        "colab": {}
      },
      "source": [
        "df_val_opt_wic_h = df_probs_train_adqui[[\"prediction_id\", \"codtarget\", \"prob\"]].rename(columns={\"prob\": \"adqui_prob_cbtm\"})\\\n",
        "                                                          .merge(df_probs_train_renta_2_final[[\"prediction_id\", \"new_target\", \"prob\"]].rename(columns={\"prob\": \"renta_prob_cbtm\"}), how=\"left\", on=\"prediction_id\")\\\n",
        "                                                          .merge(df_probs_train_renta_4_final[[\"prediction_id\", \"margen\", \"pred\"]].rename(columns={\"pred\": \"pred_cbtm\"}), how=\"left\", on=\"prediction_id\")\\"
      ],
      "execution_count": 0,
      "outputs": []
    },
    {
      "cell_type": "code",
      "metadata": {
        "id": "X6biaR6LRexK",
        "colab_type": "code",
        "colab": {}
      },
      "source": [
        "df_test_opt_woc_h = df_probs_test_adqui[[\"prediction_id\", \"prob\"]].rename(columns={\"prob\": \"adqui_prob_cbtm\"})\\\n",
        "                                                          .merge(df_probs_test_renta_1[[\"prediction_id\", \"prob\"]].rename(columns={\"prob\": \"renta_prob_cbtm\"}), how=\"left\", on=\"prediction_id\")\\\n",
        "                                                          .merge(df_probs_test_renta_3[[\"prediction_id\", \"pred\"]].rename(columns={\"pred\": \"pred_cbtm\"}), how=\"left\", on=\"prediction_id\")\\"
      ],
      "execution_count": 0,
      "outputs": []
    },
    {
      "cell_type": "code",
      "metadata": {
        "id": "V6WQrL2hVtFu",
        "colab_type": "code",
        "colab": {}
      },
      "source": [
        "df_test_opt_wic_h = df_probs_test_adqui[[\"prediction_id\", \"prob\"]].rename(columns={\"prob\": \"adqui_prob_cbtm\"})\\\n",
        "                                                          .merge(df_probs_test_renta_2[[\"prediction_id\", \"prob\"]].rename(columns={\"prob\": \"renta_prob_cbtm\"}), how=\"left\", on=\"prediction_id\")\\\n",
        "                                                          .merge(df_probs_test_renta_4[[\"prediction_id\", \"pred\"]].rename(columns={\"pred\": \"pred_cbtm\"}), how=\"left\", on=\"prediction_id\")\\"
      ],
      "execution_count": 0,
      "outputs": []
    },
    {
      "cell_type": "code",
      "metadata": {
        "id": "llTvb-EfVs3q",
        "colab_type": "code",
        "outputId": "0bab74b7-65c5-4d9d-b76b-aaa34b72d94a",
        "colab": {
          "base_uri": "https://localhost:8080/",
          "height": 221
        }
      },
      "source": [
        "df_val_opt_wic_h.info()"
      ],
      "execution_count": 0,
      "outputs": [
        {
          "output_type": "stream",
          "text": [
            "<class 'pandas.core.frame.DataFrame'>\n",
            "Int64Index: 248734 entries, 0 to 248733\n",
            "Data columns (total 7 columns):\n",
            "prediction_id      248734 non-null object\n",
            "codtarget          248734 non-null float32\n",
            "adqui_prob_cbtm    248734 non-null float64\n",
            "new_target         248734 non-null float32\n",
            "renta_prob_cbtm    248734 non-null float64\n",
            "margen             248734 non-null float64\n",
            "pred_cbtm          248734 non-null float64\n",
            "dtypes: float32(2), float64(4), object(1)\n",
            "memory usage: 13.3+ MB\n"
          ],
          "name": "stdout"
        }
      ]
    },
    {
      "cell_type": "code",
      "metadata": {
        "id": "H-9Q7gYa4DSA",
        "colab_type": "code",
        "outputId": "d85cc504-7b8c-47cb-df9a-a9af14f4c0f0",
        "colab": {
          "base_uri": "https://localhost:8080/",
          "height": 170
        }
      },
      "source": [
        "df_test_opt_wic_h.info()"
      ],
      "execution_count": 0,
      "outputs": [
        {
          "output_type": "stream",
          "text": [
            "<class 'pandas.core.frame.DataFrame'>\n",
            "Int64Index: 142616 entries, 0 to 142615\n",
            "Data columns (total 4 columns):\n",
            "prediction_id      142616 non-null object\n",
            "adqui_prob_cbtm    142616 non-null float64\n",
            "renta_prob_cbtm    142616 non-null float64\n",
            "pred_cbtm          142616 non-null float64\n",
            "dtypes: float64(3), object(1)\n",
            "memory usage: 5.4+ MB\n"
          ],
          "name": "stdout"
        }
      ]
    },
    {
      "cell_type": "code",
      "metadata": {
        "id": "QS5vnODkvgtm",
        "colab_type": "code",
        "colab": {}
      },
      "source": [
        "df_val_opt_woc.info()"
      ],
      "execution_count": 0,
      "outputs": []
    },
    {
      "cell_type": "code",
      "metadata": {
        "id": "t9aX1py5vh4U",
        "colab_type": "code",
        "colab": {}
      },
      "source": [
        "df_val_opt_wic.info()"
      ],
      "execution_count": 0,
      "outputs": []
    },
    {
      "cell_type": "code",
      "metadata": {
        "id": "rdlv97BokAPV",
        "colab_type": "code",
        "colab": {}
      },
      "source": [
        "df_val_opt_woc.head()"
      ],
      "execution_count": 0,
      "outputs": []
    },
    {
      "cell_type": "code",
      "metadata": {
        "id": "-hNVGFPbje_V",
        "colab_type": "code",
        "colab": {}
      },
      "source": [
        "df_val_opt_wic.head()"
      ],
      "execution_count": 0,
      "outputs": []
    },
    {
      "cell_type": "code",
      "metadata": {
        "id": "3_OLfw2Txd-r",
        "colab_type": "code",
        "colab": {}
      },
      "source": [
        "def clasificar_old(res, c, prob_col, pred_col):\n",
        "    return ((res[prob_col] > c[0]) | (res[pred_col] > c[1])) * c[2] + ((res[prob_col] > c[3]) & (res[pred_col] > c[4])) * c[5] > c[6]\n",
        "\n",
        "def cost_old(res, coefs, prob_col_renta, pred_col, target_class, target_regre):\n",
        "    return -((clasificar_old(res, coefs, prob_col_renta, pred_col) * res[target_regre]).sum() / (res[target_class] * res[target_regre]).sum())"
      ],
      "execution_count": 0,
      "outputs": []
    },
    {
      "cell_type": "code",
      "metadata": {
        "id": "GeogYc2NwQxH",
        "colab_type": "code",
        "outputId": "38faeb86-70f0-4ec7-b234-bfde70cabc30",
        "colab": {
          "base_uri": "https://localhost:8080/",
          "height": 136
        }
      },
      "source": [
        "# 7 parameters to optimize\n",
        "optimization_val_cbtm_old = differential_evolution(lambda x: cost_old(df_val_opt_woc_h, x,\n",
        "                                                                      \"renta_prob_cbtm\",\n",
        "                                                                      \"pred_cbtm\",\n",
        "                                                                      target_class, target_regre),\n",
        "                                                   [(0, 1),(0, 20),(0, 1),(0, 1),(200, 300),(0, 1),(0, 2)])\n",
        "optimization_val_cbtm_old"
      ],
      "execution_count": 0,
      "outputs": [
        {
          "output_type": "execute_result",
          "data": {
            "text/plain": [
              "     fun: -0.7171107210849191\n",
              " message: 'Optimization terminated successfully.'\n",
              "    nfev: 2108\n",
              "     nit: 19\n",
              " success: True\n",
              "       x: array([4.92059141e-02, 1.00456039e+01, 7.99363962e-01, 3.00101880e-01,\n",
              "       2.48179829e+02, 2.36435848e-01, 2.56177657e-01])"
            ]
          },
          "metadata": {
            "tags": []
          },
          "execution_count": 108
        }
      ]
    },
    {
      "cell_type": "code",
      "metadata": {
        "id": "M39-RcWL_c7z",
        "colab_type": "code",
        "colab": {}
      },
      "source": [
        "clasificar_old(df_val_opt_woc, optimization_val_cbtm_old[\"x\"], \"renta_prob_cbtm\", \"pred_cbtm\").astype(int).value_counts(normalize=True, dropna=False)"
      ],
      "execution_count": 0,
      "outputs": []
    },
    {
      "cell_type": "code",
      "metadata": {
        "id": "9YD59WZqCX4W",
        "colab_type": "code",
        "colab": {}
      },
      "source": [
        "clasificar_old(df_test_opt_woc, optimization_val_cbtm_old[\"x\"], \"renta_prob_cbtm\", \"pred_cbtm\").astype(int).value_counts(normalize=True, dropna=False)"
      ],
      "execution_count": 0,
      "outputs": []
    },
    {
      "cell_type": "code",
      "metadata": {
        "id": "kEAwoBm7tMGs",
        "colab_type": "code",
        "colab": {}
      },
      "source": [
        "# 8 parameters to optimize\n",
        "def clasificar(res, c, prob_col_contact, prob_col, pred_col):\n",
        "    return (res[prob_col_contact] > c[7]) * (((res[prob_col] > c[0]) | (res[pred_col] > c[1])) * c[2] + ((res[prob_col] > c[3]) & (res[pred_col] > c[4])) * c[5]) > c[6]\n",
        "\n",
        "def cost(res, coefs, prob_col_contact, prob_col_renta, pred_col, target_class, target_regre):\n",
        "    return -((clasificar(res, coefs, prob_col_contact, prob_col_renta, pred_col) * res[target_regre]).sum() / (res[target_class] * res[target_regre]).sum())"
      ],
      "execution_count": 0,
      "outputs": []
    },
    {
      "cell_type": "code",
      "metadata": {
        "id": "1ZAYb5rTx9vx",
        "colab_type": "code",
        "outputId": "bfd53575-7307-4fea-d2b0-64540217b65b",
        "colab": {
          "base_uri": "https://localhost:8080/",
          "height": 136
        }
      },
      "source": [
        "optimization_val_cbtm_new = differential_evolution(lambda x: cost(df_val_opt_wic_h,\n",
        "                                                                  x,\n",
        "                                                                  \"adqui_prob_cbtm\",\n",
        "                                                                  \"renta_prob_cbtm\",\n",
        "                                                                  \"pred_cbtm\",\n",
        "                                                                  target_class, target_regre),\n",
        "                                                    [(0, 1),(0, 100),(0, 1),(0, 1),(0, 200),(0, 1),(0, 2),(0, 1)])\n",
        "optimization_val_cbtm_new"
      ],
      "execution_count": 0,
      "outputs": [
        {
          "output_type": "execute_result",
          "data": {
            "text/plain": [
              "     fun: -0.7167252506335423\n",
              " message: 'Optimization terminated successfully.'\n",
              "    nfev: 2049\n",
              "     nit: 16\n",
              " success: True\n",
              "       x: array([8.85386334e-01, 7.47379203e+01, 5.54275592e-01, 4.18715631e-01,\n",
              "       3.43273948e+01, 6.33669202e-01, 1.23307860e-01, 6.93611109e-02])"
            ]
          },
          "metadata": {
            "tags": []
          },
          "execution_count": 111
        }
      ]
    },
    {
      "cell_type": "code",
      "metadata": {
        "id": "fIO9CrXz-uCm",
        "colab_type": "code",
        "colab": {}
      },
      "source": [
        "clasificar(df_val_opt_wic, optimization_val_cbtm_new[\"x\"], \"adqui_prob_cbtm\", \"renta_prob_cbtm\", \"pred_cbtm\").astype(int).value_counts(normalize=True, dropna=False)"
      ],
      "execution_count": 0,
      "outputs": []
    },
    {
      "cell_type": "code",
      "metadata": {
        "id": "R4dXxwDTBDQI",
        "colab_type": "code",
        "colab": {}
      },
      "source": [
        "clasificar(df_test_opt_wic, optimization_val_cbtm_new[\"x\"], \"adqui_prob_cbtm\", \"renta_prob_cbtm\", \"pred_cbtm\").astype(int).value_counts(normalize=True, dropna=False)"
      ],
      "execution_count": 0,
      "outputs": []
    },
    {
      "cell_type": "code",
      "metadata": {
        "id": "P1VJr203DUO-",
        "colab_type": "code",
        "colab": {}
      },
      "source": [
        "optimization_val_cbtm_new_woc = differential_evolution(lambda x: cost(df_val_opt_woc,\n",
        "                                                                  x,\n",
        "                                                                  \"adqui_prob_cbtm\",\n",
        "                                                                  \"renta_prob_cbtm\",\n",
        "                                                                  \"pred_cbtm\",\n",
        "                                                                  target_class, target_regre),\n",
        "                                                    [(0, 1),(0, 100),(0, 1),(0, 1),(100, 200),(0, 1),(0, 2),(0, 1)])\n",
        "optimization_val_cbtm_new_woc"
      ],
      "execution_count": 0,
      "outputs": []
    },
    {
      "cell_type": "code",
      "metadata": {
        "id": "CT0cn2KMDdxb",
        "colab_type": "code",
        "colab": {}
      },
      "source": [
        "clasificar(df_val_opt_woc, optimization_val_cbtm_new_woc[\"x\"], \"adqui_prob_cbtm\", \"renta_prob_cbtm\", \"pred_cbtm\").astype(int).value_counts(normalize=True, dropna=False)"
      ],
      "execution_count": 0,
      "outputs": []
    },
    {
      "cell_type": "code",
      "metadata": {
        "id": "S40f5uXMDdt-",
        "colab_type": "code",
        "colab": {}
      },
      "source": [
        "clasificar(df_test_opt_woc, optimization_val_cbtm_new_woc[\"x\"], \"adqui_prob_cbtm\", \"renta_prob_cbtm\", \"pred_cbtm\").astype(int).value_counts(normalize=True, dropna=False)"
      ],
      "execution_count": 0,
      "outputs": []
    },
    {
      "cell_type": "code",
      "metadata": {
        "id": "XzEHSCD1tMBH",
        "colab_type": "code",
        "colab": {}
      },
      "source": [
        "def clasificar_v2(res, c, prob_col_contact, prob_col, pred_col):\n",
        "    return res[prob_col_contact] * (((res[prob_col] > c[0]) | (res[pred_col] > c[1])) * c[2] + ((res[prob_col] > c[3]) & (res[pred_col] > c[4])) * c[5]) > c[6]\n",
        "\n",
        "def cost_v2(res, coefs, prob_col_contact, prob_col_renta, pred_col, target_class, target_regre):\n",
        "    return -((clasificar_v2(res, coefs, prob_col_contact, prob_col_renta, pred_col) * res[target_regre]).sum() / (res[target_class] * res[target_regre]).sum())"
      ],
      "execution_count": 0,
      "outputs": []
    },
    {
      "cell_type": "code",
      "metadata": {
        "id": "9t0PDPBKDVDV",
        "colab_type": "code",
        "outputId": "8251f663-fdcf-4544-fee5-3abf545d521b",
        "colab": {
          "base_uri": "https://localhost:8080/",
          "height": 136
        }
      },
      "source": [
        "optimization_val_cbtm_new_v2 = differential_evolution(lambda x: cost_v2(df_val_opt_wic_h,\n",
        "                                                                  x,\n",
        "                                                                  \"adqui_prob_cbtm\",\n",
        "                                                                  \"renta_prob_cbtm\",\n",
        "                                                                  \"pred_cbtm\",\n",
        "                                                                  target_class, target_regre),\n",
        "                                                    [(0, 1),(0, 100),(0, 1),(0, 1),(0, 200),(0, 1),(0, 2)])\n",
        "optimization_val_cbtm_new_v2"
      ],
      "execution_count": 0,
      "outputs": [
        {
          "output_type": "execute_result",
          "data": {
            "text/plain": [
              "     fun: -0.7253838980599233\n",
              " message: 'Optimization terminated successfully.'\n",
              "    nfev: 1268\n",
              "     nit: 11\n",
              " success: True\n",
              "       x: array([7.60455285e-01, 1.68759452e+01, 3.91021229e-01, 4.74378235e-01,\n",
              "       6.03403025e+01, 5.74716929e-01, 5.11098755e-02])"
            ]
          },
          "metadata": {
            "tags": []
          },
          "execution_count": 113
        }
      ]
    },
    {
      "cell_type": "code",
      "metadata": {
        "id": "o84YnGpNDVFQ",
        "colab_type": "code",
        "colab": {}
      },
      "source": [
        "clasificar_v2(df_val_opt_wic, optimization_val_cbtm_new_v2[\"x\"], \"adqui_prob_cbtm\", \"renta_prob_cbtm\", \"pred_cbtm\").astype(int).value_counts(normalize=True, dropna=False)"
      ],
      "execution_count": 0,
      "outputs": []
    },
    {
      "cell_type": "code",
      "metadata": {
        "id": "hhL7nt-HDCIS",
        "colab_type": "code",
        "colab": {}
      },
      "source": [
        "clasificar_v2(df_val_opt_wic, optimization_val_cbtm_new_v2[\"x\"], \"adqui_prob_cbtm\", \"renta_prob_cbtm\", \"pred_cbtm\").astype(int).value_counts(normalize=True, dropna=False)"
      ],
      "execution_count": 0,
      "outputs": []
    },
    {
      "cell_type": "code",
      "metadata": {
        "id": "lBU7zFprFsh_",
        "colab_type": "code",
        "outputId": "19331161-bee1-4c71-d29b-bf5c9ad9aead",
        "colab": {
          "base_uri": "https://localhost:8080/",
          "height": 136
        }
      },
      "source": [
        "optimization_val_cbtm_new_v2_woc = differential_evolution(lambda x: cost_v2(df_val_opt_woc_h,\n",
        "                                                                  x,\n",
        "                                                                  \"adqui_prob_cbtm\",\n",
        "                                                                  \"renta_prob_cbtm\",\n",
        "                                                                  \"pred_cbtm\",\n",
        "                                                                  target_class, target_regre),\n",
        "                                                    [(0, 1),(0, 100),(0, 1),(0, 1),(0, 200),(0, 1),(0, 2)])\n",
        "optimization_val_cbtm_new_v2_woc"
      ],
      "execution_count": 0,
      "outputs": [
        {
          "output_type": "execute_result",
          "data": {
            "text/plain": [
              "     fun: -0.7209835161371787\n",
              " message: 'Optimization terminated successfully.'\n",
              "    nfev: 2423\n",
              "     nit: 22\n",
              " success: True\n",
              "       x: array([7.39913715e-02, 4.17791723e+00, 7.24482521e-01, 4.79650923e-02,\n",
              "       8.39082753e+01, 4.52298739e-01, 2.98898701e-02])"
            ]
          },
          "metadata": {
            "tags": []
          },
          "execution_count": 114
        }
      ]
    },
    {
      "cell_type": "code",
      "metadata": {
        "id": "IipVeFKVHYrB",
        "colab_type": "code",
        "colab": {}
      },
      "source": [
        "# Optimize \n",
        "def clasificar_v3(res, c, prob_col_contact, prob_col, pred_col):\n",
        "    return res[prob_col_contact] * (((res[prob_col] > c[0]) | (res[pred_col] > c[1])) * c[2] + ((res[prob_col] > c[3]) & (res[pred_col] > c[4])) * (1 - c[2])) > c[5]\n",
        "\n",
        "def cost_v3(res, coefs, prob_col_contact, prob_col_renta, pred_col, target_class, target_regre):\n",
        "    return -((clasificar_v3(res, coefs, prob_col_contact, prob_col_renta, pred_col) * res[target_regre]).sum() / (res[target_class] * res[target_regre]).sum())"
      ],
      "execution_count": 0,
      "outputs": []
    },
    {
      "cell_type": "code",
      "metadata": {
        "id": "bqfwVVMhHYpH",
        "colab_type": "code",
        "outputId": "a4844c72-88bf-41c8-c7d9-a6ae919041d7",
        "colab": {
          "base_uri": "https://localhost:8080/",
          "height": 136
        }
      },
      "source": [
        "optimization_val_cbtm_new_v3 = differential_evolution(lambda x: cost_v3(df_val_opt_wic_h,\n",
        "                                                                  x,\n",
        "                                                                  \"adqui_prob_cbtm\",\n",
        "                                                                  \"renta_prob_cbtm\",\n",
        "                                                                  \"pred_cbtm\",\n",
        "                                                                  target_class, target_regre),\n",
        "                                                    [(0, 1),(0, 100),(0, 1),(0, 1),(0, 200),(0, 2)])\n",
        "optimization_val_cbtm_new_v3"
      ],
      "execution_count": 0,
      "outputs": [
        {
          "output_type": "execute_result",
          "data": {
            "text/plain": [
              "     fun: -0.7245445530776942\n",
              " message: 'Optimization terminated successfully.'\n",
              "    nfev: 1357\n",
              "     nit: 14\n",
              " success: True\n",
              "       x: array([6.66422253e-01, 1.84080754e+01, 3.74223558e-01, 4.32306214e-01,\n",
              "       8.23478764e+01, 4.22840724e-02])"
            ]
          },
          "metadata": {
            "tags": []
          },
          "execution_count": 116
        }
      ]
    },
    {
      "cell_type": "code",
      "metadata": {
        "id": "Vm7PyR5uHYkv",
        "colab_type": "code",
        "colab": {}
      },
      "source": [
        "clasificar_v3(df_val_opt_wic, optimization_val_cbtm_new_v3[\"x\"], \"adqui_prob_cbtm\", \"renta_prob_cbtm\", \"pred_cbtm\").astype(int).value_counts(normalize=True, dropna=False)"
      ],
      "execution_count": 0,
      "outputs": []
    },
    {
      "cell_type": "code",
      "metadata": {
        "id": "71_eypjoIWGh",
        "colab_type": "code",
        "colab": {}
      },
      "source": [
        "clasificar_v3(df_test_opt_wic, optimization_val_cbtm_new_v3[\"x\"], \"adqui_prob_cbtm\", \"renta_prob_cbtm\", \"pred_cbtm\").astype(int).value_counts(normalize=True, dropna=False)"
      ],
      "execution_count": 0,
      "outputs": []
    },
    {
      "cell_type": "code",
      "metadata": {
        "id": "WSTIhmu8Fscl",
        "colab_type": "code",
        "outputId": "fc091364-e2ab-4bdf-bc30-a8a72e43ac2e",
        "colab": {
          "base_uri": "https://localhost:8080/",
          "height": 136
        }
      },
      "source": [
        "optimization_val_cbtm_new_v3_woc = differential_evolution(lambda x: cost_v3(df_val_opt_woc_h,\n",
        "                                                                  x,\n",
        "                                                                  \"adqui_prob_cbtm\",\n",
        "                                                                  \"renta_prob_cbtm\",\n",
        "                                                                  \"pred_cbtm\",\n",
        "                                                                  target_class, target_regre),\n",
        "                                                    [(0, 1),(0, 100),(0, 1),(0, 1),(0, 200),(0, 2)])\n",
        "optimization_val_cbtm_new_v3_woc"
      ],
      "execution_count": 0,
      "outputs": [
        {
          "output_type": "execute_result",
          "data": {
            "text/plain": [
              "     fun: -0.7207698693940029\n",
              " message: 'Optimization terminated successfully.'\n",
              "    nfev: 1627\n",
              "     nit: 17\n",
              " success: True\n",
              "       x: array([7.02992069e-02, 4.39817453e+00, 8.71656329e-01, 6.11529565e-02,\n",
              "       1.29526302e+02, 3.72394836e-02])"
            ]
          },
          "metadata": {
            "tags": []
          },
          "execution_count": 117
        }
      ]
    },
    {
      "cell_type": "code",
      "metadata": {
        "id": "hXkypzkrIS8b",
        "colab_type": "code",
        "colab": {}
      },
      "source": [
        "clasificar_v3(df_val_opt_woc, optimization_val_cbtm_new_v3_woc[\"x\"], \"adqui_prob_cbtm\", \"renta_prob_cbtm\", \"pred_cbtm\").astype(int).value_counts(normalize=True, dropna=False)"
      ],
      "execution_count": 0,
      "outputs": []
    },
    {
      "cell_type": "code",
      "metadata": {
        "id": "Oeeg-iCmIS5L",
        "colab_type": "code",
        "colab": {}
      },
      "source": [
        "clasificar_v3(df_test_opt_woc, optimization_val_cbtm_new_v3_woc[\"x\"], \"adqui_prob_cbtm\", \"renta_prob_cbtm\", \"pred_cbtm\").astype(int).value_counts(normalize=True, dropna=False)"
      ],
      "execution_count": 0,
      "outputs": []
    },
    {
      "cell_type": "code",
      "metadata": {
        "id": "howy9o2-OBQM",
        "colab_type": "code",
        "colab": {}
      },
      "source": [
        "# Optimize \n",
        "def clasificar_v4(res, c, prob_col_contact, prob_col, pred_col):\n",
        "    return res[prob_col_contact] * (((res[prob_col] > c[0]) | (res[pred_col] > c[1])) * c[2] + ((res[prob_col] > c[0]) & (res[pred_col] > c[1])) * (1 - c[2])) > c[3]\n",
        "\n",
        "def cost_v4(res, coefs, prob_col_contact, prob_col_renta, pred_col, target_class, target_regre):\n",
        "    return -((clasificar_v4(res, coefs, prob_col_contact, prob_col_renta, pred_col) * res[target_regre]).sum() / (res[target_class] * res[target_regre]).sum())"
      ],
      "execution_count": 0,
      "outputs": []
    },
    {
      "cell_type": "code",
      "metadata": {
        "id": "K2OcCed8TpIS",
        "colab_type": "code",
        "outputId": "458c38e8-01e9-4552-a95b-b877bafbbff6",
        "colab": {
          "base_uri": "https://localhost:8080/",
          "height": 119
        }
      },
      "source": [
        "optimization_val_cbtm_new_v4 = differential_evolution(lambda x: cost_v4(df_val_opt_wic_h,\n",
        "                                                                  x,\n",
        "                                                                  \"adqui_prob_cbtm\",\n",
        "                                                                  \"renta_prob_cbtm\",\n",
        "                                                                  \"pred_cbtm\",\n",
        "                                                                  target_class, target_regre),\n",
        "                                                    [(0, 1),(-100, 500),(0, 1),(0, 2)])\n",
        "optimization_val_cbtm_new_v4"
      ],
      "execution_count": 0,
      "outputs": [
        {
          "output_type": "execute_result",
          "data": {
            "text/plain": [
              "     fun: -0.7251532375796401\n",
              " message: 'Optimization terminated successfully.'\n",
              "    nfev: 905\n",
              "     nit: 14\n",
              " success: True\n",
              "       x: array([ 0.384313  , 63.28076968,  0.52367819,  0.06329589])"
            ]
          },
          "metadata": {
            "tags": []
          },
          "execution_count": 122
        }
      ]
    },
    {
      "cell_type": "code",
      "metadata": {
        "id": "mNfhZ2FzTu_y",
        "colab_type": "code",
        "outputId": "9bc409d1-c531-4278-8e0e-b6f2ffe556eb",
        "colab": {
          "base_uri": "https://localhost:8080/",
          "height": 119
        }
      },
      "source": [
        "optimization_val_cbtm_new_v4 = differential_evolution(lambda x: cost_v4(df_val_opt_woc_h,\n",
        "                                                                  x,\n",
        "                                                                  \"adqui_prob_cbtm\",\n",
        "                                                                  \"renta_prob_cbtm\",\n",
        "                                                                  \"pred_cbtm\",\n",
        "                                                                  target_class, target_regre),\n",
        "                                                    [(0, 1),(0, 100),(0, 1),(0, 2)])\n",
        "optimization_val_cbtm_new_v4"
      ],
      "execution_count": 0,
      "outputs": [
        {
          "output_type": "execute_result",
          "data": {
            "text/plain": [
              "     fun: -0.7212512380558953\n",
              " message: 'Optimization terminated successfully.'\n",
              "    nfev: 1025\n",
              "     nit: 16\n",
              " success: True\n",
              "       x: array([0.07949983, 2.44500513, 0.64701103, 0.04234438])"
            ]
          },
          "metadata": {
            "tags": []
          },
          "execution_count": 121
        }
      ]
    },
    {
      "cell_type": "code",
      "metadata": {
        "id": "owNGH7EKrLL8",
        "colab_type": "code",
        "colab": {}
      },
      "source": [
        "##### 1st BEST OPTIMIZATION MODEL\n",
        "# Optimize \n",
        "def clasificar_v4(res, c, prob_col_contact, prob_col, pred_col):\n",
        "    return (((res[prob_col_contact] * res[prob_col] > c[0]) | (res[prob_col_contact] * res[pred_col] > c[1])) * c[2] + \\\n",
        "            ((res[prob_col_contact] * res[prob_col] > c[0]) & (res[prob_col_contact] * res[pred_col] > c[1])) * (1 - c[2])) > c[3]\n",
        "\n",
        "def cost_v4(res, coefs, prob_col_contact, prob_col_renta, pred_col, target_class, target_regre):\n",
        "    return -((clasificar_v4(res, coefs, prob_col_contact, prob_col_renta, pred_col) * res[target_regre]).sum() / (res[target_class] * res[target_regre]).sum())"
      ],
      "execution_count": 0,
      "outputs": []
    },
    {
      "cell_type": "code",
      "metadata": {
        "id": "03QkFVNYUItK",
        "colab_type": "code",
        "outputId": "34710e68-d222-4771-9cbc-ef6f1e331aab",
        "colab": {
          "base_uri": "https://localhost:8080/",
          "height": 119
        }
      },
      "source": [
        "optimization_val_cbtm_new_v4 = differential_evolution(lambda x: cost_v4(df_val_opt_woc_h,\n",
        "                                                                  x,\n",
        "                                                                  \"adqui_prob_cbtm\",\n",
        "                                                                  \"renta_prob_cbtm\",\n",
        "                                                                  \"pred_cbtm\",\n",
        "                                                                  target_class, target_regre),\n",
        "                                                    [(0, 1),(0, 100),(0, 1),(0, 2)])\n",
        "optimization_val_cbtm_new_v4"
      ],
      "execution_count": 0,
      "outputs": [
        {
          "output_type": "execute_result",
          "data": {
            "text/plain": [
              "     fun: -0.7222160151212436\n",
              " message: 'Optimization terminated successfully.'\n",
              "    nfev: 1325\n",
              "     nit: 21\n",
              " success: True\n",
              "       x: array([0.01251694, 0.44103609, 0.34516944, 0.21944948])"
            ]
          },
          "metadata": {
            "tags": []
          },
          "execution_count": 124
        }
      ]
    },
    {
      "cell_type": "code",
      "metadata": {
        "id": "5w1nPQqPUMjm",
        "colab_type": "code",
        "outputId": "1eb51614-42c2-40b3-a641-0f7a89f97ef4",
        "colab": {
          "base_uri": "https://localhost:8080/",
          "height": 119
        }
      },
      "source": [
        "optimization_val_cbtm_new_v4 = differential_evolution(lambda x: cost_v4(df_val_opt_wic_h,\n",
        "                                                                  x,\n",
        "                                                                  \"adqui_prob_cbtm\",\n",
        "                                                                  \"renta_prob_cbtm\",\n",
        "                                                                  \"pred_cbtm\",\n",
        "                                                                  target_class, target_regre),\n",
        "                                                    [(0, 1),(0, 100),(0, 1),(0, 2)])\n",
        "optimization_val_cbtm_new_v4"
      ],
      "execution_count": 0,
      "outputs": [
        {
          "output_type": "execute_result",
          "data": {
            "text/plain": [
              "     fun: -0.7282122714424242\n",
              " message: 'Optimization terminated successfully.'\n",
              "    nfev: 725\n",
              "     nit: 11\n",
              " success: True\n",
              "       x: array([0.52388564, 5.87831595, 0.86835394, 0.28305198])"
            ]
          },
          "metadata": {
            "tags": []
          },
          "execution_count": 125
        }
      ]
    },
    {
      "cell_type": "code",
      "metadata": {
        "id": "vtWcieNxmWpR",
        "colab_type": "code",
        "colab": {}
      },
      "source": [
        "##### BEST OPTIMIZATION MODEL\n",
        "# Optimize \n",
        "def clasificar_v4(res, c, prob_col_contact, prob_col, pred_col):\n",
        "    return (((res[prob_col_contact] * res[prob_col] > c[0]) | (res[prob_col_contact] * res[prob_col] * res[pred_col] > c[1])) * c[2] + \\\n",
        "            ((res[prob_col_contact] * res[prob_col] > c[0]) & (res[prob_col_contact] * res[prob_col] * res[pred_col] > c[1])) * (1 - c[2])) > c[3]\n",
        "\n",
        "def cost_v4(res, coefs, prob_col_contact, prob_col_renta, pred_col, target_class, target_regre):\n",
        "    return -((clasificar_v4(res, coefs, prob_col_contact, prob_col_renta, pred_col) * res[target_regre]).sum() / (res[target_class] * res[target_regre]).sum())"
      ],
      "execution_count": 0,
      "outputs": []
    },
    {
      "cell_type": "code",
      "metadata": {
        "id": "I9XSSRf-OBKC",
        "colab_type": "code",
        "outputId": "b1bfa083-e788-4fbf-ceed-3c0084dcbd79",
        "colab": {
          "base_uri": "https://localhost:8080/",
          "height": 136
        }
      },
      "source": [
        "optimization_val_cbtm_new_v4 = differential_evolution(lambda x: cost_v4(df_val_opt_woc_h,\n",
        "                                                                  x,\n",
        "                                                                  \"adqui_prob_cbtm\",\n",
        "                                                                  \"renta_prob_cbtm\",\n",
        "                                                                  \"pred_cbtm\",\n",
        "                                                                  target_class, target_regre),\n",
        "                                                    [(0, 1),(0, 100),(0, 1),(0, 2)])\n",
        "optimization_val_cbtm_new_v4"
      ],
      "execution_count": 0,
      "outputs": [
        {
          "output_type": "execute_result",
          "data": {
            "text/plain": [
              "     fun: -0.7140524139670227\n",
              "     jac: array([0., 0., 0., 0.])\n",
              " message: 'Optimization terminated successfully.'\n",
              "    nfev: 1140\n",
              "     nit: 17\n",
              " success: True\n",
              "       x: array([4.57484234e-03, 5.40307357e+01, 7.31648186e-01, 3.77720941e-01])"
            ]
          },
          "metadata": {
            "tags": []
          },
          "execution_count": 127
        }
      ]
    },
    {
      "cell_type": "code",
      "metadata": {
        "id": "IPuz6MezMAM1",
        "colab_type": "code",
        "outputId": "db730ffd-d17c-405a-e661-5ec10b60581b",
        "colab": {
          "base_uri": "https://localhost:8080/",
          "height": 119
        }
      },
      "source": [
        "optimization_val_cbtm_new_v4_h = differential_evolution(lambda x: cost_v4(df_val_opt_wic_h,\n",
        "                                                                  x,\n",
        "                                                                  \"adqui_prob_cbtm\",\n",
        "                                                                  \"renta_prob_cbtm\",\n",
        "                                                                  \"pred_cbtm\",\n",
        "                                                                  target_class, target_regre),\n",
        "                                                    [(0, 1),(0, 20),(0, 1),(0, 1)])\n",
        "optimization_val_cbtm_new_v4_h"
      ],
      "execution_count": 0,
      "outputs": [
        {
          "output_type": "execute_result",
          "data": {
            "text/plain": [
              "     fun: -0.7318257462623142\n",
              " message: 'Optimization terminated successfully.'\n",
              "    nfev: 485\n",
              "     nit: 7\n",
              " success: True\n",
              "       x: array([0.33449047, 3.42094727, 0.17637854, 0.07966141])"
            ]
          },
          "metadata": {
            "tags": []
          },
          "execution_count": 128
        }
      ]
    },
    {
      "cell_type": "code",
      "metadata": {
        "id": "g_0HPeISUjJ6",
        "colab_type": "code",
        "colab": {}
      },
      "source": [
        ""
      ],
      "execution_count": 0,
      "outputs": []
    },
    {
      "cell_type": "code",
      "metadata": {
        "id": "zu0_vs84Lvrx",
        "colab_type": "code",
        "outputId": "382c5ec3-2be1-4b3d-fc77-2812ed379e3d",
        "colab": {
          "base_uri": "https://localhost:8080/",
          "height": 119
        }
      },
      "source": [
        "optimization_val_cbtm_new_v4_h = differential_evolution(lambda x: cost_v4(df_val_opt_wic_h,\n",
        "                                                                  x,\n",
        "                                                                  \"adqui_prob_cbtm\",\n",
        "                                                                  \"renta_prob_cbtm\",\n",
        "                                                                  \"pred_cbtm\",\n",
        "                                                                  target_class, target_regre),\n",
        "                                                    [(0, 1),(-100, 500),(0, 1),(0, 2)])\n",
        "optimization_val_cbtm_new_v4_h"
      ],
      "execution_count": 0,
      "outputs": [
        {
          "output_type": "execute_result",
          "data": {
            "text/plain": [
              "     fun: -0.7318816980750626\n",
              " message: 'Optimization terminated successfully.'\n",
              "    nfev: 1265\n",
              "     nit: 20\n",
              " success: True\n",
              "       x: array([0.91703377, 3.46401685, 0.99854517, 0.4137564 ])"
            ]
          },
          "metadata": {
            "tags": []
          },
          "execution_count": 76
        }
      ]
    },
    {
      "cell_type": "code",
      "metadata": {
        "id": "EUqsQCYXWlkN",
        "colab_type": "code",
        "outputId": "3b765a56-e7fb-4fe0-a342-82024c0a1d1c",
        "colab": {
          "base_uri": "https://localhost:8080/",
          "height": 119
        }
      },
      "source": [
        "optimization_val_cbtm_new_v4_h = differential_evolution(lambda x: cost_v4(df_val_opt_wic_h,\n",
        "                                                                  x,\n",
        "                                                                  \"adqui_prob_cbtm\",\n",
        "                                                                  \"renta_prob_cbtm\",\n",
        "                                                                  \"pred_cbtm\",\n",
        "                                                                  target_class, target_regre),\n",
        "                                                    [(0, 1),(0, 20),(0, 1),(0, 1)])\n",
        "optimization_val_cbtm_new_v4_h"
      ],
      "execution_count": 0,
      "outputs": [
        {
          "output_type": "execute_result",
          "data": {
            "text/plain": [
              "     fun: -0.7463694214820862\n",
              " message: 'Optimization terminated successfully.'\n",
              "    nfev: 425\n",
              "     nit: 6\n",
              " success: True\n",
              "       x: array([0.10707743, 6.11174829, 0.78600495, 0.57716555])"
            ]
          },
          "metadata": {
            "tags": []
          },
          "execution_count": 93
        }
      ]
    },
    {
      "cell_type": "code",
      "metadata": {
        "id": "izI4HN4PdwnP",
        "colab_type": "code",
        "outputId": "66398492-d994-42d7-c108-fc89e25acae6",
        "colab": {
          "base_uri": "https://localhost:8080/",
          "height": 119
        }
      },
      "source": [
        "optimization_val_cbtm_new_v4_h = differential_evolution(lambda x: cost_v4(df_val_opt_wic_h,\n",
        "                                                                  x,\n",
        "                                                                  \"adqui_prob_cbtm\",\n",
        "                                                                  \"renta_prob_cbtm\",\n",
        "                                                                  \"pred_cbtm\",\n",
        "                                                                  target_class, target_regre),\n",
        "                                                    [(0, 1),(-100, 500),(0, 1),(0, 1)])\n",
        "optimization_val_cbtm_new_v4_h"
      ],
      "execution_count": 0,
      "outputs": [
        {
          "output_type": "execute_result",
          "data": {
            "text/plain": [
              "     fun: -0.7502391338348389\n",
              " message: 'Optimization terminated successfully.'\n",
              "    nfev: 1025\n",
              "     nit: 16\n",
              " success: True\n",
              "       x: array([0.43383366, 3.76116376, 0.84782059, 0.10868523])"
            ]
          },
          "metadata": {
            "tags": []
          },
          "execution_count": 137
        }
      ]
    },
    {
      "cell_type": "code",
      "metadata": {
        "id": "b5yy9S8KlRaA",
        "colab_type": "code",
        "outputId": "760001ca-7c1b-4b9d-98f3-c1e85ee89159",
        "colab": {
          "base_uri": "https://localhost:8080/",
          "height": 119
        }
      },
      "source": [
        "optimization_val_cbtm_new_v4_h = differential_evolution(lambda x: cost_v4(df_val_opt_wic_h,\n",
        "                                                                  x,\n",
        "                                                                  \"adqui_prob_cbtm\",\n",
        "                                                                  \"renta_prob_cbtm\",\n",
        "                                                                  \"pred_cbtm\",\n",
        "                                                                  target_class, target_regre),\n",
        "                                                    [(0, 0.04),(0, 20),(0, 1),(0, 1)])\n",
        "optimization_val_cbtm_new_v4_h"
      ],
      "execution_count": 0,
      "outputs": [
        {
          "output_type": "execute_result",
          "data": {
            "text/plain": [
              "     fun: -0.7500177621841431\n",
              " message: 'Optimization terminated successfully.'\n",
              "    nfev: 425\n",
              "     nit: 6\n",
              " success: True\n",
              "       x: array([0.00446437, 3.73240934, 0.02310338, 0.52764056])"
            ]
          },
          "metadata": {
            "tags": []
          },
          "execution_count": 116
        }
      ]
    },
    {
      "cell_type": "code",
      "metadata": {
        "id": "n5cTEZq4nQkV",
        "colab_type": "code",
        "outputId": "e1353660-9bd0-4aaa-a334-c7e681ce1a04",
        "colab": {
          "base_uri": "https://localhost:8080/",
          "height": 119
        }
      },
      "source": [
        "optimization_val_cbtm_new_v4_h = differential_evolution(lambda x: cost_v4(df_val_opt_wic_h,\n",
        "                                                                  x,\n",
        "                                                                  \"adqui_prob_cbtm\",\n",
        "                                                                  \"renta_prob_cbtm\",\n",
        "                                                                  \"pred_cbtm\",\n",
        "                                                                  target_class, target_regre),\n",
        "                                                    [(0, 1),(-100, 500),(0, 1),(0, 1)])\n",
        "optimization_val_cbtm_new_v4_h"
      ],
      "execution_count": 0,
      "outputs": [
        {
          "output_type": "execute_result",
          "data": {
            "text/plain": [
              "     fun: -0.7502955794334412\n",
              " message: 'Optimization terminated successfully.'\n",
              "    nfev: 1265\n",
              "     nit: 20\n",
              " success: True\n",
              "       x: array([0.80773249, 3.75354976, 0.32271108, 0.0307388 ])"
            ]
          },
          "metadata": {
            "tags": []
          },
          "execution_count": 129
        }
      ]
    },
    {
      "cell_type": "code",
      "metadata": {
        "id": "YKUNW4Kynq-i",
        "colab_type": "code",
        "outputId": "341b00b7-4c6c-4373-ae92-b8e8f95fbfbc",
        "colab": {
          "base_uri": "https://localhost:8080/",
          "height": 119
        }
      },
      "source": [
        "optimization_val_cbtm_new_v4 = differential_evolution(lambda x: cost_v4(df_val_opt_wic,\n",
        "                                                                  x,\n",
        "                                                                  \"adqui_prob_cbtm\",\n",
        "                                                                  \"renta_prob_cbtm\",\n",
        "                                                                  \"pred_cbtm\",\n",
        "                                                                  target_class, target_regre),\n",
        "                                                    [(0.4, 0.45),(50, 70),(0.4, 0.5),(0, 0.1)])\n",
        "optimization_val_cbtm_new_v4"
      ],
      "execution_count": 0,
      "outputs": [
        {
          "output_type": "execute_result",
          "data": {
            "text/plain": [
              "     fun: -0.3347477912902832\n",
              " message: 'Optimization terminated successfully.'\n",
              "    nfev: 725\n",
              "     nit: 11\n",
              " success: True\n",
              "       x: array([4.00470007e-01, 5.00426651e+01, 4.39207321e-01, 1.49516098e-03])"
            ]
          },
          "metadata": {
            "tags": []
          },
          "execution_count": 113
        }
      ]
    },
    {
      "cell_type": "code",
      "metadata": {
        "id": "ky1Awg9vrgO5",
        "colab_type": "code",
        "colab": {}
      },
      "source": [
        "optimization_val_cbtm_new_v4 = differential_evolution(lambda x: cost_v4(df_val_opt_wic,\n",
        "                                                                  x,\n",
        "                                                                  \"adqui_prob_cbtm\",\n",
        "                                                                  \"renta_prob_cbtm\",\n",
        "                                                                  \"pred_cbtm\",\n",
        "                                                                  target_class, target_regre),\n",
        "                                                    [(0, 1),(-100, 500),(0,1),(0, 1)])\n",
        "optimization_val_cbtm_new_v4"
      ],
      "execution_count": 0,
      "outputs": []
    },
    {
      "cell_type": "code",
      "metadata": {
        "id": "gIrIbp3Vs_mv",
        "colab_type": "code",
        "colab": {}
      },
      "source": [
        "[(0, 0.5),(0, 10),(0.5,1),(0, 1)])"
      ],
      "execution_count": 0,
      "outputs": []
    },
    {
      "cell_type": "code",
      "metadata": {
        "id": "TaPqc5Gjsn31",
        "colab_type": "code",
        "colab": {}
      },
      "source": [
        "optimization_val_cbtm_new_v4 = differential_evolution(lambda x: cost_v4(df_val_opt_woc,\n",
        "                                                                  x,\n",
        "                                                                  \"adqui_prob_cbtm\",\n",
        "                                                                  \"renta_prob_cbtm\",\n",
        "                                                                  \"pred_cbtm\",\n",
        "                                                                  target_class, target_regre),\n",
        "                                                    [(0, 1),(-100, 500),(0,1),(0, 1)])\n",
        "optimization_val_cbtm_new_v4"
      ],
      "execution_count": 0,
      "outputs": []
    },
    {
      "cell_type": "code",
      "metadata": {
        "id": "Kg4AdCihsnyw",
        "colab_type": "code",
        "colab": {}
      },
      "source": [
        ""
      ],
      "execution_count": 0,
      "outputs": []
    },
    {
      "cell_type": "code",
      "metadata": {
        "id": "cFcXbMSOo0P4",
        "colab_type": "code",
        "colab": {}
      },
      "source": [
        "df_val_opt_wic[\"class_predict\"] = clasificar_v4(df_val_opt_wic, optimization_val_cbtm_new_v4[\"x\"], \"adqui_prob_cbtm\", \"renta_prob_cbtm\", \"pred_cbtm\").astype(int)"
      ],
      "execution_count": 0,
      "outputs": []
    },
    {
      "cell_type": "code",
      "metadata": {
        "id": "F-Edx5RgooT5",
        "colab_type": "code",
        "colab": {}
      },
      "source": [
        "del df_val_opt_wic[\"class_adqui\"]\n",
        "del df_val_opt_wic[\"class_offer\"]"
      ],
      "execution_count": 0,
      "outputs": []
    },
    {
      "cell_type": "code",
      "metadata": {
        "id": "j7Q6t71mpKTU",
        "colab_type": "code",
        "outputId": "a49b7378-c684-4079-d37c-b9672332077c",
        "colab": {
          "base_uri": "https://localhost:8080/",
          "height": 204
        }
      },
      "source": [
        "df_val_opt_wic.head()"
      ],
      "execution_count": 0,
      "outputs": [
        {
          "output_type": "execute_result",
          "data": {
            "text/html": [
              "<div>\n",
              "<style scoped>\n",
              "    .dataframe tbody tr th:only-of-type {\n",
              "        vertical-align: middle;\n",
              "    }\n",
              "\n",
              "    .dataframe tbody tr th {\n",
              "        vertical-align: top;\n",
              "    }\n",
              "\n",
              "    .dataframe thead th {\n",
              "        text-align: right;\n",
              "    }\n",
              "</style>\n",
              "<table border=\"1\" class=\"dataframe\">\n",
              "  <thead>\n",
              "    <tr style=\"text-align: right;\">\n",
              "      <th></th>\n",
              "      <th>prediction_id</th>\n",
              "      <th>codtarget</th>\n",
              "      <th>adqui_prob_cbtm</th>\n",
              "      <th>new_target</th>\n",
              "      <th>renta_prob_cbtm</th>\n",
              "      <th>margen</th>\n",
              "      <th>pred_cbtm</th>\n",
              "    </tr>\n",
              "  </thead>\n",
              "  <tbody>\n",
              "    <tr>\n",
              "      <th>0</th>\n",
              "      <td>165747_201901</td>\n",
              "      <td>0.0</td>\n",
              "      <td>0.009868</td>\n",
              "      <td>0.0</td>\n",
              "      <td>0.543477</td>\n",
              "      <td>-5.00000</td>\n",
              "      <td>3.912806</td>\n",
              "    </tr>\n",
              "    <tr>\n",
              "      <th>1</th>\n",
              "      <td>65751_201901</td>\n",
              "      <td>1.0</td>\n",
              "      <td>0.279016</td>\n",
              "      <td>1.0</td>\n",
              "      <td>0.715803</td>\n",
              "      <td>342.98999</td>\n",
              "      <td>266.003885</td>\n",
              "    </tr>\n",
              "    <tr>\n",
              "      <th>2</th>\n",
              "      <td>58047_201901</td>\n",
              "      <td>0.0</td>\n",
              "      <td>0.036175</td>\n",
              "      <td>0.0</td>\n",
              "      <td>0.204742</td>\n",
              "      <td>-5.00000</td>\n",
              "      <td>-3.028581</td>\n",
              "    </tr>\n",
              "    <tr>\n",
              "      <th>3</th>\n",
              "      <td>113221_201901</td>\n",
              "      <td>0.0</td>\n",
              "      <td>0.156156</td>\n",
              "      <td>0.0</td>\n",
              "      <td>0.755409</td>\n",
              "      <td>-5.00000</td>\n",
              "      <td>98.321962</td>\n",
              "    </tr>\n",
              "    <tr>\n",
              "      <th>4</th>\n",
              "      <td>142634_201901</td>\n",
              "      <td>0.0</td>\n",
              "      <td>0.143672</td>\n",
              "      <td>0.0</td>\n",
              "      <td>0.530932</td>\n",
              "      <td>-5.00000</td>\n",
              "      <td>161.989300</td>\n",
              "    </tr>\n",
              "  </tbody>\n",
              "</table>\n",
              "</div>"
            ],
            "text/plain": [
              "   prediction_id  codtarget  ...     margen   pred_cbtm\n",
              "0  165747_201901        0.0  ...   -5.00000    3.912806\n",
              "1   65751_201901        1.0  ...  342.98999  266.003885\n",
              "2   58047_201901        0.0  ...   -5.00000   -3.028581\n",
              "3  113221_201901        0.0  ...   -5.00000   98.321962\n",
              "4  142634_201901        0.0  ...   -5.00000  161.989300\n",
              "\n",
              "[5 rows x 7 columns]"
            ]
          },
          "metadata": {
            "tags": []
          },
          "execution_count": 66
        }
      ]
    },
    {
      "cell_type": "code",
      "metadata": {
        "id": "wsL6KFjLpKOd",
        "colab_type": "code",
        "colab": {}
      },
      "source": [
        "df_val_opt_wic.loc[(df_val_opt_wic[\"class_predict\"] == 0) & (df_val_opt_wic[\"new_target\"] == 1)]"
      ],
      "execution_count": 0,
      "outputs": []
    },
    {
      "cell_type": "code",
      "metadata": {
        "id": "R4V9Vdi0ooOx",
        "colab_type": "code",
        "colab": {}
      },
      "source": [
        ""
      ],
      "execution_count": 0,
      "outputs": []
    },
    {
      "cell_type": "code",
      "metadata": {
        "id": "4-7b3PDZn1bg",
        "colab_type": "code",
        "colab": {}
      },
      "source": [
        ""
      ],
      "execution_count": 0,
      "outputs": []
    },
    {
      "cell_type": "code",
      "metadata": {
        "id": "hbo9LpCHOBEo",
        "colab_type": "code",
        "colab": {}
      },
      "source": [
        "optimization_val_cbtm_new_v4_woc = differential_evolution(lambda x: cost_v4(df_val_opt_woc,\n",
        "                                                                  x,\n",
        "                                                                  \"adqui_prob_cbtm\",\n",
        "                                                                  \"renta_prob_cbtm\",\n",
        "                                                                  \"pred_cbtm\",\n",
        "                                                                  target_class, target_regre),\n",
        "                                                    [(0, 1),(0, 100),(0, 1),(0, 2)])\n",
        "optimization_val_cbtm_new_v4_woc"
      ],
      "execution_count": 0,
      "outputs": []
    },
    {
      "cell_type": "code",
      "metadata": {
        "id": "RjREiTCh12C4",
        "colab_type": "code",
        "colab": {}
      },
      "source": [
        "def offer_product(res, c, prob_col_contact):\n",
        "    return (res[prob_col_contact]) > c\n",
        "\n",
        "def clasificar_v5(res, c, prob_col_contact, prob_col, pred_col):\n",
        "    return (((offer_product(res, c[4], prob_col_contact) * res[prob_col]) > c[0]) | ((offer_product(res, c[4], prob_col_contact) * res[pred_col]) > c[1])) * c[2] + \\\n",
        "            (((offer_product(res, c[4], prob_col_contact) * res[prob_col]) > c[0]) & ((offer_product(res, c[4], prob_col_contact) * res[pred_col]) > c[1])) * (1 - c[2]) > c[3]\n",
        "\n",
        "def cost_v5(res, coefs, prob_col_contact, prob_col_renta, pred_col, target_class, target_regre):\n",
        "    return -((clasificar_v5(res, coefs, prob_col_contact, prob_col_renta, pred_col) * res[target_regre]).sum() / (res[target_class] * res[target_regre]).sum())"
      ],
      "execution_count": 0,
      "outputs": []
    },
    {
      "cell_type": "code",
      "metadata": {
        "id": "xU8Wgq3ASdFV",
        "colab_type": "code",
        "colab": {}
      },
      "source": [
        "optimization_val_cbtm_new_v5 = differential_evolution(lambda x: cost_v5(df_val_opt_wic,\n",
        "                                                                  x,\n",
        "                                                                  \"adqui_prob_cbtm\",\n",
        "                                                                  \"renta_prob_cbtm\",\n",
        "                                                                  \"pred_cbtm\",\n",
        "                                                                  target_class, target_regre),\n",
        "                                                    [(0, 1),(0, 100),(0, 1),(0, 2),(0, 1)])\n",
        "optimization_val_cbtm_new_v5"
      ],
      "execution_count": 0,
      "outputs": []
    },
    {
      "cell_type": "code",
      "metadata": {
        "id": "1LwUdKQvOA-v",
        "colab_type": "code",
        "colab": {}
      },
      "source": [
        "clasificar_v5(df_val_opt_wic, optimization_val_cbtm_new_v3[\"x\"], \"adqui_prob_cbtm\", \"renta_prob_cbtm\", \"pred_cbtm\").astype(int).value_counts(normalize=True, dropna=False)"
      ],
      "execution_count": 0,
      "outputs": []
    },
    {
      "cell_type": "code",
      "metadata": {
        "id": "jg-picSYOA5X",
        "colab_type": "code",
        "colab": {}
      },
      "source": [
        "def clasificar_v6(res, c, prob_col_contact, prob_col, pred_col):\n",
        "    return res[prob_col_contact] * (((res[prob_col] > c[0]) | (res[pred_col] > c[1])) * c[2] + ((res[prob_col] > c[3]) & (res[pred_col] > c[4])) * c[5]) > c[6]\n",
        "\n",
        "def cost_v6(res, coefs, prob_col_contact, prob_col_renta, pred_col, target_class, target_regre):\n",
        "    res[\"class_opt\"] = clasificar_v6(res, coefs, prob_col_contact, prob_col_renta, pred_col)\n",
        "    \n",
        "    res_success = res.loc[(res[\"class_opt\"] == 1) & (res[target_class] == 1)].reset_index(drop=True)\n",
        "    rentability_sum = (res_success[target_regre]).sum()\n",
        "\n",
        "    res_fail = res.loc[(res[\"class_opt\"] == 1) & (res[target_class] == 0)].reset_index(drop=True)\n",
        "    rentability_loss = (res_fail[target_regre]).sum()\n",
        "\n",
        "    rentability_perfect = (res[target_class] * res[target_regre]).sum()\n",
        "\n",
        "\n",
        "    return -((rentability_sum + rentability_loss)/ rentability_perfect)"
      ],
      "execution_count": 0,
      "outputs": []
    },
    {
      "cell_type": "code",
      "metadata": {
        "id": "sVFjKmQoFsYB",
        "colab_type": "code",
        "colab": {}
      },
      "source": [
        "optimization_val_cbtm_new_v6 = differential_evolution(lambda x: cost_v6(df_val_opt_wic,\n",
        "                                                                  x,\n",
        "                                                                  \"adqui_prob_cbtm\",\n",
        "                                                                  \"renta_prob_cbtm\",\n",
        "                                                                  \"pred_cbtm\",\n",
        "                                                                  target_class, target_regre),\n",
        "                                                    [(0, 1),(-100, 500),(0, 1),(0, 1),(-100, 500),(0, 1),(0, 2)])\n",
        "optimization_val_cbtm_new_v6"
      ],
      "execution_count": 0,
      "outputs": []
    },
    {
      "cell_type": "code",
      "metadata": {
        "id": "792fbsdAa8ev",
        "colab_type": "code",
        "colab": {}
      },
      "source": [
        "df_val_opt_wic.head()"
      ],
      "execution_count": 0,
      "outputs": []
    },
    {
      "cell_type": "code",
      "metadata": {
        "id": "3bBjD2A_bRMO",
        "colab_type": "code",
        "colab": {}
      },
      "source": [
        "df_val_opt_wic[\"class_opt\"].value_counts()"
      ],
      "execution_count": 0,
      "outputs": []
    },
    {
      "cell_type": "code",
      "metadata": {
        "id": "qLsST8XIDCEY",
        "colab_type": "code",
        "colab": {}
      },
      "source": [
        "clasificar_v6(df_val_opt_wic, optimization_val_cbtm_new_v6[\"x\"], \"adqui_prob_cbtm\", \"renta_prob_cbtm\", \"pred_cbtm\").astype(int).value_counts(normalize=True, dropna=False)"
      ],
      "execution_count": 0,
      "outputs": []
    },
    {
      "cell_type": "code",
      "metadata": {
        "id": "5PCHs35JtQ2B",
        "colab_type": "code",
        "colab": {}
      },
      "source": [
        "clasificar_v6(df_test_opt_wic, optimization_val_cbtm_new_v6[\"x\"], \"adqui_prob_cbtm\", \"renta_prob_cbtm\", \"pred_cbtm\").astype(int).value_counts(normalize=True, dropna=False)"
      ],
      "execution_count": 0,
      "outputs": []
    },
    {
      "cell_type": "code",
      "metadata": {
        "id": "h9QNHB8BdIxg",
        "colab_type": "code",
        "colab": {}
      },
      "source": [
        "def clasificar_adqui(res, prob_col_contact, c):\n",
        "    return (res[prob_col_contact] > c)\n",
        "\n",
        "def clasificar_v7(res, c, prob_col_contact, prob_col, pred_col):\n",
        "    res[\"class_adqui\"] = clasificar_adqui(res, prob_col_contact, c[7])\n",
        "    res[\"class_offer\"] = ((res[prob_col] > c[0]) | (res[pred_col] > c[1])) * c[2] + ((res[prob_col] > c[3]) & (res[pred_col] > c[4])) * c[5] > c[6]\n",
        "    \n",
        "    res.loc[res[\"class_adqui\"] == 0, \"class_offer\"] = 0\n",
        "    return res[\"class_offer\"]\n",
        "\n",
        "def cost_v7(res, coefs, prob_col_contact, prob_col_renta, pred_col, target_class, target_regre):\n",
        "    rentability_perfect = (res[target_class] * res[target_regre]).sum()\n",
        "    return -((clasificar_v7(res, coefs, prob_col_contact, prob_col_renta, pred_col) * res[target_regre]).sum() / rentability_perfect)"
      ],
      "execution_count": 0,
      "outputs": []
    },
    {
      "cell_type": "code",
      "metadata": {
        "id": "wN7P1M3UfuHq",
        "colab_type": "code",
        "colab": {}
      },
      "source": [
        "optimization_val_cbtm_new_v7 = differential_evolution(lambda x: cost_v7(df_val_opt_wic,\n",
        "                                                                  x,\n",
        "                                                                  \"adqui_prob_cbtm\",\n",
        "                                                                  \"renta_prob_cbtm\",\n",
        "                                                                  \"pred_cbtm\",\n",
        "                                                                  target_class, target_regre),\n",
        "                                                    [(0, 1),(-100, 500),(0, 1),(0, 1),(-100, 500),(0, 1),(0, 2), (0, 0.5)])\n",
        "optimization_val_cbtm_new_v7"
      ],
      "execution_count": 0,
      "outputs": []
    },
    {
      "cell_type": "code",
      "metadata": {
        "id": "s01M59Q5j37T",
        "colab_type": "code",
        "colab": {}
      },
      "source": [
        "clasificar_v7(df_val_opt_wic, optimization_val_cbtm_new_v6[\"x\"], \"adqui_prob_cbtm\", \"renta_prob_cbtm\", \"pred_cbtm\").astype(int).value_counts(normalize=True, dropna=False)"
      ],
      "execution_count": 0,
      "outputs": []
    },
    {
      "cell_type": "code",
      "metadata": {
        "id": "TCsPAGVXhKei",
        "colab_type": "code",
        "colab": {}
      },
      "source": [
        "df_val_opt_wic.loc[df_val_opt_wic[\"adqui_prob_cbtm\"] > 0.0692059702]"
      ],
      "execution_count": 0,
      "outputs": []
    },
    {
      "cell_type": "code",
      "metadata": {
        "id": "b15woaKCjHtJ",
        "colab_type": "code",
        "colab": {}
      },
      "source": [
        "df_val_opt_wic[\"adqui_prob_cbtm\"].describe()"
      ],
      "execution_count": 0,
      "outputs": []
    },
    {
      "cell_type": "code",
      "metadata": {
        "id": "DnKZwiqwhKJ5",
        "colab_type": "code",
        "colab": {}
      },
      "source": [
        "df_val_opt_wic.head()"
      ],
      "execution_count": 0,
      "outputs": []
    },
    {
      "cell_type": "code",
      "metadata": {
        "id": "591bbcLQgiaE",
        "colab_type": "code",
        "colab": {}
      },
      "source": [
        "optimization_val_cbtm_new_v7_woc = differential_evolution(lambda x: cost_v7(df_val_opt_woc,\n",
        "                                                                  x,\n",
        "                                                                  \"adqui_prob_cbtm\",\n",
        "                                                                  \"renta_prob_cbtm\",\n",
        "                                                                  \"pred_cbtm\",\n",
        "                                                                  target_class, target_regre),\n",
        "                                                    [(0, 1),(-100, 500),(0, 1),(0, 1),(-100, 500),(0, 1),(0, 2), (0, 1)])\n",
        "optimization_val_cbtm_new_v7_woc"
      ],
      "execution_count": 0,
      "outputs": []
    },
    {
      "cell_type": "code",
      "metadata": {
        "id": "NgFlQtTIft5G",
        "colab_type": "code",
        "colab": {}
      },
      "source": [
        ""
      ],
      "execution_count": 0,
      "outputs": []
    },
    {
      "cell_type": "code",
      "metadata": {
        "id": "2zHtvzzGdIr2",
        "colab_type": "code",
        "colab": {}
      },
      "source": [
        "df_val_opt_wic.head()"
      ],
      "execution_count": 0,
      "outputs": []
    },
    {
      "cell_type": "code",
      "metadata": {
        "id": "apMGyAWwakLf",
        "colab_type": "code",
        "colab": {}
      },
      "source": [
        "pd.pivot_table(df_val_opt_wic, index=\"codtarget\", columns=\"new_target\", values=\"prediction_id\", aggfunc=\"count\")"
      ],
      "execution_count": 0,
      "outputs": []
    },
    {
      "cell_type": "code",
      "metadata": {
        "id": "RFRy7YYKakJa",
        "colab_type": "code",
        "colab": {}
      },
      "source": [
        "(df_val_opt_wic[\"margen\"] * df_val_opt_wic[\"new_target\"]).sum()"
      ],
      "execution_count": 0,
      "outputs": []
    },
    {
      "cell_type": "code",
      "metadata": {
        "id": "txYtsOtAeBwe",
        "colab_type": "code",
        "colab": {}
      },
      "source": [
        "(df_val_opt_wic.loc[df_val_opt_wic[\"codtarget\"] == 1, \"margen\"].reset_index(drop=True) * df_val_opt_wic.loc[df_val_opt_wic[\"codtarget\"] == 1, \"new_target\"].reset_index(drop=True)).sum()"
      ],
      "execution_count": 0,
      "outputs": []
    },
    {
      "cell_type": "code",
      "metadata": {
        "id": "uI7YIXgu9_bf",
        "colab_type": "code",
        "colab": {}
      },
      "source": [
        ""
      ],
      "execution_count": 0,
      "outputs": []
    },
    {
      "cell_type": "code",
      "metadata": {
        "id": "PjZ5qQA6UJwU",
        "colab_type": "code",
        "colab": {}
      },
      "source": [
        "df_test_opt_wic[\"class\"] = clasificar_v4(df_test_opt_wic, optimization_val_cbtm_new_v4[\"x\"], \"adqui_prob_cbtm\", \"renta_prob_cbtm\", \"pred_cbtm\").astype(int)"
      ],
      "execution_count": 0,
      "outputs": []
    },
    {
      "cell_type": "code",
      "metadata": {
        "id": "LZhCHJ-hURPm",
        "colab_type": "code",
        "outputId": "409e544a-608e-4fe1-a714-35693b2703f2",
        "colab": {
          "base_uri": "https://localhost:8080/",
          "height": 68
        }
      },
      "source": [
        "df_test_opt_wic[\"class\"].value_counts(normalize=True)"
      ],
      "execution_count": 0,
      "outputs": [
        {
          "output_type": "execute_result",
          "data": {
            "text/plain": [
              "0    0.560797\n",
              "1    0.439203\n",
              "Name: class, dtype: float64"
            ]
          },
          "metadata": {
            "tags": []
          },
          "execution_count": 72
        }
      ]
    },
    {
      "cell_type": "code",
      "metadata": {
        "id": "Q5lmU139XM9q",
        "colab_type": "code",
        "colab": {}
      },
      "source": [
        "df_test_opt_wic_h[\"class\"] = clasificar_v4(df_test_opt_wic_h, optimization_val_cbtm_new_v4_h[\"x\"], \"adqui_prob_cbtm\", \"renta_prob_cbtm\", \"pred_cbtm\").astype(int)"
      ],
      "execution_count": 0,
      "outputs": []
    },
    {
      "cell_type": "code",
      "metadata": {
        "id": "a6rcChwvNUy3",
        "colab_type": "code",
        "outputId": "226aa1c6-00ca-4328-a971-a24339d1794b",
        "colab": {
          "base_uri": "https://localhost:8080/",
          "height": 34
        }
      },
      "source": [
        "df_test_opt_wic_h.shape"
      ],
      "execution_count": 0,
      "outputs": [
        {
          "output_type": "execute_result",
          "data": {
            "text/plain": [
              "(142616, 5)"
            ]
          },
          "metadata": {
            "tags": []
          },
          "execution_count": 78
        }
      ]
    },
    {
      "cell_type": "code",
      "metadata": {
        "id": "jgTauQZyNg35",
        "colab_type": "code",
        "colab": {}
      },
      "source": [
        "complement_test = pd.DataFrame({\"prediction_id\": list_leakage_id, \"class\": 0})"
      ],
      "execution_count": 0,
      "outputs": []
    },
    {
      "cell_type": "code",
      "metadata": {
        "id": "UmjMcBn4ODKg",
        "colab_type": "code",
        "colab": {}
      },
      "source": [
        "submit_milagroso = pd.concat([df_test_opt_wic_h[[\"prediction_id\", \"class\"]], complement_test]).reset_index(drop=True)"
      ],
      "execution_count": 0,
      "outputs": []
    },
    {
      "cell_type": "code",
      "metadata": {
        "id": "mG2sHgPoOz06",
        "colab_type": "code",
        "outputId": "f88d0d1f-f6e4-474a-bfdb-ba94a29f8c80",
        "colab": {
          "base_uri": "https://localhost:8080/",
          "height": 68
        }
      },
      "source": [
        "submit_milagroso[\"class\"].value_counts(normalize=True, dropna=False)"
      ],
      "execution_count": 0,
      "outputs": [
        {
          "output_type": "execute_result",
          "data": {
            "text/plain": [
              "0    0.776439\n",
              "1    0.223561\n",
              "Name: class, dtype: float64"
            ]
          },
          "metadata": {
            "tags": []
          },
          "execution_count": 88
        }
      ]
    },
    {
      "cell_type": "code",
      "metadata": {
        "id": "rm9ZIfHxO4rN",
        "colab_type": "code",
        "colab": {}
      },
      "source": [
        "submit_milagroso[[\"prediction_id\", \"class\"]].to_csv('baseline.csv', index=False)"
      ],
      "execution_count": 0,
      "outputs": []
    },
    {
      "cell_type": "code",
      "metadata": {
        "id": "JBzBcyYvOC_K",
        "colab_type": "code",
        "outputId": "7572dc5a-5ab7-4552-c9ec-3d788bf71328",
        "colab": {
          "base_uri": "https://localhost:8080/",
          "height": 34
        }
      },
      "source": [
        "df_test_opt_wic_h.shape"
      ],
      "execution_count": 0,
      "outputs": [
        {
          "output_type": "execute_result",
          "data": {
            "text/plain": [
              "(142616, 5)"
            ]
          },
          "metadata": {
            "tags": []
          },
          "execution_count": 84
        }
      ]
    },
    {
      "cell_type": "code",
      "metadata": {
        "id": "oHzicKetOlx7",
        "colab_type": "code",
        "outputId": "dc7caee9-955e-4811-e387-af363fdc447f",
        "colab": {
          "base_uri": "https://localhost:8080/",
          "height": 34
        }
      },
      "source": [
        "df_base_all.loc[df_base_all[\"codmes\"].isin([201905, 201906, 201907])].shape"
      ],
      "execution_count": 0,
      "outputs": [
        {
          "output_type": "execute_result",
          "data": {
            "text/plain": [
              "(178685, 16)"
            ]
          },
          "metadata": {
            "tags": []
          },
          "execution_count": 85
        }
      ]
    },
    {
      "cell_type": "code",
      "metadata": {
        "id": "9SQ-_S6YNXSU",
        "colab_type": "code",
        "outputId": "f168c88b-954e-46f5-dfcf-2f82e66bf339",
        "colab": {
          "base_uri": "https://localhost:8080/",
          "height": 204
        }
      },
      "source": [
        "df_test_opt_wic_h.head()"
      ],
      "execution_count": 0,
      "outputs": [
        {
          "output_type": "execute_result",
          "data": {
            "text/html": [
              "<div>\n",
              "<style scoped>\n",
              "    .dataframe tbody tr th:only-of-type {\n",
              "        vertical-align: middle;\n",
              "    }\n",
              "\n",
              "    .dataframe tbody tr th {\n",
              "        vertical-align: top;\n",
              "    }\n",
              "\n",
              "    .dataframe thead th {\n",
              "        text-align: right;\n",
              "    }\n",
              "</style>\n",
              "<table border=\"1\" class=\"dataframe\">\n",
              "  <thead>\n",
              "    <tr style=\"text-align: right;\">\n",
              "      <th></th>\n",
              "      <th>prediction_id</th>\n",
              "      <th>adqui_prob_cbtm</th>\n",
              "      <th>renta_prob_cbtm</th>\n",
              "      <th>pred_cbtm</th>\n",
              "      <th>class</th>\n",
              "    </tr>\n",
              "  </thead>\n",
              "  <tbody>\n",
              "    <tr>\n",
              "      <th>0</th>\n",
              "      <td>211794_201905</td>\n",
              "      <td>0.029452</td>\n",
              "      <td>0.638486</td>\n",
              "      <td>78.400945</td>\n",
              "      <td>0</td>\n",
              "    </tr>\n",
              "    <tr>\n",
              "      <th>1</th>\n",
              "      <td>140704_201905</td>\n",
              "      <td>0.165230</td>\n",
              "      <td>0.703646</td>\n",
              "      <td>50.620426</td>\n",
              "      <td>1</td>\n",
              "    </tr>\n",
              "    <tr>\n",
              "      <th>2</th>\n",
              "      <td>80734_201905</td>\n",
              "      <td>0.025866</td>\n",
              "      <td>0.650901</td>\n",
              "      <td>52.621511</td>\n",
              "      <td>0</td>\n",
              "    </tr>\n",
              "    <tr>\n",
              "      <th>3</th>\n",
              "      <td>20181_201905</td>\n",
              "      <td>0.025130</td>\n",
              "      <td>0.622966</td>\n",
              "      <td>232.224685</td>\n",
              "      <td>1</td>\n",
              "    </tr>\n",
              "    <tr>\n",
              "      <th>4</th>\n",
              "      <td>69634_201905</td>\n",
              "      <td>0.036385</td>\n",
              "      <td>0.466578</td>\n",
              "      <td>37.145181</td>\n",
              "      <td>0</td>\n",
              "    </tr>\n",
              "  </tbody>\n",
              "</table>\n",
              "</div>"
            ],
            "text/plain": [
              "   prediction_id  adqui_prob_cbtm  renta_prob_cbtm   pred_cbtm  class\n",
              "0  211794_201905         0.029452         0.638486   78.400945      0\n",
              "1  140704_201905         0.165230         0.703646   50.620426      1\n",
              "2   80734_201905         0.025866         0.650901   52.621511      0\n",
              "3   20181_201905         0.025130         0.622966  232.224685      1\n",
              "4   69634_201905         0.036385         0.466578   37.145181      0"
            ]
          },
          "metadata": {
            "tags": []
          },
          "execution_count": 80
        }
      ]
    },
    {
      "cell_type": "code",
      "metadata": {
        "id": "OuM1IP8KeaSu",
        "colab_type": "code",
        "outputId": "3bb6caa3-361a-4754-95e1-8772aaab369e",
        "colab": {
          "base_uri": "https://localhost:8080/",
          "height": 68
        }
      },
      "source": [
        "df_test_opt_wic_h[\"class\"].value_counts(normalize=True)"
      ],
      "execution_count": 0,
      "outputs": [
        {
          "output_type": "execute_result",
          "data": {
            "text/plain": [
              "0    0.719898\n",
              "1    0.280102\n",
              "Name: class, dtype: float64"
            ]
          },
          "metadata": {
            "tags": []
          },
          "execution_count": 79
        }
      ]
    },
    {
      "cell_type": "code",
      "metadata": {
        "id": "2p5HhzqzndHN",
        "colab_type": "code",
        "colab": {}
      },
      "source": [
        "df_test_opt_wic_h[\"class\"] = clasificar_v4(df_test_opt_wic_h, optimization_val_cbtm_new_v4_h[\"x\"], \"adqui_prob_cbtm\", \"renta_prob_cbtm\", \"pred_cbtm\").astype(int)"
      ],
      "execution_count": 0,
      "outputs": []
    },
    {
      "cell_type": "code",
      "metadata": {
        "id": "pzNQxAvKndCQ",
        "colab_type": "code",
        "outputId": "6a9971ea-a354-42cb-9958-74c2b498a8d0",
        "colab": {
          "base_uri": "https://localhost:8080/",
          "height": 68
        }
      },
      "source": [
        "df_test_opt_wic_h[\"class\"].value_counts(normalize=True)"
      ],
      "execution_count": 0,
      "outputs": [
        {
          "output_type": "execute_result",
          "data": {
            "text/plain": [
              "0    0.589479\n",
              "1    0.410521\n",
              "Name: class, dtype: float64"
            ]
          },
          "metadata": {
            "tags": []
          },
          "execution_count": 131
        }
      ]
    },
    {
      "cell_type": "code",
      "metadata": {
        "id": "nA7nR2kWXM0S",
        "colab_type": "code",
        "outputId": "282a38a3-8fca-43f3-cf8a-d952dcbf37f4",
        "colab": {
          "base_uri": "https://localhost:8080/",
          "height": 68
        }
      },
      "source": [
        "df_test_opt_wic_h[\"class\"].value_counts(normalize=True)"
      ],
      "execution_count": 0,
      "outputs": [
        {
          "output_type": "execute_result",
          "data": {
            "text/plain": [
              "0    0.572958\n",
              "1    0.427042\n",
              "Name: class, dtype: float64"
            ]
          },
          "metadata": {
            "tags": []
          },
          "execution_count": 95
        }
      ]
    },
    {
      "cell_type": "code",
      "metadata": {
        "id": "_eC8eK6K4-GL",
        "colab_type": "code",
        "colab": {}
      },
      "source": [
        "df_test_opt_wic_h[[\"prediction_id\", \"class\"]].to_csv('submission_18.csv', index=False)"
      ],
      "execution_count": 0,
      "outputs": []
    },
    {
      "cell_type": "code",
      "metadata": {
        "id": "0TWYeofePmvi",
        "colab_type": "code",
        "colab": {}
      },
      "source": [
        "submission_20 = pd.read_csv(\"submission_20.csv\")"
      ],
      "execution_count": 0,
      "outputs": []
    },
    {
      "cell_type": "code",
      "metadata": {
        "id": "HpJIvb_hP6ql",
        "colab_type": "code",
        "outputId": "bc71a66a-eef8-4573-f32d-2120ab37526e",
        "colab": {
          "base_uri": "https://localhost:8080/",
          "height": 68
        }
      },
      "source": [
        "submission_20[\"class\"].value_counts(normalize=True)"
      ],
      "execution_count": 0,
      "outputs": [
        {
          "output_type": "execute_result",
          "data": {
            "text/plain": [
              "0    0.647922\n",
              "1    0.352078\n",
              "Name: class, dtype: float64"
            ]
          },
          "metadata": {
            "tags": []
          },
          "execution_count": 93
        }
      ]
    },
    {
      "cell_type": "markdown",
      "metadata": {
        "id": "pVW_2LW7xvZz",
        "colab_type": "text"
      },
      "source": [
        "Pessimistic: -0.36700522899627686\n",
        "\n",
        "Train Class CBTM: 0.722051739692688\n",
        "Val Class CBTM: 0.7226264476776123\n",
        "Train Class LGBM: 0.7186115980148315\n",
        "Val Class LGBM: 0.7239195704460144\n",
        "\n",
        "Train Old Class CBTM: 0.7212346792221069\n",
        "Val Old Class CBTM: 0.7263498306274414\n",
        "Train Old Class LGBM: 0.719330370426178\n",
        "Val Old Class LGBM: 0.7233311533927917"
      ]
    },
    {
      "cell_type": "code",
      "metadata": {
        "id": "jpmtNhT9z5JT",
        "colab_type": "code",
        "colab": {}
      },
      "source": [
        "df_predictores_ = pd.DataFrame({\"name\": predictores, \"importance_fold_0\": list_models_1[0][\"cbtm_class\"].get_feature_importance()})\n",
        "for i in range(1, 5):\n",
        "    print(i)\n",
        "    df_predictores_ = df_predictores_.merge(pd.DataFrame({\"name\": predictores, \"importance_fold_{0}\".format(i): list_models_1[i][\"cbtm_class\"].get_feature_importance()}), how=\"left\", on=\"name\")\n",
        "    df_predictores_[\"importance_folds_mean\"] = df_predictores_[[c for c in df_predictores_.columns if c not in [\"name\"]]].mean(axis=1)\n",
        "\n",
        "df_predictores_ = df_predictores_.sort_values(by=\"importance_folds_mean\", ascending=False).reset_index(drop=True)\n",
        "df_predictores_.head(20)"
      ],
      "execution_count": 0,
      "outputs": []
    }
  ]
}