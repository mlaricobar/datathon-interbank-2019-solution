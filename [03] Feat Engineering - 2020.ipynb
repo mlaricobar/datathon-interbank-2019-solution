{
  "nbformat": 4,
  "nbformat_minor": 0,
  "metadata": {
    "colab": {
      "name": "Welcome To Colaboratory",
      "provenance": [],
      "collapsed_sections": [],
      "include_colab_link": true
    },
    "kernelspec": {
      "display_name": "Python 3",
      "name": "python3"
    }
  },
  "cells": [
    {
      "cell_type": "markdown",
      "metadata": {
        "id": "view-in-github",
        "colab_type": "text"
      },
      "source": [
        "<a href=\"https://colab.research.google.com/github/mlaricobar/datathon-interbank-2019-solution/blob/master/%5B03%5D%20Feat%20Engineering%20-%202020.ipynb\" target=\"_parent\"><img src=\"https://colab.research.google.com/assets/colab-badge.svg\" alt=\"Open In Colab\"/></a>"
      ]
    },
    {
      "cell_type": "markdown",
      "metadata": {
        "id": "YxxJTgsCqdQn"
      },
      "source": [
        "# Feature Engineering"
      ]
    },
    {
      "cell_type": "code",
      "metadata": {
        "id": "VLUmnZDrqe0e"
      },
      "source": [
        "from google.colab import drive, files\n",
        "\n",
        "import pandas as pd\n",
        "\n",
        "from datetime import datetime\n",
        "from dateutil import relativedelta"
      ],
      "execution_count": 1,
      "outputs": []
    },
    {
      "cell_type": "code",
      "metadata": {
        "id": "If5QUE85qfhC",
        "outputId": "30fc88cc-6d24-4223-8f1d-61cdaf195d25",
        "colab": {
          "base_uri": "https://localhost:8080/"
        }
      },
      "source": [
        "drive.mount('/gdrive')"
      ],
      "execution_count": 2,
      "outputs": [
        {
          "output_type": "stream",
          "text": [
            "Mounted at /gdrive\n"
          ],
          "name": "stdout"
        }
      ]
    },
    {
      "cell_type": "code",
      "metadata": {
        "id": "oTaBGhKUqgoW",
        "outputId": "20cb86d1-73a0-4a87-e571-9a8d881d220f",
        "colab": {
          "base_uri": "https://localhost:8080/"
        }
      },
      "source": [
        "%cd /gdrive/'My Drive'/Competencias/'[02] Interbank-2020'\n",
        "!ls -lh '[00] Data'"
      ],
      "execution_count": 3,
      "outputs": [
        {
          "output_type": "stream",
          "text": [
            "/gdrive/My Drive/Competencias/[02] Interbank-2020\n",
            "total 5.1G\n",
            "-rw------- 1 root root 979M Dec 12 01:33 censo_test.csv\n",
            "-rw------- 1 root root 748M Dec 12 01:34 censo_train.csv\n",
            "-rw------- 1 root root  998 Dec 12 01:34 productos.csv\n",
            "-rw------- 1 root root 1.7G Dec 12 01:34 rcc_test.csv\n",
            "-rw------- 1 root root 1.4G Dec 12 01:35 rcc_train.csv\n",
            "-rw------- 1 root root 3.3M Dec 12 01:35 sample_submission.csv\n",
            "-rw------- 1 root root  30M Dec 12 01:35 se_test.csv\n",
            "-rw------- 1 root root  28M Dec 12 01:35 se_train.csv\n",
            "-rw------- 1 root root 122M Dec 12 01:35 sunat_test.csv\n",
            "-rw------- 1 root root 106M Dec 12 01:35 sunat_train.csv\n",
            "-rw------- 1 root root 3.0M Dec 12 01:35 y_train.csv\n"
          ],
          "name": "stdout"
        }
      ]
    },
    {
      "cell_type": "markdown",
      "metadata": {
        "id": "Q0ApGQ8SqwWW"
      },
      "source": [
        "## Dataset RCC"
      ]
    },
    {
      "cell_type": "code",
      "metadata": {
        "id": "XOPmAEl6q9MD"
      },
      "source": [
        "def optimizar_df(df):\n",
        "  \n",
        "  for col_ in df.select_dtypes(include=[int]).columns:\n",
        "    df[col_] = pd.to_numeric(df[col_], downcast=\"unsigned\")\n",
        "\n",
        "  for col_ in df.select_dtypes(include=[float]).columns:\n",
        "    df[col_] = pd.to_numeric(df[col_], downcast=\"float\")\n",
        "  \n",
        "  return df"
      ],
      "execution_count": 4,
      "outputs": []
    },
    {
      "cell_type": "code",
      "metadata": {
        "id": "hcaI9FoaqtHB"
      },
      "source": [
        "df_rcc_train = optimizar_df(pd.read_csv(\"[00] Data/rcc_train.csv\"))\n",
        "df_rcc_test = optimizar_df(pd.read_csv(\"[00] Data/rcc_test.csv\"))"
      ],
      "execution_count": 5,
      "outputs": []
    },
    {
      "cell_type": "code",
      "metadata": {
        "id": "XBcfsBr1rVbJ",
        "outputId": "00e05c55-f9f8-4020-d05d-acfc544193d1",
        "colab": {
          "base_uri": "https://localhost:8080/"
        }
      },
      "source": [
        "df_rcc_train.info(null_counts=True)"
      ],
      "execution_count": 6,
      "outputs": [
        {
          "output_type": "stream",
          "text": [
            "<class 'pandas.core.frame.DataFrame'>\n",
            "RangeIndex: 30391626 entries, 0 to 30391625\n",
            "Data columns (total 9 columns):\n",
            " #   Column                    Non-Null Count     Dtype  \n",
            "---  ------                    --------------     -----  \n",
            " 0   codmes                    30391626 non-null  uint32 \n",
            " 1   key_value                 30391626 non-null  uint32 \n",
            " 2   condicion                 30391626 non-null  uint16 \n",
            " 3   tipo_credito              30391626 non-null  uint8  \n",
            " 4   cod_instit_financiera     30391626 non-null  uint8  \n",
            " 5   saldo                     30391626 non-null  float32\n",
            " 6   PRODUCTO                  30391626 non-null  uint8  \n",
            " 7   RIESGO_DIRECTO            30391626 non-null  int64  \n",
            " 8   COD_CLASIFICACION_DEUDOR  30391626 non-null  uint8  \n",
            "dtypes: float32(1), int64(1), uint16(1), uint32(2), uint8(4)\n",
            "memory usage: 753.6 MB\n"
          ],
          "name": "stdout"
        }
      ]
    },
    {
      "cell_type": "code",
      "metadata": {
        "id": "PKyG4eIsqzHH",
        "outputId": "6fc4d2f4-13f5-47f4-c40a-19def232f96c",
        "colab": {
          "base_uri": "https://localhost:8080/",
          "height": 204
        }
      },
      "source": [
        "df_rcc_train.head()"
      ],
      "execution_count": 7,
      "outputs": [
        {
          "output_type": "execute_result",
          "data": {
            "text/html": [
              "<div>\n",
              "<style scoped>\n",
              "    .dataframe tbody tr th:only-of-type {\n",
              "        vertical-align: middle;\n",
              "    }\n",
              "\n",
              "    .dataframe tbody tr th {\n",
              "        vertical-align: top;\n",
              "    }\n",
              "\n",
              "    .dataframe thead th {\n",
              "        text-align: right;\n",
              "    }\n",
              "</style>\n",
              "<table border=\"1\" class=\"dataframe\">\n",
              "  <thead>\n",
              "    <tr style=\"text-align: right;\">\n",
              "      <th></th>\n",
              "      <th>codmes</th>\n",
              "      <th>key_value</th>\n",
              "      <th>condicion</th>\n",
              "      <th>tipo_credito</th>\n",
              "      <th>cod_instit_financiera</th>\n",
              "      <th>saldo</th>\n",
              "      <th>PRODUCTO</th>\n",
              "      <th>RIESGO_DIRECTO</th>\n",
              "      <th>COD_CLASIFICACION_DEUDOR</th>\n",
              "    </tr>\n",
              "  </thead>\n",
              "  <tbody>\n",
              "    <tr>\n",
              "      <th>0</th>\n",
              "      <td>201711</td>\n",
              "      <td>4</td>\n",
              "      <td>0</td>\n",
              "      <td>12</td>\n",
              "      <td>33</td>\n",
              "      <td>-0.072601</td>\n",
              "      <td>6</td>\n",
              "      <td>-1</td>\n",
              "      <td>0</td>\n",
              "    </tr>\n",
              "    <tr>\n",
              "      <th>1</th>\n",
              "      <td>201711</td>\n",
              "      <td>4</td>\n",
              "      <td>0</td>\n",
              "      <td>12</td>\n",
              "      <td>33</td>\n",
              "      <td>-0.070608</td>\n",
              "      <td>7</td>\n",
              "      <td>-1</td>\n",
              "      <td>0</td>\n",
              "    </tr>\n",
              "    <tr>\n",
              "      <th>2</th>\n",
              "      <td>201711</td>\n",
              "      <td>4</td>\n",
              "      <td>0</td>\n",
              "      <td>12</td>\n",
              "      <td>61</td>\n",
              "      <td>-0.052054</td>\n",
              "      <td>5</td>\n",
              "      <td>-1</td>\n",
              "      <td>0</td>\n",
              "    </tr>\n",
              "    <tr>\n",
              "      <th>3</th>\n",
              "      <td>201711</td>\n",
              "      <td>4</td>\n",
              "      <td>0</td>\n",
              "      <td>11</td>\n",
              "      <td>32</td>\n",
              "      <td>-0.072456</td>\n",
              "      <td>8</td>\n",
              "      <td>1</td>\n",
              "      <td>0</td>\n",
              "    </tr>\n",
              "    <tr>\n",
              "      <th>4</th>\n",
              "      <td>201711</td>\n",
              "      <td>4</td>\n",
              "      <td>0</td>\n",
              "      <td>12</td>\n",
              "      <td>61</td>\n",
              "      <td>-0.057877</td>\n",
              "      <td>0</td>\n",
              "      <td>1</td>\n",
              "      <td>0</td>\n",
              "    </tr>\n",
              "  </tbody>\n",
              "</table>\n",
              "</div>"
            ],
            "text/plain": [
              "   codmes  key_value  ...  RIESGO_DIRECTO  COD_CLASIFICACION_DEUDOR\n",
              "0  201711          4  ...              -1                         0\n",
              "1  201711          4  ...              -1                         0\n",
              "2  201711          4  ...              -1                         0\n",
              "3  201711          4  ...               1                         0\n",
              "4  201711          4  ...               1                         0\n",
              "\n",
              "[5 rows x 9 columns]"
            ]
          },
          "metadata": {
            "tags": []
          },
          "execution_count": 7
        }
      ]
    },
    {
      "cell_type": "code",
      "metadata": {
        "id": "Xj8K_oVarcTe"
      },
      "source": [
        "month_list = sorted(df_rcc_train[\"codmes\"].unique().tolist(), reverse=True)"
      ],
      "execution_count": 8,
      "outputs": []
    },
    {
      "cell_type": "code",
      "metadata": {
        "id": "PY8FJaQirsDS"
      },
      "source": [
        "df_rcc_train_agg = (df_rcc_train.groupby([\"codmes\", \"key_value\"], as_index=False)\n",
        "                                .agg({\n",
        "                                        \"condicion\": [\"mean\", \"count\"],\n",
        "                                        \"saldo\": [\"mean\"]\n",
        "                                      })\n",
        "                    )\n",
        "\n",
        "df_rcc_train_agg.columns = [\"_\".join(c) if c[-1] != \"\" else c[0] for c in df_rcc_train_agg.columns]"
      ],
      "execution_count": 9,
      "outputs": []
    },
    {
      "cell_type": "code",
      "metadata": {
        "id": "-pbDVVfisRV5",
        "outputId": "7c249576-a762-4b88-f36f-160ea45fb136",
        "colab": {
          "base_uri": "https://localhost:8080/",
          "height": 419
        }
      },
      "source": [
        "df_rcc_train_agg"
      ],
      "execution_count": 10,
      "outputs": [
        {
          "output_type": "execute_result",
          "data": {
            "text/html": [
              "<div>\n",
              "<style scoped>\n",
              "    .dataframe tbody tr th:only-of-type {\n",
              "        vertical-align: middle;\n",
              "    }\n",
              "\n",
              "    .dataframe tbody tr th {\n",
              "        vertical-align: top;\n",
              "    }\n",
              "\n",
              "    .dataframe thead th {\n",
              "        text-align: right;\n",
              "    }\n",
              "</style>\n",
              "<table border=\"1\" class=\"dataframe\">\n",
              "  <thead>\n",
              "    <tr style=\"text-align: right;\">\n",
              "      <th></th>\n",
              "      <th>codmes</th>\n",
              "      <th>key_value</th>\n",
              "      <th>condicion_mean</th>\n",
              "      <th>condicion_count</th>\n",
              "      <th>saldo_mean</th>\n",
              "    </tr>\n",
              "  </thead>\n",
              "  <tbody>\n",
              "    <tr>\n",
              "      <th>0</th>\n",
              "      <td>201703</td>\n",
              "      <td>0</td>\n",
              "      <td>0.0</td>\n",
              "      <td>4</td>\n",
              "      <td>-0.055520</td>\n",
              "    </tr>\n",
              "    <tr>\n",
              "      <th>1</th>\n",
              "      <td>201703</td>\n",
              "      <td>2</td>\n",
              "      <td>0.0</td>\n",
              "      <td>3</td>\n",
              "      <td>-0.070903</td>\n",
              "    </tr>\n",
              "    <tr>\n",
              "      <th>2</th>\n",
              "      <td>201703</td>\n",
              "      <td>5</td>\n",
              "      <td>0.0</td>\n",
              "      <td>6</td>\n",
              "      <td>-0.029645</td>\n",
              "    </tr>\n",
              "    <tr>\n",
              "      <th>3</th>\n",
              "      <td>201703</td>\n",
              "      <td>6</td>\n",
              "      <td>0.0</td>\n",
              "      <td>3</td>\n",
              "      <td>-0.065808</td>\n",
              "    </tr>\n",
              "    <tr>\n",
              "      <th>4</th>\n",
              "      <td>201703</td>\n",
              "      <td>7</td>\n",
              "      <td>0.0</td>\n",
              "      <td>14</td>\n",
              "      <td>-0.058202</td>\n",
              "    </tr>\n",
              "    <tr>\n",
              "      <th>...</th>\n",
              "      <td>...</td>\n",
              "      <td>...</td>\n",
              "      <td>...</td>\n",
              "      <td>...</td>\n",
              "      <td>...</td>\n",
              "    </tr>\n",
              "    <tr>\n",
              "      <th>3501370</th>\n",
              "      <td>201802</td>\n",
              "      <td>358482</td>\n",
              "      <td>0.0</td>\n",
              "      <td>3</td>\n",
              "      <td>-0.065319</td>\n",
              "    </tr>\n",
              "    <tr>\n",
              "      <th>3501371</th>\n",
              "      <td>201802</td>\n",
              "      <td>358483</td>\n",
              "      <td>0.0</td>\n",
              "      <td>3</td>\n",
              "      <td>-0.069119</td>\n",
              "    </tr>\n",
              "    <tr>\n",
              "      <th>3501372</th>\n",
              "      <td>201802</td>\n",
              "      <td>358484</td>\n",
              "      <td>0.0</td>\n",
              "      <td>4</td>\n",
              "      <td>-0.064931</td>\n",
              "    </tr>\n",
              "    <tr>\n",
              "      <th>3501373</th>\n",
              "      <td>201802</td>\n",
              "      <td>358485</td>\n",
              "      <td>0.0</td>\n",
              "      <td>1</td>\n",
              "      <td>-0.058336</td>\n",
              "    </tr>\n",
              "    <tr>\n",
              "      <th>3501374</th>\n",
              "      <td>201802</td>\n",
              "      <td>358486</td>\n",
              "      <td>0.0</td>\n",
              "      <td>3</td>\n",
              "      <td>-0.035269</td>\n",
              "    </tr>\n",
              "  </tbody>\n",
              "</table>\n",
              "<p>3501375 rows × 5 columns</p>\n",
              "</div>"
            ],
            "text/plain": [
              "         codmes  key_value  condicion_mean  condicion_count  saldo_mean\n",
              "0        201703          0             0.0                4   -0.055520\n",
              "1        201703          2             0.0                3   -0.070903\n",
              "2        201703          5             0.0                6   -0.029645\n",
              "3        201703          6             0.0                3   -0.065808\n",
              "4        201703          7             0.0               14   -0.058202\n",
              "...         ...        ...             ...              ...         ...\n",
              "3501370  201802     358482             0.0                3   -0.065319\n",
              "3501371  201802     358483             0.0                3   -0.069119\n",
              "3501372  201802     358484             0.0                4   -0.064931\n",
              "3501373  201802     358485             0.0                1   -0.058336\n",
              "3501374  201802     358486             0.0                3   -0.035269\n",
              "\n",
              "[3501375 rows x 5 columns]"
            ]
          },
          "metadata": {
            "tags": []
          },
          "execution_count": 10
        }
      ]
    },
    {
      "cell_type": "code",
      "metadata": {
        "id": "R7KT1r4qYEpO",
        "outputId": "7b233fa8-7240-40e9-f102-f0dc0cd940b1",
        "colab": {
          "base_uri": "https://localhost:8080/"
        }
      },
      "source": [
        "top_freq_products = [1, 2, 3, 8, 4, 0, 6]\n",
        "top_propensity_products = [12, 17, 18, 25, 20]\n",
        "low_propensity_products = [32, 33, 35, 36, 37, 38, 40, 41]\n",
        "list_product = top_freq_products + top_propensity_products + low_propensity_products\n",
        "print(list_product)"
      ],
      "execution_count": 11,
      "outputs": [
        {
          "output_type": "stream",
          "text": [
            "[1, 2, 3, 8, 4, 0, 6, 12, 17, 18, 25, 20, 32, 33, 35, 36, 37, 38, 40, 41]\n"
          ],
          "name": "stdout"
        }
      ]
    },
    {
      "cell_type": "code",
      "metadata": {
        "id": "gZuKiLToYHcQ"
      },
      "source": [
        "cat_col = \"PRODUCTO\"\n",
        "df_rcc_train[cat_col] = df_rcc_train[cat_col]\n",
        "df_rcc_train.loc[df_rcc_train[cat_col].isin(top_propensity_products), cat_col] = \"TOP_PROPENSITY\"\n",
        "df_rcc_train.loc[df_rcc_train[cat_col].isin(low_propensity_products), cat_col] = \"LOW_PROPENSITY\"\n",
        "df_rcc_train.loc[~df_rcc_train[cat_col].isin(list_product), cat_col] = \"OTROS\""
      ],
      "execution_count": 27,
      "outputs": []
    },
    {
      "cell_type": "code",
      "metadata": {
        "id": "y8gu6WnV0yX_"
      },
      "source": [
        "df_rcc_crosstab = (pd.crosstab([df_rcc_train.key_value, df_rcc_train.codmes], \n",
        "                               df_rcc_train[cat_col], \n",
        "                               values=df_rcc_train.saldo, \n",
        "                               aggfunc=\"mean\")\n",
        "                    .reset_index(drop=False)\n",
        "                    .reset_index(drop=True))\n",
        "df_rcc_crosstab.columns = [\"{0}_{1}\".format(cat_col, c) if c not in [\"key_value\", \"codmes\"] else c for c in df_rcc_crosstab.columns]\n",
        "feat_cols = [c for c in df_rcc_crosstab.columns if \"{0}_\".format(cat_col) in c]\n",
        "df_rcc_crosstab[\"{0}_ALL_MEAN\".format(cat_col)] = df_rcc_crosstab[feat_cols].mean(axis=1)\n",
        "df_rcc_crosstab[\"{0}_ALL_SUM\".format(cat_col)] = df_rcc_crosstab[feat_cols].sum(axis=1)\n",
        "df_rcc_crosstab[\"{0}_ALL_COUNT\".format(cat_col)] = df_rcc_crosstab[feat_cols].count(axis=1)"
      ],
      "execution_count": 33,
      "outputs": []
    },
    {
      "cell_type": "code",
      "metadata": {
        "id": "lTmljXtBeVSA",
        "outputId": "990e723a-7161-4251-c1ac-4d16505a4dd9",
        "colab": {
          "base_uri": "https://localhost:8080/",
          "height": 379
        }
      },
      "source": [
        "#df_rcc_crosstab.loc[df_rcc_crosstab[\"PRODUCT_ALL\"] > 0].sort_values(by=[\"PRODUCT_ALL\", \"codmes\"], ascending=[False, False]).head(40)\n",
        "df_rcc_crosstab.head(10)"
      ],
      "execution_count": 34,
      "outputs": [
        {
          "output_type": "execute_result",
          "data": {
            "text/html": [
              "<div>\n",
              "<style scoped>\n",
              "    .dataframe tbody tr th:only-of-type {\n",
              "        vertical-align: middle;\n",
              "    }\n",
              "\n",
              "    .dataframe tbody tr th {\n",
              "        vertical-align: top;\n",
              "    }\n",
              "\n",
              "    .dataframe thead th {\n",
              "        text-align: right;\n",
              "    }\n",
              "</style>\n",
              "<table border=\"1\" class=\"dataframe\">\n",
              "  <thead>\n",
              "    <tr style=\"text-align: right;\">\n",
              "      <th></th>\n",
              "      <th>key_value</th>\n",
              "      <th>codmes</th>\n",
              "      <th>PRODUCTO_0</th>\n",
              "      <th>PRODUCTO_1</th>\n",
              "      <th>PRODUCTO_2</th>\n",
              "      <th>PRODUCTO_3</th>\n",
              "      <th>PRODUCTO_4</th>\n",
              "      <th>PRODUCTO_6</th>\n",
              "      <th>PRODUCTO_8</th>\n",
              "      <th>PRODUCTO_OTROS</th>\n",
              "      <th>PRODUCTO_ALL_MEAN</th>\n",
              "      <th>PRODUCTO_ALL_SUM</th>\n",
              "      <th>PRODUCTO_ALL_COUNT</th>\n",
              "    </tr>\n",
              "  </thead>\n",
              "  <tbody>\n",
              "    <tr>\n",
              "      <th>0</th>\n",
              "      <td>0</td>\n",
              "      <td>201703</td>\n",
              "      <td>NaN</td>\n",
              "      <td>-0.072814</td>\n",
              "      <td>-0.038181</td>\n",
              "      <td>-0.041831</td>\n",
              "      <td>NaN</td>\n",
              "      <td>NaN</td>\n",
              "      <td>-0.069253</td>\n",
              "      <td>NaN</td>\n",
              "      <td>-0.055520</td>\n",
              "      <td>-0.222079</td>\n",
              "      <td>4</td>\n",
              "    </tr>\n",
              "    <tr>\n",
              "      <th>1</th>\n",
              "      <td>0</td>\n",
              "      <td>201704</td>\n",
              "      <td>NaN</td>\n",
              "      <td>-0.072556</td>\n",
              "      <td>-0.038181</td>\n",
              "      <td>-0.044653</td>\n",
              "      <td>NaN</td>\n",
              "      <td>NaN</td>\n",
              "      <td>-0.066431</td>\n",
              "      <td>-0.072814</td>\n",
              "      <td>-0.058927</td>\n",
              "      <td>-0.294635</td>\n",
              "      <td>5</td>\n",
              "    </tr>\n",
              "    <tr>\n",
              "      <th>2</th>\n",
              "      <td>0</td>\n",
              "      <td>201705</td>\n",
              "      <td>NaN</td>\n",
              "      <td>-0.072713</td>\n",
              "      <td>-0.038181</td>\n",
              "      <td>-0.043309</td>\n",
              "      <td>NaN</td>\n",
              "      <td>NaN</td>\n",
              "      <td>-0.067775</td>\n",
              "      <td>-0.072814</td>\n",
              "      <td>-0.058958</td>\n",
              "      <td>-0.294792</td>\n",
              "      <td>5</td>\n",
              "    </tr>\n",
              "    <tr>\n",
              "      <th>3</th>\n",
              "      <td>0</td>\n",
              "      <td>201706</td>\n",
              "      <td>NaN</td>\n",
              "      <td>-0.072691</td>\n",
              "      <td>-0.038181</td>\n",
              "      <td>-0.044518</td>\n",
              "      <td>NaN</td>\n",
              "      <td>NaN</td>\n",
              "      <td>-0.066566</td>\n",
              "      <td>-0.072814</td>\n",
              "      <td>-0.058954</td>\n",
              "      <td>-0.294769</td>\n",
              "      <td>5</td>\n",
              "    </tr>\n",
              "    <tr>\n",
              "      <th>4</th>\n",
              "      <td>0</td>\n",
              "      <td>201707</td>\n",
              "      <td>NaN</td>\n",
              "      <td>-0.072388</td>\n",
              "      <td>-0.038181</td>\n",
              "      <td>-0.049154</td>\n",
              "      <td>NaN</td>\n",
              "      <td>NaN</td>\n",
              "      <td>-0.061930</td>\n",
              "      <td>-0.072814</td>\n",
              "      <td>-0.058893</td>\n",
              "      <td>-0.294467</td>\n",
              "      <td>5</td>\n",
              "    </tr>\n",
              "    <tr>\n",
              "      <th>5</th>\n",
              "      <td>0</td>\n",
              "      <td>201708</td>\n",
              "      <td>NaN</td>\n",
              "      <td>-0.072265</td>\n",
              "      <td>-0.038181</td>\n",
              "      <td>-0.047889</td>\n",
              "      <td>NaN</td>\n",
              "      <td>NaN</td>\n",
              "      <td>-0.063195</td>\n",
              "      <td>-0.072814</td>\n",
              "      <td>-0.058869</td>\n",
              "      <td>-0.294344</td>\n",
              "      <td>5</td>\n",
              "    </tr>\n",
              "    <tr>\n",
              "      <th>6</th>\n",
              "      <td>0</td>\n",
              "      <td>201709</td>\n",
              "      <td>0.072673</td>\n",
              "      <td>-0.072052</td>\n",
              "      <td>-0.038181</td>\n",
              "      <td>-0.038181</td>\n",
              "      <td>NaN</td>\n",
              "      <td>NaN</td>\n",
              "      <td>NaN</td>\n",
              "      <td>NaN</td>\n",
              "      <td>-0.018935</td>\n",
              "      <td>-0.075741</td>\n",
              "      <td>4</td>\n",
              "    </tr>\n",
              "    <tr>\n",
              "      <th>7</th>\n",
              "      <td>0</td>\n",
              "      <td>201710</td>\n",
              "      <td>0.070836</td>\n",
              "      <td>NaN</td>\n",
              "      <td>-0.038181</td>\n",
              "      <td>-0.038181</td>\n",
              "      <td>NaN</td>\n",
              "      <td>NaN</td>\n",
              "      <td>NaN</td>\n",
              "      <td>NaN</td>\n",
              "      <td>-0.001842</td>\n",
              "      <td>-0.005525</td>\n",
              "      <td>3</td>\n",
              "    </tr>\n",
              "    <tr>\n",
              "      <th>8</th>\n",
              "      <td>0</td>\n",
              "      <td>201711</td>\n",
              "      <td>0.070836</td>\n",
              "      <td>-0.071649</td>\n",
              "      <td>-0.038181</td>\n",
              "      <td>-0.038181</td>\n",
              "      <td>NaN</td>\n",
              "      <td>NaN</td>\n",
              "      <td>NaN</td>\n",
              "      <td>NaN</td>\n",
              "      <td>-0.019294</td>\n",
              "      <td>-0.077174</td>\n",
              "      <td>4</td>\n",
              "    </tr>\n",
              "    <tr>\n",
              "      <th>9</th>\n",
              "      <td>0</td>\n",
              "      <td>201712</td>\n",
              "      <td>0.064219</td>\n",
              "      <td>NaN</td>\n",
              "      <td>-0.038181</td>\n",
              "      <td>-0.038181</td>\n",
              "      <td>NaN</td>\n",
              "      <td>NaN</td>\n",
              "      <td>NaN</td>\n",
              "      <td>NaN</td>\n",
              "      <td>-0.004048</td>\n",
              "      <td>-0.012143</td>\n",
              "      <td>3</td>\n",
              "    </tr>\n",
              "  </tbody>\n",
              "</table>\n",
              "</div>"
            ],
            "text/plain": [
              "   key_value  codmes  ...  PRODUCTO_ALL_SUM  PRODUCTO_ALL_COUNT\n",
              "0          0  201703  ...         -0.222079                   4\n",
              "1          0  201704  ...         -0.294635                   5\n",
              "2          0  201705  ...         -0.294792                   5\n",
              "3          0  201706  ...         -0.294769                   5\n",
              "4          0  201707  ...         -0.294467                   5\n",
              "5          0  201708  ...         -0.294344                   5\n",
              "6          0  201709  ...         -0.075741                   4\n",
              "7          0  201710  ...         -0.005525                   3\n",
              "8          0  201711  ...         -0.077174                   4\n",
              "9          0  201712  ...         -0.012143                   3\n",
              "\n",
              "[10 rows x 13 columns]"
            ]
          },
          "metadata": {
            "tags": []
          },
          "execution_count": 34
        }
      ]
    },
    {
      "cell_type": "code",
      "metadata": {
        "id": "1n6iC5Av1coE"
      },
      "source": [
        "df_rcc_agg = df_rcc_crosstab.groupby([\"key_value\"], as_index=False).agg({\"codmes\": [\"last\", \"first\"]})\n",
        "df_rcc_agg.columns = [\"_\".join(c) if c[-1] != \"\" else c[0] for c in df_rcc_agg.columns]"
      ],
      "execution_count": 15,
      "outputs": []
    },
    {
      "cell_type": "code",
      "metadata": {
        "id": "nfk7rw10b58E"
      },
      "source": [
        "def diff_months(codmes_ini, codmes_fin):\n",
        "  r = relativedelta.relativedelta(datetime.strptime(str(int(codmes_fin)), '%Y%m'), datetime.strptime(str(int(codmes_ini)), '%Y%m'))\n",
        "  return r.years*12 + r.months"
      ],
      "execution_count": 21,
      "outputs": []
    },
    {
      "cell_type": "code",
      "metadata": {
        "id": "4sCfOLplsuGs"
      },
      "source": [
        "df_rcc_agg[\"RECENCY\"] = df_rcc_agg.apply(lambda row: diff_months(row[\"codmes_last\"], 201803), axis=1)\n",
        "df_rcc_agg[\"DIFF_MONTHS_FIRST_LAST\"] = df_rcc_agg.apply(lambda row: diff_months(row[\"codmes_first\"], row[\"codmes_last\"]), axis=1)"
      ],
      "execution_count": 22,
      "outputs": []
    },
    {
      "cell_type": "code",
      "metadata": {
        "id": "TC9i33BasrDE",
        "outputId": "c7405c57-e462-4460-ae84-9abeb1bd0160",
        "colab": {
          "base_uri": "https://localhost:8080/",
          "height": 204
        }
      },
      "source": [
        "df_rcc_agg.head()"
      ],
      "execution_count": 23,
      "outputs": [
        {
          "output_type": "execute_result",
          "data": {
            "text/html": [
              "<div>\n",
              "<style scoped>\n",
              "    .dataframe tbody tr th:only-of-type {\n",
              "        vertical-align: middle;\n",
              "    }\n",
              "\n",
              "    .dataframe tbody tr th {\n",
              "        vertical-align: top;\n",
              "    }\n",
              "\n",
              "    .dataframe thead th {\n",
              "        text-align: right;\n",
              "    }\n",
              "</style>\n",
              "<table border=\"1\" class=\"dataframe\">\n",
              "  <thead>\n",
              "    <tr style=\"text-align: right;\">\n",
              "      <th></th>\n",
              "      <th>key_value</th>\n",
              "      <th>codmes_last</th>\n",
              "      <th>codmes_first</th>\n",
              "      <th>RECENCY</th>\n",
              "      <th>DIFF_MONTHS_FIRST_LAST</th>\n",
              "    </tr>\n",
              "  </thead>\n",
              "  <tbody>\n",
              "    <tr>\n",
              "      <th>0</th>\n",
              "      <td>0</td>\n",
              "      <td>201802</td>\n",
              "      <td>201703</td>\n",
              "      <td>1</td>\n",
              "      <td>11</td>\n",
              "    </tr>\n",
              "    <tr>\n",
              "      <th>1</th>\n",
              "      <td>1</td>\n",
              "      <td>201802</td>\n",
              "      <td>201712</td>\n",
              "      <td>1</td>\n",
              "      <td>2</td>\n",
              "    </tr>\n",
              "    <tr>\n",
              "      <th>2</th>\n",
              "      <td>2</td>\n",
              "      <td>201802</td>\n",
              "      <td>201703</td>\n",
              "      <td>1</td>\n",
              "      <td>11</td>\n",
              "    </tr>\n",
              "    <tr>\n",
              "      <th>3</th>\n",
              "      <td>3</td>\n",
              "      <td>201802</td>\n",
              "      <td>201709</td>\n",
              "      <td>1</td>\n",
              "      <td>5</td>\n",
              "    </tr>\n",
              "    <tr>\n",
              "      <th>4</th>\n",
              "      <td>4</td>\n",
              "      <td>201802</td>\n",
              "      <td>201707</td>\n",
              "      <td>1</td>\n",
              "      <td>7</td>\n",
              "    </tr>\n",
              "  </tbody>\n",
              "</table>\n",
              "</div>"
            ],
            "text/plain": [
              "   key_value  codmes_last  codmes_first  RECENCY  DIFF_MONTHS_FIRST_LAST\n",
              "0          0       201802        201703        1                      11\n",
              "1          1       201802        201712        1                       2\n",
              "2          2       201802        201703        1                      11\n",
              "3          3       201802        201709        1                       5\n",
              "4          4       201802        201707        1                       7"
            ]
          },
          "metadata": {
            "tags": []
          },
          "execution_count": 23
        }
      ]
    },
    {
      "cell_type": "code",
      "metadata": {
        "id": "siMV3Grndn0f",
        "outputId": "dbcd6a3e-bbd2-49fb-af77-725bcd800ca8",
        "colab": {
          "base_uri": "https://localhost:8080/"
        }
      },
      "source": [
        "df_rcc_crosstab.columns"
      ],
      "execution_count": 24,
      "outputs": [
        {
          "output_type": "execute_result",
          "data": {
            "text/plain": [
              "Index(['key_value', 'codmes', 'PRODUCT_0', 'PRODUCT_1', 'PRODUCT_2',\n",
              "       'PRODUCT_3', 'PRODUCT_4', 'PRODUCT_6', 'PRODUCT_8',\n",
              "       'PRODUCT_LOW_PROPENSITY', 'PRODUCT_OTROS', 'PRODUCT_TOP_PROPENSITY',\n",
              "       'PRODUCT_ALL'],\n",
              "      dtype='object')"
            ]
          },
          "metadata": {
            "tags": []
          },
          "execution_count": 24
        }
      ]
    },
    {
      "cell_type": "code",
      "metadata": {
        "id": "rnFmNoi9ZxYx"
      },
      "source": [
        "\"U12M_COUNT_PRODUCT_LOW_PROPENSITY\"\n",
        "\"U12M_COUNT_PRODUCT_LOW_PROPENSITY\""
      ],
      "execution_count": null,
      "outputs": []
    },
    {
      "cell_type": "code",
      "metadata": {
        "id": "Bv8HIytBuWBu",
        "outputId": "e5d5ced1-ee41-45c8-e44f-34fc9dbf3d02",
        "colab": {
          "base_uri": "https://localhost:8080/"
        }
      },
      "source": [
        "round(df_rcc_train[\"saldo\"].min(), 9)"
      ],
      "execution_count": 27,
      "outputs": [
        {
          "output_type": "execute_result",
          "data": {
            "text/plain": [
              "-0.072892241"
            ]
          },
          "metadata": {
            "tags": []
          },
          "execution_count": 27
        }
      ]
    },
    {
      "cell_type": "code",
      "metadata": {
        "id": "2syiM2SZzT_g"
      },
      "source": [
        "#df_rcc_train[\"tipo_dataset\"] = \"train\"\n",
        "#df_rcc_test[\"tipo_dataset\"] = \"test\"\n",
        "del df_rcc_train[\"tipo_dataset\"]\n",
        "del df_rcc_test[\"tipo_dataset\"]"
      ],
      "execution_count": 35,
      "outputs": []
    },
    {
      "cell_type": "code",
      "metadata": {
        "id": "P9eVXmG5wMEh"
      },
      "source": [
        "df_rcc_all = pd.concat([df_rcc_train, df_rcc_test]).reset_index(drop=True)"
      ],
      "execution_count": 31,
      "outputs": []
    },
    {
      "cell_type": "code",
      "metadata": {
        "id": "os3ct9B2zK34",
        "outputId": "571342dd-2669-4923-e308-f32d56842fec",
        "colab": {
          "base_uri": "https://localhost:8080/"
        }
      },
      "source": [
        "df_rcc_all[\"saldo\"].mean(), df_rcc_all[\"saldo\"].std()"
      ],
      "execution_count": 32,
      "outputs": [
        {
          "output_type": "execute_result",
          "data": {
            "text/plain": [
              "(0.0005660878377966583, 1.0794203281402588)"
            ]
          },
          "metadata": {
            "tags": []
          },
          "execution_count": 32
        }
      ]
    },
    {
      "cell_type": "code",
      "metadata": {
        "id": "nNEH8LFqzOdV",
        "outputId": "43f3cfa0-c93d-498b-abb5-5690f4f0c719",
        "colab": {
          "base_uri": "https://localhost:8080/",
          "height": 142
        }
      },
      "source": [
        "df_rcc_all.groupby(\"tipo_dataset\", as_index=False).agg({\"saldo\": [\"mean\", \"std\"]})"
      ],
      "execution_count": 33,
      "outputs": [
        {
          "output_type": "execute_result",
          "data": {
            "text/html": [
              "<div>\n",
              "<style scoped>\n",
              "    .dataframe tbody tr th:only-of-type {\n",
              "        vertical-align: middle;\n",
              "    }\n",
              "\n",
              "    .dataframe tbody tr th {\n",
              "        vertical-align: top;\n",
              "    }\n",
              "\n",
              "    .dataframe thead tr th {\n",
              "        text-align: left;\n",
              "    }\n",
              "</style>\n",
              "<table border=\"1\" class=\"dataframe\">\n",
              "  <thead>\n",
              "    <tr>\n",
              "      <th></th>\n",
              "      <th>tipo_dataset</th>\n",
              "      <th colspan=\"2\" halign=\"left\">saldo</th>\n",
              "    </tr>\n",
              "    <tr>\n",
              "      <th></th>\n",
              "      <th></th>\n",
              "      <th>mean</th>\n",
              "      <th>std</th>\n",
              "    </tr>\n",
              "  </thead>\n",
              "  <tbody>\n",
              "    <tr>\n",
              "      <th>0</th>\n",
              "      <td>test</td>\n",
              "      <td>1.114166e-03</td>\n",
              "      <td>1.155592</td>\n",
              "    </tr>\n",
              "    <tr>\n",
              "      <th>1</th>\n",
              "      <td>train</td>\n",
              "      <td>7.846288e-11</td>\n",
              "      <td>1.000000</td>\n",
              "    </tr>\n",
              "  </tbody>\n",
              "</table>\n",
              "</div>"
            ],
            "text/plain": [
              "  tipo_dataset         saldo          \n",
              "                        mean       std\n",
              "0         test  1.114166e-03  1.155592\n",
              "1        train  7.846288e-11  1.000000"
            ]
          },
          "metadata": {
            "tags": []
          },
          "execution_count": 33
        }
      ]
    },
    {
      "cell_type": "code",
      "metadata": {
        "id": "q6-OsptAzmEY"
      },
      "source": [
        "del df_rcc_all"
      ],
      "execution_count": 34,
      "outputs": []
    },
    {
      "cell_type": "code",
      "metadata": {
        "id": "FVTVLLH70FRc"
      },
      "source": [
        ""
      ],
      "execution_count": null,
      "outputs": []
    }
  ]
}